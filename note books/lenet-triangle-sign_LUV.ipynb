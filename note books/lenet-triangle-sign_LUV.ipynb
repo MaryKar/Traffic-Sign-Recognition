{
 "cells": [
  {
   "cell_type": "markdown",
   "metadata": {},
   "source": [
    "### Code Implementation"
   ]
  },
  {
   "cell_type": "code",
   "execution_count": 1,
   "metadata": {
    "execution": {
     "iopub.execute_input": "2023-07-13T16:11:14.877575Z",
     "iopub.status.busy": "2023-07-13T16:11:14.877210Z",
     "iopub.status.idle": "2023-07-13T16:11:15.071225Z",
     "shell.execute_reply": "2023-07-13T16:11:15.070186Z",
     "shell.execute_reply.started": "2023-07-13T16:11:14.877544Z"
    }
   },
   "outputs": [],
   "source": [
    "# Importing necessary libraries\n",
    "import keras\n",
    "from keras.datasets import mnist\n",
    "from keras.layers import Conv2D, MaxPooling2D\n",
    "from keras.layers import Dense, Flatten\n",
    "from keras.models import Sequential\n",
    "import pickle\n",
    "import numpy as np\n",
    "import cv2\n",
    "from matplotlib import pyplot as plt"
   ]
  },
  {
   "cell_type": "markdown",
   "metadata": {},
   "source": [
    "### Loading Dataset"
   ]
  },
  {
   "cell_type": "code",
   "execution_count": 2,
   "metadata": {},
   "outputs": [],
   "source": [
    "# # Loading the dataset and perform splitting\n",
    "# data_list = []\n",
    "# labels_list = []\n",
    "# classes_list = 43\n",
    "\n",
    "# imgs_path = \"../input/gtsrb-german-traffic-sign/Train\"\n",
    "# for i in range(classes_list):\n",
    "#     i_path = os.path.join(imgs_path, str(i)) #0-42\n",
    "#     for img in os.listdir(i_path):\n",
    "#         im = Image.open(i_path +'/'+ img)\n",
    "#         im = im.resize((32,32))\n",
    "#         im = np.array(im)\n",
    "#         data_list.append(im)\n",
    "#         labels_list.append(i)\n",
    "# data = np.array(data_list)\n",
    "# labels = np.array(labels_list)"
   ]
  },
  {
   "cell_type": "code",
   "execution_count": 4,
   "metadata": {
    "execution": {
     "iopub.execute_input": "2023-07-13T16:11:17.277530Z",
     "iopub.status.busy": "2023-07-13T16:11:17.277168Z",
     "iopub.status.idle": "2023-07-13T16:11:27.940159Z",
     "shell.execute_reply": "2023-07-13T16:11:27.939123Z",
     "shell.execute_reply.started": "2023-07-13T16:11:17.277499Z"
    }
   },
   "outputs": [],
   "source": [
    "# Opening file for reading in binary mode\n",
    "#- data3.pickle - Shuffling, /255.0 + Mean + STD Normalization\n",
    "with open('D:\\Project\\Traffic Sign Detection\\DATABASE/data3.pickle', 'rb') as f:\n",
    "    data = pickle.load(f, encoding='latin1')  # dictionary type\n",
    "    \n",
    "    \n",
    "# Making channels come at the end\n",
    "data['x_train'] = data['x_train'].transpose(0, 2, 3, 1)\n",
    "data['x_validation'] = data['x_validation'].transpose(0, 2, 3, 1)\n",
    "data['x_test'] = data['x_test'].transpose(0, 2, 3, 1)\n",
    "\n",
    "train_imgs = data['x_train']\n",
    "test_imgs = data['x_test']\n",
    "valid_imgs = data['x_validation']\n",
    "train_labels = data['y_train']\n",
    "test_labels = data['y_test']\n",
    "valid_labels = data['y_validation']"
   ]
  },
  {
   "cell_type": "code",
   "execution_count": null,
   "metadata": {},
   "outputs": [],
   "source": [
    "train_labels"
   ]
  },
  {
   "cell_type": "markdown",
   "metadata": {
    "execution": {
     "iopub.execute_input": "2023-07-03T08:12:55.581244Z",
     "iopub.status.busy": "2023-07-03T08:12:55.580875Z",
     "iopub.status.idle": "2023-07-03T08:12:55.588623Z",
     "shell.execute_reply": "2023-07-03T08:12:55.587576Z",
     "shell.execute_reply.started": "2023-07-03T08:12:55.581207Z"
    }
   },
   "source": [
    "def augment_brightness_camera_images(image):\n",
    "    image1 = cv2.cvtColor(image,cv2.COLOR_RGB2HSV)\n",
    "    plt.imshow(image1)\n",
    "    image1 = np.array(image1, dtype = np.float64)\n",
    "    random_bright = .5+np.random.uniform()\n",
    "    image1[:,:,2] = image1[:,:,2]*random_bright\n",
    "    image1[:,:,2][image1[:,:,2]>255]  = 255\n",
    "    image1 = np.array(image1, dtype = np.uint8)\n",
    "    image1 = cv2.cvtColor(image1,cv2.COLOR_HSV2RGB)\n",
    "    return image1"
   ]
  },
  {
   "cell_type": "markdown",
   "metadata": {
    "execution": {
     "iopub.execute_input": "2023-07-03T08:38:41.049467Z",
     "iopub.status.busy": "2023-07-03T08:38:41.049116Z",
     "iopub.status.idle": "2023-07-03T08:38:41.059062Z",
     "shell.execute_reply": "2023-07-03T08:38:41.057889Z",
     "shell.execute_reply.started": "2023-07-03T08:38:41.049439Z"
    }
   },
   "source": [
    "\n",
    "#new = augment_brightness_camera_images(image)\n",
    "new = preprocess_img(image)\n",
    "#plt.imshow(new)\n",
    "print(new.shape)\n",
    "print(cycle)"
   ]
  },
  {
   "cell_type": "code",
   "execution_count": 5,
   "metadata": {
    "execution": {
     "iopub.execute_input": "2023-07-13T16:11:27.943026Z",
     "iopub.status.busy": "2023-07-13T16:11:27.942413Z",
     "iopub.status.idle": "2023-07-13T16:11:28.104844Z",
     "shell.execute_reply": "2023-07-13T16:11:28.103819Z",
     "shell.execute_reply.started": "2023-07-13T16:11:27.942987Z"
    }
   },
   "outputs": [],
   "source": [
    "A = np.array(np.where(train_labels >= 18))\n",
    "A = np.concatenate((A ,np.where(train_labels == 13)), axis = 1)\n",
    "A = np.concatenate((A ,np.where(train_labels == 11)), axis = 1)\n",
    "B = np.array(np.where(train_labels > 31))\n",
    "indx = np.setdiff1d(A, B)\n",
    "\n",
    "A = np.array(np.where(test_labels >= 18)) \n",
    "A = np.concatenate((A ,np.where(test_labels == 13)), axis = 1)\n",
    "A = np.concatenate((A ,np.where(test_labels == 11)), axis = 1)\n",
    "B = np.array(np.where(test_labels > 31))\n",
    "indx1 = np.setdiff1d(A, B)\n",
    "\n",
    "A = np.array(np.where(valid_labels >= 18)) \n",
    "A = np.concatenate((A ,np.where(valid_labels == 13)), axis = 1)\n",
    "A = np.concatenate((A ,np.where(valid_labels == 11)), axis = 1)\n",
    "B = np.array(np.where(valid_labels > 31))\n",
    "indx2 = np.setdiff1d(A, B)\n",
    "\n",
    "tri_X_train = train_imgs[indx]\n",
    "tri_X_test = test_imgs[indx1]\n",
    "tri_X_valid = valid_imgs[indx2]\n",
    "tri_train_labels = train_labels[indx]\n",
    "tri_test_labels = test_labels[indx1]\n",
    "tri_valid_labels = valid_labels[indx2]"
   ]
  },
  {
   "cell_type": "code",
   "execution_count": 6,
   "metadata": {
    "execution": {
     "iopub.execute_input": "2023-07-13T16:11:28.106837Z",
     "iopub.status.busy": "2023-07-13T16:11:28.106323Z",
     "iopub.status.idle": "2023-07-13T16:11:28.115506Z",
     "shell.execute_reply": "2023-07-13T16:11:28.114439Z",
     "shell.execute_reply.started": "2023-07-13T16:11:28.106779Z"
    }
   },
   "outputs": [
    {
     "data": {
      "text/plain": [
       "(32368,)"
      ]
     },
     "execution_count": 6,
     "metadata": {},
     "output_type": "execute_result"
    }
   ],
   "source": [
    "tri_train_labels.shape"
   ]
  },
  {
   "cell_type": "code",
   "execution_count": 6,
   "metadata": {
    "execution": {
     "iopub.execute_input": "2023-07-13T16:11:28.118644Z",
     "iopub.status.busy": "2023-07-13T16:11:28.117871Z",
     "iopub.status.idle": "2023-07-13T16:11:28.135247Z",
     "shell.execute_reply": "2023-07-13T16:11:28.134035Z",
     "shell.execute_reply.started": "2023-07-13T16:11:28.118608Z"
    }
   },
   "outputs": [],
   "source": [
    "tri_Dict = {11:0 , 13:1 , 18:2 , 19:3 , 20:4 , 21:5 , 22:6 , 23:7 , 24:8 , 25:9 , 26:10 , 27:11 , 28:12 , 29:13 , 30:14 , 31:15 }\n",
    "tri_train_labels = np.vectorize(tri_Dict.get)(tri_train_labels)\n",
    "tri_test_labels = np.vectorize(tri_Dict.get)(tri_test_labels)\n",
    "tri_valid_labels = np.vectorize(tri_Dict.get)(tri_valid_labels)\n",
    "tri_num_class = 16"
   ]
  },
  {
   "cell_type": "code",
   "execution_count": null,
   "metadata": {},
   "outputs": [],
   "source": [
    "tri_train_labels"
   ]
  },
  {
   "cell_type": "markdown",
   "metadata": {
    "execution": {
     "iopub.execute_input": "2023-07-03T08:31:25.503579Z",
     "iopub.status.busy": "2023-07-03T08:31:25.503146Z",
     "iopub.status.idle": "2023-07-03T08:31:26.034838Z",
     "shell.execute_reply": "2023-07-03T08:31:26.033867Z",
     "shell.execute_reply.started": "2023-07-03T08:31:25.503549Z"
    }
   },
   "source": [
    "from skimage import color, exposure, transform\n",
    "\n",
    "NUM_CLASSES = 43\n",
    "IMG_SIZE = 48\n",
    "\n",
    "def preprocess_img(img):\n",
    "    # Histogram normalization in v channel\n",
    "    hsv = color.rgb2hsv(img)\n",
    "    hsv[:,:,2] = exposure.equalize_hist(hsv[:,:,2])\n",
    "    img = color.hsv2rgb(hsv)\n",
    "\n",
    "#     # central square crop\n",
    "#     min_side = min(img.shape[:-1])\n",
    "#     centre = img.shape[0]//2, img.shape[1]//2\n",
    "#     img = img[centre[0]-min_side//2:centre[0]+min_side//2,\n",
    "#     centre[1]-min_side//2:centre[1]+min_side//2,\n",
    "#                   :]\n",
    "\n",
    "    # rescale to standard size\n",
    "    img = transform.resize(img, (IMG_SIZE, IMG_SIZE))\n",
    "\n",
    "    # roll color axis to axis 0\n",
    "    img = np.rollaxis(img,-1)\n",
    "\n",
    "    return img"
   ]
  },
  {
   "cell_type": "markdown",
   "metadata": {},
   "source": [
    "### Image Data Preprocessing"
   ]
  },
  {
   "cell_type": "code",
   "execution_count": 10,
   "metadata": {},
   "outputs": [
    {
     "data": {
      "text/plain": [
       "(32368, 32, 32, 3)"
      ]
     },
     "execution_count": 10,
     "metadata": {},
     "output_type": "execute_result"
    }
   ],
   "source": [
    "tri_X_train.shape"
   ]
  },
  {
   "cell_type": "code",
   "execution_count": 14,
   "metadata": {},
   "outputs": [],
   "source": [
    "def CV2LUV(x):\n",
    "    x_train = np.zeros((x.shape[0] , x.shape[1] , x.shape[2] , 3))\n",
    "    for i in range(0 , x.shape[0]):\n",
    "        x_train[i] = cv2.cvtColor(x[i],cv2.COLOR_RGB2Luv)\n",
    "    return x_train\n"
   ]
  },
  {
   "cell_type": "code",
   "execution_count": 15,
   "metadata": {
    "execution": {
     "iopub.execute_input": "2023-07-13T16:11:28.138039Z",
     "iopub.status.busy": "2023-07-13T16:11:28.136597Z",
     "iopub.status.idle": "2023-07-13T16:11:28.145333Z",
     "shell.execute_reply": "2023-07-13T16:11:28.144307Z",
     "shell.execute_reply.started": "2023-07-13T16:11:28.138002Z"
    }
   },
   "outputs": [],
   "source": [
    "# Peforming reshaping operation\n",
    "# x_train = gray_train_imgs.reshape(gray_train_imgs.shape[0], 28, 28, 1)\n",
    "# x_test = gray_test_imgs.reshape(gray_test_imgs.shape[0], 28, 28, 1)\n",
    "\n",
    "# x_train = CV2LUV(tri_X_train)\n",
    "x_test = CV2LUV(tri_X_test)\n",
    "x_valid = CV2LUV(tri_X_valid)\n",
    "\n",
    "# # Normalization\n",
    "# x_train = x_train / 255\n",
    "# x_test = x_test / 255\n",
    "\n",
    "num_class_shape = 16\n",
    "\n",
    "# One Hot Encoding\n",
    "y_train = keras.utils.to_categorical(tri_train_labels, 16)\n",
    "y_test = keras.utils.to_categorical(tri_test_labels, 16)\n",
    "y_valid = keras.utils.to_categorical(tri_valid_labels, 16)"
   ]
  },
  {
   "cell_type": "code",
   "execution_count": 16,
   "metadata": {
    "execution": {
     "iopub.execute_input": "2023-07-13T16:18:30.523999Z",
     "iopub.status.busy": "2023-07-13T16:18:30.523582Z",
     "iopub.status.idle": "2023-07-13T16:18:30.539562Z",
     "shell.execute_reply": "2023-07-13T16:18:30.538592Z",
     "shell.execute_reply.started": "2023-07-13T16:18:30.523965Z"
    }
   },
   "outputs": [],
   "source": [
    "keras.backend.clear_session()"
   ]
  },
  {
   "cell_type": "markdown",
   "metadata": {},
   "source": [
    "### LeNet Model Architecture"
   ]
  },
  {
   "cell_type": "code",
   "execution_count": 17,
   "metadata": {
    "execution": {
     "iopub.execute_input": "2023-07-13T16:18:34.616373Z",
     "iopub.status.busy": "2023-07-13T16:18:34.616008Z",
     "iopub.status.idle": "2023-07-13T16:18:34.735933Z",
     "shell.execute_reply": "2023-07-13T16:18:34.734962Z",
     "shell.execute_reply.started": "2023-07-13T16:18:34.616341Z"
    }
   },
   "outputs": [],
   "source": [
    "# Building the Model Architecture\n",
    "# model = Sequential()\n",
    "# model.add(Conv2D(6, kernel_size=(5, 5), activation='relu', input_shape=(32, 32, 3)))#************\n",
    "# model.add(MaxPooling2D(pool_size=(2, 2)))\n",
    "# model.add(Conv2D(16, kernel_size=(5, 5), activation='relu'))\n",
    "# model.add(MaxPooling2D(pool_size=(2, 2)))\n",
    "# model.add(Flatten())\n",
    "# model.add(Dense(120, activation='relu'))\n",
    "# model.add(Dense(84, activation='relu'))\n",
    "# model.add(Dense(16, activation='softmax'))#********************\n",
    "#Definition of the DNN model\n",
    "\n",
    "from keras.models import Sequential\n",
    "from keras.layers import Conv2D, MaxPool2D, Dense, Flatten, Dropout\n",
    "\n",
    "model = Sequential()\n",
    "model.add(Conv2D(filters=32, kernel_size=(5,5), activation='relu', input_shape=x_train.shape[1:]))\n",
    "model.add(Conv2D(filters=64, kernel_size=(3, 3), activation='relu'))\n",
    "model.add(MaxPool2D(pool_size=(2, 2)))\n",
    "model.add(Dropout(rate=0.25))\n",
    "model.add(Conv2D(filters=64, kernel_size=(3, 3), activation='relu'))\n",
    "model.add(MaxPool2D(pool_size=(2, 2)))\n",
    "model.add(Dropout(rate=0.25))\n",
    "model.add(Flatten())\n",
    "model.add(Dense(256, activation='relu'))\n",
    "model.add(Dropout(rate=0.5))\n",
    "model.add(Dense(16, activation='softmax'))\n",
    "\n"
   ]
  },
  {
   "cell_type": "code",
   "execution_count": 18,
   "metadata": {
    "execution": {
     "iopub.execute_input": "2023-07-13T16:18:36.433927Z",
     "iopub.status.busy": "2023-07-13T16:18:36.433530Z",
     "iopub.status.idle": "2023-07-13T16:18:36.447668Z",
     "shell.execute_reply": "2023-07-13T16:18:36.446665Z",
     "shell.execute_reply.started": "2023-07-13T16:18:36.433895Z"
    }
   },
   "outputs": [],
   "source": [
    "model.compile(loss=keras.metrics.categorical_crossentropy, optimizer=keras.optimizers.Adam(), metrics=['accuracy'])"
   ]
  },
  {
   "cell_type": "code",
   "execution_count": 19,
   "metadata": {
    "execution": {
     "iopub.execute_input": "2023-07-13T16:18:37.205884Z",
     "iopub.status.busy": "2023-07-13T16:18:37.205490Z",
     "iopub.status.idle": "2023-07-13T16:18:37.211815Z",
     "shell.execute_reply": "2023-07-13T16:18:37.210462Z",
     "shell.execute_reply.started": "2023-07-13T16:18:37.205846Z"
    }
   },
   "outputs": [
    {
     "name": "stdout",
     "output_type": "stream",
     "text": [
      "(32368, 32, 32, 3) (3510, 32, 32, 3)\n"
     ]
    }
   ],
   "source": [
    "print(x_train.shape , x_test.shape)"
   ]
  },
  {
   "cell_type": "code",
   "execution_count": 20,
   "metadata": {
    "execution": {
     "iopub.execute_input": "2023-07-13T16:34:45.988150Z",
     "iopub.status.busy": "2023-07-13T16:34:45.987753Z",
     "iopub.status.idle": "2023-07-13T16:38:09.045632Z",
     "shell.execute_reply": "2023-07-13T16:38:09.044451Z",
     "shell.execute_reply.started": "2023-07-13T16:34:45.988118Z"
    }
   },
   "outputs": [
    {
     "name": "stdout",
     "output_type": "stream",
     "text": [
      "Epoch 1/70\n",
      "253/253 [==============================] - 19s 40ms/step - loss: 2.7190 - accuracy: 0.2215 - val_loss: 1.9636 - val_accuracy: 0.3729\n",
      "Epoch 2/70\n",
      "253/253 [==============================] - 9s 35ms/step - loss: 1.5822 - accuracy: 0.5023 - val_loss: 1.4179 - val_accuracy: 0.5558\n",
      "Epoch 3/70\n",
      "253/253 [==============================] - 9s 36ms/step - loss: 1.2317 - accuracy: 0.6149 - val_loss: 1.3549 - val_accuracy: 0.5775\n",
      "Epoch 4/70\n",
      "253/253 [==============================] - 9s 36ms/step - loss: 1.0846 - accuracy: 0.6625 - val_loss: 1.4044 - val_accuracy: 0.5791\n",
      "Epoch 5/70\n",
      "253/253 [==============================] - 10s 39ms/step - loss: 1.0081 - accuracy: 0.6846 - val_loss: 1.2782 - val_accuracy: 0.6109\n",
      "Epoch 6/70\n",
      "253/253 [==============================] - 11s 42ms/step - loss: 0.9489 - accuracy: 0.7030 - val_loss: 1.2883 - val_accuracy: 0.6279\n",
      "Epoch 7/70\n",
      "253/253 [==============================] - 10s 41ms/step - loss: 0.9028 - accuracy: 0.7156 - val_loss: 1.2640 - val_accuracy: 0.6302\n",
      "Epoch 8/70\n",
      "253/253 [==============================] - 10s 41ms/step - loss: 0.8743 - accuracy: 0.7243 - val_loss: 1.2399 - val_accuracy: 0.6380\n",
      "Epoch 9/70\n",
      "253/253 [==============================] - 10s 40ms/step - loss: 0.8421 - accuracy: 0.7331 - val_loss: 1.2531 - val_accuracy: 0.6496\n",
      "Epoch 10/70\n",
      "253/253 [==============================] - 10s 39ms/step - loss: 0.8239 - accuracy: 0.7395 - val_loss: 1.3219 - val_accuracy: 0.6411\n",
      "Epoch 11/70\n",
      "253/253 [==============================] - 10s 40ms/step - loss: 0.8078 - accuracy: 0.7454 - val_loss: 1.2546 - val_accuracy: 0.6519\n",
      "Epoch 12/70\n",
      "253/253 [==============================] - 10s 40ms/step - loss: 0.7841 - accuracy: 0.7534 - val_loss: 1.3715 - val_accuracy: 0.6465\n",
      "Epoch 13/70\n",
      "253/253 [==============================] - 11s 42ms/step - loss: 0.7654 - accuracy: 0.7569 - val_loss: 1.3550 - val_accuracy: 0.6465\n",
      "Epoch 14/70\n",
      "253/253 [==============================] - 11s 42ms/step - loss: 0.7606 - accuracy: 0.7604 - val_loss: 1.2772 - val_accuracy: 0.6481\n",
      "Epoch 15/70\n",
      "253/253 [==============================] - 10s 40ms/step - loss: 0.7484 - accuracy: 0.7638 - val_loss: 1.3376 - val_accuracy: 0.6372\n",
      "Epoch 16/70\n",
      "253/253 [==============================] - 11s 42ms/step - loss: 0.7337 - accuracy: 0.7664 - val_loss: 1.5006 - val_accuracy: 0.6388\n",
      "Epoch 17/70\n",
      "253/253 [==============================] - 11s 42ms/step - loss: 0.7369 - accuracy: 0.7667 - val_loss: 1.3477 - val_accuracy: 0.6628\n",
      "Epoch 18/70\n",
      "253/253 [==============================] - 10s 40ms/step - loss: 0.7211 - accuracy: 0.7697 - val_loss: 1.2802 - val_accuracy: 0.6721\n",
      "Epoch 19/70\n",
      "253/253 [==============================] - 10s 41ms/step - loss: 0.7118 - accuracy: 0.7755 - val_loss: 1.3230 - val_accuracy: 0.6535\n",
      "Epoch 20/70\n",
      "253/253 [==============================] - 11s 42ms/step - loss: 0.7089 - accuracy: 0.7770 - val_loss: 1.4201 - val_accuracy: 0.6589\n",
      "Epoch 21/70\n",
      "253/253 [==============================] - 10s 38ms/step - loss: 0.7046 - accuracy: 0.7782 - val_loss: 1.4402 - val_accuracy: 0.6488\n",
      "Epoch 22/70\n",
      "253/253 [==============================] - 10s 39ms/step - loss: 0.6846 - accuracy: 0.7822 - val_loss: 1.3973 - val_accuracy: 0.6643\n",
      "Epoch 23/70\n",
      "253/253 [==============================] - 10s 39ms/step - loss: 0.6857 - accuracy: 0.7811 - val_loss: 1.5085 - val_accuracy: 0.6481\n",
      "Epoch 24/70\n",
      "253/253 [==============================] - 11s 42ms/step - loss: 0.6829 - accuracy: 0.7852 - val_loss: 1.5427 - val_accuracy: 0.6496\n",
      "Epoch 25/70\n",
      "253/253 [==============================] - 9s 35ms/step - loss: 0.6813 - accuracy: 0.7861 - val_loss: 1.6168 - val_accuracy: 0.6411\n",
      "Epoch 26/70\n",
      "253/253 [==============================] - 9s 35ms/step - loss: 0.6816 - accuracy: 0.7869 - val_loss: 1.5960 - val_accuracy: 0.6403\n",
      "Epoch 27/70\n",
      "253/253 [==============================] - 11s 43ms/step - loss: 0.6567 - accuracy: 0.7922 - val_loss: 1.4850 - val_accuracy: 0.6628\n",
      "Epoch 28/70\n",
      "253/253 [==============================] - 10s 39ms/step - loss: 0.6680 - accuracy: 0.7895 - val_loss: 1.5359 - val_accuracy: 0.6605\n",
      "Epoch 29/70\n",
      "253/253 [==============================] - 9s 36ms/step - loss: 0.6637 - accuracy: 0.7926 - val_loss: 1.6704 - val_accuracy: 0.6411\n",
      "Epoch 30/70\n",
      "253/253 [==============================] - 10s 39ms/step - loss: 0.6571 - accuracy: 0.7925 - val_loss: 1.7064 - val_accuracy: 0.6527\n",
      "Epoch 31/70\n",
      "253/253 [==============================] - 10s 38ms/step - loss: 0.6549 - accuracy: 0.7946 - val_loss: 1.6440 - val_accuracy: 0.6481\n",
      "Epoch 32/70\n",
      "253/253 [==============================] - 11s 42ms/step - loss: 0.6626 - accuracy: 0.7917 - val_loss: 1.6544 - val_accuracy: 0.6481\n",
      "Epoch 33/70\n",
      "253/253 [==============================] - 9s 36ms/step - loss: 0.6518 - accuracy: 0.7945 - val_loss: 1.8575 - val_accuracy: 0.6473\n",
      "Epoch 34/70\n",
      "253/253 [==============================] - 11s 42ms/step - loss: 0.6478 - accuracy: 0.7965 - val_loss: 1.5940 - val_accuracy: 0.6558\n",
      "Epoch 35/70\n",
      "253/253 [==============================] - 10s 39ms/step - loss: 0.6401 - accuracy: 0.7990 - val_loss: 1.6389 - val_accuracy: 0.6504\n",
      "Epoch 36/70\n",
      "253/253 [==============================] - 10s 40ms/step - loss: 0.6319 - accuracy: 0.7991 - val_loss: 1.7401 - val_accuracy: 0.6566\n",
      "Epoch 37/70\n",
      "253/253 [==============================] - 10s 39ms/step - loss: 0.6340 - accuracy: 0.8011 - val_loss: 1.6834 - val_accuracy: 0.6597\n",
      "Epoch 38/70\n",
      "253/253 [==============================] - 11s 42ms/step - loss: 0.6292 - accuracy: 0.8005 - val_loss: 1.6545 - val_accuracy: 0.6674\n",
      "Epoch 39/70\n",
      "253/253 [==============================] - 10s 40ms/step - loss: 0.6320 - accuracy: 0.8003 - val_loss: 1.5914 - val_accuracy: 0.6488\n",
      "Epoch 40/70\n",
      "253/253 [==============================] - 11s 43ms/step - loss: 0.6292 - accuracy: 0.8029 - val_loss: 1.6182 - val_accuracy: 0.6512\n",
      "Epoch 41/70\n",
      "253/253 [==============================] - 10s 40ms/step - loss: 0.6275 - accuracy: 0.8028 - val_loss: 1.7275 - val_accuracy: 0.6457\n",
      "Epoch 42/70\n",
      "253/253 [==============================] - 9s 37ms/step - loss: 0.6316 - accuracy: 0.8022 - val_loss: 1.7860 - val_accuracy: 0.6388\n",
      "Epoch 43/70\n",
      "253/253 [==============================] - 10s 38ms/step - loss: 0.6224 - accuracy: 0.8056 - val_loss: 1.7232 - val_accuracy: 0.6457\n",
      "Epoch 44/70\n",
      "253/253 [==============================] - 10s 39ms/step - loss: 0.6301 - accuracy: 0.8025 - val_loss: 1.8519 - val_accuracy: 0.6357\n",
      "Epoch 45/70\n",
      "253/253 [==============================] - 11s 43ms/step - loss: 0.6210 - accuracy: 0.8041 - val_loss: 1.7638 - val_accuracy: 0.6543\n",
      "Epoch 46/70\n",
      "253/253 [==============================] - 11s 44ms/step - loss: 0.6308 - accuracy: 0.8043 - val_loss: 1.7331 - val_accuracy: 0.6519\n",
      "Epoch 47/70\n",
      "253/253 [==============================] - 10s 41ms/step - loss: 0.6148 - accuracy: 0.8077 - val_loss: 2.0090 - val_accuracy: 0.6372\n",
      "Epoch 48/70\n",
      "253/253 [==============================] - 10s 40ms/step - loss: 0.6295 - accuracy: 0.8031 - val_loss: 1.6436 - val_accuracy: 0.6721\n",
      "Epoch 49/70\n",
      "253/253 [==============================] - 11s 42ms/step - loss: 0.6071 - accuracy: 0.8086 - val_loss: 1.6932 - val_accuracy: 0.6581\n",
      "Epoch 50/70\n",
      "253/253 [==============================] - 10s 41ms/step - loss: 0.6045 - accuracy: 0.8102 - val_loss: 1.9146 - val_accuracy: 0.6512\n",
      "Epoch 51/70\n",
      "253/253 [==============================] - 10s 40ms/step - loss: 0.6091 - accuracy: 0.8106 - val_loss: 2.0058 - val_accuracy: 0.6465\n",
      "Epoch 52/70\n",
      "253/253 [==============================] - 9s 37ms/step - loss: 0.6028 - accuracy: 0.8111 - val_loss: 1.7169 - val_accuracy: 0.6620\n",
      "Epoch 53/70\n",
      "253/253 [==============================] - 11s 43ms/step - loss: 0.6135 - accuracy: 0.8085 - val_loss: 1.7678 - val_accuracy: 0.6566\n",
      "Epoch 54/70\n",
      "253/253 [==============================] - 11s 43ms/step - loss: 0.6047 - accuracy: 0.8126 - val_loss: 1.8961 - val_accuracy: 0.6574\n",
      "Epoch 55/70\n",
      "253/253 [==============================] - 10s 38ms/step - loss: 0.6008 - accuracy: 0.8107 - val_loss: 1.8134 - val_accuracy: 0.6705\n",
      "Epoch 56/70\n",
      "253/253 [==============================] - 9s 36ms/step - loss: 0.6236 - accuracy: 0.8081 - val_loss: 1.8046 - val_accuracy: 0.6667\n",
      "Epoch 57/70\n"
     ]
    },
    {
     "name": "stdout",
     "output_type": "stream",
     "text": [
      "253/253 [==============================] - 10s 41ms/step - loss: 0.6080 - accuracy: 0.8107 - val_loss: 1.8119 - val_accuracy: 0.6519\n",
      "Epoch 58/70\n",
      "253/253 [==============================] - 10s 41ms/step - loss: 0.6076 - accuracy: 0.8106 - val_loss: 2.0389 - val_accuracy: 0.6597\n",
      "Epoch 59/70\n",
      "253/253 [==============================] - 10s 41ms/step - loss: 0.6028 - accuracy: 0.8129 - val_loss: 1.8363 - val_accuracy: 0.6442\n",
      "Epoch 60/70\n",
      "253/253 [==============================] - 10s 41ms/step - loss: 0.5959 - accuracy: 0.8129 - val_loss: 1.8759 - val_accuracy: 0.6636\n",
      "Epoch 61/70\n",
      "253/253 [==============================] - 10s 38ms/step - loss: 0.5917 - accuracy: 0.8148 - val_loss: 1.9302 - val_accuracy: 0.6643\n",
      "Epoch 62/70\n",
      "253/253 [==============================] - 10s 41ms/step - loss: 0.5945 - accuracy: 0.8141 - val_loss: 1.9828 - val_accuracy: 0.6620\n",
      "Epoch 63/70\n",
      "253/253 [==============================] - 10s 38ms/step - loss: 0.5913 - accuracy: 0.8140 - val_loss: 1.9247 - val_accuracy: 0.6558\n",
      "Epoch 64/70\n",
      "253/253 [==============================] - 10s 38ms/step - loss: 0.5931 - accuracy: 0.8156 - val_loss: 1.8117 - val_accuracy: 0.6659\n",
      "Epoch 65/70\n",
      "253/253 [==============================] - 10s 41ms/step - loss: 0.5966 - accuracy: 0.8144 - val_loss: 1.8984 - val_accuracy: 0.6620\n",
      "Epoch 66/70\n",
      "253/253 [==============================] - 10s 39ms/step - loss: 0.5831 - accuracy: 0.8164 - val_loss: 1.8306 - val_accuracy: 0.6612\n",
      "Epoch 67/70\n",
      "253/253 [==============================] - 10s 39ms/step - loss: 0.5923 - accuracy: 0.8158 - val_loss: 1.9135 - val_accuracy: 0.6589\n",
      "Epoch 68/70\n",
      "253/253 [==============================] - 10s 39ms/step - loss: 0.5917 - accuracy: 0.8157 - val_loss: 1.8798 - val_accuracy: 0.6605\n",
      "Epoch 69/70\n",
      "253/253 [==============================] - 10s 38ms/step - loss: 0.5979 - accuracy: 0.8140 - val_loss: 1.7852 - val_accuracy: 0.6628\n",
      "Epoch 70/70\n",
      "253/253 [==============================] - 9s 37ms/step - loss: 0.5820 - accuracy: 0.8162 - val_loss: 2.0439 - val_accuracy: 0.6589\n"
     ]
    },
    {
     "data": {
      "text/plain": [
       "<keras.callbacks.History at 0x16b4b8dfc10>"
      ]
     },
     "execution_count": 20,
     "metadata": {},
     "output_type": "execute_result"
    }
   ],
   "source": [
    "model.fit(x_train, y_train, batch_size=128, epochs=70, verbose=1, validation_data=(x_valid, y_valid))"
   ]
  },
  {
   "cell_type": "code",
   "execution_count": 21,
   "metadata": {},
   "outputs": [
    {
     "name": "stdout",
     "output_type": "stream",
     "text": [
      "110/110 [==============================] - 3s 20ms/step - loss: 1.7543 - accuracy: 0.7496\n",
      "Test Loss: 1.7542610168457031\n",
      "Test accuracy: 0.7495726346969604\n"
     ]
    }
   ],
   "source": [
    "score = model.evaluate(x_test, y_test)\n",
    "print('Test Loss:', score[0])\n",
    "print('Test accuracy:', score[1])"
   ]
  },
  {
   "cell_type": "code",
   "execution_count": 34,
   "metadata": {
    "execution": {
     "iopub.execute_input": "2023-07-13T16:15:58.783276Z",
     "iopub.status.busy": "2023-07-13T16:15:58.782916Z",
     "iopub.status.idle": "2023-07-13T16:15:58.836247Z",
     "shell.execute_reply": "2023-07-13T16:15:58.835263Z",
     "shell.execute_reply.started": "2023-07-13T16:15:58.783243Z"
    }
   },
   "outputs": [],
   "source": [
    "model_pkl_file = \"D:\\\\Project\\\\Traffic Sign Detection\\\\TrainedMOdel\\\\final\\\\tri_classifier_model_LUV_acc74.h5\"\n",
    "model.save(model_pkl_file)\n"
   ]
  },
  {
   "cell_type": "code",
   "execution_count": 31,
   "metadata": {
    "execution": {
     "iopub.execute_input": "2023-07-13T16:11:38.267217Z",
     "iopub.status.busy": "2023-07-13T16:11:38.266860Z",
     "iopub.status.idle": "2023-07-13T16:11:44.427680Z",
     "shell.execute_reply": "2023-07-13T16:11:44.426710Z",
     "shell.execute_reply.started": "2023-07-13T16:11:38.267187Z"
    }
   },
   "outputs": [
    {
     "name": "stdout",
     "output_type": "stream",
     "text": [
      "110/110 [==============================] - 1s 9ms/step - loss: 320.6290 - accuracy: 0.1197\n",
      "Test Loss: 320.62896728515625\n",
      "Test accuracy: 0.11965811997652054\n"
     ]
    }
   ],
   "source": [
    "from keras.models import load_model\n",
    "\n",
    "model = load_model(\"D:\\\\Project\\\\Traffic Sign Detection\\\\TrainedMOdel\\\\final\\\\tri_classifier_model_acc96.h5\")\n",
    "\n",
    "score = model.evaluate(x_test, y_test)\n",
    "print('Test Loss:', score[0])\n",
    "print('Test accuracy:', score[1])"
   ]
  },
  {
   "cell_type": "markdown",
   "metadata": {},
   "source": [
    "## Hope you like it!"
   ]
  },
  {
   "cell_type": "code",
   "execution_count": null,
   "metadata": {},
   "outputs": [],
   "source": [
    "from matplotlib import pyplot as plt\n",
    "image = x_train[65:66,:,:]#.transpose(2 , 0 ,1)\n",
    "plt.imshow(image[0].reshape((32,32,3)))\n",
    "plt.show()\n",
    "#y = model.predict_classes(image)\n",
    "y = (model.predict(image) > 0.5).astype(\"int32\")\n",
    "print(y[0])\n",
    "print(y_train[65:66])"
   ]
  },
  {
   "cell_type": "code",
   "execution_count": null,
   "metadata": {},
   "outputs": [],
   "source": [
    "image[0].reshape((32,32)).shape"
   ]
  },
  {
   "cell_type": "code",
   "execution_count": null,
   "metadata": {},
   "outputs": [],
   "source": [
    "import numpy\n",
    "x = numpy.where(gray_train_labels == 2)"
   ]
  }
 ],
 "metadata": {
  "kernelspec": {
   "display_name": "Python 3 (ipykernel)",
   "language": "python",
   "name": "python3"
  },
  "language_info": {
   "codemirror_mode": {
    "name": "ipython",
    "version": 3
   },
   "file_extension": ".py",
   "mimetype": "text/x-python",
   "name": "python",
   "nbconvert_exporter": "python",
   "pygments_lexer": "ipython3",
   "version": "3.10.9"
  }
 },
 "nbformat": 4,
 "nbformat_minor": 4
}
