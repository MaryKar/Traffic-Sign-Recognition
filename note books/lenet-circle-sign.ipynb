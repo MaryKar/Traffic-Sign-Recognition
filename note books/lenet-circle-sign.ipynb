{
 "cells": [
  {
   "cell_type": "markdown",
   "metadata": {},
   "source": [
    "### Code Implementation"
   ]
  },
  {
   "cell_type": "code",
   "execution_count": 1,
   "metadata": {
    "tags": []
   },
   "outputs": [],
   "source": [
    "# Importing necessary libraries\n",
    "import keras\n",
    "from keras.datasets import mnist\n",
    "from keras.layers import Conv2D, MaxPooling2D\n",
    "from keras.layers import Dense, Flatten\n",
    "from keras.models import Sequential\n",
    "import pickle\n",
    "import numpy as np\n",
    "import cv2\n",
    "from matplotlib import pyplot as plt\n",
    "from sklearn.model_selection import train_test_split\n"
   ]
  },
  {
   "cell_type": "markdown",
   "metadata": {},
   "source": [
    "### Loading Dataset"
   ]
  },
  {
   "cell_type": "code",
   "execution_count": 3,
   "metadata": {
    "execution": {
     "iopub.execute_input": "2023-07-02T11:34:12.144183Z",
     "iopub.status.busy": "2023-07-02T11:34:12.143489Z",
     "iopub.status.idle": "2023-07-02T11:34:12.148924Z",
     "shell.execute_reply": "2023-07-02T11:34:12.147610Z",
     "shell.execute_reply.started": "2023-07-02T11:34:12.144147Z"
    }
   },
   "outputs": [],
   "source": [
    "# # Loading the dataset and perform splitting\n",
    "# data_list = []\n",
    "# labels_list = []\n",
    "# classes_list = 43\n",
    "\n",
    "# imgs_path = \"../input/gtsrb-german-traffic-sign/Train\"\n",
    "# for i in range(classes_list):\n",
    "#     i_path = os.path.join(imgs_path, str(i)) #0-42\n",
    "#     for img in os.listdir(i_path):\n",
    "#         im = Image.open(i_path +'/'+ img)\n",
    "#         im = im.resize((32,32))\n",
    "#         im = np.array(im)\n",
    "#         data_list.append(im)\n",
    "#         labels_list.append(i)\n",
    "# data = np.array(data_list)\n",
    "# labels = np.array(labels_list)"
   ]
  },
  {
   "cell_type": "code",
   "execution_count": 2,
   "metadata": {
    "tags": []
   },
   "outputs": [],
   "source": [
    "# Opening file for reading in binary mode\n",
    "#- data3.pickle - Shuffling, /255.0 + Mean + STD Normalization\n",
    "with open('D:\\Project\\Traffic Sign Detection\\DATABASE/data3.pickle', 'rb') as f:\n",
    "    data = pickle.load(f, encoding='latin1')  # dictionary type\n",
    "    \n",
    "    \n",
    "# Making channels come at the end\n",
    "data['x_train'] = data['x_train'].transpose(0, 2, 3, 1)\n",
    "data['x_validation'] = data['x_validation'].transpose(0, 2, 3, 1)\n",
    "data['x_test'] = data['x_test'].transpose(0, 2, 3, 1)\n",
    "\n",
    "train_imgs = data['x_train']\n",
    "test_imgs = data['x_test']\n",
    "valid_imgs = data['x_validation']\n",
    "train_labels = data['y_train']\n",
    "test_labels = data['y_test']\n",
    "valid_labels = data['y_validation']"
   ]
  },
  {
   "cell_type": "markdown",
   "metadata": {
    "execution": {
     "iopub.execute_input": "2023-07-03T08:12:55.581244Z",
     "iopub.status.busy": "2023-07-03T08:12:55.580875Z",
     "iopub.status.idle": "2023-07-03T08:12:55.588623Z",
     "shell.execute_reply": "2023-07-03T08:12:55.587576Z",
     "shell.execute_reply.started": "2023-07-03T08:12:55.581207Z"
    }
   },
   "source": [
    "def augment_brightness_camera_images(image):\n",
    "    image1 = cv2.cvtColor(image,cv2.COLOR_RGB2HSV)\n",
    "    plt.imshow(image1)\n",
    "    image1 = np.array(image1, dtype = np.float64)\n",
    "    random_bright = .5+np.random.uniform()\n",
    "    image1[:,:,2] = image1[:,:,2]*random_bright\n",
    "    image1[:,:,2][image1[:,:,2]>255]  = 255\n",
    "    image1 = np.array(image1, dtype = np.uint8)\n",
    "    image1 = cv2.cvtColor(image1,cv2.COLOR_HSV2RGB)\n",
    "    return image1"
   ]
  },
  {
   "cell_type": "code",
   "execution_count": 26,
   "metadata": {
    "execution": {
     "iopub.execute_input": "2023-07-03T08:37:52.381737Z",
     "iopub.status.busy": "2023-07-03T08:37:52.381313Z",
     "iopub.status.idle": "2023-07-03T08:37:52.388405Z",
     "shell.execute_reply": "2023-07-03T08:37:52.387298Z",
     "shell.execute_reply.started": "2023-07-03T08:37:52.381701Z"
    }
   },
   "outputs": [
    {
     "name": "stdout",
     "output_type": "stream",
     "text": [
      "(32, 32, 3)\n"
     ]
    }
   ],
   "source": [
    "ima"
   ]
  },
  {
   "cell_type": "markdown",
   "metadata": {
    "execution": {
     "iopub.execute_input": "2023-07-03T08:38:41.049467Z",
     "iopub.status.busy": "2023-07-03T08:38:41.049116Z",
     "iopub.status.idle": "2023-07-03T08:38:41.059062Z",
     "shell.execute_reply": "2023-07-03T08:38:41.057889Z",
     "shell.execute_reply.started": "2023-07-03T08:38:41.049439Z"
    }
   },
   "source": [
    "\n",
    "#new = augment_brightness_camera_images(image)\n",
    "new = preprocess_img(image)\n",
    "#plt.imshow(new)\n",
    "print(new.shape)\n",
    "print(cycle)"
   ]
  },
  {
   "cell_type": "code",
   "execution_count": 3,
   "metadata": {
    "tags": []
   },
   "outputs": [],
   "source": [
    "indx = np.array(np.where(train_labels <= 10)) #cycle\n",
    "indx = np.concatenate((indx ,np.where(train_labels >= 32)), axis = 1) #cycle\n",
    "indx = np.concatenate((indx ,np.where(train_labels == 15)), axis = 1) #cycle\n",
    "indx = np.concatenate((indx ,np.where(train_labels == 16)), axis = 1) #cycle\n",
    "indx = np.concatenate((indx ,np.where(train_labels == 17)), axis = 1) #cycle\n",
    "\n",
    "indx1 = np.array(np.where(test_labels <= 10)) #cycle\n",
    "indx1 = np.concatenate((indx1 ,np.where(test_labels >= 32)), axis = 1) #cycle\n",
    "indx1 = np.concatenate((indx1 ,np.where(test_labels == 15)), axis = 1) #cycle\n",
    "indx1 = np.concatenate((indx1 ,np.where(test_labels == 16)), axis = 1) #cycle\n",
    "indx1 = np.concatenate((indx1 ,np.where(test_labels == 17)), axis = 1) #cycle\n",
    "\n",
    "indx2 = np.array(np.where(valid_labels <= 10)) #cycle\n",
    "indx2 = np.concatenate((indx2 ,np.where(valid_labels >= 32)), axis = 1) #cycle\n",
    "indx2 = np.concatenate((indx2 ,np.where(valid_labels == 15)), axis = 1) #cycle\n",
    "indx2 = np.concatenate((indx2 ,np.where(valid_labels == 16)), axis = 1) #cycle\n",
    "indx2 = np.concatenate((indx2 ,np.where(valid_labels == 17)), axis = 1) #cycle\n",
    "\n",
    "cycle_train_imgs = train_imgs[indx]\n",
    "cycle_test_imgs = test_imgs[indx1]\n",
    "cycle_valid_imgs = valid_imgs[indx2]\n",
    "cycle_train_labels = train_labels[indx]\n",
    "cycle_test_labels = test_labels[indx1]\n",
    "cycle_valid_labels = valid_labels[indx2]\n"
   ]
  },
  {
   "cell_type": "code",
   "execution_count": 4,
   "metadata": {
    "tags": []
   },
   "outputs": [],
   "source": [
    "cy_Dict = {0:0 ,1:1 ,2:2, 3:3 , 4:4 , 5:5 , 6:6 , 7:7 , 8:8 , 9:9 ,10:10 ,15:11 , 16:12 , 17:13 , 32:14 , 33:15 , 34:16 , 35:17 , 36:18 , 37:19 , 38:20 , 39:21 , 40:22 , 41:23 , 42:24 }\n",
    "cycle_train_labels = np.vectorize(cy_Dict.get)(cycle_train_labels)\n",
    "cycle_test_labels = np.vectorize(cy_Dict.get)(cycle_test_labels)\n",
    "cycle_valid_labels = np.vectorize(cy_Dict.get)(cycle_valid_labels)\n",
    "cy_num_class = 25"
   ]
  },
  {
   "cell_type": "code",
   "execution_count": 31,
   "metadata": {
    "execution": {
     "iopub.execute_input": "2023-07-03T08:40:14.192466Z",
     "iopub.status.busy": "2023-07-03T08:40:14.192096Z",
     "iopub.status.idle": "2023-07-03T08:40:14.198924Z",
     "shell.execute_reply": "2023-07-03T08:40:14.198082Z",
     "shell.execute_reply.started": "2023-07-03T08:40:14.192436Z"
    }
   },
   "outputs": [
    {
     "data": {
      "text/plain": [
       "(50575, 32, 32, 3)"
      ]
     },
     "execution_count": 31,
     "metadata": {},
     "output_type": "execute_result"
    }
   ],
   "source": [
    "cycle_train_imgs[0].shape"
   ]
  },
  {
   "cell_type": "markdown",
   "metadata": {
    "execution": {
     "iopub.execute_input": "2023-07-03T08:31:25.503579Z",
     "iopub.status.busy": "2023-07-03T08:31:25.503146Z",
     "iopub.status.idle": "2023-07-03T08:31:26.034838Z",
     "shell.execute_reply": "2023-07-03T08:31:26.033867Z",
     "shell.execute_reply.started": "2023-07-03T08:31:25.503549Z"
    }
   },
   "source": [
    "from skimage import color, exposure, transform\n",
    "\n",
    "NUM_CLASSES = 43\n",
    "IMG_SIZE = 48\n",
    "\n",
    "def preprocess_img(img):\n",
    "    # Histogram normalization in v channel\n",
    "    hsv = color.rgb2hsv(img)\n",
    "    hsv[:,:,2] = exposure.equalize_hist(hsv[:,:,2])\n",
    "    img = color.hsv2rgb(hsv)\n",
    "\n",
    "#     # central square crop\n",
    "#     min_side = min(img.shape[:-1])\n",
    "#     centre = img.shape[0]//2, img.shape[1]//2\n",
    "#     img = img[centre[0]-min_side//2:centre[0]+min_side//2,\n",
    "#     centre[1]-min_side//2:centre[1]+min_side//2,\n",
    "#                   :]\n",
    "\n",
    "    # rescale to standard size\n",
    "    img = transform.resize(img, (IMG_SIZE, IMG_SIZE))\n",
    "\n",
    "    # roll color axis to axis 0\n",
    "    img = np.rollaxis(img,-1)\n",
    "\n",
    "    return img"
   ]
  },
  {
   "cell_type": "markdown",
   "metadata": {},
   "source": [
    "### Image Data Preprocessing"
   ]
  },
  {
   "cell_type": "code",
   "execution_count": 5,
   "metadata": {
    "tags": []
   },
   "outputs": [],
   "source": [
    "# Peforming reshaping operation\n",
    "# x_train = gray_train_imgs.reshape(gray_train_imgs.shape[0], 28, 28, 1)\n",
    "# x_test = gray_test_imgs.reshape(gray_test_imgs.shape[0], 28, 28, 1)\n",
    "\n",
    "x_train = cycle_train_imgs[0]\n",
    "x_test = cycle_test_imgs[0]\n",
    "x_valid = cycle_valid_imgs[0]\n",
    "\n",
    "# # Normalization\n",
    "# x_train = x_train / 255\n",
    "# x_test = x_test / 255\n",
    "\n",
    "num_class_shape = 43\n",
    "\n",
    "# One Hot Encoding\n",
    "y_train = keras.utils.to_categorical(cycle_train_labels[0], 25)\n",
    "y_test = keras.utils.to_categorical(cycle_test_labels[0], 25)\n",
    "y_valid = keras.utils.to_categorical(cycle_valid_labels[0], 25)"
   ]
  },
  {
   "cell_type": "code",
   "execution_count": 16,
   "metadata": {
    "tags": []
   },
   "outputs": [],
   "source": [
    "# a, x_train, b, y_train = train_test_split(x_train, y_train, test_size=0.36, random_state=42)\n",
    "\n",
    "# for i in x_train:\n",
    "#     i = cv2.resize(i,(48,48))"
   ]
  },
  {
   "cell_type": "code",
   "execution_count": 17,
   "metadata": {
    "tags": []
   },
   "outputs": [],
   "source": [
    "# for i in x_valid:\n",
    "#     i = cv2.resize(i,(48,48))\n",
    "    \n",
    "# for i in x_test:\n",
    "#     i = cv2.resize(i,(48,48))"
   ]
  },
  {
   "cell_type": "code",
   "execution_count": 16,
   "metadata": {
    "tags": []
   },
   "outputs": [],
   "source": [
    "keras.backend.clear_session()"
   ]
  },
  {
   "cell_type": "markdown",
   "metadata": {},
   "source": [
    "### LeNet Model Architecture"
   ]
  },
  {
   "cell_type": "code",
   "execution_count": 6,
   "metadata": {
    "tags": []
   },
   "outputs": [],
   "source": [
    "from keras.models import Sequential\n",
    "from keras.layers import Conv2D, MaxPool2D, Dense, Flatten, Dropout\n",
    "\n",
    "model = Sequential()\n",
    "model.add(Conv2D(filters=32, kernel_size=(5,5), activation='relu', input_shape=x_train.shape[1:]))\n",
    "model.add(Conv2D(filters=64, kernel_size=(3, 3), activation='relu'))\n",
    "model.add(MaxPool2D(pool_size=(2, 2)))\n",
    "model.add(Dropout(rate=0.25))\n",
    "model.add(Conv2D(filters=64, kernel_size=(3, 3), activation='relu'))\n",
    "model.add(MaxPool2D(pool_size=(2, 2)))\n",
    "model.add(Dropout(rate=0.25))\n",
    "model.add(Flatten())\n",
    "model.add(Dense(256, activation='relu'))\n",
    "model.add(Dropout(rate=0.5))\n",
    "model.add(Dense(25, activation='softmax'))"
   ]
  },
  {
   "cell_type": "code",
   "execution_count": 7,
   "metadata": {
    "tags": []
   },
   "outputs": [],
   "source": [
    "model.compile(loss=keras.metrics.categorical_crossentropy, optimizer=keras.optimizers.Adam(), metrics=['accuracy'])"
   ]
  },
  {
   "cell_type": "code",
   "execution_count": 8,
   "metadata": {
    "tags": []
   },
   "outputs": [
    {
     "name": "stdout",
     "output_type": "stream",
     "text": [
      "Epoch 1/70\n",
      "396/396 [==============================] - 13s 25ms/step - loss: 0.8776 - accuracy: 0.7352 - val_loss: 0.1717 - val_accuracy: 0.9404\n",
      "Epoch 2/70\n",
      "396/396 [==============================] - 9s 24ms/step - loss: 0.1470 - accuracy: 0.9564 - val_loss: 0.1342 - val_accuracy: 0.9567\n",
      "Epoch 3/70\n",
      "396/396 [==============================] - 10s 24ms/step - loss: 0.0916 - accuracy: 0.9723 - val_loss: 0.0737 - val_accuracy: 0.9723\n",
      "Epoch 4/70\n",
      "396/396 [==============================] - 10s 24ms/step - loss: 0.0660 - accuracy: 0.9802 - val_loss: 0.0965 - val_accuracy: 0.9674\n",
      "Epoch 5/70\n",
      "396/396 [==============================] - 10s 24ms/step - loss: 0.0564 - accuracy: 0.9828 - val_loss: 0.1472 - val_accuracy: 0.9677\n",
      "Epoch 6/70\n",
      "396/396 [==============================] - 10s 24ms/step - loss: 0.0506 - accuracy: 0.9844 - val_loss: 0.1613 - val_accuracy: 0.9635\n",
      "Epoch 7/70\n",
      "396/396 [==============================] - 9s 24ms/step - loss: 0.0461 - accuracy: 0.9852 - val_loss: 0.0900 - val_accuracy: 0.9770\n",
      "Epoch 8/70\n",
      "396/396 [==============================] - 9s 24ms/step - loss: 0.0395 - accuracy: 0.9882 - val_loss: 0.1292 - val_accuracy: 0.9645\n",
      "Epoch 9/70\n",
      "396/396 [==============================] - 9s 24ms/step - loss: 0.0405 - accuracy: 0.9876 - val_loss: 0.1009 - val_accuracy: 0.9723\n",
      "Epoch 10/70\n",
      "396/396 [==============================] - 9s 24ms/step - loss: 0.0430 - accuracy: 0.9869 - val_loss: 0.0619 - val_accuracy: 0.9798\n",
      "Epoch 11/70\n",
      "396/396 [==============================] - 9s 24ms/step - loss: 0.0336 - accuracy: 0.9895 - val_loss: 0.2030 - val_accuracy: 0.9695\n",
      "Epoch 12/70\n",
      "396/396 [==============================] - 9s 24ms/step - loss: 0.0408 - accuracy: 0.9875 - val_loss: 0.0772 - val_accuracy: 0.9809\n",
      "Epoch 13/70\n",
      "396/396 [==============================] - 9s 24ms/step - loss: 0.0347 - accuracy: 0.9896 - val_loss: 0.1109 - val_accuracy: 0.9780\n",
      "Epoch 14/70\n",
      "396/396 [==============================] - 9s 24ms/step - loss: 0.0275 - accuracy: 0.9919 - val_loss: 0.1667 - val_accuracy: 0.9734\n",
      "Epoch 15/70\n",
      "396/396 [==============================] - 9s 24ms/step - loss: 0.0341 - accuracy: 0.9896 - val_loss: 0.1600 - val_accuracy: 0.9780\n",
      "Epoch 16/70\n",
      "396/396 [==============================] - 9s 24ms/step - loss: 0.0327 - accuracy: 0.9904 - val_loss: 0.1792 - val_accuracy: 0.9667\n",
      "Epoch 17/70\n",
      "396/396 [==============================] - 9s 24ms/step - loss: 0.0295 - accuracy: 0.9916 - val_loss: 0.1912 - val_accuracy: 0.9663\n",
      "Epoch 18/70\n",
      "396/396 [==============================] - 9s 24ms/step - loss: 0.0300 - accuracy: 0.9916 - val_loss: 0.0835 - val_accuracy: 0.9805\n",
      "Epoch 19/70\n",
      "396/396 [==============================] - 9s 24ms/step - loss: 0.0314 - accuracy: 0.9909 - val_loss: 0.0789 - val_accuracy: 0.9837\n",
      "Epoch 20/70\n",
      "396/396 [==============================] - 9s 24ms/step - loss: 0.0326 - accuracy: 0.9909 - val_loss: 0.1038 - val_accuracy: 0.9777\n",
      "Epoch 21/70\n",
      "396/396 [==============================] - 9s 24ms/step - loss: 0.0312 - accuracy: 0.9920 - val_loss: 0.3087 - val_accuracy: 0.9770\n",
      "Epoch 22/70\n",
      "396/396 [==============================] - 9s 24ms/step - loss: 0.0287 - accuracy: 0.9915 - val_loss: 0.0748 - val_accuracy: 0.9812\n",
      "Epoch 23/70\n",
      "396/396 [==============================] - 10s 24ms/step - loss: 0.0275 - accuracy: 0.9924 - val_loss: 0.2536 - val_accuracy: 0.9755\n",
      "Epoch 24/70\n",
      "396/396 [==============================] - 10s 24ms/step - loss: 0.0248 - accuracy: 0.9927 - val_loss: 0.1339 - val_accuracy: 0.9784\n",
      "Epoch 25/70\n",
      "396/396 [==============================] - 9s 24ms/step - loss: 0.0281 - accuracy: 0.9922 - val_loss: 0.0436 - val_accuracy: 0.9894\n",
      "Epoch 26/70\n",
      "396/396 [==============================] - 10s 24ms/step - loss: 0.0312 - accuracy: 0.9910 - val_loss: 0.0678 - val_accuracy: 0.9823\n",
      "Epoch 27/70\n",
      "396/396 [==============================] - 10s 24ms/step - loss: 0.0310 - accuracy: 0.9913 - val_loss: 0.1137 - val_accuracy: 0.9801\n",
      "Epoch 28/70\n",
      "396/396 [==============================] - 9s 24ms/step - loss: 0.0256 - accuracy: 0.9932 - val_loss: 0.2372 - val_accuracy: 0.9755\n",
      "Epoch 29/70\n",
      "396/396 [==============================] - 9s 24ms/step - loss: 0.0262 - accuracy: 0.9928 - val_loss: 0.0958 - val_accuracy: 0.9787\n",
      "Epoch 30/70\n",
      "396/396 [==============================] - 9s 24ms/step - loss: 0.0296 - accuracy: 0.9918 - val_loss: 0.0961 - val_accuracy: 0.9759\n",
      "Epoch 31/70\n",
      "396/396 [==============================] - 9s 24ms/step - loss: 0.0278 - accuracy: 0.9919 - val_loss: 0.0343 - val_accuracy: 0.9879\n",
      "Epoch 32/70\n",
      "396/396 [==============================] - 9s 24ms/step - loss: 0.0268 - accuracy: 0.9924 - val_loss: 0.0768 - val_accuracy: 0.9798\n",
      "Epoch 33/70\n",
      "396/396 [==============================] - 9s 24ms/step - loss: 0.0278 - accuracy: 0.9927 - val_loss: 0.1353 - val_accuracy: 0.9791\n",
      "Epoch 34/70\n",
      "396/396 [==============================] - 9s 24ms/step - loss: 0.0272 - accuracy: 0.9930 - val_loss: 0.1018 - val_accuracy: 0.9773\n",
      "Epoch 35/70\n",
      "396/396 [==============================] - 9s 24ms/step - loss: 0.0259 - accuracy: 0.9936 - val_loss: 0.1445 - val_accuracy: 0.9794\n",
      "Epoch 36/70\n",
      "396/396 [==============================] - 9s 24ms/step - loss: 0.0253 - accuracy: 0.9935 - val_loss: 0.1389 - val_accuracy: 0.9755\n",
      "Epoch 37/70\n",
      "396/396 [==============================] - 9s 24ms/step - loss: 0.0246 - accuracy: 0.9936 - val_loss: 0.1001 - val_accuracy: 0.9791\n",
      "Epoch 38/70\n",
      "396/396 [==============================] - 9s 24ms/step - loss: 0.0310 - accuracy: 0.9927 - val_loss: 0.0535 - val_accuracy: 0.9872\n",
      "Epoch 39/70\n",
      "396/396 [==============================] - 9s 24ms/step - loss: 0.0224 - accuracy: 0.9936 - val_loss: 0.0419 - val_accuracy: 0.9887\n",
      "Epoch 40/70\n",
      "396/396 [==============================] - 9s 24ms/step - loss: 0.0281 - accuracy: 0.9933 - val_loss: 0.1204 - val_accuracy: 0.9794\n",
      "Epoch 41/70\n",
      "396/396 [==============================] - 9s 24ms/step - loss: 0.0254 - accuracy: 0.9934 - val_loss: 0.0787 - val_accuracy: 0.9840\n",
      "Epoch 42/70\n",
      "396/396 [==============================] - 9s 24ms/step - loss: 0.0284 - accuracy: 0.9928 - val_loss: 0.0408 - val_accuracy: 0.9901\n",
      "Epoch 43/70\n",
      "396/396 [==============================] - 9s 24ms/step - loss: 0.0328 - accuracy: 0.9918 - val_loss: 0.1864 - val_accuracy: 0.9759\n",
      "Epoch 44/70\n",
      "396/396 [==============================] - 9s 24ms/step - loss: 0.0301 - accuracy: 0.9931 - val_loss: 0.0813 - val_accuracy: 0.9851\n",
      "Epoch 45/70\n",
      "396/396 [==============================] - 9s 24ms/step - loss: 0.0257 - accuracy: 0.9936 - val_loss: 0.1041 - val_accuracy: 0.9830\n",
      "Epoch 46/70\n",
      "396/396 [==============================] - 9s 24ms/step - loss: 0.0236 - accuracy: 0.9939 - val_loss: 0.0672 - val_accuracy: 0.9876\n",
      "Epoch 47/70\n",
      "396/396 [==============================] - 9s 24ms/step - loss: 0.0275 - accuracy: 0.9936 - val_loss: 0.2654 - val_accuracy: 0.9784\n",
      "Epoch 48/70\n",
      "396/396 [==============================] - 9s 24ms/step - loss: 0.0265 - accuracy: 0.9936 - val_loss: 0.1168 - val_accuracy: 0.9851\n",
      "Epoch 49/70\n",
      "396/396 [==============================] - 9s 24ms/step - loss: 0.0207 - accuracy: 0.9949 - val_loss: 0.0629 - val_accuracy: 0.9897\n",
      "Epoch 50/70\n",
      "396/396 [==============================] - 9s 24ms/step - loss: 0.0239 - accuracy: 0.9940 - val_loss: 0.1371 - val_accuracy: 0.9766\n",
      "Epoch 51/70\n",
      "396/396 [==============================] - 9s 24ms/step - loss: 0.0307 - accuracy: 0.9932 - val_loss: 0.1502 - val_accuracy: 0.9791\n",
      "Epoch 52/70\n",
      "396/396 [==============================] - 9s 24ms/step - loss: 0.0339 - accuracy: 0.9928 - val_loss: 0.1748 - val_accuracy: 0.9748\n",
      "Epoch 53/70\n",
      "396/396 [==============================] - 9s 24ms/step - loss: 0.0315 - accuracy: 0.9929 - val_loss: 0.1075 - val_accuracy: 0.9862\n",
      "Epoch 54/70\n",
      "396/396 [==============================] - 9s 24ms/step - loss: 0.0293 - accuracy: 0.9931 - val_loss: 0.2762 - val_accuracy: 0.9723\n",
      "Epoch 55/70\n",
      "396/396 [==============================] - 10s 24ms/step - loss: 0.0260 - accuracy: 0.9943 - val_loss: 0.0891 - val_accuracy: 0.9887\n",
      "Epoch 56/70\n",
      "396/396 [==============================] - 9s 24ms/step - loss: 0.0243 - accuracy: 0.9944 - val_loss: 0.0736 - val_accuracy: 0.9890\n",
      "Epoch 57/70\n",
      "396/396 [==============================] - 9s 24ms/step - loss: 0.0255 - accuracy: 0.9944 - val_loss: 0.0746 - val_accuracy: 0.9894\n",
      "Epoch 58/70\n",
      "396/396 [==============================] - 10s 24ms/step - loss: 0.0230 - accuracy: 0.9948 - val_loss: 0.0579 - val_accuracy: 0.9911\n",
      "Epoch 59/70\n",
      "396/396 [==============================] - 10s 24ms/step - loss: 0.0227 - accuracy: 0.9947 - val_loss: 0.0999 - val_accuracy: 0.9840\n",
      "Epoch 60/70\n",
      "396/396 [==============================] - 9s 24ms/step - loss: 0.0252 - accuracy: 0.9938 - val_loss: 0.0723 - val_accuracy: 0.9890\n",
      "Epoch 61/70\n",
      "396/396 [==============================] - 9s 24ms/step - loss: 0.0341 - accuracy: 0.9931 - val_loss: 0.1856 - val_accuracy: 0.9809\n",
      "Epoch 62/70\n",
      "396/396 [==============================] - 9s 24ms/step - loss: 0.0274 - accuracy: 0.9937 - val_loss: 0.1168 - val_accuracy: 0.9837\n",
      "Epoch 63/70\n",
      "396/396 [==============================] - 9s 24ms/step - loss: 0.0271 - accuracy: 0.9944 - val_loss: 0.0946 - val_accuracy: 0.9865\n",
      "Epoch 64/70\n",
      "396/396 [==============================] - 9s 24ms/step - loss: 0.0251 - accuracy: 0.9948 - val_loss: 0.0841 - val_accuracy: 0.9872\n",
      "Epoch 65/70\n",
      "396/396 [==============================] - 9s 24ms/step - loss: 0.0387 - accuracy: 0.9927 - val_loss: 0.1104 - val_accuracy: 0.9791\n",
      "Epoch 66/70\n",
      "396/396 [==============================] - 9s 24ms/step - loss: 0.0285 - accuracy: 0.9942 - val_loss: 0.1044 - val_accuracy: 0.9887\n",
      "Epoch 67/70\n",
      "396/396 [==============================] - 9s 24ms/step - loss: 0.0222 - accuracy: 0.9950 - val_loss: 0.0916 - val_accuracy: 0.9862\n",
      "Epoch 68/70\n",
      "396/396 [==============================] - 9s 24ms/step - loss: 0.0229 - accuracy: 0.9948 - val_loss: 0.0860 - val_accuracy: 0.9883\n",
      "Epoch 69/70\n",
      "396/396 [==============================] - 9s 24ms/step - loss: 0.0227 - accuracy: 0.9953 - val_loss: 0.0771 - val_accuracy: 0.9865\n",
      "Epoch 70/70\n",
      "396/396 [==============================] - 9s 24ms/step - loss: 0.0280 - accuracy: 0.9938 - val_loss: 0.1437 - val_accuracy: 0.9826\n"
     ]
    }
   ],
   "source": [
    "history = model.fit(x_train, y_train, batch_size=128, epochs=70, verbose=1, validation_data=(x_valid, y_valid))"
   ]
  },
  {
   "cell_type": "code",
   "execution_count": 9,
   "metadata": {
    "tags": []
   },
   "outputs": [
    {
     "name": "stdout",
     "output_type": "stream",
     "text": [
      "255/255 [==============================] - 2s 6ms/step - loss: 0.1945 - accuracy: 0.9822\n",
      "Test Loss: 0.1944720596075058\n",
      "Test accuracy: 0.9822303652763367\n"
     ]
    }
   ],
   "source": [
    "score = model.evaluate(x_test, y_test)\n",
    "print('Test Loss:', score[0])\n",
    "print('Test accuracy:', score[1])"
   ]
  },
  {
   "cell_type": "code",
   "execution_count": 10,
   "metadata": {
    "tags": []
   },
   "outputs": [
    {
     "name": "stdout",
     "output_type": "stream",
     "text": [
      "255/255 [==============================] - 1s 4ms/step\n",
      "{'0': {'precision': 0.9523809523809523, 'recall': 1.0, 'f1-score': 0.975609756097561, 'support': 60}, '1': {'precision': 0.9793956043956044, 'recall': 0.9902777777777778, 'f1-score': 0.9848066298342542, 'support': 720}, '2': {'precision': 0.9827357237715804, 'recall': 0.9866666666666667, 'f1-score': 0.9846972721224218, 'support': 750}, '3': {'precision': 0.96875, 'recall': 0.9644444444444444, 'f1-score': 0.9665924276169264, 'support': 450}, '4': {'precision': 0.9908814589665653, 'recall': 0.9878787878787879, 'f1-score': 0.9893778452200302, 'support': 660}, '5': {'precision': 0.9543307086614173, 'recall': 0.9619047619047619, 'f1-score': 0.958102766798419, 'support': 630}, '6': {'precision': 0.9788732394366197, 'recall': 0.9266666666666666, 'f1-score': 0.952054794520548, 'support': 150}, '7': {'precision': 0.9931818181818182, 'recall': 0.9711111111111111, 'f1-score': 0.9820224719101124, 'support': 450}, '8': {'precision': 0.9909502262443439, 'recall': 0.9733333333333334, 'f1-score': 0.9820627802690584, 'support': 450}, '9': {'precision': 0.9856262833675564, 'recall': 1.0, 'f1-score': 0.9927611168562565, 'support': 480}, '10': {'precision': 0.9984639016897081, 'recall': 0.9848484848484849, 'f1-score': 0.9916094584286803, 'support': 660}, '11': {'precision': 0.9859154929577465, 'recall': 1.0, 'f1-score': 0.9929078014184397, 'support': 210}, '12': {'precision': 0.9868421052631579, 'recall': 1.0, 'f1-score': 0.9933774834437086, 'support': 150}, '13': {'precision': 1.0, 'recall': 1.0, 'f1-score': 1.0, 'support': 360}, '14': {'precision': 1.0, 'recall': 1.0, 'f1-score': 1.0, 'support': 60}, '15': {'precision': 0.963302752293578, 'recall': 1.0, 'f1-score': 0.9813084112149533, 'support': 210}, '16': {'precision': 0.9754098360655737, 'recall': 0.9916666666666667, 'f1-score': 0.9834710743801653, 'support': 120}, '17': {'precision': 0.9973958333333334, 'recall': 0.982051282051282, 'f1-score': 0.9896640826873385, 'support': 390}, '18': {'precision': 0.9916666666666667, 'recall': 0.9916666666666667, 'f1-score': 0.9916666666666667, 'support': 120}, '19': {'precision': 0.967741935483871, 'recall': 1.0, 'f1-score': 0.9836065573770492, 'support': 60}, '20': {'precision': 0.9941944847605225, 'recall': 0.9927536231884058, 'f1-score': 0.9934735315445974, 'support': 690}, '21': {'precision': 0.9183673469387755, 'recall': 1.0, 'f1-score': 0.9574468085106383, 'support': 90}, '22': {'precision': 0.9887640449438202, 'recall': 0.9777777777777777, 'f1-score': 0.9832402234636872, 'support': 90}, '23': {'precision': 0.8208955223880597, 'recall': 0.9166666666666666, 'f1-score': 0.8661417322834646, 'support': 60}, '24': {'precision': 0.9746835443037974, 'recall': 0.8555555555555555, 'f1-score': 0.9112426035502957, 'support': 90}, 'accuracy': 0.9822303921568627, 'macro avg': {'precision': 0.9736299792998027, 'recall': 0.9782108109282021, 'f1-score': 0.9754897718486109, 'support': 8160}, 'weighted avg': {'precision': 0.9825190907333181, 'recall': 0.9822303921568627, 'f1-score': 0.9822362790799859, 'support': 8160}}\n"
     ]
    }
   ],
   "source": [
    "from sklearn.metrics import classification_report\n",
    "pred = model.predict(x_test).argmax(axis = 1)\n",
    "cr = classification_report(y_test.argmax(axis = 1) , pred , output_dict = True)\n",
    "print(cr)"
   ]
  },
  {
   "cell_type": "code",
   "execution_count": 11,
   "metadata": {
    "tags": []
   },
   "outputs": [
    {
     "data": {
      "image/png": "[encoded data removed]",
      "text/plain": [
       "<Figure size 640x480 with 1 Axes>"
      ]
     },
     "metadata": {},
     "output_type": "display_data"
    }
   ],
   "source": [
    "plt.plot(history.history['accuracy'])\n",
    "plt.plot(history.history['val_accuracy'])\n",
    "plt.title('model accuracy')\n",
    "plt.ylabel('accuracy')\n",
    "plt.xlabel('epoch')\n",
    "plt.legend(['train', 'val'], loc='upper left')\n",
    "plt.show()"
   ]
  },
  {
   "cell_type": "code",
   "execution_count": 12,
   "metadata": {
    "tags": []
   },
   "outputs": [
    {
     "data": {
      "image/png": "[encoded data removed]",
      "text/plain": [
       "<Figure size 640x480 with 1 Axes>"
      ]
     },
     "metadata": {},
     "output_type": "display_data"
    }
   ],
   "source": [
    "plt.plot(history.history['loss'])\n",
    "plt.plot(history.history['val_loss'])\n",
    "plt.title('model loss')\n",
    "plt.ylabel('loss')\n",
    "plt.xlabel('epoch')\n",
    "plt.legend(['train', 'val'], loc='upper left')\n",
    "plt.show()"
   ]
  },
  {
   "cell_type": "code",
   "execution_count": 24,
   "metadata": {
    "tags": []
   },
   "outputs": [
    {
     "data": {
      "text/plain": [
       "474137"
      ]
     },
     "execution_count": 24,
     "metadata": {},
     "output_type": "execute_result"
    }
   ],
   "source": [
    "model.count_params()"
   ]
  },
  {
   "cell_type": "code",
   "execution_count": 13,
   "metadata": {
    "tags": []
   },
   "outputs": [],
   "source": [
    "model_save_dir = \"D:\\\\Project\\\\Traffic Sign Detection\\\\TrainedMOdel\\\\final\\\\circle_classifier_data0_acc98.h5\"  \n",
    "\n",
    "model.save(model_save_dir)\n"
   ]
  },
  {
   "cell_type": "code",
   "execution_count": 97,
   "metadata": {
    "execution": {
     "iopub.execute_input": "2023-07-02T12:52:00.874764Z",
     "iopub.status.busy": "2023-07-02T12:52:00.874059Z",
     "iopub.status.idle": "2023-07-02T12:52:00.881809Z",
     "shell.execute_reply": "2023-07-02T12:52:00.880580Z",
     "shell.execute_reply.started": "2023-07-02T12:52:00.874724Z"
    }
   },
   "outputs": [
    {
     "data": {
      "text/plain": [
       "(32, 32, 3)"
      ]
     },
     "execution_count": 97,
     "metadata": {},
     "output_type": "execute_result"
    }
   ],
   "source": [
    "x_test[1].shape"
   ]
  },
  {
   "cell_type": "markdown",
   "metadata": {},
   "source": [
    "## Hope you like it!"
   ]
  },
  {
   "cell_type": "code",
   "execution_count": 17,
   "metadata": {
    "execution": {
     "iopub.execute_input": "2023-07-02T12:53:20.882509Z",
     "iopub.status.busy": "2023-07-02T12:53:20.882108Z",
     "iopub.status.idle": "2023-07-02T12:53:21.182561Z",
     "shell.execute_reply": "2023-07-02T12:53:21.181405Z",
     "shell.execute_reply.started": "2023-07-02T12:53:20.882474Z"
    }
   },
   "outputs": [
    {
     "name": "stderr",
     "output_type": "stream",
     "text": [
      "Clipping input data to the valid range for imshow with RGB data ([0..1] for floats or [0..255] for integers).\n"
     ]
    },
    {
     "data": {
      "image/png": "[encoded data removed]",
      "text/plain": [
       "<Figure size 640x480 with 1 Axes>"
      ]
     },
     "metadata": {},
     "output_type": "display_data"
    },
    {
     "name": "stdout",
     "output_type": "stream",
     "text": [
      "1/1 [==============================] - 0s 336ms/step\n",
      "[0 0 1 0 0 0 0 0 0 0 0 0 0 0 0 0 0 0 0 0 0 0 0 0 0]\n",
      "[[0. 0. 1. 0. 0. 0. 0. 0. 0. 0. 0. 0. 0. 0. 0. 0. 0. 0. 0. 0. 0. 0. 0. 0.\n",
      "  0.]]\n"
     ]
    }
   ],
   "source": [
    "from matplotlib import pyplot as plt\n",
    "image = x_train[65:66,:,:]#.transpose(2 , 0 ,1)\n",
    "plt.imshow(image[0].reshape((32,32,3)))\n",
    "plt.show()\n",
    "#y = model.predict_classes(image)\n",
    "y = (model.predict(image) > 0.5).astype(\"int32\")\n",
    "print(y[0])\n",
    "print(y_train[65:66])"
   ]
  },
  {
   "cell_type": "code",
   "execution_count": null,
   "metadata": {
    "execution": {
     "iopub.status.busy": "2023-07-01T21:00:36.475059Z",
     "iopub.status.idle": "2023-07-01T21:00:36.475778Z",
     "shell.execute_reply": "2023-07-01T21:00:36.475543Z",
     "shell.execute_reply.started": "2023-07-01T21:00:36.475522Z"
    }
   },
   "outputs": [],
   "source": [
    "image[0].reshape((32,32)).shape"
   ]
  },
  {
   "cell_type": "code",
   "execution_count": null,
   "metadata": {
    "execution": {
     "iopub.status.busy": "2023-07-01T21:00:36.477038Z",
     "iopub.status.idle": "2023-07-01T21:00:36.477717Z",
     "shell.execute_reply": "2023-07-01T21:00:36.477507Z",
     "shell.execute_reply.started": "2023-07-01T21:00:36.477484Z"
    }
   },
   "outputs": [],
   "source": [
    "import numpy\n",
    "x = numpy.where(gray_train_labels == 2)"
   ]
  }
 ],
 "metadata": {
  "kernelspec": {
   "display_name": "Python 3 (ipykernel)",
   "language": "python",
   "name": "python3"
  },
  "language_info": {
   "codemirror_mode": {
    "name": "ipython",
    "version": 3
   },
   "file_extension": ".py",
   "mimetype": "text/x-python",
   "name": "python",
   "nbconvert_exporter": "python",
   "pygments_lexer": "ipython3",
   "version": "3.10.9"
  }
 },
 "nbformat": 4,
 "nbformat_minor": 4
}
