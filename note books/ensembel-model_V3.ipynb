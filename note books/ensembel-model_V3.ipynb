{
 "cells": [
  {
   "cell_type": "markdown",
   "metadata": {},
   "source": [
    "# *Traffic Sign Recognizer - 99% accuracy*"
   ]
  },
  {
   "cell_type": "markdown",
   "metadata": {},
   "source": [
    "## Importing Required Libraries"
   ]
  },
  {
   "cell_type": "code",
   "execution_count": 1,
   "metadata": {
    "_cell_guid": "b1076dfc-b9ad-4769-8c92-a6c4dae69d19",
    "_uuid": "8f2839f25d086af736a60e9eeb907d3b93b6e0e5",
    "tags": []
   },
   "outputs": [],
   "source": [
    "import numpy as np\n",
    "import pandas as pd\n",
    "import os\n",
    "import cv2\n",
    "import matplotlib.pyplot as plt\n",
    "import tensorflow as tf\n",
    "from tensorflow import keras\n",
    "from PIL import Image\n",
    "from sklearn.model_selection import train_test_split\n",
    "from tensorflow.keras.preprocessing.image import ImageDataGenerator\n",
    "from tensorflow.keras.optimizers import Adam\n",
    "from sklearn.metrics import classification_report\n",
    "from sklearn.metrics import accuracy_score\n",
    "from keras.models import load_model\n",
    "from sklearn.metrics import confusion_matrix\n",
    "np.random.seed(42)\n",
    "\n",
    "from matplotlib import style\n",
    "style.use('fivethirtyeight')"
   ]
  },
  {
   "cell_type": "markdown",
   "metadata": {},
   "source": [
    "## Assigning Path for Dataset"
   ]
  },
  {
   "cell_type": "code",
   "execution_count": null,
   "metadata": {},
   "outputs": [],
   "source": []
  },
  {
   "cell_type": "code",
   "execution_count": 2,
   "metadata": {
    "tags": []
   },
   "outputs": [],
   "source": [
    "# data_dir = '../input/gtsrb-german-traffic-sign'\n",
    "# train_path = '../input/gtsrb-german-traffic-sign/Train'\n",
    "# test_path = '../input/gtsrb-german-traffic-sign/'\n",
    "\n",
    "# Resizing the images to 32x32x3\n",
    "IMG_HEIGHT = 32\n",
    "IMG_WIDTH = 32\n",
    "channels = 3"
   ]
  },
  {
   "cell_type": "markdown",
   "metadata": {},
   "source": [
    "## Finding Total Classes"
   ]
  },
  {
   "cell_type": "code",
   "execution_count": 3,
   "metadata": {
    "tags": []
   },
   "outputs": [],
   "source": [
    "NUM_CATEGORIES = 43"
   ]
  },
  {
   "cell_type": "code",
   "execution_count": 4,
   "metadata": {
    "tags": []
   },
   "outputs": [],
   "source": [
    "# Label Overview\n",
    "classes = { 0:'Speed limit (20km/h)',\n",
    "            1:'Speed limit (30km/h)', \n",
    "            2:'Speed limit (50km/h)', \n",
    "            3:'Speed limit (60km/h)', \n",
    "            4:'Speed limit (70km/h)', \n",
    "            5:'Speed limit (80km/h)', \n",
    "            6:'End of speed limit (80km/h)', \n",
    "            7:'Speed limit (100km/h)', \n",
    "            8:'Speed limit (120km/h)', \n",
    "            9:'No passing', \n",
    "            10:'No passing veh over 3.5 tons', \n",
    "            11:'Right-of-way at intersection', \n",
    "            12:'Priority road', \n",
    "            13:'Yield', \n",
    "            14:'Stop', \n",
    "            15:'No vehicles', \n",
    "            16:'Veh > 3.5 tons prohibited', \n",
    "            17:'No entry', \n",
    "            18:'General caution', \n",
    "            19:'Dangerous curve left', \n",
    "            20:'Dangerous curve right', \n",
    "            21:'Double curve', \n",
    "            22:'Bumpy road', \n",
    "            23:'Slippery road', \n",
    "            24:'Road narrows on the right', \n",
    "            25:'Road work', \n",
    "            26:'Traffic signals', \n",
    "            27:'Pedestrians', \n",
    "            28:'Children crossing', \n",
    "            29:'Bicycles crossing', \n",
    "            30:'Beware of ice/snow',\n",
    "            31:'Wild animals crossing', \n",
    "            32:'End speed + passing limits', \n",
    "            33:'Turn right ahead', \n",
    "            34:'Turn left ahead', \n",
    "            35:'Ahead only', \n",
    "            36:'Go straight or right', \n",
    "            37:'Go straight or left', \n",
    "            38:'Keep right', \n",
    "            39:'Keep left', \n",
    "            40:'Roundabout mandatory', \n",
    "            41:'End of no passing', \n",
    "            42:'End no passing veh > 3.5 tons' }"
   ]
  },
  {
   "cell_type": "markdown",
   "metadata": {},
   "source": [
    "## Collecting the Training Data"
   ]
  },
  {
   "cell_type": "code",
   "execution_count": null,
   "metadata": {
    "tags": []
   },
   "outputs": [],
   "source": [
    "# image_data = []\n",
    "# image_labels = []\n",
    "\n",
    "# for i in range(NUM_CATEGORIES):\n",
    "#     path = data_dir + '/Train/' + str(i)\n",
    "#     images = os.listdir(path)\n",
    "\n",
    "#     for img in images:\n",
    "#         try:\n",
    "#             image = cv2.imread(path + '/' + img)\n",
    "#             image_fromarray = Image.fromarray(image, 'RGB')\n",
    "#             resize_image = image_fromarray.resize((IMG_HEIGHT, IMG_WIDTH))\n",
    "#             image_data.append(np.array(resize_image))\n",
    "#             image_labels.append(i)\n",
    "#         except:\n",
    "#             print(\"Error in \" + img)\n",
    "\n",
    "# # Changing the list to numpy array\n",
    "# image_data = np.array(image_data)\n",
    "# image_labels = np.array(image_labels)\n",
    "\n",
    "# print(image_data.shape, image_labels.shape)"
   ]
  },
  {
   "cell_type": "code",
   "execution_count": 10,
   "metadata": {
    "tags": []
   },
   "outputs": [],
   "source": [
    "# Opening file for reading in binary mode\n",
    "import pickle\n",
    "with open('D:\\Project\\Traffic Sign Detection\\DATABASE/data3.pickle', 'rb') as f:\n",
    "    image_data = pickle.load(f, encoding='latin1')  # dictionary type\n",
    "    \n",
    "    \n",
    "# Making channels come at the end\n",
    "image_data['x_train'] = image_data['x_train'].transpose(0, 2, 3, 1)\n",
    "image_data['x_validation'] = image_data['x_validation'].transpose(0, 2, 3, 1)\n",
    "image_data['x_test'] = image_data['x_test'].transpose(0, 2, 3, 1)\n",
    "\n",
    "X_train = image_data['x_train']\n",
    "X_test = image_data['x_test']\n",
    "X_valid = image_data['x_validation']\n",
    "y_train = image_data['y_train']\n",
    "y_test = image_data['y_test']\n",
    "y_valid = image_data['y_validation']"
   ]
  },
  {
   "cell_type": "code",
   "execution_count": 11,
   "metadata": {
    "tags": []
   },
   "outputs": [],
   "source": [
    "with open('D:\\Project\\Traffic Sign Detection\\DATABASE/data8.pickle', 'rb') as f:\n",
    "    gray_data = pickle.load(f, encoding='latin1')  # dictionary type\n",
    "    \n",
    "    \n",
    "# Making channels come at the end\n",
    "gray_data['x_train'] = gray_data['x_train'].transpose(0, 2, 3, 1)\n",
    "gray_data['x_validation'] = gray_data['x_validation'].transpose(0, 2, 3, 1)\n",
    "gray_data['x_test'] = gray_data['x_test'].transpose(0, 2, 3, 1)\n",
    "\n",
    "gray_train_imgs = gray_data['x_train']\n",
    "gray_test_imgs = gray_data['x_test']\n",
    "gray_valid_imgs = gray_data['x_validation']\n",
    "gray_train_labels = gray_data['y_train']\n",
    "gray_test_labels = gray_data['y_test']\n",
    "gray_valid_labels = gray_data['y_validation']"
   ]
  },
  {
   "cell_type": "code",
   "execution_count": 12,
   "metadata": {
    "tags": []
   },
   "outputs": [],
   "source": [
    "# gray_train_labels[gray_train_labels <= 10] = 0 #cycle\n",
    "# gray_train_labels[gray_train_labels >= 32] = 0 #cycle\n",
    "# gray_train_labels[(gray_train_labels == 15) |(gray_train_labels == 16)| (gray_train_labels ==17)] = 0 #cycle\n",
    "# gray_train_labels[(gray_train_labels >= 18) & (gray_train_labels <= 31)] = 1 #triangle\n",
    "# gray_train_labels[(gray_train_labels == 13) | (gray_train_labels == 11)] = 1 #triangle\n",
    "# gray_train_labels[gray_train_labels == 14] = 2 # 6\n",
    "# gray_train_labels[gray_train_labels == 12] = 3 # 4\n",
    "\n",
    "\n",
    "gray_test_labels[gray_test_labels <= 10] = 0 #cycle\n",
    "gray_test_labels[gray_test_labels >= 32] = 0 #cycle\n",
    "gray_test_labels[(gray_test_labels == 15) |(gray_test_labels == 16)| (gray_test_labels ==17)] = 0 #cycle\n",
    "gray_test_labels[(gray_test_labels >= 18) & (gray_test_labels <= 31)] = 1 #triangle\n",
    "gray_test_labels[(gray_test_labels == 13) | (gray_test_labels == 11)] = 1 #triangle\n",
    "gray_test_labels[gray_test_labels == 14] = 2 # 6\n",
    "gray_test_labels[gray_test_labels == 12] = 3 # 4\n",
    "\n",
    "# gray_valid_labels[gray_valid_labels <= 10] = 0 #cycle\n",
    "# gray_valid_labels[gray_valid_labels >= 32] = 0 #cycle\n",
    "# gray_valid_labels[(gray_valid_labels == 15) |(gray_valid_labels == 16)| (gray_valid_labels ==17)] = 0 #cycle\n",
    "# gray_valid_labels[(gray_valid_labels >= 18) & (gray_valid_labels <= 31)] = 1 #triangle\n",
    "# gray_valid_labels[(gray_valid_labels == 13) | (gray_valid_labels == 11)] = 1 #triangle\n",
    "# gray_valid_labels[gray_valid_labels == 14] = 2 # 6\n",
    "# gray_valid_labels[gray_valid_labels == 12] = 3 # 4"
   ]
  },
  {
   "cell_type": "code",
   "execution_count": 13,
   "metadata": {
    "tags": []
   },
   "outputs": [],
   "source": [
    "# gray_x_train = gray_train_imgs\n",
    "gray_x_test = gray_test_imgs\n",
    "# gray_x_valid = gray_valid_imgs\n",
    "\n",
    "# # Normalization\n",
    "# x_train = x_train / 255\n",
    "# x_test = x_test / 255\n",
    "\n",
    "num_class_shape = 4\n",
    "\n",
    "# One Hot Encoding\n",
    "# gray_y_train = keras.utils.to_categorical(gray_train_labels, num_class_shape)\n",
    "gray_y_test = keras.utils.to_categorical(gray_test_labels, num_class_shape)\n",
    "# gray_y_valid = keras.utils.to_categorical(gray_valid_labels, num_class_shape)"
   ]
  },
  {
   "cell_type": "markdown",
   "metadata": {
    "execution": {
     "iopub.execute_input": "2023-07-08T20:26:51.417137Z",
     "iopub.status.busy": "2023-07-08T20:26:51.416579Z",
     "iopub.status.idle": "2023-07-08T20:26:51.421295Z",
     "shell.execute_reply": "2023-07-08T20:26:51.420182Z",
     "shell.execute_reply.started": "2023-07-08T20:26:51.417088Z"
    }
   },
   "source": [
    "## Collecting the Test Data"
   ]
  },
  {
   "cell_type": "code",
   "execution_count": null,
   "metadata": {
    "tags": []
   },
   "outputs": [],
   "source": [
    "# test = pd.read_csv(data_dir + '/Test.csv')\n",
    "\n",
    "# y_test = test[\"ClassId\"].values\n",
    "# imgs = test[\"Path\"].values\n",
    "\n",
    "# data =[]\n",
    "\n",
    "# for img in imgs:\n",
    "#     try:\n",
    "#         image = cv2.imread(data_dir + '/' +img)\n",
    "#         image_fromarray = Image.fromarray(image, 'RGB')\n",
    "#         resize_image = image_fromarray.resize((IMG_HEIGHT, IMG_WIDTH))\n",
    "#         data.append(np.array(resize_image))\n",
    "#     except:\n",
    "#         print(\"Error in \" + img)\n",
    "# X_test = np.array(data)\n",
    "# X_test = X_test/255"
   ]
  },
  {
   "cell_type": "markdown",
   "metadata": {},
   "source": [
    "## Shuffling the training data"
   ]
  },
  {
   "cell_type": "code",
   "execution_count": null,
   "metadata": {
    "tags": []
   },
   "outputs": [],
   "source": [
    "# shuffle_indexes = np.arange(image_data.shape[0])\n",
    "# np.random.shuffle(shuffle_indexes)\n",
    "# image_data = image_data[shuffle_indexes]\n",
    "# image_labels = image_labels[shuffle_indexes]"
   ]
  },
  {
   "cell_type": "markdown",
   "metadata": {},
   "source": [
    "## Splitting the data into train and validation set"
   ]
  },
  {
   "cell_type": "code",
   "execution_count": null,
   "metadata": {},
   "outputs": [],
   "source": []
  },
  {
   "cell_type": "code",
   "execution_count": null,
   "metadata": {
    "tags": []
   },
   "outputs": [],
   "source": [
    "# X_train, X_valid, y_train, y_valid = train_test_split(image_data, image_labels, test_size=0.3, random_state=42, shuffle=True)\n",
    "\n",
    "# X_train = X_train/255 \n",
    "# X_valid = X_valid/255\n",
    "\n",
    "# print(\"X_train.shape\", X_train.shape)\n",
    "# print(\"X_valid.shape\", X_valid.shape)\n",
    "# print(\"y_train.shape\", y_train.shape)\n",
    "# print(\"y_valid.shape\", y_val.shape)"
   ]
  },
  {
   "cell_type": "code",
   "execution_count": 14,
   "metadata": {
    "tags": []
   },
   "outputs": [],
   "source": [
    "y_test = image_data['y_test']\n",
    "\n",
    "A = np.array(np.where(y_train >= 18))\n",
    "A = np.concatenate((A ,np.where(y_train == 13)), axis = 1)\n",
    "A = np.concatenate((A ,np.where(y_train == 11)), axis = 1)\n",
    "B = np.array(np.where(y_train > 31))\n",
    "indx = np.setdiff1d(A, B)\n",
    "\n",
    "A = np.array(np.where(y_test >= 18)) \n",
    "A = np.concatenate((A ,np.where(y_test == 13)), axis = 1)\n",
    "A = np.concatenate((A ,np.where(y_test == 11)), axis = 1)\n",
    "B = np.array(np.where(y_test > 31))\n",
    "indx1 = np.setdiff1d(A, B)\n",
    "\n",
    "A = np.array(np.where(y_valid >= 18)) \n",
    "A = np.concatenate((A ,np.where(y_valid == 13)), axis = 1)\n",
    "A = np.concatenate((A ,np.where(y_valid == 11)), axis = 1)\n",
    "B = np.array(np.where(y_valid > 31))\n",
    "indx2 = np.setdiff1d(A, B)\n",
    "\n",
    "# tri_X_train = X_train[indx]\n",
    "tri_X_test = X_test[indx1]\n",
    "# tri_X_valid = X_valid[indx2]\n",
    "# tri_y_train = y_train[indx]\n",
    "tri_y_test = y_test[indx1]\n",
    "# tri_y_valid = y_valid[indx2]"
   ]
  },
  {
   "cell_type": "code",
   "execution_count": 15,
   "metadata": {
    "tags": []
   },
   "outputs": [],
   "source": [
    "tri_Dict = {11:0 , 13:1 , 18:2 , 19:3 , 20:4 , 21:5 , 22:6 , 23:7 , 24:8 , 25:9 , 26:10 , 27:11 , 28:12 , 29:13 , 30:14 , 31:15 }\n",
    "# tri_y_train = np.vectorize(tri_Dict.get)(tri_y_train)\n",
    "# tri_y_test = np.vectorize(tri_Dict.get)(tri_y_test)\n",
    "# tri_y_valid = np.vectorize(tri_Dict.get)(tri_y_valid)\n",
    "tri_num_class = 16"
   ]
  },
  {
   "cell_type": "code",
   "execution_count": 16,
   "metadata": {
    "tags": []
   },
   "outputs": [],
   "source": [
    "indx = np.array(np.where(y_train <= 10)) #cycle\n",
    "indx = np.concatenate((indx ,np.where(y_train >= 32)), axis = 1) #cycle\n",
    "indx = np.concatenate((indx ,np.where(y_train == 15)), axis = 1) #cycle\n",
    "indx = np.concatenate((indx ,np.where(y_train == 16)), axis = 1) #cycle\n",
    "indx = np.concatenate((indx ,np.where(y_train == 17)), axis = 1) #cycle\n",
    "\n",
    "indx1 = np.array(np.where(y_test <= 10)) #cycle\n",
    "indx1 = np.concatenate((indx1 ,np.where(y_test >= 32)), axis = 1) #cycle\n",
    "indx1 = np.concatenate((indx1 ,np.where(y_test == 15)), axis = 1) #cycle\n",
    "indx1 = np.concatenate((indx1 ,np.where(y_test == 16)), axis = 1) #cycle\n",
    "indx1 = np.concatenate((indx1 ,np.where(y_test == 17)), axis = 1) #cycle\n",
    "\n",
    "indx2 = np.array(np.where(y_valid <= 10)) #cycle\n",
    "indx2 = np.concatenate((indx2 ,np.where(y_valid >= 32)), axis = 1) #cycle\n",
    "indx2 = np.concatenate((indx2 ,np.where(y_valid == 15)), axis = 1) #cycle\n",
    "indx2 = np.concatenate((indx2 ,np.where(y_valid == 16)), axis = 1) #cycle\n",
    "indx2 = np.concatenate((indx2 ,np.where(y_valid == 17)), axis = 1) #cycle\n",
    "\n",
    "cycle_X_train = X_train[indx]\n",
    "cycle_X_test = X_test[indx1]\n",
    "cycle_X_valid = X_valid[indx2]\n",
    "cycle_y_train = y_train[indx]\n",
    "cycle_y_test = y_test[indx1]\n",
    "cycle_y_valid = y_valid[indx2]"
   ]
  },
  {
   "cell_type": "code",
   "execution_count": 17,
   "metadata": {
    "tags": []
   },
   "outputs": [],
   "source": [
    "cy_Dict = {0:0 ,1:1 ,2:2, 3:3 , 4:4 , 5:5 , 6:6 , 7:7 , 8:8 , 9:9 ,10:10 ,11:15 , 12:16 , 13:17 , 14:32 , 15:33 , 16:34 , 17:35 , 18:36 , 19:37 , 20:38 , 21:39 , 22:40 , 23:41 , 24:42 }\n",
    "# cycle_y_train = np.vectorize(cy_Dict.get)(cycle_y_train)\n",
    "cycle_y_test = np.vectorize(cy_Dict.get)(cycle_y_test)\n",
    "# cycle_y_valid = np.vectorize(cy_Dict.get)(cycle_y_valid)\n",
    "cy_num_class = 25\n"
   ]
  },
  {
   "cell_type": "markdown",
   "metadata": {},
   "source": [
    "## One hot encoding the labels"
   ]
  },
  {
   "cell_type": "code",
   "execution_count": 18,
   "metadata": {
    "tags": []
   },
   "outputs": [
    {
     "name": "stdout",
     "output_type": "stream",
     "text": [
      "(86989,)\n",
      "(4410,)\n"
     ]
    }
   ],
   "source": [
    "import keras\n",
    "# y_train = keras.utils.to_categorical(y_train, NUM_CATEGORIES)\n",
    "# y_valid = keras.utils.to_categorical(y_valid, NUM_CATEGORIES)\n",
    "# y_test = keras.utils.to_categorical(y_test, NUM_CATEGORIES)\n",
    "\n",
    "# cycle_y_train = keras.utils.to_categorical(cycle_y_train, cy_num_class)\n",
    "# cycle_y_valid = keras.utils.to_categorical(cycle_y_valid, cy_num_class)\n",
    "# tri_y_train = keras.utils.to_categorical(tri_y_train, tri_num_class)\n",
    "# tri_y_valid = keras.utils.to_categorical(tri_y_valid, tri_num_class)\n",
    "\n",
    "\n",
    "print(y_train.shape)\n",
    "print(y_valid.shape)"
   ]
  },
  {
   "cell_type": "markdown",
   "metadata": {},
   "source": [
    "## Ensemble Model"
   ]
  },
  {
   "cell_type": "code",
   "execution_count": 48,
   "metadata": {
    "tags": []
   },
   "outputs": [],
   "source": [
    "cy_model = load_model('D:\\\\Project\\\\Traffic Sign Detection\\\\TrainedMOdel\\\\cycle_classifier_model_acc98.h5')\n",
    "tri_model = load_model('D:\\\\Project\\\\Traffic Sign Detection\\\\TrainedMOdel\\\\tri_classifier_model_acc96.h5')\n",
    "shape_classifier = load_model( \"D:\\\\Project\\\\Traffic Sign Detection\\\\TrainedMOdel\\\\shape_classifier_model (2).h5\")"
   ]
  },
  {
   "cell_type": "code",
   "execution_count": 49,
   "metadata": {
    "tags": []
   },
   "outputs": [
    {
     "name": "stdout",
     "output_type": "stream",
     "text": [
      "395/395 [==============================] - 2s 4ms/step\n",
      "[[0 1 0 0]\n",
      " [0 1 0 0]\n",
      " [1 0 0 0]\n",
      " ...\n",
      " [1 0 0 0]\n",
      " [1 0 0 0]\n",
      " [1 0 0 0]]\n"
     ]
    }
   ],
   "source": [
    "predictions = shape_classifier.predict(gray_x_test)\n",
    "predictions = (predictions > 0.5).astype(\"int32\")\n",
    "print(predictions)\n"
   ]
  },
  {
   "cell_type": "code",
   "execution_count": 60,
   "metadata": {
    "tags": []
   },
   "outputs": [],
   "source": [
    "tri_y_test = []\n",
    "not_tri = []\n",
    "# cycle_indx = np.where(shapes == 0)\n",
    "triangle_indx = np.where(predictions[:,1] == 1)\n",
    "\n",
    "tri1_y_test = y_test[triangle_indx]\n",
    "\n",
    "for i in range(0 ,tri1_y_test.shape[0]):\n",
    "    try:\n",
    "        tri_y_test.append( tri_Dict[tri1_y_test[i]])\n",
    "\n",
    "    except:\n",
    "        not_tri.append(i)\n",
    "\n",
    "tri_y_test = np.array(tri_y_test)\n",
    "not_tri = np.array(not_tri)\n",
    "# num_not_tri = tri_y_test[]\n",
    "tri_labels = keras.utils.to_categorical(tri_y_test, 16)\n",
    "tri_index = np.delete(triangle_indx , not_tri)"
   ]
  },
  {
   "cell_type": "code",
   "execution_count": 42,
   "metadata": {
    "tags": []
   },
   "outputs": [
    {
     "name": "stdout",
     "output_type": "stream",
     "text": [
      "[10  6 38 12 12 38 12  3 10 38 38 12 38 38  5 38 40 40 38 10 12 38 38  5\n",
      " 38  1 12 12 12 38 12 12 12 12]\n"
     ]
    }
   ],
   "source": [
    "print(tri1_y_test[not_tri])"
   ]
  },
  {
   "cell_type": "code",
   "execution_count": 61,
   "metadata": {
    "tags": []
   },
   "outputs": [
    {
     "name": "stderr",
     "output_type": "stream",
     "text": [
      "Clipping input data to the valid range for imshow with RGB data ([0..1] for floats or [0..255] for integers).\n",
      "C:\\Users\\Maryk\\AppData\\Local\\Temp\\ipykernel_15608\\2437081918.py:5: MatplotlibDeprecationWarning: The 'b' parameter of grid() has been renamed 'visible' since Matplotlib 3.5; support for the old name will be dropped two minor releases later.\n",
      "  plt.grid(b=None)\n",
      "Clipping input data to the valid range for imshow with RGB data ([0..1] for floats or [0..255] for integers).\n",
      "Clipping input data to the valid range for imshow with RGB data ([0..1] for floats or [0..255] for integers).\n",
      "Clipping input data to the valid range for imshow with RGB data ([0..1] for floats or [0..255] for integers).\n",
      "Clipping input data to the valid range for imshow with RGB data ([0..1] for floats or [0..255] for integers).\n",
      "Clipping input data to the valid range for imshow with RGB data ([0..1] for floats or [0..255] for integers).\n",
      "Clipping input data to the valid range for imshow with RGB data ([0..1] for floats or [0..255] for integers).\n",
      "Clipping input data to the valid range for imshow with RGB data ([0..1] for floats or [0..255] for integers).\n",
      "Clipping input data to the valid range for imshow with RGB data ([0..1] for floats or [0..255] for integers).\n",
      "Clipping input data to the valid range for imshow with RGB data ([0..1] for floats or [0..255] for integers).\n",
      "Clipping input data to the valid range for imshow with RGB data ([0..1] for floats or [0..255] for integers).\n",
      "Clipping input data to the valid range for imshow with RGB data ([0..1] for floats or [0..255] for integers).\n",
      "Clipping input data to the valid range for imshow with RGB data ([0..1] for floats or [0..255] for integers).\n",
      "Clipping input data to the valid range for imshow with RGB data ([0..1] for floats or [0..255] for integers).\n",
      "Clipping input data to the valid range for imshow with RGB data ([0..1] for floats or [0..255] for integers).\n",
      "Clipping input data to the valid range for imshow with RGB data ([0..1] for floats or [0..255] for integers).\n",
      "Clipping input data to the valid range for imshow with RGB data ([0..1] for floats or [0..255] for integers).\n",
      "Clipping input data to the valid range for imshow with RGB data ([0..1] for floats or [0..255] for integers).\n",
      "Clipping input data to the valid range for imshow with RGB data ([0..1] for floats or [0..255] for integers).\n",
      "Clipping input data to the valid range for imshow with RGB data ([0..1] for floats or [0..255] for integers).\n",
      "Clipping input data to the valid range for imshow with RGB data ([0..1] for floats or [0..255] for integers).\n",
      "Clipping input data to the valid range for imshow with RGB data ([0..1] for floats or [0..255] for integers).\n",
      "Clipping input data to the valid range for imshow with RGB data ([0..1] for floats or [0..255] for integers).\n",
      "Clipping input data to the valid range for imshow with RGB data ([0..1] for floats or [0..255] for integers).\n",
      "Clipping input data to the valid range for imshow with RGB data ([0..1] for floats or [0..255] for integers).\n",
      "Clipping input data to the valid range for imshow with RGB data ([0..1] for floats or [0..255] for integers).\n",
      "Clipping input data to the valid range for imshow with RGB data ([0..1] for floats or [0..255] for integers).\n",
      "Clipping input data to the valid range for imshow with RGB data ([0..1] for floats or [0..255] for integers).\n",
      "Clipping input data to the valid range for imshow with RGB data ([0..1] for floats or [0..255] for integers).\n",
      "Clipping input data to the valid range for imshow with RGB data ([0..1] for floats or [0..255] for integers).\n",
      "Clipping input data to the valid range for imshow with RGB data ([0..1] for floats or [0..255] for integers).\n",
      "Clipping input data to the valid range for imshow with RGB data ([0..1] for floats or [0..255] for integers).\n",
      "Clipping input data to the valid range for imshow with RGB data ([0..1] for floats or [0..255] for integers).\n",
      "Clipping input data to the valid range for imshow with RGB data ([0..1] for floats or [0..255] for integers).\n"
     ]
    },
    {
     "data": {
      "image/png": "[encoded data removed]",
      "text/plain": [
       "<Figure size 640x480 with 34 Axes>"
      ]
     },
     "metadata": {},
     "output_type": "display_data"
    }
   ],
   "source": [
    "\n",
    "for i in range(1 , not_tri.shape[0]+1):\n",
    "    plt.subplot(7,5,i)\n",
    "    img = X_test[triangle_indx[0][not_tri[i - 1]]]\n",
    "    plt.imshow(img)\n",
    "    plt.grid(b=None)\n"
   ]
  },
  {
   "cell_type": "code",
   "execution_count": 62,
   "metadata": {
    "tags": []
   },
   "outputs": [
    {
     "name": "stdout",
     "output_type": "stream",
     "text": [
      "110/110 [==============================] - 1s 6ms/step\n",
      "tri Test Data accuracy:  95.55240793201133\n"
     ]
    }
   ],
   "source": [
    "tri_index = np.delete(triangle_indx , not_tri)\n",
    "\n",
    "tri_class = tri_model.predict(X_test[tri_index])\n",
    "tri_class = (tri_class > 0.5).astype(\"int32\")\n",
    "\n",
    "tri_acc = accuracy_score(tri_labels, tri_class)\n",
    "\n",
    "# cy_class = cy_aug_model.predict_classes(X_test[cycle_indx])\n",
    "# cy_acc = accuracy_score(y_test[cycle_indx], cy_class)\n",
    "\n",
    "real_tri_acc = tri_acc * tri_y_test.shape[0] / len(triangle_indx[0])\n",
    "print('tri Test Data accuracy: ',real_tri_acc * 100 )"
   ]
  },
  {
   "cell_type": "code",
   "execution_count": null,
   "metadata": {},
   "outputs": [],
   "source": [
    "pred = np.zeros((y_test.shape))\n",
    "cir_indx = np.where(predictions[:,0] == 1)\n",
    "cir_pred = cy_model.predict(X_test[cir_indx])\n",
    "cir_pred = np.vectorize(cy_Dict.get)(cir_pred)\n",
    "pred[] = "
   ]
  },
  {
   "cell_type": "code",
   "execution_count": 63,
   "metadata": {
    "tags": []
   },
   "outputs": [
    {
     "name": "stdout",
     "output_type": "stream",
     "text": [
      "254/254 [==============================] - 1s 4ms/step\n",
      "cy Test Data accuracy:  97.39736070381232\n"
     ]
    }
   ],
   "source": [
    "cy_y_test = []\n",
    "not_cy = []\n",
    "# cycle_indx = np.where(shapes == 0)\n",
    "cycle_indx = np.where(predictions[:,0] == 1)\n",
    "\n",
    "cy1_y_test = y_test[cycle_indx]\n",
    "\n",
    "for i in range(0 ,cy1_y_test.shape[0]):\n",
    "    try:\n",
    "        cy_y_test.append( cy_Dict[cy1_y_test[i]])\n",
    "\n",
    "    except:\n",
    "        not_cy.append(i)\n",
    "\n",
    "cy_y_test = np.array(cy_y_test)\n",
    "not_cy = np.array(not_cy)\n",
    "# num_not_cy = cy_y_test[]\n",
    "cy_labels = keras.utils.to_categorical(cy_y_test,25)\n",
    "cy_index = np.delete(cycle_indx , not_cy)\n",
    "\n",
    "cy_class = cy_model.predict(X_test[cy_index])\n",
    "cy_class = (cy_class > 0.5).astype(\"int32\")\n",
    "\n",
    "\n",
    "cy_acc = accuracy_score(cy_labels, cy_class)\n",
    "\n",
    "# cy_class = cy_aug_model.predict_classes(X_test[cycle_indx])\n",
    "# cy_acc = accuracy_score(y_test[cycle_indx], cy_class)\n",
    "real_cy_acc = cy_acc * cy_y_test.shape[0] / len(cycle_indx[0])\n",
    "print('cy Test Data accuracy: ',real_cy_acc * 100 )"
   ]
  },
  {
   "cell_type": "code",
   "execution_count": 40,
   "metadata": {
    "tags": []
   },
   "outputs": [
    {
     "name": "stdout",
     "output_type": "stream",
     "text": [
      "(59,)\n"
     ]
    }
   ],
   "source": [
    "print(not_cy.shape)"
   ]
  },
  {
   "cell_type": "code",
   "execution_count": 65,
   "metadata": {
    "tags": []
   },
   "outputs": [
    {
     "name": "stderr",
     "output_type": "stream",
     "text": [
      "Clipping input data to the valid range for imshow with RGB data ([0..1] for floats or [0..255] for integers).\n",
      "C:\\Users\\Maryk\\AppData\\Local\\Temp\\ipykernel_15608\\1991425092.py:5: MatplotlibDeprecationWarning: The 'b' parameter of grid() has been renamed 'visible' since Matplotlib 3.5; support for the old name will be dropped two minor releases later.\n",
      "  plt.grid(b=None)\n",
      "Clipping input data to the valid range for imshow with RGB data ([0..1] for floats or [0..255] for integers).\n",
      "Clipping input data to the valid range for imshow with RGB data ([0..1] for floats or [0..255] for integers).\n",
      "Clipping input data to the valid range for imshow with RGB data ([0..1] for floats or [0..255] for integers).\n",
      "Clipping input data to the valid range for imshow with RGB data ([0..1] for floats or [0..255] for integers).\n",
      "Clipping input data to the valid range for imshow with RGB data ([0..1] for floats or [0..255] for integers).\n",
      "Clipping input data to the valid range for imshow with RGB data ([0..1] for floats or [0..255] for integers).\n",
      "Clipping input data to the valid range for imshow with RGB data ([0..1] for floats or [0..255] for integers).\n",
      "Clipping input data to the valid range for imshow with RGB data ([0..1] for floats or [0..255] for integers).\n",
      "Clipping input data to the valid range for imshow with RGB data ([0..1] for floats or [0..255] for integers).\n",
      "Clipping input data to the valid range for imshow with RGB data ([0..1] for floats or [0..255] for integers).\n",
      "Clipping input data to the valid range for imshow with RGB data ([0..1] for floats or [0..255] for integers).\n",
      "Clipping input data to the valid range for imshow with RGB data ([0..1] for floats or [0..255] for integers).\n",
      "Clipping input data to the valid range for imshow with RGB data ([0..1] for floats or [0..255] for integers).\n",
      "Clipping input data to the valid range for imshow with RGB data ([0..1] for floats or [0..255] for integers).\n",
      "Clipping input data to the valid range for imshow with RGB data ([0..1] for floats or [0..255] for integers).\n",
      "Clipping input data to the valid range for imshow with RGB data ([0..1] for floats or [0..255] for integers).\n",
      "Clipping input data to the valid range for imshow with RGB data ([0..1] for floats or [0..255] for integers).\n",
      "Clipping input data to the valid range for imshow with RGB data ([0..1] for floats or [0..255] for integers).\n",
      "Clipping input data to the valid range for imshow with RGB data ([0..1] for floats or [0..255] for integers).\n",
      "Clipping input data to the valid range for imshow with RGB data ([0..1] for floats or [0..255] for integers).\n",
      "Clipping input data to the valid range for imshow with RGB data ([0..1] for floats or [0..255] for integers).\n",
      "Clipping input data to the valid range for imshow with RGB data ([0..1] for floats or [0..255] for integers).\n",
      "Clipping input data to the valid range for imshow with RGB data ([0..1] for floats or [0..255] for integers).\n",
      "Clipping input data to the valid range for imshow with RGB data ([0..1] for floats or [0..255] for integers).\n",
      "Clipping input data to the valid range for imshow with RGB data ([0..1] for floats or [0..255] for integers).\n",
      "Clipping input data to the valid range for imshow with RGB data ([0..1] for floats or [0..255] for integers).\n",
      "Clipping input data to the valid range for imshow with RGB data ([0..1] for floats or [0..255] for integers).\n",
      "Clipping input data to the valid range for imshow with RGB data ([0..1] for floats or [0..255] for integers).\n",
      "Clipping input data to the valid range for imshow with RGB data ([0..1] for floats or [0..255] for integers).\n",
      "Clipping input data to the valid range for imshow with RGB data ([0..1] for floats or [0..255] for integers).\n",
      "Clipping input data to the valid range for imshow with RGB data ([0..1] for floats or [0..255] for integers).\n",
      "Clipping input data to the valid range for imshow with RGB data ([0..1] for floats or [0..255] for integers).\n",
      "Clipping input data to the valid range for imshow with RGB data ([0..1] for floats or [0..255] for integers).\n",
      "Clipping input data to the valid range for imshow with RGB data ([0..1] for floats or [0..255] for integers).\n",
      "Clipping input data to the valid range for imshow with RGB data ([0..1] for floats or [0..255] for integers).\n",
      "Clipping input data to the valid range for imshow with RGB data ([0..1] for floats or [0..255] for integers).\n",
      "Clipping input data to the valid range for imshow with RGB data ([0..1] for floats or [0..255] for integers).\n",
      "Clipping input data to the valid range for imshow with RGB data ([0..1] for floats or [0..255] for integers).\n",
      "Clipping input data to the valid range for imshow with RGB data ([0..1] for floats or [0..255] for integers).\n",
      "Clipping input data to the valid range for imshow with RGB data ([0..1] for floats or [0..255] for integers).\n",
      "Clipping input data to the valid range for imshow with RGB data ([0..1] for floats or [0..255] for integers).\n",
      "Clipping input data to the valid range for imshow with RGB data ([0..1] for floats or [0..255] for integers).\n",
      "Clipping input data to the valid range for imshow with RGB data ([0..1] for floats or [0..255] for integers).\n",
      "Clipping input data to the valid range for imshow with RGB data ([0..1] for floats or [0..255] for integers).\n",
      "Clipping input data to the valid range for imshow with RGB data ([0..1] for floats or [0..255] for integers).\n",
      "Clipping input data to the valid range for imshow with RGB data ([0..1] for floats or [0..255] for integers).\n",
      "Clipping input data to the valid range for imshow with RGB data ([0..1] for floats or [0..255] for integers).\n",
      "Clipping input data to the valid range for imshow with RGB data ([0..1] for floats or [0..255] for integers).\n",
      "Clipping input data to the valid range for imshow with RGB data ([0..1] for floats or [0..255] for integers).\n",
      "Clipping input data to the valid range for imshow with RGB data ([0..1] for floats or [0..255] for integers).\n",
      "Clipping input data to the valid range for imshow with RGB data ([0..1] for floats or [0..255] for integers).\n",
      "Clipping input data to the valid range for imshow with RGB data ([0..1] for floats or [0..255] for integers).\n",
      "Clipping input data to the valid range for imshow with RGB data ([0..1] for floats or [0..255] for integers).\n",
      "Clipping input data to the valid range for imshow with RGB data ([0..1] for floats or [0..255] for integers).\n",
      "Clipping input data to the valid range for imshow with RGB data ([0..1] for floats or [0..255] for integers).\n",
      "Clipping input data to the valid range for imshow with RGB data ([0..1] for floats or [0..255] for integers).\n",
      "Clipping input data to the valid range for imshow with RGB data ([0..1] for floats or [0..255] for integers).\n",
      "Clipping input data to the valid range for imshow with RGB data ([0..1] for floats or [0..255] for integers).\n"
     ]
    },
    {
     "data": {
      "image/png": "[encoded data removed]",
      "text/plain": [
       "<Figure size 640x480 with 59 Axes>"
      ]
     },
     "metadata": {},
     "output_type": "display_data"
    }
   ],
   "source": [
    "\n",
    "for i in range(1 , not_cy.shape[0]+1):\n",
    "    plt.subplot(10,6,i)\n",
    "    img = X_test[cycle_indx[0][not_cy[i - 1]]]\n",
    "    plt.imshow(img)\n",
    "    plt.grid(b=None)"
   ]
  },
  {
   "cell_type": "code",
   "execution_count": 66,
   "metadata": {
    "tags": []
   },
   "outputs": [
    {
     "name": "stdout",
     "output_type": "stream",
     "text": [
      "cy Test Data accuracy:  97.39736070381232\n"
     ]
    }
   ],
   "source": [
    "real_cy_acc = cy_acc * cy_y_test.shape[0] / len(cycle_indx[0])\n",
    "print('cy Test Data accuracy: ',real_cy_acc * 100 )"
   ]
  },
  {
   "cell_type": "code",
   "execution_count": 20,
   "metadata": {
    "execution": {
     "iopub.execute_input": "2023-07-14T12:39:11.615449Z",
     "iopub.status.busy": "2023-07-14T12:39:11.614965Z",
     "iopub.status.idle": "2023-07-14T12:39:11.626794Z",
     "shell.execute_reply": "2023-07-14T12:39:11.625812Z",
     "shell.execute_reply.started": "2023-07-14T12:39:11.615420Z"
    }
   },
   "outputs": [],
   "source": [
    "def classifiy(pred ):\n",
    "    n = pred.shape[0]\n",
    "    nc = pred.shape[1]\n",
    "    new_cy_y = np.zeros((n))\n",
    "    for i in range(0 ,nc):\n",
    "        cycle_indx = np.where(pred[:,i] == 1)\n",
    "        new_cy_y[cycle_indx] = i\n",
    "    return new_cy_y"
   ]
  },
  {
   "cell_type": "code",
   "execution_count": null,
   "metadata": {
    "execution": {
     "iopub.execute_input": "2023-07-14T07:12:27.586989Z",
     "iopub.status.busy": "2023-07-14T07:12:27.586554Z",
     "iopub.status.idle": "2023-07-14T07:12:27.595315Z",
     "shell.execute_reply": "2023-07-14T07:12:27.594102Z",
     "shell.execute_reply.started": "2023-07-14T07:12:27.586950Z"
    }
   },
   "outputs": [],
   "source": [
    "print(classifiy(cy_class))"
   ]
  },
  {
   "cell_type": "code",
   "execution_count": 21,
   "metadata": {
    "execution": {
     "iopub.execute_input": "2023-07-14T12:39:19.526652Z",
     "iopub.status.busy": "2023-07-14T12:39:19.526035Z",
     "iopub.status.idle": "2023-07-14T12:39:19.547593Z",
     "shell.execute_reply": "2023-07-14T12:39:19.546395Z",
     "shell.execute_reply.started": "2023-07-14T12:39:19.526618Z"
    }
   },
   "outputs": [
    {
     "name": "stdout",
     "output_type": "stream",
     "text": [
      "12\n",
      "14\n"
     ]
    }
   ],
   "source": [
    "cy_cm = confusion_matrix(cy_y_test, classifiy(cy_class))\n",
    "tri_cm = confusion_matrix(tri_y_test, classifiy(tri_class))\n",
    "num_per_class = np.ones((43))\n",
    "acc_per_class = np.zeros((43))\n",
    "for i in range(0 , 43):\n",
    "    try:\n",
    "        ii = tri_Dict[i]\n",
    "        num_per_class[i] = len(np.where(y_test == i)[0])\n",
    "        acc_per_class[i] = tri_cm[ii , ii] / num_per_class[i]\n",
    "\n",
    "    except:\n",
    "        try:\n",
    "            ii = cy_Dict[i]\n",
    "            num_per_class[i] = len(np.where(y_test == i)[0])\n",
    "            acc_per_class[i] = cy_cm[ii , ii] / num_per_class[i]\n",
    "\n",
    "        except:\n",
    "            print(i)\n",
    "for i , j in [3 , 12],[2 , 14]:\n",
    "    pred = np.array(np.where(predictions[:,i] == 1))\n",
    "    pred = pred.reshape((pred.shape[1]))\n",
    "    true_y = np.array(np.where(y_test == j))\n",
    "    true_y = true_y.reshape((true_y.shape[1]))\n",
    "    tp = np.intersect1d(true_y , pred).shape[0]\n",
    "    num_per_class[j] = len(np.where(y_test == j)[0])\n",
    "    acc_per_class[j] =  tp / num_per_class[j]"
   ]
  },
  {
   "cell_type": "code",
   "execution_count": null,
   "metadata": {},
   "outputs": [],
   "source": [
    "\n",
    "\n"
   ]
  },
  {
   "cell_type": "code",
   "execution_count": 22,
   "metadata": {
    "execution": {
     "iopub.execute_input": "2023-07-14T12:40:41.004393Z",
     "iopub.status.busy": "2023-07-14T12:40:41.003980Z",
     "iopub.status.idle": "2023-07-14T12:40:41.010208Z",
     "shell.execute_reply": "2023-07-14T12:40:41.009214Z",
     "shell.execute_reply.started": "2023-07-14T12:40:41.004358Z"
    }
   },
   "outputs": [
    {
     "name": "stdout",
     "output_type": "stream",
     "text": [
      "0 0.9833333333333333 60.0\n",
      "1 0.9888888888888889 720.0\n",
      "2 0.9813333333333333 750.0\n",
      "3 0.98 450.0\n",
      "4 0.9712121212121212 660.0\n",
      "5 0.953968253968254 630.0\n",
      "6 0.82 150.0\n",
      "7 0.98 450.0\n",
      "8 0.9911111111111112 450.0\n",
      "9 1.0 480.0\n",
      "10 0.9848484848484849 660.0\n",
      "11 0.9714285714285714 420.0\n",
      "12 0.9507246376811594 690.0\n",
      "13 0.9930555555555556 720.0\n",
      "14 0.9111111111111111 270.0\n",
      "15 1.0 210.0\n",
      "16 0.9933333333333333 150.0\n",
      "17 0.9611111111111111 360.0\n",
      "18 0.9615384615384616 390.0\n",
      "19 1.0 60.0\n",
      "20 1.0 90.0\n",
      "21 0.6777777777777778 90.0\n",
      "22 0.9583333333333334 120.0\n",
      "23 0.9933333333333333 150.0\n",
      "24 0.9888888888888889 90.0\n",
      "25 0.9479166666666666 480.0\n",
      "26 0.8555555555555555 180.0\n",
      "27 0.9833333333333333 60.0\n",
      "28 0.9933333333333333 150.0\n",
      "29 1.0 90.0\n",
      "30 0.9133333333333333 150.0\n",
      "31 0.9925925925925926 270.0\n",
      "32 1.0 60.0\n",
      "33 1.0 210.0\n",
      "34 0.9916666666666667 120.0\n",
      "35 0.9974358974358974 390.0\n",
      "36 0.9666666666666667 120.0\n",
      "37 1.0 60.0\n",
      "38 0.9739130434782609 690.0\n",
      "39 1.0 90.0\n",
      "40 0.9777777777777777 90.0\n",
      "41 0.85 60.0\n",
      "42 0.9 90.0\n"
     ]
    }
   ],
   "source": [
    "for i in range(0 , 43):\n",
    "    print(i , acc_per_class[i] , num_per_class[i])"
   ]
  },
  {
   "cell_type": "code",
   "execution_count": 23,
   "metadata": {
    "execution": {
     "iopub.execute_input": "2023-07-14T12:42:32.989467Z",
     "iopub.status.busy": "2023-07-14T12:42:32.989070Z",
     "iopub.status.idle": "2023-07-14T12:42:32.997435Z",
     "shell.execute_reply": "2023-07-14T12:42:32.996629Z",
     "shell.execute_reply.started": "2023-07-14T12:42:32.989437Z"
    }
   },
   "outputs": [],
   "source": [
    "TP = acc_per_class * num_per_class\n",
    "\n",
    "prohibitory_indx = np.array([0 , 1 , 2 , 3 , 4 , 5 , 7 , 8 , 9 , 10 , 15 , 16])\n",
    "danger_indx = np.array([11 , 18 , 19 , 20 , 21 , 22 , 23 , 24 , 25, 26, 27, 28 , 29 , 30 , 31])\n",
    "mandatory_indx = range(33 , 40)\n",
    "other_indx = np.array([41 , 32 ,17 , 14 , 13 , 12 , 6])\n",
    "\n",
    "prohibitory = TP[prohibitory_indx].sum()\n",
    "danger = TP[danger_indx].sum()\n",
    "mandatory = TP[mandatory_indx].sum()\n",
    "other = TP[other_indx].sum()\n",
    "\n",
    "num_prohibitory = num_per_class[prohibitory_indx].sum()\n",
    "num_danger = num_per_class[danger_indx].sum()\n",
    "num_mandatory = num_per_class[mandatory_indx].sum()\n",
    "num_other = num_per_class[other_indx].sum()"
   ]
  },
  {
   "cell_type": "code",
   "execution_count": 25,
   "metadata": {
    "execution": {
     "iopub.execute_input": "2023-07-14T12:42:47.513588Z",
     "iopub.status.busy": "2023-07-14T12:42:47.513208Z",
     "iopub.status.idle": "2023-07-14T12:42:47.519621Z",
     "shell.execute_reply": "2023-07-14T12:42:47.518488Z",
     "shell.execute_reply.started": "2023-07-14T12:42:47.513554Z"
    }
   },
   "outputs": [
    {
     "name": "stdout",
     "output_type": "stream",
     "text": [
      "0.981657848324515 0.9530465949820789 0.9857142857142858 0.9510822510822511\n"
     ]
    }
   ],
   "source": [
    "acc_prohibitory = prohibitory/num_prohibitory\n",
    "acc_danger = danger/num_danger\n",
    "acc_mandatory = mandatory/num_mandatory\n",
    "acc_other = other/num_other\n",
    "\n",
    "print(acc_prohibitory , acc_danger, acc_mandatory ,acc_other)"
   ]
  },
  {
   "cell_type": "markdown",
   "metadata": {},
   "source": [
    "## Classification Reaport"
   ]
  },
  {
   "cell_type": "code",
   "execution_count": 50,
   "metadata": {
    "execution": {
     "iopub.execute_input": "2023-07-14T12:52:24.332117Z",
     "iopub.status.busy": "2023-07-14T12:52:24.331753Z",
     "iopub.status.idle": "2023-07-14T12:52:24.380408Z",
     "shell.execute_reply": "2023-07-14T12:52:24.379403Z",
     "shell.execute_reply.started": "2023-07-14T12:52:24.332090Z"
    }
   },
   "outputs": [
    {
     "name": "stderr",
     "output_type": "stream",
     "text": [
      "/opt/conda/lib/python3.10/site-packages/sklearn/metrics/_classification.py:1344: UndefinedMetricWarning: Precision and F-score are ill-defined and being set to 0.0 in samples with no predicted labels. Use `zero_division` parameter to control this behavior.\n",
      "  _warn_prf(average, modifier, msg_start, len(result))\n",
      "/opt/conda/lib/python3.10/site-packages/sklearn/metrics/_classification.py:1344: UndefinedMetricWarning: Precision and F-score are ill-defined and being set to 0.0 in samples with no predicted labels. Use `zero_division` parameter to control this behavior.\n",
      "  _warn_prf(average, modifier, msg_start, len(result))\n"
     ]
    }
   ],
   "source": [
    "a = classification_report(cy_labels, cy_class , output_dict = True)\n",
    "b = classification_report(tri_labels, tri_class , output_dict = True)\n",
    "c = classification_report(predictions , gray_y_test , output_dict = True)"
   ]
  },
  {
   "cell_type": "code",
   "execution_count": 75,
   "metadata": {
    "execution": {
     "iopub.execute_input": "2023-07-14T13:34:46.063785Z",
     "iopub.status.busy": "2023-07-14T13:34:46.063403Z",
     "iopub.status.idle": "2023-07-14T13:34:46.072478Z",
     "shell.execute_reply": "2023-07-14T13:34:46.071496Z",
     "shell.execute_reply.started": "2023-07-14T13:34:46.063752Z"
    }
   },
   "outputs": [],
   "source": [
    "reaport = np.zeros((43 , 4))\n",
    "for i in range(0 , 43):\n",
    "    try:\n",
    "        ii = tri_Dict[i]\n",
    "        dic = b[str(ii)]\n",
    "        reaport[i,:]= np.array([dic[\"precision\"] , dic[\"recall\"] , dic[\"f1-score\"] , dic[\"support\"]])\n",
    "\n",
    "    except:\n",
    "        try:\n",
    "            ii = cy_Dict[i]\n",
    "            dic = a[str(ii)]\n",
    "            reaport[i,:]= np.array([dic[\"precision\"] , dic[\"recall\"] , dic[\"f1-score\"] , dic[\"support\"]])\n",
    "        except:\n",
    "            if(i == 12):\n",
    "                dic = c[\"3\"]\n",
    "                reaport[i,:]= np.array([dic[\"precision\"] , dic[\"recall\"] , dic[\"f1-score\"] , dic[\"support\"]])\n",
    "            else :\n",
    "                dic = c[\"2\"]\n",
    "                reaport[i,:]= np.array([dic[\"precision\"] , dic[\"recall\"] , dic[\"f1-score\"] , dic[\"support\"]])"
   ]
  },
  {
   "cell_type": "code",
   "execution_count": 81,
   "metadata": {
    "collapsed": true,
    "execution": {
     "iopub.execute_input": "2023-07-14T13:40:59.690841Z",
     "iopub.status.busy": "2023-07-14T13:40:59.690471Z",
     "iopub.status.idle": "2023-07-14T13:40:59.699288Z",
     "shell.execute_reply": "2023-07-14T13:40:59.698037Z",
     "shell.execute_reply.started": "2023-07-14T13:40:59.690813Z"
    },
    "jupyter": {
     "outputs_hidden": true
    }
   },
   "outputs": [
    {
     "name": "stdout",
     "output_type": "stream",
     "text": [
      "1.0 \t 0.9833333333333333 \t 0.9915966386554621 \t 60.0\n",
      "\n",
      "\n",
      "0.9700272479564033 \t 0.9902642559109874 \t 0.9800412938747419 \t 719.0\n",
      "\n",
      "\n",
      "0.9800266311584553 \t 0.9813333333333333 \t 0.9806795469686875 \t 750.0\n",
      "\n",
      "\n",
      "0.9504310344827587 \t 0.9821826280623608 \t 0.9660460021905805 \t 449.0\n",
      "\n",
      "\n",
      "0.990726429675425 \t 0.9712121212121212 \t 0.9808722264728386 \t 660.0\n",
      "\n",
      "\n",
      "0.9724919093851133 \t 0.9570063694267515 \t 0.9646869983948635 \t 628.0\n",
      "\n",
      "\n",
      "1.0 \t 0.825503355704698 \t 0.9044117647058824 \t 149.0\n",
      "\n",
      "\n",
      "0.9910112359550561 \t 0.98 \t 0.9854748603351954 \t 450.0\n",
      "\n",
      "\n",
      "0.9911111111111112 \t 0.9911111111111112 \t 0.9911111111111112 \t 450.0\n",
      "\n",
      "\n",
      "0.9795918367346939 \t 1.0 \t 0.9896907216494846 \t 480.0\n",
      "\n",
      "\n",
      "0.9954058192955589 \t 0.989345509893455 \t 0.9923664122137404 \t 657.0\n",
      "\n",
      "\n",
      "0.9146067415730337 \t 0.9760191846522782 \t 0.9443155452436194 \t 417.0\n",
      "\n",
      "\n",
      "0.9507246376811594 \t 1.0 \t 0.974739970282318 \t 656.0\n",
      "\n",
      "\n",
      "0.99721059972106 \t 0.9986033519553073 \t 0.9979064898813679 \t 716.0\n",
      "\n",
      "\n",
      "0.9111111111111111 \t 0.9461538461538461 \t 0.9283018867924527 \t 260.0\n",
      "\n",
      "\n",
      "0.9905660377358491 \t 1.0 \t 0.9952606635071091 \t 210.0\n",
      "\n",
      "\n",
      "0.9738562091503268 \t 0.9933333333333333 \t 0.9834983498349835 \t 150.0\n",
      "\n",
      "\n",
      "1.0 \t 0.9971181556195965 \t 0.9985569985569985 \t 347.0\n",
      "\n",
      "\n",
      "0.984251968503937 \t 0.9615384615384616 \t 0.9727626459143969 \t 390.0\n",
      "\n",
      "\n",
      "0.9523809523809523 \t 1.0 \t 0.975609756097561 \t 60.0\n",
      "\n",
      "\n",
      "0.8571428571428571 \t 1.0 \t 0.923076923076923 \t 90.0\n",
      "\n",
      "\n",
      "0.9682539682539683 \t 0.6777777777777778 \t 0.7973856209150327 \t 90.0\n",
      "\n",
      "\n",
      "0.9745762711864406 \t 0.9583333333333334 \t 0.9663865546218487 \t 120.0\n",
      "\n",
      "\n",
      "0.9612903225806452 \t 0.9933333333333333 \t 0.9770491803278689 \t 150.0\n",
      "\n",
      "\n",
      "0.9888888888888889 \t 1.0 \t 0.9944134078212291 \t 89.0\n",
      "\n",
      "\n",
      "0.9701492537313433 \t 0.9538784067085954 \t 0.9619450317124736 \t 477.0\n",
      "\n",
      "\n",
      "0.9808917197452229 \t 0.8651685393258427 \t 0.9194029850746269 \t 178.0\n",
      "\n",
      "\n",
      "0.8082191780821918 \t 0.9833333333333333 \t 0.8872180451127819 \t 60.0\n",
      "\n",
      "\n",
      "0.9490445859872612 \t 0.9933333333333333 \t 0.9706840390879479 \t 150.0\n",
      "\n",
      "\n",
      "0.967741935483871 \t 1.0 \t 0.9836065573770492 \t 90.0\n",
      "\n",
      "\n",
      "0.9856115107913669 \t 0.9194630872483222 \t 0.9513888888888888 \t 149.0\n",
      "\n",
      "\n",
      "1.0 \t 0.9925925925925926 \t 0.996282527881041 \t 270.0\n",
      "\n",
      "\n",
      "0.8108108108108109 \t 1.0 \t 0.8955223880597014 \t 60.0\n",
      "\n",
      "\n",
      "0.995260663507109 \t 1.0 \t 0.997624703087886 \t 210.0\n",
      "\n",
      "\n",
      "0.967479674796748 \t 0.9916666666666667 \t 0.9794238683127573 \t 120.0\n",
      "\n",
      "\n",
      "1.0 \t 0.9974358974358974 \t 0.9987163029525032 \t 390.0\n",
      "\n",
      "\n",
      "1.0 \t 0.9666666666666667 \t 0.983050847457627 \t 120.0\n",
      "\n",
      "\n",
      "1.0 \t 1.0 \t 1.0 \t 60.0\n",
      "\n",
      "\n",
      "0.9882352941176471 \t 0.9911504424778761 \t 0.9896907216494845 \t 678.0\n",
      "\n",
      "\n",
      "0.989010989010989 \t 1.0 \t 0.994475138121547 \t 90.0\n",
      "\n",
      "\n",
      "0.967032967032967 \t 1.0 \t 0.9832402234636871 \t 88.0\n",
      "\n",
      "\n",
      "0.8793103448275862 \t 0.85 \t 0.864406779661017 \t 60.0\n",
      "\n",
      "\n",
      "0.9878048780487805 \t 0.9 \t 0.9418604651162791 \t 90.0\n",
      "\n",
      "\n"
     ]
    }
   ],
   "source": [
    "for i in range(0 , 43):\n",
    "    print(reaport[i , 0], \"\\t\",reaport[i , 1],\"\\t\",reaport[i , 2],\"\\t\",reaport[i , 3])\n",
    "    print(\"\\n\")"
   ]
  },
  {
   "cell_type": "code",
   "execution_count": 161,
   "metadata": {
    "execution": {
     "iopub.execute_input": "2023-07-14T14:38:46.474704Z",
     "iopub.status.busy": "2023-07-14T14:38:46.473740Z",
     "iopub.status.idle": "2023-07-14T14:38:46.480152Z",
     "shell.execute_reply": "2023-07-14T14:38:46.479216Z",
     "shell.execute_reply.started": "2023-07-14T14:38:46.474653Z"
    }
   },
   "outputs": [],
   "source": [
    "def mul_sup(a):\n",
    "    for i in range(0 , 3):\n",
    "        a[:,i] *= a[:,3]\n",
    "    a = a.sum(axis = 0)\n",
    "    for i in range(0,3):\n",
    "        a[i] /= a[3]\n",
    "        a[i] = round(a[i],4) * 100\n",
    "    return a"
   ]
  },
  {
   "cell_type": "code",
   "execution_count": 162,
   "metadata": {
    "execution": {
     "iopub.execute_input": "2023-07-14T14:38:46.796851Z",
     "iopub.status.busy": "2023-07-14T14:38:46.795736Z",
     "iopub.status.idle": "2023-07-14T14:38:46.803470Z",
     "shell.execute_reply": "2023-07-14T14:38:46.802152Z",
     "shell.execute_reply.started": "2023-07-14T14:38:46.796809Z"
    }
   },
   "outputs": [],
   "source": [
    "prohibitory = mul_sup(reaport[prohibitory_indx,:])\n",
    "danger = mul_sup(reaport[danger_indx,:])\n",
    "mandatory = mul_sup(reaport[mandatory_indx,:])\n",
    "other = mul_sup(reaport[other_indx,:])"
   ]
  },
  {
   "cell_type": "code",
   "execution_count": 171,
   "metadata": {
    "execution": {
     "iopub.execute_input": "2023-07-14T14:42:53.679472Z",
     "iopub.status.busy": "2023-07-14T14:42:53.679106Z",
     "iopub.status.idle": "2023-07-14T14:42:53.686882Z",
     "shell.execute_reply": "2023-07-14T14:42:53.685809Z",
     "shell.execute_reply.started": "2023-07-14T14:42:53.679442Z"
    }
   },
   "outputs": [
    {
     "name": "stdout",
     "output_type": "stream",
     "text": [
      "               pre    recall   f1_score sup\n",
      "prohibitory [  98.08   98.29   98.17 5663.  ]\n",
      "danger      [  95.97   95.61   95.62 2780.  ]\n",
      "mandatory   [  99.17   99.28   99.22 1668.  ]\n",
      "other       [  96.62   97.73   97.07 2248.  ]\n"
     ]
    }
   ],
   "source": [
    "print(\"               pre    recall   f1_score sup\")\n",
    "print(\"prohibitory\",prohibitory)\n",
    "print(\"danger     \",danger)\n",
    "print(\"mandatory  \",mandatory)\n",
    "print(\"other      \",other)"
   ]
  },
  {
   "cell_type": "code",
   "execution_count": null,
   "metadata": {},
   "outputs": [],
   "source": [
    "\n"
   ]
  }
 ],
 "metadata": {
  "kernelspec": {
   "display_name": "Python 3 (ipykernel)",
   "language": "python",
   "name": "python3"
  },
  "language_info": {
   "codemirror_mode": {
    "name": "ipython",
    "version": 3
   },
   "file_extension": ".py",
   "mimetype": "text/x-python",
   "name": "python",
   "nbconvert_exporter": "python",
   "pygments_lexer": "ipython3",
   "version": "3.10.9"
  }
 },
 "nbformat": 4,
 "nbformat_minor": 4
}
