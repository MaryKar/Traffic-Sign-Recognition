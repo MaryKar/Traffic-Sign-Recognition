{
 "cells": [
  {
   "cell_type": "markdown",
   "metadata": {
    "papermill": {
     "duration": 0.01559,
     "end_time": "2023-06-28T13:04:32.116795",
     "exception": false,
     "start_time": "2023-06-28T13:04:32.101205",
     "status": "completed"
    },
    "tags": []
   },
   "source": [
    "### Code Implementation"
   ]
  },
  {
   "cell_type": "code",
   "execution_count": 1,
   "metadata": {
    "papermill": {
     "duration": 0.065526,
     "end_time": "2023-06-28T13:04:32.197819",
     "exception": false,
     "start_time": "2023-06-28T13:04:32.132293",
     "status": "completed"
    },
    "tags": []
   },
   "outputs": [],
   "source": [
    "# Importing necessary libraries\n",
    "import keras\n",
    "from keras.datasets import mnist\n",
    "from keras.layers import Conv2D, MaxPooling2D\n",
    "from keras.layers import Dense, Flatten\n",
    "from keras.models import Sequential\n",
    "from sklearn.model_selection import train_test_split\n",
    "from sklearn.metrics import classification_report\n",
    "import numpy as np\n",
    "import pickle"
   ]
  },
  {
   "cell_type": "markdown",
   "metadata": {
    "papermill": {
     "duration": 0.01538,
     "end_time": "2023-06-28T13:04:32.228435",
     "exception": false,
     "start_time": "2023-06-28T13:04:32.213055",
     "status": "completed"
    },
    "tags": []
   },
   "source": [
    "### Loading Dataset"
   ]
  },
  {
   "cell_type": "code",
   "execution_count": 7,
   "metadata": {
    "papermill": {
     "duration": 0.02181,
     "end_time": "2023-06-28T13:04:32.265648",
     "exception": false,
     "start_time": "2023-06-28T13:04:32.243838",
     "status": "completed"
    },
    "tags": []
   },
   "outputs": [],
   "source": [
    "# # Loading the dataset and perform splitting\n",
    "# data_list = []\n",
    "# labels_list = []\n",
    "# classes_list = 43\n",
    "\n",
    "# imgs_path = \"../input/gtsrb-german-traffic-sign/Train\"\n",
    "# for i in range(classes_list):\n",
    "#     i_path = os.path.join(imgs_path, str(i)) #0-42\n",
    "#     for img in os.listdir(i_path):\n",
    "#         im = Image.open(i_path +'/'+ img)\n",
    "#         im = im.resize((32,32))\n",
    "#         im = np.array(im)\n",
    "#         data_list.append(im)\n",
    "#         labels_list.append(i)\n",
    "# data = np.array(data_list)\n",
    "# labels = np.array(labels_list)"
   ]
  },
  {
   "cell_type": "code",
   "execution_count": 2,
   "metadata": {
    "papermill": {
     "duration": 4.663351,
     "end_time": "2023-06-28T13:04:36.946429",
     "exception": false,
     "start_time": "2023-06-28T13:04:32.283078",
     "status": "completed"
    },
    "tags": []
   },
   "outputs": [],
   "source": [
    "# Opening file for reading in binary mode\n",
    "with open('D:\\Project\\Traffic Sign Detection\\DATABASE/data8.pickle', 'rb') as f:\n",
    "    gray_data = pickle.load(f, encoding='latin1')  # dictionary type\n",
    "    \n",
    "    \n",
    "# Making channels come at the end\n",
    "gray_data['x_train'] = gray_data['x_train'].transpose(0, 2, 3, 1)\n",
    "gray_data['x_validation'] = gray_data['x_validation'].transpose(0, 2, 3, 1)\n",
    "gray_data['x_test'] = gray_data['x_test'].transpose(0, 2, 3, 1)\n",
    "\n",
    "gray_train_imgs = gray_data['x_train']\n",
    "gray_test_imgs = gray_data['x_test']\n",
    "gray_train_labels = gray_data['y_train']\n",
    "gray_test_labels = gray_data['y_test']"
   ]
  },
  {
   "cell_type": "code",
   "execution_count": 3,
   "metadata": {
    "papermill": {
     "duration": 0.034592,
     "end_time": "2023-06-28T13:04:36.997436",
     "exception": false,
     "start_time": "2023-06-28T13:04:36.962844",
     "status": "completed"
    },
    "tags": []
   },
   "outputs": [],
   "source": [
    "gray_train_labels[gray_train_labels <= 10] = 0 #cycle\n",
    "gray_train_labels[gray_train_labels >= 32] = 0 #cycle\n",
    "gray_train_labels[(gray_train_labels == 15) |(gray_train_labels == 16)| (gray_train_labels ==17)] = 0 #cycle\n",
    "gray_train_labels[(gray_train_labels >= 18) & (gray_train_labels <= 31)] = 1 #triangle\n",
    "gray_train_labels[(gray_train_labels == 13) | (gray_train_labels == 11)] = 1 #triangle\n",
    "gray_train_labels[gray_train_labels == 14] = 2 # 6\n",
    "gray_train_labels[gray_train_labels == 12] = 3 # 4\n",
    "\n",
    "\n",
    "gray_test_labels[gray_test_labels <= 10] = 0 #cycle\n",
    "gray_test_labels[gray_test_labels >= 32] = 0 #cycle\n",
    "gray_test_labels[(gray_test_labels == 15) |(gray_test_labels == 16)| (gray_test_labels ==17)] = 0 #cycle\n",
    "gray_test_labels[(gray_test_labels >= 18) & (gray_test_labels <= 31)] = 1 #triangle\n",
    "gray_test_labels[(gray_test_labels == 13) | (gray_test_labels == 11)] = 1 #triangle\n",
    "gray_test_labels[gray_test_labels == 14] = 2 # 6\n",
    "gray_test_labels[gray_test_labels == 12] = 3 # 4"
   ]
  },
  {
   "cell_type": "markdown",
   "metadata": {
    "papermill": {
     "duration": 0.016132,
     "end_time": "2023-06-28T13:04:37.070374",
     "exception": false,
     "start_time": "2023-06-28T13:04:37.054242",
     "status": "completed"
    },
    "tags": []
   },
   "source": [
    "### Image Data Preprocessing"
   ]
  },
  {
   "cell_type": "code",
   "execution_count": 4,
   "metadata": {
    "papermill": {
     "duration": 0.027648,
     "end_time": "2023-06-28T13:04:37.113982",
     "exception": false,
     "start_time": "2023-06-28T13:04:37.086334",
     "status": "completed"
    },
    "tags": []
   },
   "outputs": [],
   "source": [
    "# Peforming reshaping operation\n",
    "# x_train = gray_train_imgs.reshape(gray_train_imgs.shape[0], 28, 28, 1)\n",
    "# x_test = gray_test_imgs.reshape(gray_test_imgs.shape[0], 28, 28, 1)\n",
    "\n",
    "x_train = gray_train_imgs\n",
    "x_test = gray_test_imgs\n",
    "\n",
    "# # Normalization\n",
    "# x_train = x_train / 255\n",
    "# x_test = x_test / 255\n",
    "\n",
    "num_class_shape = 4\n",
    "\n",
    "# One Hot Encoding\n",
    "y_train = keras.utils.to_categorical(gray_train_labels, num_class_shape)\n",
    "y_test = keras.utils.to_categorical(gray_test_labels, num_class_shape)"
   ]
  },
  {
   "cell_type": "code",
   "execution_count": 5,
   "metadata": {},
   "outputs": [],
   "source": [
    "a, x_train, b, y_train = train_test_split(gray_train_imgs, y_train, test_size=0.36, random_state=42)"
   ]
  },
  {
   "cell_type": "markdown",
   "metadata": {
    "papermill": {
     "duration": 0.015957,
     "end_time": "2023-06-28T13:04:37.145775",
     "exception": false,
     "start_time": "2023-06-28T13:04:37.129818",
     "status": "completed"
    },
    "tags": []
   },
   "source": [
    "### LeNet Model Architecture"
   ]
  },
  {
   "cell_type": "code",
   "execution_count": 5,
   "metadata": {
    "tags": []
   },
   "outputs": [],
   "source": [
    "keras.backend.clear_session()"
   ]
  },
  {
   "cell_type": "code",
   "execution_count": 6,
   "metadata": {
    "papermill": {
     "duration": 3.57747,
     "end_time": "2023-06-28T13:04:40.739594",
     "exception": false,
     "start_time": "2023-06-28T13:04:37.162124",
     "status": "completed"
    },
    "tags": []
   },
   "outputs": [],
   "source": [
    "# Building the Model Architecture\n",
    "model = Sequential()\n",
    "# Select 6 feature convolution kernels with a size of 5 * 5 (without offset), and get 66 feature maps. The size of each feature map is 32−5 + 1 = 2832−5 + 1 = 28.\n",
    "# That is, the number of neurons has been reduced from 10241024 to 28 ∗ 28 = 784 28 ∗ 28 = 784.\n",
    "# Parameters between input layer and C1 layer: 6 ∗ (5 ∗ 5 + 1)\n",
    "model.add(Conv2D(6, kernel_size=(5, 5), activation='relu', input_shape=(32, 32, 1)))\n",
    "# The input of this layer is the output of the first layer, which is a 28 * 28 * 6 node matrix.\n",
    "# The size of the filter used in this layer is 2 * 2, and the step length and width are both 2, so the output matrix size of this layer is 14 * 14 * 6.\n",
    "model.add(MaxPooling2D(pool_size=(2, 2)))\n",
    "# The input matrix size of this layer is 14 * 14 * 6, the filter size used is 5 * 5, and the depth is 16. This layer does not use all 0 padding, and the step size is 1.\n",
    "# The output matrix size of this layer is 10 * 10 * 16. This layer has 5 * 5 * 6 * 16 + 16 = 2416 parameters\n",
    "model.add(Conv2D(16, kernel_size=(5, 5), activation='relu'))\n",
    "# The input matrix size of this layer is 10 * 10 * 16. The size of the filter used in this layer is 2 * 2, and the length and width steps are both 2, so the output matrix size of this layer is 5 * 5 * 16.\n",
    "model.add(MaxPooling2D(pool_size=(2, 2)))\n",
    "# The input matrix size of this layer is 5 * 5 * 16. This layer is called a convolution layer in the LeNet-5 paper, but because the size of the filter is 5 * 5, #\n",
    "# So it is not different from the fully connected layer. If the nodes in the 5 * 5 * 16 matrix are pulled into a vector, then this layer is the same as the fully connected layer.\n",
    "# The number of output nodes in this layer is 120, with a total of 5 * 5 * 16 * 120 + 120 = 48120 parameters.\n",
    "model.add(Flatten())\n",
    "model.add(Dense(120, activation='relu'))\n",
    "# The number of input nodes in this layer is 120 and the number of output nodes is 84. The total parameter is 120 * 84 + 84 = 10164 (w + b)\n",
    "model.add(Dense(84, activation='relu'))\n",
    "# The number of input nodes in this layer is 84 and the number of output nodes is 10. The total parameter is 84 * 10 + 10 = 850\n",
    "model.add(Dense(4, activation='softmax'))"
   ]
  },
  {
   "cell_type": "code",
   "execution_count": 7,
   "metadata": {
    "papermill": {
     "duration": 0.033231,
     "end_time": "2023-06-28T13:04:40.792763",
     "exception": false,
     "start_time": "2023-06-28T13:04:40.759532",
     "status": "completed"
    },
    "tags": []
   },
   "outputs": [],
   "source": [
    "model.compile(loss=keras.metrics.categorical_crossentropy, optimizer=keras.optimizers.Adam(), metrics=['accuracy'])"
   ]
  },
  {
   "cell_type": "code",
   "execution_count": 8,
   "metadata": {
    "papermill": {
     "duration": 58.097776,
     "end_time": "2023-06-28T13:05:38.907688",
     "exception": false,
     "start_time": "2023-06-28T13:04:40.809912",
     "status": "completed"
    },
    "tags": []
   },
   "outputs": [
    {
     "name": "stdout",
     "output_type": "stream",
     "text": [
      "Epoch 1/20\n",
      "680/680 [==============================] - 9s 8ms/step - loss: 0.0870 - accuracy: 0.9721\n",
      "Epoch 2/20\n",
      "680/680 [==============================] - 5s 8ms/step - loss: 0.0134 - accuracy: 0.9962\n",
      "Epoch 3/20\n",
      "680/680 [==============================] - 5s 8ms/step - loss: 0.0075 - accuracy: 0.9977\n",
      "Epoch 4/20\n",
      "680/680 [==============================] - 5s 8ms/step - loss: 0.0048 - accuracy: 0.9984\n",
      "Epoch 5/20\n",
      "680/680 [==============================] - 6s 8ms/step - loss: 0.0034 - accuracy: 0.9990\n",
      "Epoch 6/20\n",
      "680/680 [==============================] - 6s 8ms/step - loss: 0.0031 - accuracy: 0.9990\n",
      "Epoch 7/20\n",
      "680/680 [==============================] - 6s 9ms/step - loss: 0.0027 - accuracy: 0.9990\n",
      "Epoch 8/20\n",
      "680/680 [==============================] - 6s 8ms/step - loss: 0.0020 - accuracy: 0.9994\n",
      "Epoch 9/20\n",
      "680/680 [==============================] - 6s 9ms/step - loss: 0.0042 - accuracy: 0.9988\n",
      "Epoch 10/20\n",
      "680/680 [==============================] - 6s 8ms/step - loss: 7.9519e-04 - accuracy: 0.9998\n",
      "Epoch 11/20\n",
      "680/680 [==============================] - 6s 8ms/step - loss: 0.0031 - accuracy: 0.9992\n",
      "Epoch 12/20\n",
      "680/680 [==============================] - 6s 8ms/step - loss: 0.0015 - accuracy: 0.9996\n",
      "Epoch 13/20\n",
      "680/680 [==============================] - 6s 8ms/step - loss: 4.0287e-04 - accuracy: 0.9999\n",
      "Epoch 14/20\n",
      "680/680 [==============================] - 6s 8ms/step - loss: 0.0033 - accuracy: 0.9990\n",
      "Epoch 15/20\n",
      "680/680 [==============================] - 6s 8ms/step - loss: 5.9208e-04 - accuracy: 0.9998\n",
      "Epoch 16/20\n",
      "680/680 [==============================] - 6s 9ms/step - loss: 0.0012 - accuracy: 0.9996\n",
      "Epoch 17/20\n",
      "680/680 [==============================] - 6s 9ms/step - loss: 0.0015 - accuracy: 0.9997\n",
      "Epoch 18/20\n",
      "680/680 [==============================] - 6s 8ms/step - loss: 0.0018 - accuracy: 0.9994\n",
      "Epoch 19/20\n",
      "680/680 [==============================] - 6s 8ms/step - loss: 8.9737e-05 - accuracy: 1.0000\n",
      "Epoch 20/20\n",
      "680/680 [==============================] - 6s 8ms/step - loss: 8.6046e-06 - accuracy: 1.0000\n"
     ]
    },
    {
     "data": {
      "text/plain": [
       "<keras.callbacks.History at 0x27802059570>"
      ]
     },
     "execution_count": 8,
     "metadata": {},
     "output_type": "execute_result"
    }
   ],
   "source": [
    "model.fit(x_train, y_train, batch_size=128, epochs=20, verbose=1)"
   ]
  },
  {
   "cell_type": "markdown",
   "metadata": {},
   "source": [
    "### data4"
   ]
  },
  {
   "cell_type": "code",
   "execution_count": 23,
   "metadata": {
    "papermill": {
     "duration": 1.339139,
     "end_time": "2023-06-28T13:05:40.596400",
     "exception": false,
     "start_time": "2023-06-28T13:05:39.257261",
     "status": "completed"
    },
    "tags": []
   },
   "outputs": [
    {
     "name": "stdout",
     "output_type": "stream",
     "text": [
      "395/395 [==============================] - 3s 8ms/step - loss: 0.0302 - accuracy: 0.9952\n",
      "Test Loss: 0.030224520713090897\n",
      "Test accuracy: 0.9951702356338501\n"
     ]
    }
   ],
   "source": [
    "score = model.evaluate(x_test, y_test)\n",
    "print('Test Loss:', score[0])\n",
    "print('Test accuracy:', score[1])"
   ]
  },
  {
   "cell_type": "code",
   "execution_count": 24,
   "metadata": {
    "papermill": {
     "duration": 1.339139,
     "end_time": "2023-06-28T13:05:40.596400",
     "exception": false,
     "start_time": "2023-06-28T13:05:39.257261",
     "status": "completed"
    },
    "tags": []
   },
   "outputs": [
    {
     "name": "stdout",
     "output_type": "stream",
     "text": [
      "395/395 [==============================] - 2s 4ms/step\n",
      "{'0': {'precision': 0.9966903652856092, 'recall': 0.9964460784313726, 'f1-score': 0.9965682068880991, 'support': 8160}, '1': {'precision': 0.9929098128190584, 'recall': 0.9974358974358974, 'f1-score': 0.995167708925526, 'support': 3510}, '2': {'precision': 0.9961685823754789, 'recall': 0.9629629629629629, 'f1-score': 0.9792843691148776, 'support': 270}, '3': {'precision': 0.9883211678832117, 'recall': 0.981159420289855, 'f1-score': 0.9847272727272727, 'support': 690}, 'accuracy': 0.9951702296120348, 'macro avg': {'precision': 0.9935224820908396, 'recall': 0.9845010897800219, 'f1-score': 0.9889368894139439, 'support': 12630}, 'weighted avg': {'precision': 0.9951713338722297, 'recall': 0.9951702296120348, 'f1-score': 0.9951626147567949, 'support': 12630}}\n"
     ]
    }
   ],
   "source": [
    "pred = model.predict(x_test).argmax(axis = 1)\n",
    "cr = classification_report(y_test.argmax(axis = -1) , pred , output_dict = True)\n",
    "print(cr)"
   ]
  },
  {
   "cell_type": "markdown",
   "metadata": {
    "tags": []
   },
   "source": [
    "### data8 "
   ]
  },
  {
   "cell_type": "code",
   "execution_count": 9,
   "metadata": {
    "papermill": {
     "duration": 1.339139,
     "end_time": "2023-06-28T13:05:40.596400",
     "exception": false,
     "start_time": "2023-06-28T13:05:39.257261",
     "status": "completed"
    },
    "tags": []
   },
   "outputs": [
    {
     "name": "stdout",
     "output_type": "stream",
     "text": [
      "395/395 [==============================] - 2s 5ms/step - loss: 0.0222 - accuracy: 0.9968\n",
      "Test Loss: 0.022216537967324257\n",
      "Test accuracy: 0.9968329668045044\n"
     ]
    }
   ],
   "source": [
    "score = model.evaluate(x_test, y_test)\n",
    "print('Test Loss:', score[0])\n",
    "print('Test accuracy:', score[1])"
   ]
  },
  {
   "cell_type": "code",
   "execution_count": 10,
   "metadata": {
    "papermill": {
     "duration": 1.339139,
     "end_time": "2023-06-28T13:05:40.596400",
     "exception": false,
     "start_time": "2023-06-28T13:05:39.257261",
     "status": "completed"
    },
    "tags": []
   },
   "outputs": [
    {
     "name": "stdout",
     "output_type": "stream",
     "text": [
      "395/395 [==============================] - 2s 4ms/step\n"
     ]
    }
   ],
   "source": [
    "pred = model.predict(x_test).argmax(axis = 1)\n",
    "cr = classification_report(y_test.argmax(axis = -1) , pred , output_dict = True)"
   ]
  },
  {
   "cell_type": "code",
   "execution_count": 11,
   "metadata": {
    "tags": []
   },
   "outputs": [
    {
     "name": "stdout",
     "output_type": "stream",
     "text": [
      "{'0': {'precision': 0.9970631424375918, 'recall': 0.9985294117647059, 'f1-score': 0.9977957384276267, 'support': 8160}, '1': {'precision': 0.9965831435079726, 'recall': 0.9971509971509972, 'f1-score': 0.9968669894616919, 'support': 3510}, '2': {'precision': 0.9962962962962963, 'recall': 0.9962962962962963, 'f1-score': 0.9962962962962963, 'support': 270}, '3': {'precision': 0.9955621301775148, 'recall': 0.9753623188405797, 'f1-score': 0.9853587115666179, 'support': 690}, 'accuracy': 0.9968329374505146, 'macro avg': {'precision': 0.9963761781048439, 'recall': 0.9918347560131449, 'f1-score': 0.9940794339380582, 'support': 12630}, 'weighted avg': {'precision': 0.9968313496299459, 'recall': 0.9968329374505146, 'f1-score': 0.9968261179383167, 'support': 12630}}\n"
     ]
    }
   ],
   "source": [
    "print(cr)"
   ]
  },
  {
   "cell_type": "code",
   "execution_count": 12,
   "metadata": {
    "papermill": {
     "duration": 0.386123,
     "end_time": "2023-06-28T13:05:41.345123",
     "exception": true,
     "start_time": "2023-06-28T13:05:40.959000",
     "status": "failed"
    },
    "tags": []
   },
   "outputs": [],
   "source": [
    "model_save_dir = \"D:\\\\Project\\\\Traffic Sign Detection\\\\TrainedMOdel\\\\final\\\\shape_classifier_model_data0_acc99.h5\"  \n",
    "\n",
    "model.save(model_save_dir)"
   ]
  },
  {
   "cell_type": "code",
   "execution_count": null,
   "metadata": {
    "collapsed": true,
    "execution": {
     "iopub.execute_input": "2023-06-28T10:06:02.788436Z",
     "iopub.status.busy": "2023-06-28T10:06:02.788095Z",
     "iopub.status.idle": "2023-06-28T10:06:02.886060Z",
     "shell.execute_reply": "2023-06-28T10:06:02.880196Z",
     "shell.execute_reply.started": "2023-06-28T10:06:02.788400Z"
    },
    "jupyter": {
     "outputs_hidden": true
    },
    "papermill": {
     "duration": null,
     "end_time": null,
     "exception": null,
     "start_time": null,
     "status": "pending"
    },
    "tags": []
   },
   "outputs": [],
   "source": [
    "import joblib \n",
    "\n",
    "# save model with joblib \n",
    "filename = 'joblib_model.sav'\n",
    "joblib.dump(model, filename)"
   ]
  },
  {
   "cell_type": "code",
   "execution_count": null,
   "metadata": {
    "execution": {
     "iopub.execute_input": "2023-06-28T08:22:09.252294Z",
     "iopub.status.busy": "2023-06-28T08:22:09.251892Z",
     "iopub.status.idle": "2023-06-28T08:22:09.258700Z",
     "shell.execute_reply": "2023-06-28T08:22:09.257584Z",
     "shell.execute_reply.started": "2023-06-28T08:22:09.252257Z"
    },
    "papermill": {
     "duration": null,
     "end_time": null,
     "exception": null,
     "start_time": null,
     "status": "pending"
    },
    "tags": []
   },
   "outputs": [],
   "source": [
    "x_test[1].shape"
   ]
  },
  {
   "cell_type": "markdown",
   "metadata": {
    "papermill": {
     "duration": null,
     "end_time": null,
     "exception": null,
     "start_time": null,
     "status": "pending"
    },
    "tags": []
   },
   "source": [
    "## Hope you like it!"
   ]
  },
  {
   "cell_type": "code",
   "execution_count": null,
   "metadata": {
    "execution": {
     "iopub.execute_input": "2023-06-28T10:07:11.114174Z",
     "iopub.status.busy": "2023-06-28T10:07:11.113788Z",
     "iopub.status.idle": "2023-06-28T10:07:11.300419Z",
     "shell.execute_reply": "2023-06-28T10:07:11.297487Z",
     "shell.execute_reply.started": "2023-06-28T10:07:11.114138Z"
    },
    "papermill": {
     "duration": null,
     "end_time": null,
     "exception": null,
     "start_time": null,
     "status": "pending"
    },
    "tags": []
   },
   "outputs": [],
   "source": [
    "from matplotlib import pyplot as plt\n",
    "image = gray_test_imgs[5]#.transpose(2 , 0 ,1)\n",
    "# plt.imshow(image, cmap=plt.get_cmap('gray'))\n",
    "# plt.show()\n",
    "y = model.predict(image)\n",
    "print(y)"
   ]
  },
  {
   "cell_type": "code",
   "execution_count": null,
   "metadata": {
    "papermill": {
     "duration": null,
     "end_time": null,
     "exception": null,
     "start_time": null,
     "status": "pending"
    },
    "tags": []
   },
   "outputs": [],
   "source": []
  }
 ],
 "metadata": {
  "kernelspec": {
   "display_name": "Python 3 (ipykernel)",
   "language": "python",
   "name": "python3"
  },
  "language_info": {
   "codemirror_mode": {
    "name": "ipython",
    "version": 3
   },
   "file_extension": ".py",
   "mimetype": "text/x-python",
   "name": "python",
   "nbconvert_exporter": "python",
   "pygments_lexer": "ipython3",
   "version": "3.10.9"
  },
  "papermill": {
   "duration": 80.821842,
   "end_time": "2023-06-28T13:05:42.783021",
   "environment_variables": {},
   "exception": true,
   "input_path": "__notebook__.ipynb",
   "output_path": "__notebook__.ipynb",
   "parameters": {},
   "start_time": "2023-06-28T13:04:21.961179",
   "version": "2.1.0"
  }
 },
 "nbformat": 4,
 "nbformat_minor": 4
}
