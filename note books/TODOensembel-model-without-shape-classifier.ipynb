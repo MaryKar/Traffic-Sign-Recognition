{
 "cells": [
  {
   "cell_type": "markdown",
   "metadata": {},
   "source": [
    "# *Traffic Sign Recognizer - 99% accuracy*"
   ]
  },
  {
   "cell_type": "markdown",
   "metadata": {},
   "source": [
    "## Importing Required Libraries"
   ]
  },
  {
   "cell_type": "code",
   "execution_count": 1,
   "metadata": {
    "_cell_guid": "b1076dfc-b9ad-4769-8c92-a6c4dae69d19",
    "_uuid": "8f2839f25d086af736a60e9eeb907d3b93b6e0e5",
    "tags": []
   },
   "outputs": [],
   "source": [
    "import numpy as np\n",
    "import os\n",
    "import cv2\n",
    "import matplotlib.pyplot as plt\n",
    "import tensorflow as tf\n",
    "from tensorflow import keras\n",
    "from PIL import Image\n",
    "from sklearn.model_selection import train_test_split\n",
    "from tensorflow.keras.preprocessing.image import ImageDataGenerator\n",
    "from tensorflow.keras.optimizers import Adam\n",
    "from sklearn.metrics import classification_report\n",
    "from sklearn.metrics import accuracy_score\n",
    "from keras.models import load_model\n",
    "from sklearn.metrics import confusion_matrix\n",
    "np.random.seed(42)\n",
    "\n",
    "from matplotlib import style\n",
    "style.use('fivethirtyeight')"
   ]
  },
  {
   "cell_type": "markdown",
   "metadata": {},
   "source": [
    "## Assigning Path for Dataset"
   ]
  },
  {
   "cell_type": "code",
   "execution_count": 2,
   "metadata": {
    "tags": []
   },
   "outputs": [],
   "source": [
    "# data_dir = '../input/gtsrb-german-traffic-sign'\n",
    "# train_path = '../input/gtsrb-german-traffic-sign/Train'\n",
    "# test_path = '../input/gtsrb-german-traffic-sign/'\n",
    "\n",
    "# Resizing the images to 32x32x3\n",
    "IMG_HEIGHT = 32\n",
    "IMG_WIDTH = 32\n",
    "NUM_CATEGORIES = 43\n",
    "channels = 3"
   ]
  },
  {
   "cell_type": "markdown",
   "metadata": {},
   "source": [
    "## Collecting the Data"
   ]
  },
  {
   "cell_type": "code",
   "execution_count": 5,
   "metadata": {
    "tags": []
   },
   "outputs": [
    {
     "ename": "FileNotFoundError",
     "evalue": "[Errno 2] No such file or directory: '/kaggle/input/traffic-signs-preprocessed/data3.pickle'",
     "output_type": "error",
     "traceback": [
      "\u001b[1;31m---------------------------------------------------------------------------\u001b[0m",
      "\u001b[1;31mFileNotFoundError\u001b[0m                         Traceback (most recent call last)",
      "Cell \u001b[1;32mIn [5], line 3\u001b[0m\n\u001b[0;32m      1\u001b[0m \u001b[38;5;66;03m# Opening file for reading in binary mode\u001b[39;00m\n\u001b[0;32m      2\u001b[0m \u001b[38;5;28;01mimport\u001b[39;00m \u001b[38;5;21;01mpickle\u001b[39;00m\n\u001b[1;32m----> 3\u001b[0m \u001b[38;5;28;01mwith\u001b[39;00m \u001b[38;5;28;43mopen\u001b[39;49m\u001b[43m(\u001b[49m\u001b[38;5;124;43m'\u001b[39;49m\u001b[38;5;124;43m/kaggle/input/traffic-signs-preprocessed/data3.pickle\u001b[39;49m\u001b[38;5;124;43m'\u001b[39;49m\u001b[43m,\u001b[49m\u001b[43m \u001b[49m\u001b[38;5;124;43m'\u001b[39;49m\u001b[38;5;124;43mrb\u001b[39;49m\u001b[38;5;124;43m'\u001b[39;49m\u001b[43m)\u001b[49m \u001b[38;5;28;01mas\u001b[39;00m f:\n\u001b[0;32m      4\u001b[0m     image_data \u001b[38;5;241m=\u001b[39m pickle\u001b[38;5;241m.\u001b[39mload(f, encoding\u001b[38;5;241m=\u001b[39m\u001b[38;5;124m'\u001b[39m\u001b[38;5;124mlatin1\u001b[39m\u001b[38;5;124m'\u001b[39m)  \u001b[38;5;66;03m# dictionary type\u001b[39;00m\n\u001b[0;32m      7\u001b[0m \u001b[38;5;66;03m# Making channels come at the end\u001b[39;00m\n",
      "\u001b[1;31mFileNotFoundError\u001b[0m: [Errno 2] No such file or directory: '/kaggle/input/traffic-signs-preprocessed/data3.pickle'"
     ]
    }
   ],
   "source": [
    "# Opening file for reading in binary mode\n",
    "import pickle\n",
    "with open('/kaggle/input/traffic-signs-preprocessed/data3.pickle', 'rb') as f:\n",
    "    image_data = pickle.load(f, encoding='latin1')  # dictionary type\n",
    "    \n",
    "    \n",
    "# Making channels come at the end\n",
    "image_data['x_train'] = image_data['x_train'].transpose(0, 2, 3, 1)\n",
    "image_data['x_validation'] = image_data['x_validation'].transpose(0, 2, 3, 1)\n",
    "image_data['x_test'] = image_data['x_test'].transpose(0, 2, 3, 1)\n",
    "\n",
    "X_train = image_data['x_train']\n",
    "X_test = image_data['x_test']\n",
    "X_valid = image_data['x_validation']\n",
    "y_train = image_data['y_train']\n",
    "y_test = image_data['y_test']\n",
    "y_valid = image_data['y_validation']"
   ]
  },
  {
   "cell_type": "code",
   "execution_count": 5,
   "metadata": {
    "execution": {
     "iopub.execute_input": "2023-07-18T14:30:36.519872Z",
     "iopub.status.busy": "2023-07-18T14:30:36.519607Z",
     "iopub.status.idle": "2023-07-18T14:30:40.502089Z",
     "shell.execute_reply": "2023-07-18T14:30:40.501362Z",
     "shell.execute_reply.started": "2023-07-18T14:30:36.519849Z"
    },
    "tags": []
   },
   "outputs": [],
   "source": [
    "with open('/kaggle/input/traffic-signs-preprocessed/data8.pickle', 'rb') as f:\n",
    "    gray_data = pickle.load(f, encoding='latin1')  # dictionary type\n",
    "    \n",
    "    \n",
    "# Making channels come at the end\n",
    "gray_data['x_train'] = gray_data['x_train'].transpose(0, 2, 3, 1)\n",
    "gray_data['x_validation'] = gray_data['x_validation'].transpose(0, 2, 3, 1)\n",
    "gray_data['x_test'] = gray_data['x_test'].transpose(0, 2, 3, 1)\n",
    "\n",
    "gray_train_imgs = gray_data['x_train']\n",
    "gray_test_imgs = gray_data['x_test']\n",
    "gray_valid_imgs = gray_data['x_validation']\n",
    "gray_train_labels = gray_data['y_train']\n",
    "gray_test_labels = gray_data['y_test']\n",
    "gray_valid_labels = gray_data['y_validation']"
   ]
  },
  {
   "cell_type": "code",
   "execution_count": 6,
   "metadata": {
    "execution": {
     "iopub.execute_input": "2023-07-18T14:30:40.504884Z",
     "iopub.status.busy": "2023-07-18T14:30:40.504561Z",
     "iopub.status.idle": "2023-07-18T14:30:40.513554Z",
     "shell.execute_reply": "2023-07-18T14:30:40.512257Z",
     "shell.execute_reply.started": "2023-07-18T14:30:40.504854Z"
    },
    "tags": []
   },
   "outputs": [],
   "source": [
    "# gray_train_labels[gray_train_labels <= 10] = 0 #cycle\n",
    "# gray_train_labels[gray_train_labels >= 32] = 0 #cycle\n",
    "# gray_train_labels[(gray_train_labels == 15) |(gray_train_labels == 16)| (gray_train_labels ==17)] = 0 #cycle\n",
    "# gray_train_labels[(gray_train_labels >= 18) & (gray_train_labels <= 31)] = 1 #triangle\n",
    "# gray_train_labels[(gray_train_labels == 13) | (gray_train_labels == 11)] = 1 #triangle\n",
    "# gray_train_labels[gray_train_labels == 14] = 2 # 6\n",
    "# gray_train_labels[gray_train_labels == 12] = 3 # 4\n",
    "\n",
    "\n",
    "gray_test_labels[gray_test_labels <= 10] = 0 #cycle\n",
    "gray_test_labels[gray_test_labels >= 32] = 0 #cycle\n",
    "gray_test_labels[(gray_test_labels == 15) |(gray_test_labels == 16)| (gray_test_labels ==17)] = 0 #cycle\n",
    "gray_test_labels[(gray_test_labels >= 18) & (gray_test_labels <= 31)] = 1 #triangle\n",
    "gray_test_labels[(gray_test_labels == 13) | (gray_test_labels == 11)] = 1 #triangle\n",
    "gray_test_labels[gray_test_labels == 14] = 2 # 6\n",
    "gray_test_labels[gray_test_labels == 12] = 3 # 4\n",
    "\n",
    "# gray_valid_labels[gray_valid_labels <= 10] = 0 #cycle\n",
    "# gray_valid_labels[gray_valid_labels >= 32] = 0 #cycle\n",
    "# gray_valid_labels[(gray_valid_labels == 15) |(gray_valid_labels == 16)| (gray_valid_labels ==17)] = 0 #cycle\n",
    "# gray_valid_labels[(gray_valid_labels >= 18) & (gray_valid_labels <= 31)] = 1 #triangle\n",
    "# gray_valid_labels[(gray_valid_labels == 13) | (gray_valid_labels == 11)] = 1 #triangle\n",
    "# gray_valid_labels[gray_valid_labels == 14] = 2 # 6\n",
    "# gray_valid_labels[gray_valid_labels == 12] = 3 # 4"
   ]
  },
  {
   "cell_type": "code",
   "execution_count": 7,
   "metadata": {
    "execution": {
     "iopub.execute_input": "2023-07-18T14:30:40.515729Z",
     "iopub.status.busy": "2023-07-18T14:30:40.515261Z",
     "iopub.status.idle": "2023-07-18T14:30:40.527690Z",
     "shell.execute_reply": "2023-07-18T14:30:40.526412Z",
     "shell.execute_reply.started": "2023-07-18T14:30:40.515692Z"
    },
    "tags": []
   },
   "outputs": [],
   "source": [
    "# gray_x_train = gray_train_imgs\n",
    "gray_x_test = gray_test_imgs\n",
    "# gray_x_valid = gray_valid_imgs\n",
    "gray_y_test = gray_test_labels\n",
    "# # Normalization\n",
    "# x_train = x_train / 255\n",
    "# x_test = x_test / 255\n",
    "\n",
    "num_class_shape = 4\n",
    "\n",
    "# One Hot Encoding\n",
    "# gray_y_train = keras.utils.to_categorical(gray_train_labels, num_class_shape)\n",
    "# gray_y_test = keras.utils.to_categorical(gray_test_labels, num_class_shape)\n",
    "# gray_y_valid = keras.utils.to_categorical(gray_valid_labels, num_class_shape)"
   ]
  },
  {
   "cell_type": "code",
   "execution_count": 4,
   "metadata": {
    "tags": []
   },
   "outputs": [
    {
     "ename": "NameError",
     "evalue": "name 'image_data' is not defined",
     "output_type": "error",
     "traceback": [
      "\u001b[1;31m---------------------------------------------------------------------------\u001b[0m",
      "\u001b[1;31mNameError\u001b[0m                                 Traceback (most recent call last)",
      "Cell \u001b[1;32mIn [4], line 1\u001b[0m\n\u001b[1;32m----> 1\u001b[0m y_test \u001b[38;5;241m=\u001b[39m \u001b[43mimage_data\u001b[49m[\u001b[38;5;124m'\u001b[39m\u001b[38;5;124my_test\u001b[39m\u001b[38;5;124m'\u001b[39m]\n\u001b[0;32m      3\u001b[0m A \u001b[38;5;241m=\u001b[39m np\u001b[38;5;241m.\u001b[39marray(np\u001b[38;5;241m.\u001b[39mwhere(y_train \u001b[38;5;241m>\u001b[39m\u001b[38;5;241m=\u001b[39m \u001b[38;5;241m18\u001b[39m))\n\u001b[0;32m      4\u001b[0m A \u001b[38;5;241m=\u001b[39m np\u001b[38;5;241m.\u001b[39mconcatenate((A ,np\u001b[38;5;241m.\u001b[39mwhere(y_train \u001b[38;5;241m==\u001b[39m \u001b[38;5;241m13\u001b[39m)), axis \u001b[38;5;241m=\u001b[39m \u001b[38;5;241m1\u001b[39m)\n",
      "\u001b[1;31mNameError\u001b[0m: name 'image_data' is not defined"
     ]
    }
   ],
   "source": [
    "y_test = image_data['y_test']\n",
    "\n",
    "A = np.array(np.where(y_train >= 18))\n",
    "A = np.concatenate((A ,np.where(y_train == 13)), axis = 1)\n",
    "A = np.concatenate((A ,np.where(y_train == 11)), axis = 1)\n",
    "B = np.array(np.where(y_train > 31))\n",
    "indx = np.setdiff1d(A, B)\n",
    "\n",
    "A = np.array(np.where(y_test >= 18)) \n",
    "A = np.concatenate((A ,np.where(y_test == 13)), axis = 1)\n",
    "A = np.concatenate((A ,np.where(y_test == 11)), axis = 1)\n",
    "B = np.array(np.where(y_test > 31))\n",
    "indx1 = np.setdiff1d(A, B)\n",
    "\n",
    "A = np.array(np.where(y_valid >= 18)) \n",
    "A = np.concatenate((A ,np.where(y_valid == 13)), axis = 1)\n",
    "A = np.concatenate((A ,np.where(y_valid == 11)), axis = 1)\n",
    "B = np.array(np.where(y_valid > 31))\n",
    "indx2 = np.setdiff1d(A, B)\n",
    "\n",
    "# tri_X_train = X_train[indx]\n",
    "tri_X_test = X_test[indx1]\n",
    "# tri_X_valid = X_valid[indx2]\n",
    "# tri_y_train = y_train[indx]\n",
    "tri_y_test = y_test[indx1]\n",
    "# tri_y_valid = y_valid[indx2]"
   ]
  },
  {
   "cell_type": "code",
   "execution_count": 9,
   "metadata": {
    "execution": {
     "iopub.execute_input": "2023-07-18T14:30:40.564021Z",
     "iopub.status.busy": "2023-07-18T14:30:40.563044Z",
     "iopub.status.idle": "2023-07-18T14:30:40.567946Z",
     "shell.execute_reply": "2023-07-18T14:30:40.567365Z",
     "shell.execute_reply.started": "2023-07-18T14:30:40.563997Z"
    },
    "tags": []
   },
   "outputs": [],
   "source": [
    "tri_Dict = {11:0 , 13:1 , 18:2 , 19:3 , 20:4 , 21:5 , 22:6 , 23:7 , 24:8 , 25:9 , 26:10 , 27:11 , 28:12 , 29:13 , 30:14 , 31:15 }\n",
    "# tri_y_train = np.vectorize(tri_Dict.get)(tri_y_train)\n",
    "# tri_y_test = np.vectorize(tri_Dict.get)(tri_y_test)\n",
    "# tri_y_valid = np.vectorize(tri_Dict.get)(tri_y_valid)\n",
    "tri_num_class = 16"
   ]
  },
  {
   "cell_type": "code",
   "execution_count": 10,
   "metadata": {
    "execution": {
     "iopub.execute_input": "2023-07-18T14:30:40.570774Z",
     "iopub.status.busy": "2023-07-18T14:30:40.570041Z",
     "iopub.status.idle": "2023-07-18T14:30:40.745261Z",
     "shell.execute_reply": "2023-07-18T14:30:40.743900Z",
     "shell.execute_reply.started": "2023-07-18T14:30:40.570751Z"
    },
    "tags": []
   },
   "outputs": [],
   "source": [
    "indx = np.array(np.where(y_train <= 10)) #cycle\n",
    "indx = np.concatenate((indx ,np.where(y_train >= 32)), axis = 1) #cycle\n",
    "indx = np.concatenate((indx ,np.where(y_train == 15)), axis = 1) #cycle\n",
    "indx = np.concatenate((indx ,np.where(y_train == 16)), axis = 1) #cycle\n",
    "indx = np.concatenate((indx ,np.where(y_train == 17)), axis = 1) #cycle\n",
    "\n",
    "indx1 = np.array(np.where(y_test <= 10)) #cycle\n",
    "indx1 = np.concatenate((indx1 ,np.where(y_test >= 32)), axis = 1) #cycle\n",
    "indx1 = np.concatenate((indx1 ,np.where(y_test == 15)), axis = 1) #cycle\n",
    "indx1 = np.concatenate((indx1 ,np.where(y_test == 16)), axis = 1) #cycle\n",
    "indx1 = np.concatenate((indx1 ,np.where(y_test == 17)), axis = 1) #cycle\n",
    "\n",
    "indx2 = np.array(np.where(y_valid <= 10)) #cycle\n",
    "indx2 = np.concatenate((indx2 ,np.where(y_valid >= 32)), axis = 1) #cycle\n",
    "indx2 = np.concatenate((indx2 ,np.where(y_valid == 15)), axis = 1) #cycle\n",
    "indx2 = np.concatenate((indx2 ,np.where(y_valid == 16)), axis = 1) #cycle\n",
    "indx2 = np.concatenate((indx2 ,np.where(y_valid == 17)), axis = 1) #cycle\n",
    "\n",
    "cycle_X_train = X_train[indx]\n",
    "cycle_X_test = X_test[indx1]\n",
    "cycle_X_valid = X_valid[indx2]\n",
    "cycle_y_train = y_train[indx]\n",
    "cycle_y_test = y_test[indx1]\n",
    "cycle_y_valid = y_valid[indx2]"
   ]
  },
  {
   "cell_type": "code",
   "execution_count": 11,
   "metadata": {
    "execution": {
     "iopub.execute_input": "2023-07-18T14:30:40.746811Z",
     "iopub.status.busy": "2023-07-18T14:30:40.746523Z",
     "iopub.status.idle": "2023-07-18T14:30:40.753488Z",
     "shell.execute_reply": "2023-07-18T14:30:40.752424Z",
     "shell.execute_reply.started": "2023-07-18T14:30:40.746787Z"
    },
    "tags": []
   },
   "outputs": [],
   "source": [
    "cy_Dict = {0:0 ,1:1 ,2:2, 3:3 , 4:4 , 5:5 , 6:6 , 7:7 , 8:8 , 9:9 ,10:10 ,15:11 , 16:12 , 17:13 , 32:14 , 33:15 , 34:16 , 35:17 , 36:18 , 37:19 , 38:20 , 39:21 , 40:22 , 41:23 , 42:24 }\n",
    "# cycle_y_train = np.vectorize(cy_Dict.get)(cycle_y_train)\n",
    "cycle_y_test = np.vectorize(cy_Dict.get)(cycle_y_test)\n",
    "# cycle_y_valid = np.vectorize(cy_Dict.get)(cycle_y_valid)\n",
    "cy_num_class = 25\n"
   ]
  },
  {
   "cell_type": "markdown",
   "metadata": {},
   "source": [
    "## One hot encoding the labels"
   ]
  },
  {
   "cell_type": "markdown",
   "metadata": {},
   "source": [
    "## Ensemble Model"
   ]
  },
  {
   "cell_type": "code",
   "execution_count": 12,
   "metadata": {
    "execution": {
     "iopub.execute_input": "2023-07-18T14:30:40.754787Z",
     "iopub.status.busy": "2023-07-18T14:30:40.754562Z",
     "iopub.status.idle": "2023-07-18T14:30:41.371120Z",
     "shell.execute_reply": "2023-07-18T14:30:41.369946Z",
     "shell.execute_reply.started": "2023-07-18T14:30:40.754767Z"
    },
    "tags": []
   },
   "outputs": [],
   "source": [
    "cy_model = load_model('/kaggle/input/pretrainedmodels/cycle_classifier_model_acc98.h5')\n",
    "tri_model = load_model('/kaggle/input/tri-acc96/tri_classifier_model_acc96.h5')\n",
    "# shape_classifier = load_model('../input/shapemodel/shape_classifier_model (2).h5')"
   ]
  },
  {
   "cell_type": "code",
   "execution_count": 13,
   "metadata": {
    "execution": {
     "iopub.execute_input": "2023-07-18T14:34:49.761712Z",
     "iopub.status.busy": "2023-07-18T14:34:49.760808Z",
     "iopub.status.idle": "2023-07-18T14:34:49.772569Z",
     "shell.execute_reply": "2023-07-18T14:34:49.771936Z",
     "shell.execute_reply.started": "2023-07-18T14:34:49.761670Z"
    },
    "tags": []
   },
   "outputs": [],
   "source": [
    "tri_y_test = []\n",
    "not_tri = []\n",
    "# cycle_indx = np.where(shapes == 0)\n",
    "tri_index = np.where(gray_y_test == 1)\n",
    "\n",
    "tri1_y_test = y_test[tri_index]\n",
    "\n",
    "for i in range(0 ,tri1_y_test.shape[0]):\n",
    "    try:\n",
    "        tri_y_test.append( tri_Dict[tri1_y_test[i]])\n",
    "\n",
    "    except:\n",
    "        not_tri.append(i)\n",
    "\n",
    "tri_y_test = np.array(tri_y_test)\n",
    "# not_tri = np.array(not_tri)\n",
    "# num_not_tri = tri_y_test[]\n",
    "tri_labels = keras.utils.to_categorical(tri_y_test, 16)\n",
    "# tri_index = np.delete(triangle_indx , not_tri)\n"
   ]
  },
  {
   "cell_type": "code",
   "execution_count": 14,
   "metadata": {
    "execution": {
     "iopub.execute_input": "2023-07-18T14:34:52.070554Z",
     "iopub.status.busy": "2023-07-18T14:34:52.069274Z",
     "iopub.status.idle": "2023-07-18T14:34:53.883659Z",
     "shell.execute_reply": "2023-07-18T14:34:53.882673Z",
     "shell.execute_reply.started": "2023-07-18T14:34:52.070502Z"
    },
    "tags": []
   },
   "outputs": [
    {
     "name": "stdout",
     "output_type": "stream",
     "text": [
      "110/110 [==============================] - 2s 12ms/step\n"
     ]
    }
   ],
   "source": [
    "# tri_index = np.delete(triangle_indx , not_tri)\n",
    "\n",
    "tri_class = tri_model.predict(X_test[tri_index])\n",
    "tri_class = (tri_class > 0.5).astype(\"int32\")\n",
    "\n",
    "# tri_acc = accuracy_score(tri_labels, tri_class)\n",
    "\n",
    "# cy_class = cy_aug_model.predict_classes(X_test[cycle_indx])\n",
    "# cy_acc = accuracy_score(y_test[cycle_indx], cy_class)\n",
    "\n",
    "# real_tri_acc = tri_acc * tri_y_test.shape[0] / len(triangle_indx[0])\n",
    "# print('tri Test Data accuracy: ',real_tri_acc * 100 )"
   ]
  },
  {
   "cell_type": "code",
   "execution_count": 15,
   "metadata": {
    "execution": {
     "iopub.execute_input": "2023-07-18T14:34:53.885857Z",
     "iopub.status.busy": "2023-07-18T14:34:53.885349Z",
     "iopub.status.idle": "2023-07-18T14:34:53.901442Z",
     "shell.execute_reply": "2023-07-18T14:34:53.900671Z",
     "shell.execute_reply.started": "2023-07-18T14:34:53.885833Z"
    }
   },
   "outputs": [],
   "source": [
    "tri_labels = keras.utils.to_categorical(tri_y_test, 16)\n",
    "\n",
    "tri_acc = accuracy_score(tri_labels, tri_class)"
   ]
  },
  {
   "cell_type": "code",
   "execution_count": 16,
   "metadata": {
    "execution": {
     "iopub.execute_input": "2023-07-18T14:34:53.902574Z",
     "iopub.status.busy": "2023-07-18T14:34:53.902333Z",
     "iopub.status.idle": "2023-07-18T14:34:53.908050Z",
     "shell.execute_reply": "2023-07-18T14:34:53.906889Z",
     "shell.execute_reply.started": "2023-07-18T14:34:53.902553Z"
    }
   },
   "outputs": [
    {
     "name": "stdout",
     "output_type": "stream",
     "text": [
      "0.9632478632478633\n"
     ]
    }
   ],
   "source": [
    "print(tri_acc)"
   ]
  },
  {
   "cell_type": "code",
   "execution_count": 17,
   "metadata": {
    "execution": {
     "iopub.execute_input": "2023-07-18T14:34:55.969821Z",
     "iopub.status.busy": "2023-07-18T14:34:55.969513Z",
     "iopub.status.idle": "2023-07-18T14:34:55.976077Z",
     "shell.execute_reply": "2023-07-18T14:34:55.974724Z",
     "shell.execute_reply.started": "2023-07-18T14:34:55.969798Z"
    }
   },
   "outputs": [
    {
     "name": "stdout",
     "output_type": "stream",
     "text": [
      "tri Test Data accuracy:  96.32478632478633\n"
     ]
    }
   ],
   "source": [
    "real_tri_acc = tri_acc * tri_y_test.shape[0] / len(tri_index[0])\n",
    "print('tri Test Data accuracy: ',real_tri_acc * 100 )"
   ]
  },
  {
   "cell_type": "code",
   "execution_count": 21,
   "metadata": {
    "execution": {
     "iopub.execute_input": "2023-07-18T14:37:50.284266Z",
     "iopub.status.busy": "2023-07-18T14:37:50.283900Z",
     "iopub.status.idle": "2023-07-18T14:37:55.617356Z",
     "shell.execute_reply": "2023-07-18T14:37:55.616235Z",
     "shell.execute_reply.started": "2023-07-18T14:37:50.284237Z"
    }
   },
   "outputs": [
    {
     "name": "stdout",
     "output_type": "stream",
     "text": [
      "255/255 [==============================] - 3s 12ms/step\n",
      "cy Test Data accuracy:  98.02696078431372\n"
     ]
    }
   ],
   "source": [
    "cy_y_test = []\n",
    "not_cy = []\n",
    "# cycle_indx = np.where(shapes == 0)\n",
    "cycle_indx = np.where(gray_y_test == 0)\n",
    "\n",
    "cy1_y_test = y_test[cycle_indx]\n",
    "\n",
    "for i in range(0 ,cy1_y_test.shape[0]):\n",
    "    try:\n",
    "        cy_y_test.append( cy_Dict[cy1_y_test[i]])\n",
    "\n",
    "    except:\n",
    "        not_cy.append(i)\n",
    "\n",
    "cy_y_test = np.array(cy_y_test)\n",
    "# not_cy = np.array(not_cy)\n",
    "# num_not_cy = cy_y_test[]\n",
    "cy_labels = keras.utils.to_categorical(cy_y_test,25)\n",
    "cycle_indx = np.delete(cycle_indx , not_cy)\n",
    "\n",
    "cy_class = cy_model.predict(X_test[cycle_indx])\n",
    "cy_class = (cy_class > 0.5).astype(\"int32\")\n",
    "\n",
    "\n",
    "cy_acc = accuracy_score(cy_labels, cy_class)\n",
    "\n",
    "# cy_class = cy_aug_model.predict_classes(X_test[cycle_indx])\n",
    "# cy_acc = accuracy_score(y_test[cycle_indx], cy_class)\n",
    "real_cy_acc = cy_acc * cy_y_test.shape[0] / cycle_indx.shape[0]\n",
    "print('cy Test Data accuracy: ',real_cy_acc * 100 )"
   ]
  },
  {
   "cell_type": "code",
   "execution_count": 19,
   "metadata": {
    "execution": {
     "iopub.execute_input": "2023-07-18T14:37:24.776824Z",
     "iopub.status.busy": "2023-07-18T14:37:24.776454Z",
     "iopub.status.idle": "2023-07-18T14:37:24.784192Z",
     "shell.execute_reply": "2023-07-18T14:37:24.783120Z",
     "shell.execute_reply.started": "2023-07-18T14:37:24.776797Z"
    }
   },
   "outputs": [
    {
     "data": {
      "text/plain": [
       "(8160,)"
      ]
     },
     "execution_count": 19,
     "metadata": {},
     "output_type": "execute_result"
    }
   ],
   "source": [
    "cycle_indx.shape"
   ]
  },
  {
   "cell_type": "code",
   "execution_count": 23,
   "metadata": {
    "execution": {
     "iopub.execute_input": "2023-07-18T14:38:48.398800Z",
     "iopub.status.busy": "2023-07-18T14:38:48.398394Z",
     "iopub.status.idle": "2023-07-18T14:38:48.405835Z",
     "shell.execute_reply": "2023-07-18T14:38:48.404377Z",
     "shell.execute_reply.started": "2023-07-18T14:38:48.398773Z"
    }
   },
   "outputs": [],
   "source": [
    "def classifiy(pred ):\n",
    "    n = pred.shape[0]\n",
    "    nc = pred.shape[1]\n",
    "    new_cy_y = np.zeros((n))\n",
    "    for i in range(0 ,nc):\n",
    "        cycle_indx = np.where(pred[:,i] == 1)\n",
    "        new_cy_y[cycle_indx] = i\n",
    "    return new_cy_y"
   ]
  },
  {
   "cell_type": "code",
   "execution_count": 24,
   "metadata": {
    "execution": {
     "iopub.execute_input": "2023-07-18T14:38:50.263246Z",
     "iopub.status.busy": "2023-07-18T14:38:50.262907Z",
     "iopub.status.idle": "2023-07-18T14:38:50.270886Z",
     "shell.execute_reply": "2023-07-18T14:38:50.269704Z",
     "shell.execute_reply.started": "2023-07-18T14:38:50.263220Z"
    }
   },
   "outputs": [
    {
     "name": "stdout",
     "output_type": "stream",
     "text": [
      "[20. 20.  8. ...  8. 15. 10.]\n"
     ]
    }
   ],
   "source": [
    "print(classifiy(cy_class))"
   ]
  },
  {
   "cell_type": "code",
   "execution_count": 30,
   "metadata": {
    "execution": {
     "iopub.execute_input": "2023-07-18T14:44:14.065446Z",
     "iopub.status.busy": "2023-07-18T14:44:14.065095Z",
     "iopub.status.idle": "2023-07-18T14:44:14.080985Z",
     "shell.execute_reply": "2023-07-18T14:44:14.079895Z",
     "shell.execute_reply.started": "2023-07-18T14:44:14.065417Z"
    }
   },
   "outputs": [
    {
     "name": "stdout",
     "output_type": "stream",
     "text": [
      "12\n",
      "14\n"
     ]
    }
   ],
   "source": [
    "cy_cm = confusion_matrix(cy_y_test, classifiy(cy_class))\n",
    "tri_cm = confusion_matrix(tri_y_test, classifiy(tri_class))\n",
    "num_per_class = np.ones((43))\n",
    "acc_per_class = np.zeros((43))\n",
    "for i in range(0 , 43):\n",
    "    try:\n",
    "        ii = tri_Dict[i]\n",
    "        num_per_class[i] = len(np.where(y_test == i)[0])\n",
    "        acc_per_class[i] = tri_cm[ii , ii] / num_per_class[i]\n",
    "\n",
    "    except:\n",
    "        try:\n",
    "            ii = cy_Dict[i]\n",
    "            num_per_class[i] = len(np.where(y_test == i)[0])\n",
    "            acc_per_class[i] = cy_cm[ii , ii] / num_per_class[i]\n",
    "\n",
    "        except:\n",
    "            print(i)\n",
    "for i , j in [3 , 12],[2 , 14]:\n",
    "    pred = np.array(np.where(gray_y_test == i))\n",
    "    pred = pred.reshape((pred.shape[1]))\n",
    "    true_y = np.array(np.where(y_test == j))\n",
    "    true_y = true_y.reshape((true_y.shape[1]))\n",
    "    tp = np.intersect1d(true_y , pred).shape[0]\n",
    "    num_per_class[j] = len(np.where(y_test == j)[0])\n",
    "    acc_per_class[j] =  tp / num_per_class[j]"
   ]
  },
  {
   "cell_type": "code",
   "execution_count": 31,
   "metadata": {
    "execution": {
     "iopub.execute_input": "2023-07-18T14:44:16.183411Z",
     "iopub.status.busy": "2023-07-18T14:44:16.182581Z",
     "iopub.status.idle": "2023-07-18T14:44:16.189449Z",
     "shell.execute_reply": "2023-07-18T14:44:16.188549Z",
     "shell.execute_reply.started": "2023-07-18T14:44:16.183379Z"
    }
   },
   "outputs": [
    {
     "name": "stdout",
     "output_type": "stream",
     "text": [
      "0 0.9833 60.0\n",
      "1 0.9903 720.0\n",
      "2 0.9813 750.0\n",
      "3 0.9822 450.0\n",
      "4 0.9712 660.0\n",
      "5 0.9571 630.0\n",
      "6 0.82 150.0\n",
      "7 0.98 450.0\n",
      "8 0.9911 450.0\n",
      "9 1.0 480.0\n",
      "10 0.9879 660.0\n",
      "11 0.9762 420.0\n",
      "12 1.0 690.0\n",
      "13 0.9972 720.0\n",
      "14 1.0 270.0\n",
      "15 1.0 210.0\n",
      "16 0.9933 150.0\n",
      "17 0.9972 360.0\n",
      "18 0.9615 390.0\n",
      "19 1.0 60.0\n",
      "20 1.0 90.0\n",
      "21 0.6778 90.0\n",
      "22 0.9583 120.0\n",
      "23 0.9933 150.0\n",
      "24 0.9889 90.0\n",
      "25 0.9542 480.0\n",
      "26 0.8556 180.0\n",
      "27 0.9833 60.0\n",
      "28 0.9933 150.0\n",
      "29 1.0 90.0\n",
      "30 0.9133 150.0\n",
      "31 0.9926 270.0\n",
      "32 1.0 60.0\n",
      "33 1.0 210.0\n",
      "34 0.9917 120.0\n",
      "35 0.9974 390.0\n",
      "36 0.9667 120.0\n",
      "37 1.0 60.0\n",
      "38 0.9855 690.0\n",
      "39 1.0 90.0\n",
      "40 0.9889 90.0\n",
      "41 0.85 60.0\n",
      "42 0.9 90.0\n"
     ]
    }
   ],
   "source": [
    "for i in range(0 , 43):\n",
    "    print(i , round(acc_per_class[i] , 4) , num_per_class[i])"
   ]
  },
  {
   "cell_type": "code",
   "execution_count": 32,
   "metadata": {
    "execution": {
     "iopub.execute_input": "2023-07-18T14:45:23.895966Z",
     "iopub.status.busy": "2023-07-18T14:45:23.895648Z",
     "iopub.status.idle": "2023-07-18T14:45:23.903970Z",
     "shell.execute_reply": "2023-07-18T14:45:23.902561Z",
     "shell.execute_reply.started": "2023-07-18T14:45:23.895940Z"
    }
   },
   "outputs": [],
   "source": [
    "TP = acc_per_class * num_per_class\n",
    "\n",
    "prohibitory_indx = np.array([0 , 1 , 2 , 3 , 4 , 5 , 7 , 8 , 9 , 10 , 15 , 16])\n",
    "danger_indx = np.array([11 , 18 , 19 , 20 , 21 , 22 , 23 , 24 , 25, 26, 27, 28 , 29 , 30 , 31])\n",
    "mandatory_indx = range(33 , 40)\n",
    "other_indx = np.array([41 , 32 ,17 , 14 , 13 , 12 , 6])\n",
    "\n",
    "prohibitory = TP[prohibitory_indx].sum()\n",
    "danger = TP[danger_indx].sum()\n",
    "mandatory = TP[mandatory_indx].sum()\n",
    "other = TP[other_indx].sum()\n",
    "\n",
    "num_prohibitory = num_per_class[prohibitory_indx].sum()\n",
    "num_danger = num_per_class[danger_indx].sum()\n",
    "num_mandatory = num_per_class[mandatory_indx].sum()\n",
    "num_other = num_per_class[other_indx].sum()"
   ]
  },
  {
   "cell_type": "code",
   "execution_count": 34,
   "metadata": {
    "execution": {
     "iopub.execute_input": "2023-07-18T14:50:10.545639Z",
     "iopub.status.busy": "2023-07-18T14:50:10.545307Z",
     "iopub.status.idle": "2023-07-18T14:50:10.552636Z",
     "shell.execute_reply": "2023-07-18T14:50:10.551230Z",
     "shell.execute_reply.started": "2023-07-18T14:50:10.545613Z"
    }
   },
   "outputs": [
    {
     "name": "stdout",
     "output_type": "stream",
     "text": [
      "0.9827160493827161 0.9904761904761905 0.9548387096774194 0.9831168831168832\n"
     ]
    }
   ],
   "source": [
    "acc_prohibitory = prohibitory/num_prohibitory\n",
    "acc_danger = danger/num_danger\n",
    "acc_mandatory = mandatory/num_mandatory\n",
    "acc_other = other/num_other\n",
    "\n",
    "print(acc_prohibitory , acc_mandatory , acc_danger,acc_other)"
   ]
  },
  {
   "cell_type": "markdown",
   "metadata": {},
   "source": [
    "## Classification Reaport"
   ]
  },
  {
   "cell_type": "code",
   "execution_count": 38,
   "metadata": {
    "execution": {
     "iopub.execute_input": "2023-07-18T15:11:48.448796Z",
     "iopub.status.busy": "2023-07-18T15:11:48.448394Z",
     "iopub.status.idle": "2023-07-18T15:11:48.488164Z",
     "shell.execute_reply": "2023-07-18T15:11:48.486520Z",
     "shell.execute_reply.started": "2023-07-18T15:11:48.448769Z"
    }
   },
   "outputs": [
    {
     "name": "stderr",
     "output_type": "stream",
     "text": [
      "/opt/conda/lib/python3.10/site-packages/sklearn/metrics/_classification.py:1344: UndefinedMetricWarning: Precision and F-score are ill-defined and being set to 0.0 in samples with no predicted labels. Use `zero_division` parameter to control this behavior.\n",
      "  _warn_prf(average, modifier, msg_start, len(result))\n",
      "/opt/conda/lib/python3.10/site-packages/sklearn/metrics/_classification.py:1344: UndefinedMetricWarning: Precision and F-score are ill-defined and being set to 0.0 in samples with no predicted labels. Use `zero_division` parameter to control this behavior.\n",
      "  _warn_prf(average, modifier, msg_start, len(result))\n"
     ]
    }
   ],
   "source": [
    "a = classification_report(cy_labels, cy_class , output_dict = True)\n",
    "b = classification_report(tri_labels, tri_class , output_dict = True)\n",
    "# c = classification_report(predictions , gray_y_test , output_dict = True)"
   ]
  },
  {
   "cell_type": "code",
   "execution_count": 54,
   "metadata": {
    "execution": {
     "iopub.execute_input": "2023-07-18T15:19:23.291353Z",
     "iopub.status.busy": "2023-07-18T15:19:23.291004Z",
     "iopub.status.idle": "2023-07-18T15:19:23.301201Z",
     "shell.execute_reply": "2023-07-18T15:19:23.300022Z",
     "shell.execute_reply.started": "2023-07-18T15:19:23.291324Z"
    }
   },
   "outputs": [
    {
     "name": "stdout",
     "output_type": "stream",
     "text": [
      "12\n",
      "14\n"
     ]
    }
   ],
   "source": [
    "reaport = np.zeros((43 , 4))\n",
    "for i in range(0 , 43):\n",
    "    try:\n",
    "        ii = tri_Dict[i]\n",
    "        dic = b[str(ii)]\n",
    "        reaport[i,:]= np.array([dic[\"precision\"] , dic[\"recall\"] , dic[\"f1-score\"] , dic[\"support\"]])\n",
    "\n",
    "    except:\n",
    "        try:\n",
    "            ii = cy_Dict[i]\n",
    "            dic = a[str(ii)]\n",
    "            reaport[i,:]= np.array([dic[\"precision\"] , dic[\"recall\"] , dic[\"f1-score\"] , dic[\"support\"]])\n",
    "        except:\n",
    "            print(i)\n",
    "reaport[12,:] = np.array([1,1,1,690])\n",
    "reaport[14,:] = np.array([1,1,1,270])"
   ]
  },
  {
   "cell_type": "code",
   "execution_count": 55,
   "metadata": {
    "execution": {
     "iopub.execute_input": "2023-07-18T15:19:24.812000Z",
     "iopub.status.busy": "2023-07-18T15:19:24.811042Z",
     "iopub.status.idle": "2023-07-18T15:19:24.820998Z",
     "shell.execute_reply": "2023-07-18T15:19:24.819780Z",
     "shell.execute_reply.started": "2023-07-18T15:19:24.811950Z"
    }
   },
   "outputs": [
    {
     "name": "stdout",
     "output_type": "stream",
     "text": [
      "0 1.0 \t 0.9833 \t 0.9916 \t 60.0\n",
      "\n",
      "\n",
      "1 0.9701 \t 0.9903 \t 0.9801 \t 720.0\n",
      "\n",
      "\n",
      "2 0.98 \t 0.9813 \t 0.9807 \t 750.0\n",
      "\n",
      "\n",
      "3 0.9505 \t 0.9822 \t 0.9661 \t 450.0\n",
      "\n",
      "\n",
      "4 0.9907 \t 0.9712 \t 0.9809 \t 660.0\n",
      "\n",
      "\n",
      "5 0.9726 \t 0.9571 \t 0.9648 \t 630.0\n",
      "\n",
      "\n",
      "6 1.0 \t 0.82 \t 0.9011 \t 150.0\n",
      "\n",
      "\n",
      "7 0.991 \t 0.98 \t 0.9855 \t 450.0\n",
      "\n",
      "\n",
      "8 0.9911 \t 0.9911 \t 0.9911 \t 450.0\n",
      "\n",
      "\n",
      "9 0.9796 \t 1.0 \t 0.9897 \t 480.0\n",
      "\n",
      "\n",
      "10 0.9909 \t 0.9879 \t 0.9894 \t 660.0\n",
      "\n",
      "\n",
      "11 0.915 \t 0.9738 \t 0.9435 \t 420.0\n",
      "\n",
      "\n",
      "12 1.0 \t 1.0 \t 1.0 \t 690.0\n",
      "\n",
      "\n",
      "13 0.9958 \t 0.9972 \t 0.9965 \t 720.0\n",
      "\n",
      "\n",
      "14 1.0 \t 1.0 \t 1.0 \t 270.0\n",
      "\n",
      "\n",
      "15 0.9906 \t 1.0 \t 0.9953 \t 210.0\n",
      "\n",
      "\n",
      "16 0.9739 \t 0.9933 \t 0.9835 \t 150.0\n",
      "\n",
      "\n",
      "17 1.0 \t 0.9972 \t 0.9986 \t 360.0\n",
      "\n",
      "\n",
      "18 0.9843 \t 0.9615 \t 0.9728 \t 390.0\n",
      "\n",
      "\n",
      "19 0.9524 \t 1.0 \t 0.9756 \t 60.0\n",
      "\n",
      "\n",
      "20 0.8491 \t 1.0 \t 0.9184 \t 90.0\n",
      "\n",
      "\n",
      "21 0.9531 \t 0.6778 \t 0.7922 \t 90.0\n",
      "\n",
      "\n",
      "22 0.9746 \t 0.9583 \t 0.9664 \t 120.0\n",
      "\n",
      "\n",
      "23 0.9613 \t 0.9933 \t 0.977 \t 150.0\n",
      "\n",
      "\n",
      "24 0.9889 \t 0.9889 \t 0.9889 \t 90.0\n",
      "\n",
      "\n",
      "25 0.9662 \t 0.9542 \t 0.9602 \t 480.0\n",
      "\n",
      "\n",
      "26 0.9747 \t 0.8556 \t 0.9112 \t 180.0\n",
      "\n",
      "\n",
      "27 0.8082 \t 0.9833 \t 0.8872 \t 60.0\n",
      "\n",
      "\n",
      "28 0.949 \t 0.9933 \t 0.9707 \t 150.0\n",
      "\n",
      "\n",
      "29 0.9677 \t 1.0 \t 0.9836 \t 90.0\n",
      "\n",
      "\n",
      "30 0.9856 \t 0.9133 \t 0.9481 \t 150.0\n",
      "\n",
      "\n",
      "31 1.0 \t 0.9926 \t 0.9963 \t 270.0\n",
      "\n",
      "\n",
      "32 0.8108 \t 1.0 \t 0.8955 \t 60.0\n",
      "\n",
      "\n",
      "33 0.9953 \t 1.0 \t 0.9976 \t 210.0\n",
      "\n",
      "\n",
      "34 0.9597 \t 0.9917 \t 0.9754 \t 120.0\n",
      "\n",
      "\n",
      "35 1.0 \t 0.9974 \t 0.9987 \t 390.0\n",
      "\n",
      "\n",
      "36 1.0 \t 0.9667 \t 0.9831 \t 120.0\n",
      "\n",
      "\n",
      "37 0.9836 \t 1.0 \t 0.9917 \t 60.0\n",
      "\n",
      "\n",
      "38 0.9869 \t 0.9855 \t 0.9862 \t 690.0\n",
      "\n",
      "\n",
      "39 0.9783 \t 1.0 \t 0.989 \t 90.0\n",
      "\n",
      "\n",
      "40 0.9674 \t 0.9889 \t 0.978 \t 90.0\n",
      "\n",
      "\n",
      "41 0.8793 \t 0.85 \t 0.8644 \t 60.0\n",
      "\n",
      "\n",
      "42 0.9878 \t 0.9 \t 0.9419 \t 90.0\n",
      "\n",
      "\n"
     ]
    }
   ],
   "source": [
    "for i in range(0 , 43):\n",
    "    print( i , round(reaport[i , 0],4), \"\\t\",round(reaport[i , 1],4),\"\\t\",round(reaport[i , 2],4),\"\\t\",round(reaport[i , 3],4))\n",
    "    print(\"\\n\")"
   ]
  },
  {
   "cell_type": "code",
   "execution_count": 56,
   "metadata": {
    "execution": {
     "iopub.execute_input": "2023-07-18T15:19:29.546740Z",
     "iopub.status.busy": "2023-07-18T15:19:29.546409Z",
     "iopub.status.idle": "2023-07-18T15:19:29.553476Z",
     "shell.execute_reply": "2023-07-18T15:19:29.551932Z",
     "shell.execute_reply.started": "2023-07-18T15:19:29.546715Z"
    }
   },
   "outputs": [],
   "source": [
    "def mul_sup(a):\n",
    "    for i in range(0 , 3):\n",
    "        a[:,i] *= a[:,3]\n",
    "    a = a.sum(axis = 0)\n",
    "    for i in range(0,3):\n",
    "        a[i] /= a[3]\n",
    "        a[i] = round(a[i],4) * 100\n",
    "    return a"
   ]
  },
  {
   "cell_type": "code",
   "execution_count": 57,
   "metadata": {
    "execution": {
     "iopub.execute_input": "2023-07-18T15:19:30.079685Z",
     "iopub.status.busy": "2023-07-18T15:19:30.079316Z",
     "iopub.status.idle": "2023-07-18T15:19:30.086098Z",
     "shell.execute_reply": "2023-07-18T15:19:30.084745Z",
     "shell.execute_reply.started": "2023-07-18T15:19:30.079658Z"
    }
   },
   "outputs": [],
   "source": [
    "prohibitory = mul_sup(reaport[prohibitory_indx,:])\n",
    "danger = mul_sup(reaport[danger_indx,:])\n",
    "mandatory = mul_sup(reaport[mandatory_indx,:])\n",
    "other = mul_sup(reaport[other_indx,:])"
   ]
  },
  {
   "cell_type": "code",
   "execution_count": 59,
   "metadata": {
    "execution": {
     "iopub.execute_input": "2023-07-18T15:21:00.475190Z",
     "iopub.status.busy": "2023-07-18T15:21:00.474866Z",
     "iopub.status.idle": "2023-07-18T15:21:00.481416Z",
     "shell.execute_reply": "2023-07-18T15:21:00.480615Z",
     "shell.execute_reply.started": "2023-07-18T15:21:00.475164Z"
    }
   },
   "outputs": [
    {
     "name": "stdout",
     "output_type": "stream",
     "text": [
      "               pre    recall   f1_score sup\n",
      "prohibitory [  98.03   98.27   98.14 5670.  ]\n",
      "mandatory   [  98.94   99.05   98.99 1680.  ]\n",
      "danger      [  95.79   95.45   95.45 2790.  ]\n",
      "other       [  99.07   98.31   98.6  2310.  ]\n"
     ]
    }
   ],
   "source": [
    "print(\"               pre    recall   f1_score sup\")\n",
    "print(\"prohibitory\",prohibitory)\n",
    "print(\"mandatory  \",mandatory)\n",
    "print(\"danger     \",danger)\n",
    "print(\"other      \",other)"
   ]
  }
 ],
 "metadata": {
  "kernelspec": {
   "display_name": "Python 3 (ipykernel)",
   "language": "python",
   "name": "python3"
  },
  "language_info": {
   "codemirror_mode": {
    "name": "ipython",
    "version": 3
   },
   "file_extension": ".py",
   "mimetype": "text/x-python",
   "name": "python",
   "nbconvert_exporter": "python",
   "pygments_lexer": "ipython3",
   "version": "3.10.9"
  }
 },
 "nbformat": 4,
 "nbformat_minor": 4
}
