{
 "cells": [
  {
   "cell_type": "markdown",
   "metadata": {},
   "source": [
    "### Code Implementation"
   ]
  },
  {
   "cell_type": "code",
   "execution_count": 1,
   "metadata": {
    "tags": []
   },
   "outputs": [],
   "source": [
    "# Importing necessary libraries\n",
    "import keras\n",
    "from keras.datasets import mnist\n",
    "from keras.layers import Conv2D, MaxPooling2D\n",
    "from keras.layers import Dense, Flatten\n",
    "from keras.models import Sequential\n",
    "import pickle\n",
    "import numpy as np\n",
    "import cv2\n",
    "from matplotlib import pyplot as plt"
   ]
  },
  {
   "cell_type": "markdown",
   "metadata": {},
   "source": [
    "### Loading Dataset"
   ]
  },
  {
   "cell_type": "code",
   "execution_count": 2,
   "metadata": {},
   "outputs": [],
   "source": [
    "# # Loading the dataset and perform splitting\n",
    "# data_list = []\n",
    "# labels_list = []\n",
    "# classes_list = 43\n",
    "\n",
    "# imgs_path = \"../input/gtsrb-german-traffic-sign/Train\"\n",
    "# for i in range(classes_list):\n",
    "#     i_path = os.path.join(imgs_path, str(i)) #0-42\n",
    "#     for img in os.listdir(i_path):\n",
    "#         im = Image.open(i_path +'/'+ img)\n",
    "#         im = im.resize((32,32))\n",
    "#         im = np.array(im)\n",
    "#         data_list.append(im)\n",
    "#         labels_list.append(i)\n",
    "# data = np.array(data_list)\n",
    "# labels = np.array(labels_list)"
   ]
  },
  {
   "cell_type": "code",
   "execution_count": 2,
   "metadata": {
    "tags": []
   },
   "outputs": [],
   "source": [
    "# Opening file for reading in binary mode\n",
    "#- data3.pickle - Shuffling, /255.0 + Mean + STD Normalization\n",
    "with open('D:\\Project\\Traffic Sign Detection\\DATABASE/data0.pickle', 'rb') as f:\n",
    "    data = pickle.load(f, encoding='latin1')  # dictionary type\n",
    "    \n",
    "    \n",
    "# Making channels come at the end\n",
    "data['x_train'] = data['x_train'].transpose(0, 2, 3, 1)\n",
    "data['x_validation'] = data['x_validation'].transpose(0, 2, 3, 1)\n",
    "data['x_test'] = data['x_test'].transpose(0, 2, 3, 1)\n",
    "\n",
    "train_imgs = data['x_train']\n",
    "test_imgs = data['x_test']\n",
    "valid_imgs = data['x_validation']\n",
    "train_labels = data['y_train']\n",
    "test_labels = data['y_test']\n",
    "valid_labels = data['y_validation']"
   ]
  },
  {
   "cell_type": "code",
   "execution_count": 4,
   "metadata": {},
   "outputs": [
    {
     "data": {
      "text/plain": [
       "array([37, 27, 38, ..., 11, 14, 30], dtype=int64)"
      ]
     },
     "execution_count": 4,
     "metadata": {},
     "output_type": "execute_result"
    }
   ],
   "source": [
    "train_labels"
   ]
  },
  {
   "cell_type": "markdown",
   "metadata": {
    "execution": {
     "iopub.execute_input": "2023-07-03T08:12:55.581244Z",
     "iopub.status.busy": "2023-07-03T08:12:55.580875Z",
     "iopub.status.idle": "2023-07-03T08:12:55.588623Z",
     "shell.execute_reply": "2023-07-03T08:12:55.587576Z",
     "shell.execute_reply.started": "2023-07-03T08:12:55.581207Z"
    }
   },
   "source": [
    "def augment_brightness_camera_images(image):\n",
    "    image1 = cv2.cvtColor(image,cv2.COLOR_RGB2HSV)\n",
    "    plt.imshow(image1)\n",
    "    image1 = np.array(image1, dtype = np.float64)\n",
    "    random_bright = .5+np.random.uniform()\n",
    "    image1[:,:,2] = image1[:,:,2]*random_bright\n",
    "    image1[:,:,2][image1[:,:,2]>255]  = 255\n",
    "    image1 = np.array(image1, dtype = np.uint8)\n",
    "    image1 = cv2.cvtColor(image1,cv2.COLOR_HSV2RGB)\n",
    "    return image1"
   ]
  },
  {
   "cell_type": "markdown",
   "metadata": {
    "execution": {
     "iopub.execute_input": "2023-07-03T08:38:41.049467Z",
     "iopub.status.busy": "2023-07-03T08:38:41.049116Z",
     "iopub.status.idle": "2023-07-03T08:38:41.059062Z",
     "shell.execute_reply": "2023-07-03T08:38:41.057889Z",
     "shell.execute_reply.started": "2023-07-03T08:38:41.049439Z"
    }
   },
   "source": [
    "\n",
    "#new = augment_brightness_camera_images(image)\n",
    "new = preprocess_img(image)\n",
    "#plt.imshow(new)\n",
    "print(new.shape)\n",
    "print(cycle)"
   ]
  },
  {
   "cell_type": "code",
   "execution_count": 3,
   "metadata": {
    "tags": []
   },
   "outputs": [],
   "source": [
    "A = np.array(np.where(train_labels >= 18))\n",
    "A = np.concatenate((A ,np.where(train_labels == 13)), axis = 1)\n",
    "A = np.concatenate((A ,np.where(train_labels == 11)), axis = 1)\n",
    "B = np.array(np.where(train_labels > 31))\n",
    "indx = np.setdiff1d(A, B)\n",
    "\n",
    "A = np.array(np.where(test_labels >= 18)) \n",
    "A = np.concatenate((A ,np.where(test_labels == 13)), axis = 1)\n",
    "A = np.concatenate((A ,np.where(test_labels == 11)), axis = 1)\n",
    "B = np.array(np.where(test_labels > 31))\n",
    "indx1 = np.setdiff1d(A, B)\n",
    "\n",
    "A = np.array(np.where(valid_labels >= 18)) \n",
    "A = np.concatenate((A ,np.where(valid_labels == 13)), axis = 1)\n",
    "A = np.concatenate((A ,np.where(valid_labels == 11)), axis = 1)\n",
    "B = np.array(np.where(valid_labels > 31))\n",
    "indx2 = np.setdiff1d(A, B)\n",
    "\n",
    "tri_X_train = train_imgs[indx]\n",
    "tri_X_test = test_imgs[indx1]\n",
    "tri_X_valid = valid_imgs[indx2]\n",
    "tri_train_labels = train_labels[indx]\n",
    "tri_test_labels = test_labels[indx1]\n",
    "tri_valid_labels = valid_labels[indx2]"
   ]
  },
  {
   "cell_type": "code",
   "execution_count": 6,
   "metadata": {
    "execution": {
     "iopub.execute_input": "2023-07-13T16:11:28.106837Z",
     "iopub.status.busy": "2023-07-13T16:11:28.106323Z",
     "iopub.status.idle": "2023-07-13T16:11:28.115506Z",
     "shell.execute_reply": "2023-07-13T16:11:28.114439Z",
     "shell.execute_reply.started": "2023-07-13T16:11:28.106779Z"
    }
   },
   "outputs": [
    {
     "data": {
      "text/plain": [
       "(32368,)"
      ]
     },
     "execution_count": 6,
     "metadata": {},
     "output_type": "execute_result"
    }
   ],
   "source": [
    "tri_train_labels.shape"
   ]
  },
  {
   "cell_type": "code",
   "execution_count": 4,
   "metadata": {
    "tags": []
   },
   "outputs": [],
   "source": [
    "tri_Dict = {11:0 , 13:1 , 18:2 , 19:3 , 20:4 , 21:5 , 22:6 , 23:7 , 24:8 , 25:9 , 26:10 , 27:11 , 28:12 , 29:13 , 30:14 , 31:15 }\n",
    "tri_train_labels = np.vectorize(tri_Dict.get)(tri_train_labels)\n",
    "tri_test_labels = np.vectorize(tri_Dict.get)(tri_test_labels)\n",
    "tri_valid_labels = np.vectorize(tri_Dict.get)(tri_valid_labels)\n",
    "tri_num_class = 16"
   ]
  },
  {
   "cell_type": "code",
   "execution_count": 8,
   "metadata": {},
   "outputs": [
    {
     "data": {
      "text/plain": [
       "array([11, 12, 13, ...,  2,  0, 14])"
      ]
     },
     "execution_count": 8,
     "metadata": {},
     "output_type": "execute_result"
    }
   ],
   "source": [
    "tri_train_labels"
   ]
  },
  {
   "cell_type": "markdown",
   "metadata": {
    "execution": {
     "iopub.execute_input": "2023-07-03T08:31:25.503579Z",
     "iopub.status.busy": "2023-07-03T08:31:25.503146Z",
     "iopub.status.idle": "2023-07-03T08:31:26.034838Z",
     "shell.execute_reply": "2023-07-03T08:31:26.033867Z",
     "shell.execute_reply.started": "2023-07-03T08:31:25.503549Z"
    }
   },
   "source": [
    "from skimage import color, exposure, transform\n",
    "\n",
    "NUM_CLASSES = 43\n",
    "IMG_SIZE = 48\n",
    "\n",
    "def preprocess_img(img):\n",
    "    # Histogram normalization in v channel\n",
    "    hsv = color.rgb2hsv(img)\n",
    "    hsv[:,:,2] = exposure.equalize_hist(hsv[:,:,2])\n",
    "    img = color.hsv2rgb(hsv)\n",
    "\n",
    "#     # central square crop\n",
    "#     min_side = min(img.shape[:-1])\n",
    "#     centre = img.shape[0]//2, img.shape[1]//2\n",
    "#     img = img[centre[0]-min_side//2:centre[0]+min_side//2,\n",
    "#     centre[1]-min_side//2:centre[1]+min_side//2,\n",
    "#                   :]\n",
    "\n",
    "    # rescale to standard size\n",
    "    img = transform.resize(img, (IMG_SIZE, IMG_SIZE))\n",
    "\n",
    "    # roll color axis to axis 0\n",
    "    img = np.rollaxis(img,-1)\n",
    "\n",
    "    return img"
   ]
  },
  {
   "cell_type": "markdown",
   "metadata": {},
   "source": [
    "### Image Data Preprocessing"
   ]
  },
  {
   "cell_type": "code",
   "execution_count": 10,
   "metadata": {},
   "outputs": [
    {
     "data": {
      "text/plain": [
       "(32368, 32, 32, 3)"
      ]
     },
     "execution_count": 10,
     "metadata": {},
     "output_type": "execute_result"
    }
   ],
   "source": [
    "tri_X_train.shape"
   ]
  },
  {
   "cell_type": "code",
   "execution_count": 5,
   "metadata": {
    "tags": []
   },
   "outputs": [],
   "source": [
    "def CV2HSV(x):\n",
    "    x_train = np.zeros((x.shape[0] , x.shape[1] , x.shape[2] , 3))\n",
    "    for i in range(0 , x.shape[0]):\n",
    "        x_train[i] = cv2.cvtColor(x[i],cv2.COLOR_BGR2HSV)\n",
    "    return x_train\n"
   ]
  },
  {
   "cell_type": "code",
   "execution_count": 6,
   "metadata": {
    "tags": []
   },
   "outputs": [],
   "source": [
    "# Peforming reshaping operation\n",
    "# x_train = gray_train_imgs.reshape(gray_train_imgs.shape[0], 28, 28, 1)\n",
    "# x_test = gray_test_imgs.reshape(gray_test_imgs.shape[0], 28, 28, 1)\n",
    "\n",
    "x_train = (tri_X_train)\n",
    "x_test = (tri_X_test)\n",
    "x_valid = (tri_X_valid)\n",
    "\n",
    "# # Normalization\n",
    "# x_train = x_train / 255\n",
    "# x_test = x_test / 255\n",
    "\n",
    "num_class_shape = 16\n",
    "\n",
    "# One Hot Encoding\n",
    "y_train = keras.utils.to_categorical(tri_train_labels, 16)\n",
    "y_test = keras.utils.to_categorical(tri_test_labels, 16)\n",
    "y_valid = keras.utils.to_categorical(tri_valid_labels, 16)"
   ]
  },
  {
   "cell_type": "code",
   "execution_count": 17,
   "metadata": {},
   "outputs": [
    {
     "name": "stderr",
     "output_type": "stream",
     "text": [
      "Clipping input data to the valid range for imshow with RGB data ([0..1] for floats or [0..255] for integers).\n"
     ]
    },
    {
     "data": {
      "text/plain": [
       "<matplotlib.image.AxesImage at 0x1fa50283040>"
      ]
     },
     "execution_count": 17,
     "metadata": {},
     "output_type": "execute_result"
    },
    {
     "data": {
      "image/png": "[encoded data removed]",
      "text/plain": [
       "<Figure size 640x480 with 1 Axes>"
      ]
     },
     "metadata": {},
     "output_type": "display_data"
    }
   ],
   "source": [
    "plt.imshow(x_train[0])"
   ]
  },
  {
   "cell_type": "code",
   "execution_count": 7,
   "metadata": {
    "tags": []
   },
   "outputs": [],
   "source": [
    "keras.backend.clear_session()"
   ]
  },
  {
   "cell_type": "markdown",
   "metadata": {},
   "source": [
    "### LeNet Model Architecture"
   ]
  },
  {
   "cell_type": "code",
   "execution_count": 8,
   "metadata": {
    "tags": []
   },
   "outputs": [],
   "source": [
    "# Building the Model Architecture\n",
    "# model = Sequential()\n",
    "# model.add(Conv2D(6, kernel_size=(5, 5), activation='relu', input_shape=(32, 32, 3)))#************\n",
    "# model.add(MaxPooling2D(pool_size=(2, 2)))\n",
    "# model.add(Conv2D(16, kernel_size=(5, 5), activation='relu'))\n",
    "# model.add(MaxPooling2D(pool_size=(2, 2)))\n",
    "# model.add(Flatten())\n",
    "# model.add(Dense(120, activation='relu'))\n",
    "# model.add(Dense(84, activation='relu'))\n",
    "# model.add(Dense(16, activation='softmax'))#********************\n",
    "#Definition of the DNN model\n",
    "\n",
    "from keras.models import Sequential\n",
    "from keras.layers import Conv2D, MaxPool2D, Dense, Flatten, Dropout\n",
    "\n",
    "model = Sequential()\n",
    "model.add(Conv2D(filters=32, kernel_size=(5,5), activation='relu', input_shape=x_train.shape[1:]))\n",
    "model.add(Conv2D(filters=64, kernel_size=(3, 3), activation='relu'))\n",
    "model.add(MaxPool2D(pool_size=(2, 2)))\n",
    "model.add(Dropout(rate=0.25))\n",
    "model.add(Conv2D(filters=64, kernel_size=(3, 3), activation='relu'))\n",
    "model.add(MaxPool2D(pool_size=(2, 2)))\n",
    "model.add(Dropout(rate=0.25))\n",
    "model.add(Flatten())\n",
    "model.add(Dense(256, activation='relu'))\n",
    "model.add(Dropout(rate=0.5))\n",
    "model.add(Dense(16, activation='softmax'))\n",
    "\n"
   ]
  },
  {
   "cell_type": "code",
   "execution_count": 9,
   "metadata": {
    "tags": []
   },
   "outputs": [],
   "source": [
    "model.compile(loss=keras.metrics.categorical_crossentropy, optimizer=keras.optimizers.Adam(), metrics=['accuracy'])"
   ]
  },
  {
   "cell_type": "code",
   "execution_count": 22,
   "metadata": {
    "execution": {
     "iopub.execute_input": "2023-07-13T16:18:37.205884Z",
     "iopub.status.busy": "2023-07-13T16:18:37.205490Z",
     "iopub.status.idle": "2023-07-13T16:18:37.211815Z",
     "shell.execute_reply": "2023-07-13T16:18:37.210462Z",
     "shell.execute_reply.started": "2023-07-13T16:18:37.205846Z"
    }
   },
   "outputs": [
    {
     "name": "stdout",
     "output_type": "stream",
     "text": [
      "(32368, 32, 32, 3) (3510, 32, 32, 3)\n"
     ]
    }
   ],
   "source": [
    "print(x_train.shape , x_test.shape)"
   ]
  },
  {
   "cell_type": "code",
   "execution_count": 10,
   "metadata": {
    "tags": []
   },
   "outputs": [
    {
     "name": "stdout",
     "output_type": "stream",
     "text": [
      "Epoch 1/70\n",
      "253/253 [==============================] - 11s 28ms/step - loss: 2.3804 - accuracy: 0.4301 - val_loss: 0.4229 - val_accuracy: 0.9140\n",
      "Epoch 2/70\n",
      "253/253 [==============================] - 6s 26ms/step - loss: 0.4818 - accuracy: 0.8685 - val_loss: 0.2065 - val_accuracy: 0.9620\n",
      "Epoch 3/70\n",
      "253/253 [==============================] - 6s 26ms/step - loss: 0.2578 - accuracy: 0.9284 - val_loss: 0.1912 - val_accuracy: 0.9705\n",
      "Epoch 4/70\n",
      "253/253 [==============================] - 7s 26ms/step - loss: 0.1727 - accuracy: 0.9525 - val_loss: 0.1877 - val_accuracy: 0.9643\n",
      "Epoch 5/70\n",
      "253/253 [==============================] - 7s 26ms/step - loss: 0.1267 - accuracy: 0.9644 - val_loss: 0.1997 - val_accuracy: 0.9705\n",
      "Epoch 6/70\n",
      "253/253 [==============================] - 7s 26ms/step - loss: 0.1169 - accuracy: 0.9680 - val_loss: 0.1895 - val_accuracy: 0.9767\n",
      "Epoch 7/70\n",
      "253/253 [==============================] - 7s 26ms/step - loss: 0.0977 - accuracy: 0.9734 - val_loss: 0.3069 - val_accuracy: 0.9628\n",
      "Epoch 8/70\n",
      "253/253 [==============================] - 7s 26ms/step - loss: 0.0929 - accuracy: 0.9749 - val_loss: 0.2178 - val_accuracy: 0.9752\n",
      "Epoch 9/70\n",
      "253/253 [==============================] - 7s 26ms/step - loss: 0.0666 - accuracy: 0.9812 - val_loss: 0.2211 - val_accuracy: 0.9775\n",
      "Epoch 10/70\n",
      "253/253 [==============================] - 7s 26ms/step - loss: 0.0744 - accuracy: 0.9795 - val_loss: 0.2571 - val_accuracy: 0.9767\n",
      "Epoch 11/70\n",
      "253/253 [==============================] - 7s 26ms/step - loss: 0.0683 - accuracy: 0.9821 - val_loss: 0.3556 - val_accuracy: 0.9721\n",
      "Epoch 12/70\n",
      "253/253 [==============================] - 7s 26ms/step - loss: 0.0690 - accuracy: 0.9817 - val_loss: 0.4153 - val_accuracy: 0.9791\n",
      "Epoch 13/70\n",
      "253/253 [==============================] - 7s 27ms/step - loss: 0.0747 - accuracy: 0.9804 - val_loss: 0.2514 - val_accuracy: 0.9667\n",
      "Epoch 14/70\n",
      "253/253 [==============================] - 7s 26ms/step - loss: 0.0586 - accuracy: 0.9837 - val_loss: 0.2667 - val_accuracy: 0.9752\n",
      "Epoch 15/70\n",
      "253/253 [==============================] - 7s 26ms/step - loss: 0.0584 - accuracy: 0.9850 - val_loss: 0.2377 - val_accuracy: 0.9775\n",
      "Epoch 16/70\n",
      "253/253 [==============================] - 7s 27ms/step - loss: 0.0586 - accuracy: 0.9859 - val_loss: 0.2032 - val_accuracy: 0.9752\n",
      "Epoch 17/70\n",
      "253/253 [==============================] - 7s 26ms/step - loss: 0.0619 - accuracy: 0.9840 - val_loss: 0.2768 - val_accuracy: 0.9698\n",
      "Epoch 18/70\n",
      "253/253 [==============================] - 7s 26ms/step - loss: 0.0557 - accuracy: 0.9852 - val_loss: 0.2272 - val_accuracy: 0.9667\n",
      "Epoch 19/70\n",
      "253/253 [==============================] - 7s 26ms/step - loss: 0.0621 - accuracy: 0.9842 - val_loss: 0.2721 - val_accuracy: 0.9705\n",
      "Epoch 20/70\n",
      "253/253 [==============================] - 7s 26ms/step - loss: 0.0533 - accuracy: 0.9864 - val_loss: 0.1954 - val_accuracy: 0.9845\n",
      "Epoch 21/70\n",
      "253/253 [==============================] - 7s 26ms/step - loss: 0.0530 - accuracy: 0.9867 - val_loss: 0.2867 - val_accuracy: 0.9736\n",
      "Epoch 22/70\n",
      "253/253 [==============================] - 7s 26ms/step - loss: 0.0585 - accuracy: 0.9848 - val_loss: 0.1608 - val_accuracy: 0.9822\n",
      "Epoch 23/70\n",
      "253/253 [==============================] - 7s 26ms/step - loss: 0.0545 - accuracy: 0.9866 - val_loss: 0.2200 - val_accuracy: 0.9721\n",
      "Epoch 24/70\n",
      "253/253 [==============================] - 7s 27ms/step - loss: 0.0517 - accuracy: 0.9879 - val_loss: 0.3307 - val_accuracy: 0.9791\n",
      "Epoch 25/70\n",
      "253/253 [==============================] - 7s 27ms/step - loss: 0.0551 - accuracy: 0.9866 - val_loss: 0.2255 - val_accuracy: 0.9744\n",
      "Epoch 26/70\n",
      "253/253 [==============================] - 7s 27ms/step - loss: 0.0553 - accuracy: 0.9865 - val_loss: 0.2793 - val_accuracy: 0.9736\n",
      "Epoch 27/70\n",
      "253/253 [==============================] - 7s 27ms/step - loss: 0.0443 - accuracy: 0.9899 - val_loss: 0.2227 - val_accuracy: 0.9791\n",
      "Epoch 28/70\n",
      "253/253 [==============================] - 7s 27ms/step - loss: 0.0529 - accuracy: 0.9880 - val_loss: 0.2696 - val_accuracy: 0.9760\n",
      "Epoch 29/70\n",
      "253/253 [==============================] - 7s 27ms/step - loss: 0.0598 - accuracy: 0.9855 - val_loss: 0.2401 - val_accuracy: 0.9791\n",
      "Epoch 30/70\n",
      "253/253 [==============================] - 7s 27ms/step - loss: 0.0536 - accuracy: 0.9879 - val_loss: 0.3590 - val_accuracy: 0.9674\n",
      "Epoch 31/70\n",
      "253/253 [==============================] - 7s 27ms/step - loss: 0.0602 - accuracy: 0.9867 - val_loss: 0.1789 - val_accuracy: 0.9837\n",
      "Epoch 32/70\n",
      "253/253 [==============================] - 7s 27ms/step - loss: 0.0438 - accuracy: 0.9901 - val_loss: 0.2421 - val_accuracy: 0.9783\n",
      "Epoch 33/70\n",
      "253/253 [==============================] - 7s 27ms/step - loss: 0.0456 - accuracy: 0.9905 - val_loss: 0.2930 - val_accuracy: 0.9775\n",
      "Epoch 34/70\n",
      "253/253 [==============================] - 7s 27ms/step - loss: 0.0469 - accuracy: 0.9894 - val_loss: 0.2507 - val_accuracy: 0.9775\n",
      "Epoch 35/70\n",
      "253/253 [==============================] - 7s 26ms/step - loss: 0.0467 - accuracy: 0.9889 - val_loss: 0.2921 - val_accuracy: 0.9814\n",
      "Epoch 36/70\n",
      "253/253 [==============================] - 7s 26ms/step - loss: 0.0635 - accuracy: 0.9873 - val_loss: 0.2069 - val_accuracy: 0.9806\n",
      "Epoch 37/70\n",
      "253/253 [==============================] - 7s 26ms/step - loss: 0.0641 - accuracy: 0.9875 - val_loss: 0.2202 - val_accuracy: 0.9775\n",
      "Epoch 38/70\n",
      "253/253 [==============================] - 7s 26ms/step - loss: 0.0504 - accuracy: 0.9899 - val_loss: 0.3246 - val_accuracy: 0.9783\n",
      "Epoch 39/70\n",
      "253/253 [==============================] - 7s 26ms/step - loss: 0.0498 - accuracy: 0.9894 - val_loss: 0.2154 - val_accuracy: 0.9814\n",
      "Epoch 40/70\n",
      "253/253 [==============================] - 7s 26ms/step - loss: 0.0554 - accuracy: 0.9875 - val_loss: 0.2553 - val_accuracy: 0.9767\n",
      "Epoch 41/70\n",
      "253/253 [==============================] - 7s 26ms/step - loss: 0.0321 - accuracy: 0.9923 - val_loss: 0.3360 - val_accuracy: 0.9791\n",
      "Epoch 42/70\n",
      "253/253 [==============================] - 7s 26ms/step - loss: 0.0744 - accuracy: 0.9871 - val_loss: 0.3851 - val_accuracy: 0.9628\n",
      "Epoch 43/70\n",
      "253/253 [==============================] - 7s 26ms/step - loss: 0.0489 - accuracy: 0.9898 - val_loss: 0.3850 - val_accuracy: 0.9713\n",
      "Epoch 44/70\n",
      "253/253 [==============================] - 7s 26ms/step - loss: 0.0582 - accuracy: 0.9887 - val_loss: 0.4072 - val_accuracy: 0.9752\n",
      "Epoch 45/70\n",
      "253/253 [==============================] - 7s 26ms/step - loss: 0.0650 - accuracy: 0.9879 - val_loss: 0.4169 - val_accuracy: 0.9760\n",
      "Epoch 46/70\n",
      "253/253 [==============================] - 7s 26ms/step - loss: 0.0559 - accuracy: 0.9888 - val_loss: 0.3055 - val_accuracy: 0.9713\n",
      "Epoch 47/70\n",
      "253/253 [==============================] - 7s 26ms/step - loss: 0.0601 - accuracy: 0.9889 - val_loss: 0.4857 - val_accuracy: 0.9682\n",
      "Epoch 48/70\n",
      "253/253 [==============================] - 7s 26ms/step - loss: 0.0623 - accuracy: 0.9882 - val_loss: 0.4037 - val_accuracy: 0.9798\n",
      "Epoch 49/70\n",
      "253/253 [==============================] - 7s 26ms/step - loss: 0.0530 - accuracy: 0.9910 - val_loss: 0.5596 - val_accuracy: 0.9419\n",
      "Epoch 50/70\n",
      "253/253 [==============================] - 7s 27ms/step - loss: 0.0493 - accuracy: 0.9908 - val_loss: 0.2231 - val_accuracy: 0.9814\n",
      "Epoch 51/70\n",
      "253/253 [==============================] - 7s 27ms/step - loss: 0.0476 - accuracy: 0.9912 - val_loss: 0.3705 - val_accuracy: 0.9783\n",
      "Epoch 52/70\n",
      "253/253 [==============================] - 7s 26ms/step - loss: 0.0644 - accuracy: 0.9889 - val_loss: 0.5166 - val_accuracy: 0.9690\n",
      "Epoch 53/70\n",
      "253/253 [==============================] - 7s 26ms/step - loss: 0.0580 - accuracy: 0.9902 - val_loss: 0.2945 - val_accuracy: 0.9791\n",
      "Epoch 54/70\n",
      "253/253 [==============================] - 7s 26ms/step - loss: 0.0586 - accuracy: 0.9889 - val_loss: 0.3482 - val_accuracy: 0.9760\n",
      "Epoch 55/70\n",
      "253/253 [==============================] - 7s 26ms/step - loss: 0.0565 - accuracy: 0.9909 - val_loss: 0.3785 - val_accuracy: 0.9791\n",
      "Epoch 56/70\n",
      "253/253 [==============================] - 7s 26ms/step - loss: 0.0800 - accuracy: 0.9871 - val_loss: 0.2461 - val_accuracy: 0.9798\n",
      "Epoch 57/70\n",
      "253/253 [==============================] - 7s 26ms/step - loss: 0.0490 - accuracy: 0.9912 - val_loss: 0.2572 - val_accuracy: 0.9814\n",
      "Epoch 58/70\n",
      "253/253 [==============================] - 7s 26ms/step - loss: 0.0566 - accuracy: 0.9902 - val_loss: 0.2748 - val_accuracy: 0.9767\n",
      "Epoch 59/70\n",
      "253/253 [==============================] - 7s 27ms/step - loss: 0.0690 - accuracy: 0.9895 - val_loss: 0.2611 - val_accuracy: 0.9752\n",
      "Epoch 60/70\n",
      "253/253 [==============================] - 7s 26ms/step - loss: 0.0792 - accuracy: 0.9876 - val_loss: 0.3481 - val_accuracy: 0.9760\n",
      "Epoch 61/70\n",
      "253/253 [==============================] - 7s 26ms/step - loss: 0.0706 - accuracy: 0.9886 - val_loss: 0.2514 - val_accuracy: 0.9822\n",
      "Epoch 62/70\n",
      "253/253 [==============================] - 7s 26ms/step - loss: 0.0380 - accuracy: 0.9926 - val_loss: 0.3985 - val_accuracy: 0.9752\n",
      "Epoch 63/70\n",
      "253/253 [==============================] - 7s 26ms/step - loss: 0.0377 - accuracy: 0.9934 - val_loss: 0.3925 - val_accuracy: 0.9829\n",
      "Epoch 64/70\n",
      "253/253 [==============================] - 7s 26ms/step - loss: 0.0645 - accuracy: 0.9882 - val_loss: 0.2797 - val_accuracy: 0.9760\n",
      "Epoch 65/70\n",
      "253/253 [==============================] - 7s 26ms/step - loss: 0.0761 - accuracy: 0.9888 - val_loss: 0.5061 - val_accuracy: 0.9682\n",
      "Epoch 66/70\n",
      "253/253 [==============================] - 7s 26ms/step - loss: 0.0720 - accuracy: 0.9894 - val_loss: 0.2272 - val_accuracy: 0.9822\n",
      "Epoch 67/70\n",
      "253/253 [==============================] - 7s 26ms/step - loss: 0.0448 - accuracy: 0.9930 - val_loss: 0.3095 - val_accuracy: 0.9775\n",
      "Epoch 68/70\n",
      "253/253 [==============================] - 7s 26ms/step - loss: 0.0586 - accuracy: 0.9912 - val_loss: 0.2252 - val_accuracy: 0.9806\n",
      "Epoch 69/70\n",
      "253/253 [==============================] - 7s 26ms/step - loss: 0.0463 - accuracy: 0.9918 - val_loss: 0.3421 - val_accuracy: 0.9783\n",
      "Epoch 70/70\n",
      "253/253 [==============================] - 7s 26ms/step - loss: 0.0525 - accuracy: 0.9920 - val_loss: 0.3248 - val_accuracy: 0.9822\n"
     ]
    },
    {
     "data": {
      "text/plain": [
       "<keras.callbacks.History at 0x20d3ada5270>"
      ]
     },
     "execution_count": 10,
     "metadata": {},
     "output_type": "execute_result"
    }
   ],
   "source": [
    "model.fit(x_train, y_train, batch_size=128, epochs=70, verbose=1, validation_data=(x_valid, y_valid))"
   ]
  },
  {
   "cell_type": "code",
   "execution_count": 24,
   "metadata": {},
   "outputs": [
    {
     "name": "stdout",
     "output_type": "stream",
     "text": [
      "110/110 [==============================] - 1s 12ms/step - loss: 0.8092 - accuracy: 0.8373\n",
      "Test Loss: 0.8091970682144165\n",
      "Test accuracy: 0.837321937084198\n"
     ]
    }
   ],
   "source": [
    "score = model.evaluate(x_test, y_test)\n",
    "print('Test Loss:', score[0])\n",
    "print('Test accuracy:', score[1])"
   ]
  },
  {
   "cell_type": "code",
   "execution_count": 27,
   "metadata": {
    "execution": {
     "iopub.execute_input": "2023-07-13T16:15:58.783276Z",
     "iopub.status.busy": "2023-07-13T16:15:58.782916Z",
     "iopub.status.idle": "2023-07-13T16:15:58.836247Z",
     "shell.execute_reply": "2023-07-13T16:15:58.835263Z",
     "shell.execute_reply.started": "2023-07-13T16:15:58.783243Z"
    }
   },
   "outputs": [],
   "source": [
    "model_pkl_file = \"D:\\\\Project\\\\Traffic Sign Detection\\\\TrainedMOdel\\\\final\\\\tri_classifier_model_HSV_acc83.h5\"\n",
    "model.save(model_pkl_file)\n"
   ]
  },
  {
   "cell_type": "code",
   "execution_count": 31,
   "metadata": {
    "execution": {
     "iopub.execute_input": "2023-07-13T16:11:38.267217Z",
     "iopub.status.busy": "2023-07-13T16:11:38.266860Z",
     "iopub.status.idle": "2023-07-13T16:11:44.427680Z",
     "shell.execute_reply": "2023-07-13T16:11:44.426710Z",
     "shell.execute_reply.started": "2023-07-13T16:11:38.267187Z"
    }
   },
   "outputs": [
    {
     "name": "stdout",
     "output_type": "stream",
     "text": [
      "110/110 [==============================] - 1s 9ms/step - loss: 320.6290 - accuracy: 0.1197\n",
      "Test Loss: 320.62896728515625\n",
      "Test accuracy: 0.11965811997652054\n"
     ]
    }
   ],
   "source": [
    "from keras.models import load_model\n",
    "\n",
    "model = load_model(\"D:\\\\Project\\\\Traffic Sign Detection\\\\TrainedMOdel\\\\final\\\\tri_classifier_model_acc96.h5\")\n",
    "\n",
    "score = model.evaluate(x_test, y_test)\n",
    "print('Test Loss:', score[0])\n",
    "print('Test accuracy:', score[1])"
   ]
  },
  {
   "cell_type": "markdown",
   "metadata": {},
   "source": [
    "## Hope you like it!"
   ]
  },
  {
   "cell_type": "code",
   "execution_count": null,
   "metadata": {},
   "outputs": [],
   "source": [
    "from matplotlib import pyplot as plt\n",
    "image = x_train[65:66,:,:]#.transpose(2 , 0 ,1)\n",
    "plt.imshow(image[0].reshape((32,32,3)))\n",
    "plt.show()\n",
    "#y = model.predict_classes(image)\n",
    "y = (model.predict(image) > 0.5).astype(\"int32\")\n",
    "print(y[0])\n",
    "print(y_train[65:66])"
   ]
  },
  {
   "cell_type": "code",
   "execution_count": null,
   "metadata": {},
   "outputs": [],
   "source": [
    "image[0].reshape((32,32)).shape"
   ]
  },
  {
   "cell_type": "code",
   "execution_count": null,
   "metadata": {},
   "outputs": [],
   "source": [
    "import numpy\n",
    "x = numpy.where(gray_train_labels == 2)"
   ]
  }
 ],
 "metadata": {
  "kernelspec": {
   "display_name": "Python 3 (ipykernel)",
   "language": "python",
   "name": "python3"
  },
  "language_info": {
   "codemirror_mode": {
    "name": "ipython",
    "version": 3
   },
   "file_extension": ".py",
   "mimetype": "text/x-python",
   "name": "python",
   "nbconvert_exporter": "python",
   "pygments_lexer": "ipython3",
   "version": "3.10.9"
  }
 },
 "nbformat": 4,
 "nbformat_minor": 4
}
