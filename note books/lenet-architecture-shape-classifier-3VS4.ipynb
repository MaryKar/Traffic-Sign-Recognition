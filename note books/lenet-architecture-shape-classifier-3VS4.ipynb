{
 "cells": [
  {
   "cell_type": "markdown",
   "metadata": {
    "papermill": {
     "duration": 0.01559,
     "end_time": "2023-06-28T13:04:32.116795",
     "exception": false,
     "start_time": "2023-06-28T13:04:32.101205",
     "status": "completed"
    },
    "tags": []
   },
   "source": [
    "### Code Implementation"
   ]
  },
  {
   "cell_type": "code",
   "execution_count": 13,
   "metadata": {
    "papermill": {
     "duration": 0.065526,
     "end_time": "2023-06-28T13:04:32.197819",
     "exception": false,
     "start_time": "2023-06-28T13:04:32.132293",
     "status": "completed"
    },
    "tags": []
   },
   "outputs": [],
   "source": [
    "# Importing necessary libraries\n",
    "import keras\n",
    "from keras.datasets import mnist\n",
    "from keras.layers import Conv2D, MaxPooling2D\n",
    "from keras.layers import Dense, Flatten\n",
    "from keras.models import Sequential\n",
    "from sklearn.model_selection import train_test_split\n",
    "from matplotlib import pyplot as plt\n",
    "import pickle"
   ]
  },
  {
   "cell_type": "markdown",
   "metadata": {
    "papermill": {
     "duration": 0.01538,
     "end_time": "2023-06-28T13:04:32.228435",
     "exception": false,
     "start_time": "2023-06-28T13:04:32.213055",
     "status": "completed"
    },
    "tags": []
   },
   "source": [
    "### Loading Dataset"
   ]
  },
  {
   "cell_type": "code",
   "execution_count": 2,
   "metadata": {
    "execution": {
     "iopub.execute_input": "2023-06-28T13:04:32.263133Z",
     "iopub.status.busy": "2023-06-28T13:04:32.262361Z",
     "iopub.status.idle": "2023-06-28T13:04:32.265550Z",
     "shell.execute_reply": "2023-06-28T13:04:32.264973Z"
    },
    "papermill": {
     "duration": 0.02181,
     "end_time": "2023-06-28T13:04:32.265648",
     "exception": false,
     "start_time": "2023-06-28T13:04:32.243838",
     "status": "completed"
    },
    "tags": []
   },
   "outputs": [],
   "source": [
    "# # Loading the dataset and perform splitting\n",
    "# data_list = []\n",
    "# labels_list = []\n",
    "# classes_list = 43\n",
    "\n",
    "# imgs_path = \"../input/gtsrb-german-traffic-sign/Train\"\n",
    "# for i in range(classes_list):\n",
    "#     i_path = os.path.join(imgs_path, str(i)) #0-42\n",
    "#     for img in os.listdir(i_path):\n",
    "#         im = Image.open(i_path +'/'+ img)\n",
    "#         im = im.resize((32,32))\n",
    "#         im = np.array(im)\n",
    "#         data_list.append(im)\n",
    "#         labels_list.append(i)\n",
    "# data = np.array(data_list)\n",
    "# labels = np.array(labels_list)"
   ]
  },
  {
   "cell_type": "code",
   "execution_count": 2,
   "metadata": {
    "papermill": {
     "duration": 4.663351,
     "end_time": "2023-06-28T13:04:36.946429",
     "exception": false,
     "start_time": "2023-06-28T13:04:32.283078",
     "status": "completed"
    },
    "tags": []
   },
   "outputs": [],
   "source": [
    "# Opening file for reading in binary mode\n",
    "with open('D:\\Project\\Traffic Sign Detection\\DATABASE/data8.pickle', 'rb') as f:\n",
    "    gray_data = pickle.load(f, encoding='latin1')  # dictionary type\n",
    "    \n",
    "    \n",
    "# Making channels come at the end\n",
    "gray_data['x_train'] = gray_data['x_train'].transpose(0, 2, 3, 1)\n",
    "gray_data['x_validation'] = gray_data['x_validation'].transpose(0, 2, 3, 1)\n",
    "gray_data['x_test'] = gray_data['x_test'].transpose(0, 2, 3, 1)\n",
    "\n",
    "gray_train_imgs = gray_data['x_train']\n",
    "gray_test_imgs = gray_data['x_test']\n",
    "gray_train_labels = gray_data['y_train']\n",
    "gray_test_labels = gray_data['y_test']\n",
    "gray_valid_imgs = gray_data['x_validation']\n",
    "gray_valid_labels = gray_data['y_validation']"
   ]
  },
  {
   "cell_type": "code",
   "execution_count": 3,
   "metadata": {
    "papermill": {
     "duration": 0.034592,
     "end_time": "2023-06-28T13:04:36.997436",
     "exception": false,
     "start_time": "2023-06-28T13:04:36.962844",
     "status": "completed"
    },
    "tags": []
   },
   "outputs": [],
   "source": [
    "gray_train_labels[gray_train_labels <= 10] = 2 #cycle\n",
    "gray_train_labels[gray_train_labels >= 32] = 2 #cycle\n",
    "gray_train_labels[(gray_train_labels == 15) |(gray_train_labels == 16)| (gray_train_labels ==17)] = 2 #cycle\n",
    "gray_train_labels[(gray_train_labels >= 18) & (gray_train_labels <= 31)] = 0 #triangle\n",
    "gray_train_labels[(gray_train_labels == 13) | (gray_train_labels == 11)] = 0 #triangle\n",
    "gray_train_labels[gray_train_labels == 14] = 3 # 6\n",
    "gray_train_labels[gray_train_labels == 12] = 1 # 4\n",
    "\n",
    "\n",
    "gray_test_labels[gray_test_labels <= 10] = 2 #cycle\n",
    "gray_test_labels[gray_test_labels >= 32] = 2 #cycle\n",
    "gray_test_labels[(gray_test_labels == 15) |(gray_test_labels == 16)| (gray_test_labels ==17)] = 2 #cycle\n",
    "gray_test_labels[(gray_test_labels >= 18) & (gray_test_labels <= 31)] = 0 #triangle\n",
    "gray_test_labels[(gray_test_labels == 13) | (gray_test_labels == 11)] = 0 #triangle\n",
    "gray_test_labels[gray_test_labels == 14] = 3 # 6\n",
    "gray_test_labels[gray_test_labels == 12] = 1 # 4\n",
    "\n",
    "\n",
    "gray_valid_labels[gray_valid_labels <= 10] = 2 #cycle\n",
    "gray_valid_labels[gray_valid_labels >= 32] = 2 #cycle\n",
    "gray_valid_labels[(gray_valid_labels == 15) |(gray_valid_labels == 16)| (gray_valid_labels ==17)] = 2 #cycle\n",
    "gray_valid_labels[(gray_valid_labels >= 18) & (gray_valid_labels <= 31)] = 0 #triangle\n",
    "gray_valid_labels[(gray_valid_labels == 13) | (gray_valid_labels == 11)] = 0 #triangle\n",
    "gray_valid_labels[gray_valid_labels == 14] = 3 # 6\n",
    "gray_valid_labels[gray_valid_labels == 12] = 1 # 4"
   ]
  },
  {
   "cell_type": "code",
   "execution_count": 4,
   "metadata": {
    "tags": []
   },
   "outputs": [],
   "source": [
    "y_test = gray_test_labels[(gray_test_labels == 0 )|(gray_test_labels == 1) ] \n",
    "y_train = gray_train_labels[(gray_train_labels == 0 )|(gray_train_labels == 1) ]\n",
    "y_valid = gray_valid_labels[(gray_valid_labels == 0 )|(gray_valid_labels == 1) ]"
   ]
  },
  {
   "cell_type": "markdown",
   "metadata": {
    "papermill": {
     "duration": 0.016132,
     "end_time": "2023-06-28T13:04:37.070374",
     "exception": false,
     "start_time": "2023-06-28T13:04:37.054242",
     "status": "completed"
    },
    "tags": []
   },
   "source": [
    "### Image Data Preprocessing"
   ]
  },
  {
   "cell_type": "code",
   "execution_count": 5,
   "metadata": {
    "papermill": {
     "duration": 0.027648,
     "end_time": "2023-06-28T13:04:37.113982",
     "exception": false,
     "start_time": "2023-06-28T13:04:37.086334",
     "status": "completed"
    },
    "tags": []
   },
   "outputs": [],
   "source": [
    "# Peforming reshaping operation\n",
    "# x_train = gray_train_imgs.reshape(gray_train_imgs.shape[0], 28, 28, 1)\n",
    "# x_test = gray_test_imgs.reshape(gray_test_imgs.shape[0], 28, 28, 1)\n",
    "\n",
    "x_train = gray_train_imgs[(gray_train_labels == 0 )|(gray_train_labels == 1)]\n",
    "x_test = gray_test_imgs[(gray_test_labels == 0 )|(gray_test_labels == 1)] \n",
    "x_valid = gray_valid_imgs[(gray_valid_labels == 0 )|(gray_valid_labels == 1)] \n",
    "# # Normalization\n",
    "# x_train = x_train / 255\n",
    "# x_test = x_test / 255\n",
    "\n",
    "num_class_shape = 2\n",
    "\n",
    "# One Hot Encoding\n",
    "y_train = keras.utils.to_categorical(y_train, num_class_shape)\n",
    "y_test = keras.utils.to_categorical(y_test, num_class_shape)\n",
    "y_valid = keras.utils.to_categorical(y_valid, num_class_shape)"
   ]
  },
  {
   "cell_type": "code",
   "execution_count": 7,
   "metadata": {},
   "outputs": [],
   "source": [
    "a, x_train, b, y_train = train_test_split(x_train, y_train, test_size=0.36, random_state=42)"
   ]
  },
  {
   "cell_type": "markdown",
   "metadata": {
    "papermill": {
     "duration": 0.015957,
     "end_time": "2023-06-28T13:04:37.145775",
     "exception": false,
     "start_time": "2023-06-28T13:04:37.129818",
     "status": "completed"
    },
    "tags": []
   },
   "source": [
    "### LeNet Model Architecture"
   ]
  },
  {
   "cell_type": "code",
   "execution_count": 16,
   "metadata": {
    "tags": []
   },
   "outputs": [],
   "source": [
    "keras.backend.clear_session()"
   ]
  },
  {
   "cell_type": "code",
   "execution_count": 17,
   "metadata": {
    "papermill": {
     "duration": 3.57747,
     "end_time": "2023-06-28T13:04:40.739594",
     "exception": false,
     "start_time": "2023-06-28T13:04:37.162124",
     "status": "completed"
    },
    "tags": []
   },
   "outputs": [],
   "source": [
    "# Building the Model Architecture\n",
    "model = Sequential()\n",
    "# Select 6 feature convolution kernels with a size of 5 * 5 (without offset), and get 66 feature maps. The size of each feature map is 32−5 + 1 = 2832−5 + 1 = 28.\n",
    "# That is, the number of neurons has been reduced from 10241024 to 28 ∗ 28 = 784 28 ∗ 28 = 784.\n",
    "# Parameters between input layer and C1 layer: 6 ∗ (5 ∗ 5 + 1)\n",
    "model.add(Conv2D(6, kernel_size=(5, 5), activation='relu', input_shape=(32, 32, 1)))\n",
    "# The input of this layer is the output of the first layer, which is a 28 * 28 * 6 node matrix.\n",
    "# The size of the filter used in this layer is 2 * 2, and the step length and width are both 2, so the output matrix size of this layer is 14 * 14 * 6.\n",
    "model.add(MaxPooling2D(pool_size=(2, 2)))\n",
    "# The input matrix size of this layer is 14 * 14 * 6, the filter size used is 5 * 5, and the depth is 16. This layer does not use all 0 padding, and the step size is 1.\n",
    "# The output matrix size of this layer is 10 * 10 * 16. This layer has 5 * 5 * 6 * 16 + 16 = 2416 parameters\n",
    "model.add(Conv2D(16, kernel_size=(5, 5), activation='relu'))\n",
    "# The input matrix size of this layer is 10 * 10 * 16. The size of the filter used in this layer is 2 * 2, and the length and width steps are both 2, so the output matrix size of this layer is 5 * 5 * 16.\n",
    "model.add(MaxPooling2D(pool_size=(2, 2)))\n",
    "# The input matrix size of this layer is 5 * 5 * 16. This layer is called a convolution layer in the LeNet-5 paper, but because the size of the filter is 5 * 5, #\n",
    "# So it is not different from the fully connected layer. If the nodes in the 5 * 5 * 16 matrix are pulled into a vector, then this layer is the same as the fully connected layer.\n",
    "# The number of output nodes in this layer is 120, with a total of 5 * 5 * 16 * 120 + 120 = 48120 parameters.\n",
    "model.add(Flatten())\n",
    "model.add(Dense(120, activation='relu'))\n",
    "# The number of input nodes in this layer is 120 and the number of output nodes is 84. The total parameter is 120 * 84 + 84 = 10164 (w + b)\n",
    "model.add(Dense(84, activation='relu'))\n",
    "# The number of input nodes in this layer is 84 and the number of output nodes is 10. The total parameter is 84 * 10 + 10 = 850\n",
    "model.add(Dense(2, activation='softmax'))"
   ]
  },
  {
   "cell_type": "code",
   "execution_count": 18,
   "metadata": {
    "papermill": {
     "duration": 0.033231,
     "end_time": "2023-06-28T13:04:40.792763",
     "exception": false,
     "start_time": "2023-06-28T13:04:40.759532",
     "status": "completed"
    },
    "tags": []
   },
   "outputs": [],
   "source": [
    "model.compile(loss=keras.metrics.categorical_crossentropy, optimizer=keras.optimizers.Adam(), metrics=['accuracy'])"
   ]
  },
  {
   "cell_type": "code",
   "execution_count": 19,
   "metadata": {
    "papermill": {
     "duration": 58.097776,
     "end_time": "2023-06-28T13:05:38.907688",
     "exception": false,
     "start_time": "2023-06-28T13:04:40.809912",
     "status": "completed"
    },
    "tags": []
   },
   "outputs": [
    {
     "name": "stdout",
     "output_type": "stream",
     "text": [
      "Epoch 1/20\n",
      "269/269 [==============================] - 4s 11ms/step - loss: 0.0459 - accuracy: 0.9857 - val_loss: 0.0036 - val_accuracy: 0.9987\n",
      "Epoch 2/20\n",
      "269/269 [==============================] - 3s 10ms/step - loss: 0.0059 - accuracy: 0.9984 - val_loss: 6.6207e-04 - val_accuracy: 1.0000\n",
      "Epoch 3/20\n",
      "269/269 [==============================] - 3s 9ms/step - loss: 0.0028 - accuracy: 0.9991 - val_loss: 6.2017e-04 - val_accuracy: 1.0000\n",
      "Epoch 4/20\n",
      "269/269 [==============================] - 3s 10ms/step - loss: 0.0014 - accuracy: 0.9995 - val_loss: 0.0028 - val_accuracy: 0.9987\n",
      "Epoch 5/20\n",
      "269/269 [==============================] - 3s 10ms/step - loss: 0.0015 - accuracy: 0.9995 - val_loss: 0.0024 - val_accuracy: 0.9987\n",
      "Epoch 6/20\n",
      "269/269 [==============================] - 3s 10ms/step - loss: 2.5625e-04 - accuracy: 1.0000 - val_loss: 0.0022 - val_accuracy: 0.9993\n",
      "Epoch 7/20\n",
      "269/269 [==============================] - 3s 10ms/step - loss: 5.4655e-05 - accuracy: 1.0000 - val_loss: 3.7556e-04 - val_accuracy: 1.0000\n",
      "Epoch 8/20\n",
      "269/269 [==============================] - 3s 10ms/step - loss: 1.0804e-05 - accuracy: 1.0000 - val_loss: 1.3393e-04 - val_accuracy: 1.0000\n",
      "Epoch 9/20\n",
      "269/269 [==============================] - 3s 10ms/step - loss: 7.6657e-06 - accuracy: 1.0000 - val_loss: 1.6416e-04 - val_accuracy: 1.0000\n",
      "Epoch 10/20\n",
      "269/269 [==============================] - 3s 9ms/step - loss: 4.7711e-06 - accuracy: 1.0000 - val_loss: 1.0942e-04 - val_accuracy: 1.0000\n",
      "Epoch 11/20\n",
      "269/269 [==============================] - 3s 10ms/step - loss: 3.9713e-06 - accuracy: 1.0000 - val_loss: 1.1747e-04 - val_accuracy: 1.0000\n",
      "Epoch 12/20\n",
      "269/269 [==============================] - 3s 10ms/step - loss: 2.9138e-06 - accuracy: 1.0000 - val_loss: 9.5012e-05 - val_accuracy: 1.0000\n",
      "Epoch 13/20\n",
      "269/269 [==============================] - 3s 10ms/step - loss: 2.2795e-06 - accuracy: 1.0000 - val_loss: 9.3366e-05 - val_accuracy: 1.0000\n",
      "Epoch 14/20\n",
      "269/269 [==============================] - 3s 10ms/step - loss: 1.7444e-06 - accuracy: 1.0000 - val_loss: 8.9444e-05 - val_accuracy: 1.0000\n",
      "Epoch 15/20\n",
      "269/269 [==============================] - 3s 9ms/step - loss: 1.2832e-06 - accuracy: 1.0000 - val_loss: 7.2275e-05 - val_accuracy: 1.0000\n",
      "Epoch 16/20\n",
      "269/269 [==============================] - 3s 10ms/step - loss: 1.0108e-06 - accuracy: 1.0000 - val_loss: 7.0801e-05 - val_accuracy: 1.0000\n",
      "Epoch 17/20\n",
      "269/269 [==============================] - 3s 10ms/step - loss: 7.4419e-07 - accuracy: 1.0000 - val_loss: 7.9426e-05 - val_accuracy: 1.0000\n",
      "Epoch 18/20\n",
      "269/269 [==============================] - 3s 10ms/step - loss: 5.6193e-07 - accuracy: 1.0000 - val_loss: 7.2062e-05 - val_accuracy: 1.0000\n",
      "Epoch 19/20\n",
      "269/269 [==============================] - 3s 10ms/step - loss: 4.2069e-07 - accuracy: 1.0000 - val_loss: 5.4879e-05 - val_accuracy: 1.0000\n",
      "Epoch 20/20\n",
      "269/269 [==============================] - 3s 12ms/step - loss: 3.1561e-07 - accuracy: 1.0000 - val_loss: 6.9665e-05 - val_accuracy: 1.0000\n"
     ]
    }
   ],
   "source": [
    "history = model.fit(x_train, y_train, batch_size=128, epochs=20, verbose=1 ,  validation_data=(x_valid, y_valid))"
   ]
  },
  {
   "cell_type": "markdown",
   "metadata": {},
   "source": [
    "### all data"
   ]
  },
  {
   "cell_type": "code",
   "execution_count": 10,
   "metadata": {
    "papermill": {
     "duration": 1.339139,
     "end_time": "2023-06-28T13:05:40.596400",
     "exception": false,
     "start_time": "2023-06-28T13:05:39.257261",
     "status": "completed"
    },
    "tags": []
   },
   "outputs": [
    {
     "name": "stdout",
     "output_type": "stream",
     "text": [
      "132/132 [==============================] - 1s 7ms/step - loss: 0.0039 - accuracy: 0.9990\n",
      "Test Loss: 0.003947410266846418\n",
      "Test accuracy: 0.9990476369857788\n"
     ]
    }
   ],
   "source": [
    "score = model.evaluate(x_test, y_test)\n",
    "print('Test Loss:', score[0])\n",
    "print('Test accuracy:', score[1])"
   ]
  },
  {
   "cell_type": "code",
   "execution_count": 11,
   "metadata": {
    "tags": []
   },
   "outputs": [
    {
     "name": "stdout",
     "output_type": "stream",
     "text": [
      "132/132 [==============================] - 1s 3ms/step\n",
      "{'0': {'precision': 0.9994301994301994, 'recall': 0.9994301994301994, 'f1-score': 0.9994301994301994, 'support': 3510}, '1': {'precision': 0.9971014492753624, 'recall': 0.9971014492753624, 'f1-score': 0.9971014492753624, 'support': 690}, 'accuracy': 0.9990476190476191, 'macro avg': {'precision': 0.9982658243527809, 'recall': 0.9982658243527809, 'f1-score': 0.9982658243527809, 'support': 4200}, 'weighted avg': {'precision': 0.9990476190476191, 'recall': 0.9990476190476191, 'f1-score': 0.9990476190476191, 'support': 4200}}\n"
     ]
    }
   ],
   "source": [
    "from sklearn.metrics import classification_report\n",
    "pred = model.predict(x_test).argmax(axis = 1)\n",
    "cr = classification_report(y_test.argmax(axis = 1) , pred , output_dict = True)\n",
    "print(cr)"
   ]
  },
  {
   "cell_type": "code",
   "execution_count": 20,
   "metadata": {
    "tags": []
   },
   "outputs": [
    {
     "data": {
      "image/png": "[encoded data removed]",
      "text/plain": [
       "<Figure size 640x480 with 1 Axes>"
      ]
     },
     "metadata": {},
     "output_type": "display_data"
    }
   ],
   "source": [
    "plt.plot(history.history['accuracy'])\n",
    "plt.plot(history.history['val_accuracy'])\n",
    "plt.title('model accuracy')\n",
    "plt.ylabel('accuracy')\n",
    "plt.xlabel('epoch')\n",
    "plt.legend(['train', 'val'], loc='upper left')\n",
    "plt.show()"
   ]
  },
  {
   "cell_type": "code",
   "execution_count": 21,
   "metadata": {
    "tags": []
   },
   "outputs": [
    {
     "data": {
      "image/png": "[encoded data removed]",
      "text/plain": [
       "<Figure size 640x480 with 1 Axes>"
      ]
     },
     "metadata": {},
     "output_type": "display_data"
    }
   ],
   "source": [
    "plt.plot(history.history['loss'])\n",
    "plt.plot(history.history['val_loss'])\n",
    "plt.title('model loss')\n",
    "plt.ylabel('loss')\n",
    "plt.xlabel('epoch')\n",
    "plt.legend(['train', 'val'], loc='upper left')\n",
    "plt.show()"
   ]
  },
  {
   "cell_type": "markdown",
   "metadata": {},
   "source": [
    "#### 36% of data"
   ]
  },
  {
   "cell_type": "code",
   "execution_count": 12,
   "metadata": {
    "papermill": {
     "duration": 1.339139,
     "end_time": "2023-06-28T13:05:40.596400",
     "exception": false,
     "start_time": "2023-06-28T13:05:39.257261",
     "status": "completed"
    },
    "tags": []
   },
   "outputs": [
    {
     "name": "stdout",
     "output_type": "stream",
     "text": [
      "132/132 [==============================] - 1s 5ms/step - loss: 0.0447 - accuracy: 0.9967\n",
      "Test Loss: 0.04471692815423012\n",
      "Test accuracy: 0.996666669845581\n"
     ]
    }
   ],
   "source": [
    "score = model.evaluate(x_test, y_test)\n",
    "print('Test Loss:', score[0])\n",
    "print('Test accuracy:', score[1])"
   ]
  },
  {
   "cell_type": "code",
   "execution_count": 13,
   "metadata": {
    "tags": []
   },
   "outputs": [
    {
     "name": "stdout",
     "output_type": "stream",
     "text": [
      "132/132 [==============================] - 1s 3ms/step\n",
      "{'0': {'precision': 0.9965909090909091, 'recall': 0.9994301994301994, 'f1-score': 0.9980085348506401, 'support': 3510}, '1': {'precision': 0.9970588235294118, 'recall': 0.9826086956521739, 'f1-score': 0.9897810218978101, 'support': 690}, 'accuracy': 0.9966666666666667, 'macro avg': {'precision': 0.9968248663101604, 'recall': 0.9910194475411866, 'f1-score': 0.9938947783742251, 'support': 4200}, 'weighted avg': {'precision': 0.9966677807486632, 'recall': 0.9966666666666667, 'f1-score': 0.9966568720083894, 'support': 4200}}\n"
     ]
    }
   ],
   "source": [
    "from sklearn.metrics import classification_report\n",
    "pred = model.predict(x_test).argmax(axis = 1)\n",
    "cr = classification_report(y_test.argmax(axis = 1) , pred , output_dict = True)\n",
    "print(cr)"
   ]
  },
  {
   "cell_type": "code",
   "execution_count": 14,
   "metadata": {
    "papermill": {
     "duration": 0.386123,
     "end_time": "2023-06-28T13:05:41.345123",
     "exception": true,
     "start_time": "2023-06-28T13:05:40.959000",
     "status": "failed"
    },
    "tags": []
   },
   "outputs": [],
   "source": [
    "model_save_dir = \"D:\\\\Project\\\\Traffic Sign Detection\\\\TrainedMOdel\\\\final\\\\new shape classifier\\\\shape_classifier_triangleVS4di_acc9986_36percent.h5\"  \n",
    "\n",
    "model.save(model_save_dir)"
   ]
  },
  {
   "cell_type": "code",
   "execution_count": 21,
   "metadata": {
    "papermill": {
     "duration": null,
     "end_time": null,
     "exception": null,
     "start_time": null,
     "status": "pending"
    },
    "tags": []
   },
   "outputs": [
    {
     "name": "stdout",
     "output_type": "stream",
     "text": [
      "132/132 [==============================] - 1s 5ms/step - loss: 0.0447 - accuracy: 0.9967\n",
      "Test Loss: 0.04471692815423012\n",
      "Test accuracy: 0.996666669845581\n"
     ]
    }
   ],
   "source": [
    "keras.models.load_model('D:\\\\Project\\\\Traffic Sign Detection\\\\TrainedMOdel\\\\final\\\\new shape classifier\\\\shape_classifier_triangleVS4di_acc9986_all.h5')\n",
    "score = model.evaluate(x_test, y_test)\n",
    "print('Test Loss:', score[0])\n",
    "print('Test accuracy:', score[1])"
   ]
  },
  {
   "cell_type": "code",
   "execution_count": null,
   "metadata": {
    "execution": {
     "iopub.execute_input": "2023-06-28T08:22:09.252294Z",
     "iopub.status.busy": "2023-06-28T08:22:09.251892Z",
     "iopub.status.idle": "2023-06-28T08:22:09.258700Z",
     "shell.execute_reply": "2023-06-28T08:22:09.257584Z",
     "shell.execute_reply.started": "2023-06-28T08:22:09.252257Z"
    },
    "papermill": {
     "duration": null,
     "end_time": null,
     "exception": null,
     "start_time": null,
     "status": "pending"
    },
    "tags": []
   },
   "outputs": [],
   "source": [
    "x_test[1].shape"
   ]
  },
  {
   "cell_type": "markdown",
   "metadata": {
    "papermill": {
     "duration": null,
     "end_time": null,
     "exception": null,
     "start_time": null,
     "status": "pending"
    },
    "tags": []
   },
   "source": [
    "## Hope you like it!"
   ]
  },
  {
   "cell_type": "code",
   "execution_count": null,
   "metadata": {
    "execution": {
     "iopub.execute_input": "2023-06-28T10:07:11.114174Z",
     "iopub.status.busy": "2023-06-28T10:07:11.113788Z",
     "iopub.status.idle": "2023-06-28T10:07:11.300419Z",
     "shell.execute_reply": "2023-06-28T10:07:11.297487Z",
     "shell.execute_reply.started": "2023-06-28T10:07:11.114138Z"
    },
    "papermill": {
     "duration": null,
     "end_time": null,
     "exception": null,
     "start_time": null,
     "status": "pending"
    },
    "tags": []
   },
   "outputs": [],
   "source": [
    "from matplotlib import pyplot as plt\n",
    "image = gray_test_imgs[5]#.transpose(2 , 0 ,1)\n",
    "# plt.imshow(image, cmap=plt.get_cmap('gray'))\n",
    "# plt.show()\n",
    "y = model.predict(image)\n",
    "print(y)"
   ]
  },
  {
   "cell_type": "code",
   "execution_count": null,
   "metadata": {
    "papermill": {
     "duration": null,
     "end_time": null,
     "exception": null,
     "start_time": null,
     "status": "pending"
    },
    "tags": []
   },
   "outputs": [],
   "source": []
  }
 ],
 "metadata": {
  "kernelspec": {
   "display_name": "Python 3 (ipykernel)",
   "language": "python",
   "name": "python3"
  },
  "language_info": {
   "codemirror_mode": {
    "name": "ipython",
    "version": 3
   },
   "file_extension": ".py",
   "mimetype": "text/x-python",
   "name": "python",
   "nbconvert_exporter": "python",
   "pygments_lexer": "ipython3",
   "version": "3.10.9"
  },
  "papermill": {
   "duration": 80.821842,
   "end_time": "2023-06-28T13:05:42.783021",
   "environment_variables": {},
   "exception": true,
   "input_path": "__notebook__.ipynb",
   "output_path": "__notebook__.ipynb",
   "parameters": {},
   "start_time": "2023-06-28T13:04:21.961179",
   "version": "2.1.0"
  }
 },
 "nbformat": 4,
 "nbformat_minor": 4
}
