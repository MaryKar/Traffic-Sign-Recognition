{
 "cells": [
  {
   "cell_type": "markdown",
   "metadata": {
    "papermill": {
     "duration": 0.01559,
     "end_time": "2023-06-28T13:04:32.116795",
     "exception": false,
     "start_time": "2023-06-28T13:04:32.101205",
     "status": "completed"
    },
    "tags": []
   },
   "source": [
    "### Code Implementation"
   ]
  },
  {
   "cell_type": "code",
   "execution_count": 1,
   "metadata": {
    "papermill": {
     "duration": 0.065526,
     "end_time": "2023-06-28T13:04:32.197819",
     "exception": false,
     "start_time": "2023-06-28T13:04:32.132293",
     "status": "completed"
    },
    "tags": []
   },
   "outputs": [],
   "source": [
    "# Importing necessary libraries\n",
    "import keras\n",
    "from keras.datasets import mnist\n",
    "from keras.layers import Conv2D, MaxPooling2D\n",
    "from keras.layers import Dense, Flatten\n",
    "from keras.models import Sequential\n",
    "from sklearn.model_selection import train_test_split\n",
    "from keras.models import load_model\n",
    "from sklearn.metrics import classification_report\n",
    "import pickle"
   ]
  },
  {
   "cell_type": "markdown",
   "metadata": {
    "papermill": {
     "duration": 0.01538,
     "end_time": "2023-06-28T13:04:32.228435",
     "exception": false,
     "start_time": "2023-06-28T13:04:32.213055",
     "status": "completed"
    },
    "tags": []
   },
   "source": [
    "### Loading Dataset"
   ]
  },
  {
   "cell_type": "code",
   "execution_count": 2,
   "metadata": {
    "papermill": {
     "duration": 4.663351,
     "end_time": "2023-06-28T13:04:36.946429",
     "exception": false,
     "start_time": "2023-06-28T13:04:32.283078",
     "status": "completed"
    },
    "tags": []
   },
   "outputs": [],
   "source": [
    "# Opening file for reading in binary mode\n",
    "with open('D:\\Project\\Traffic Sign Detection\\DATABASE/data8.pickle', 'rb') as f:\n",
    "    gray_data = pickle.load(f, encoding='latin1')  # dictionary type\n",
    "    \n",
    "    \n",
    "# Making channels come at the end\n",
    "gray_data['x_test'] = gray_data['x_test'].transpose(0, 2, 3, 1)\n",
    "\n",
    "gray_test_imgs = gray_data['x_test']\n",
    "gray_test_labels = gray_data['y_test']"
   ]
  },
  {
   "cell_type": "code",
   "execution_count": 3,
   "metadata": {
    "papermill": {
     "duration": 0.034592,
     "end_time": "2023-06-28T13:04:36.997436",
     "exception": false,
     "start_time": "2023-06-28T13:04:36.962844",
     "status": "completed"
    },
    "tags": []
   },
   "outputs": [],
   "source": [
    "gray_test_labels[gray_test_labels <= 10] = 0 #cycle\n",
    "gray_test_labels[gray_test_labels >= 32] = 0 #cycle\n",
    "gray_test_labels[(gray_test_labels == 15) |(gray_test_labels == 16)| (gray_test_labels ==17)] = 0 #cycle\n",
    "gray_test_labels[(gray_test_labels >= 18) & (gray_test_labels <= 31)] = 1 #triangle\n",
    "gray_test_labels[(gray_test_labels == 13) | (gray_test_labels == 11)] = 1 #triangle\n",
    "gray_test_labels[gray_test_labels == 14] = 2 # 6\n",
    "gray_test_labels[gray_test_labels == 12] = 3 # 4\n"
   ]
  },
  {
   "cell_type": "code",
   "execution_count": 9,
   "metadata": {
    "papermill": {
     "duration": 0.025308,
     "end_time": "2023-06-28T13:04:37.038176",
     "exception": false,
     "start_time": "2023-06-28T13:04:37.012868",
     "status": "completed"
    },
    "tags": []
   },
   "outputs": [],
   "source": [
    "y_test = gray_test_labels\n"
   ]
  },
  {
   "cell_type": "markdown",
   "metadata": {
    "papermill": {
     "duration": 0.016132,
     "end_time": "2023-06-28T13:04:37.070374",
     "exception": false,
     "start_time": "2023-06-28T13:04:37.054242",
     "status": "completed"
    },
    "tags": []
   },
   "source": [
    "### Image Data Preprocessing"
   ]
  },
  {
   "cell_type": "code",
   "execution_count": 4,
   "metadata": {
    "papermill": {
     "duration": 0.027648,
     "end_time": "2023-06-28T13:04:37.113982",
     "exception": false,
     "start_time": "2023-06-28T13:04:37.086334",
     "status": "completed"
    },
    "tags": []
   },
   "outputs": [],
   "source": [
    "# Peforming reshaping operation\n",
    "# x_train = gray_train_imgs.reshape(gray_train_imgs.shape[0], 28, 28, 1)\n",
    "# x_test = gray_test_imgs.reshape(gray_test_imgs.shape[0], 28, 28, 1)\n",
    "\n",
    "\n",
    "x_test = gray_test_imgs\n",
    "\n",
    "# # Normalization\n",
    "# x_train = x_train / 255\n",
    "# x_test = x_test / 255\n",
    "\n",
    "num_class_shape = 2"
   ]
  },
  {
   "cell_type": "code",
   "execution_count": 6,
   "metadata": {
    "papermill": {
     "duration": null,
     "end_time": null,
     "exception": null,
     "start_time": null,
     "status": "pending"
    },
    "tags": []
   },
   "outputs": [],
   "source": [
    "model = load_model('D:\\\\Project\\\\Traffic Sign Detection\\\\TrainedMOdel\\\\final\\\\new shape classifier\\\\shape_classifier_3_4_VS_cir_6_acc9983_all.h5')\n",
    "model_1 = load_model('D:\\\\Project\\\\Traffic Sign Detection\\\\TrainedMOdel\\\\final\\\\new shape classifier\\\\shape_classifier_circleVS6di_acc9986_all.h5')\n",
    "model_2 = load_model('D:\\\\Project\\\\Traffic Sign Detection\\\\TrainedMOdel\\\\final\\\\new shape classifier\\\\shape_classifier_triangleVS4di_acc9986_all.h5')"
   ]
  },
  {
   "cell_type": "code",
   "execution_count": 26,
   "metadata": {
    "tags": []
   },
   "outputs": [
    {
     "name": "stdout",
     "output_type": "stream",
     "text": [
      "395/395 [==============================] - 2s 4ms/step\n",
      "264/264 [==============================] - 1s 4ms/step\n",
      "131/131 [==============================] - 1s 4ms/step\n",
      "[0 0 1 ... 0 1 0]\n"
     ]
    }
   ],
   "source": [
    "pred = model.predict(x_test).argmax(axis = 1)\n",
    "x_1 = x_test[pred == 0] # cir of 6\n",
    "x_2 = x_test[pred == 1] # tri of 4\n",
    "\n",
    "pred_1 = model_1.predict(x_1).argmax(axis = 1)\n",
    "pred_2 = model_2.predict(x_2).argmax(axis = 1)\n",
    "print(pred_2)\n",
    "\n",
    "pred_1[pred_1 == 1] = 2 # 6\n",
    "\n",
    "pred_2[pred_2 == 1] = 3 # 4\n",
    "pred_2[pred_2 == 0] = 1 # tir\n",
    "\n",
    "\n",
    "pred[pred == 0] = pred_1\n",
    "pred[pred == 1] = pred_2"
   ]
  },
  {
   "cell_type": "code",
   "execution_count": 21,
   "metadata": {
    "tags": []
   },
   "outputs": [
    {
     "data": {
      "text/plain": [
       "680"
      ]
     },
     "execution_count": 21,
     "metadata": {},
     "output_type": "execute_result"
    }
   ],
   "source": [
    "# pred = model.predict(x_test).argmax(axis = 1)\n",
    "a = y_test[pred == 1]\n",
    "len(a[a == 3])"
   ]
  },
  {
   "cell_type": "code",
   "execution_count": 27,
   "metadata": {
    "tags": []
   },
   "outputs": [
    {
     "name": "stdout",
     "output_type": "stream",
     "text": [
      "[1 1 3 ... 1 3 1]\n"
     ]
    }
   ],
   "source": [
    "# pred_2 = model_2.predict(x_2)\n",
    "print(pred_2)"
   ]
  },
  {
   "cell_type": "markdown",
   "metadata": {},
   "source": [
    "### all data"
   ]
  },
  {
   "cell_type": "code",
   "execution_count": 30,
   "metadata": {
    "tags": []
   },
   "outputs": [
    {
     "name": "stdout",
     "output_type": "stream",
     "text": [
      "              precision    recall  f1-score   support\n",
      "\n",
      "           0       1.00      1.00      1.00      8160\n",
      "           1       1.00      1.00      1.00      3510\n",
      "           2       1.00      0.96      0.98       270\n",
      "           3       1.00      0.98      0.99       690\n",
      "\n",
      "    accuracy                           1.00     12630\n",
      "   macro avg       1.00      0.98      0.99     12630\n",
      "weighted avg       1.00      1.00      1.00     12630\n",
      "\n"
     ]
    }
   ],
   "source": [
    "cr = classification_report(y_test , pred )\n",
    "print(cr)"
   ]
  },
  {
   "cell_type": "code",
   "execution_count": 31,
   "metadata": {
    "tags": []
   },
   "outputs": [
    {
     "name": "stdout",
     "output_type": "stream",
     "text": [
      "{'0': {'precision': 0.9964565004887586, 'recall': 0.9993872549019608, 'f1-score': 0.9979197258932943, 'support': 8160}, '1': {'precision': 0.9980051296665716, 'recall': 0.9977207977207977, 'f1-score': 0.9978629434392363, 'support': 3510}, '2': {'precision': 1.0, 'recall': 0.9555555555555556, 'f1-score': 0.9772727272727273, 'support': 270}, '3': {'precision': 0.9970544918998527, 'recall': 0.981159420289855, 'f1-score': 0.9890430971512052, 'support': 690}, 'accuracy': 0.996991290577989, 'macro avg': {'precision': 0.9978790305137957, 'recall': 0.9834557571170424, 'f1-score': 0.9905246234391156, 'support': 12630}, 'weighted avg': {'precision': 0.9969953007544604, 'recall': 0.996991290577989, 'f1-score': 0.9969776142643682, 'support': 12630}}\n"
     ]
    }
   ],
   "source": [
    "cr = classification_report(y_test , pred , output_dict = True)\n",
    "print(cr)"
   ]
  },
  {
   "cell_type": "code",
   "execution_count": 32,
   "metadata": {
    "tags": []
   },
   "outputs": [
    {
     "data": {
      "text/plain": [
       "<AxesSubplot: >"
      ]
     },
     "execution_count": 32,
     "metadata": {},
     "output_type": "execute_result"
    },
    {
     "data": {
      "image/png": "[encoded data removed]",
      "text/plain": [
       "<Figure size 640x480 with 2 Axes>"
      ]
     },
     "metadata": {},
     "output_type": "display_data"
    }
   ],
   "source": [
    "from sklearn.metrics import confusion_matrix\n",
    "from seaborn import heatmap\n",
    "cm = confusion_matrix(y_test , pred , normalize='pred')\n",
    "heatmap(cm , annot = True)"
   ]
  },
  {
   "cell_type": "markdown",
   "metadata": {},
   "source": [
    "###  36% of data"
   ]
  },
  {
   "cell_type": "code",
   "execution_count": 5,
   "metadata": {
    "tags": []
   },
   "outputs": [],
   "source": [
    "model = load_model('D:\\\\Project\\\\Traffic Sign Detection\\\\TrainedMOdel\\\\final\\\\new shape classifier\\\\shape_classifier_3_4_VS_cir_6_acc9982_36percent.h5')\n",
    "model_1 = load_model('D:\\\\Project\\\\Traffic Sign Detection\\\\TrainedMOdel\\\\final\\\\new shape classifier\\\\shape_classifier_circleVS6di_acc9995_36percent.h5')\n",
    "model_2 = load_model('D:\\\\Project\\\\Traffic Sign Detection\\\\TrainedMOdel\\\\final\\\\new shape classifier\\\\shape_classifier_triangleVS4di_acc9967_36percent.h5')"
   ]
  },
  {
   "cell_type": "code",
   "execution_count": 7,
   "metadata": {
    "tags": []
   },
   "outputs": [
    {
     "name": "stdout",
     "output_type": "stream",
     "text": [
      "395/395 [==============================] - 3s 3ms/step\n",
      "264/264 [==============================] - 1s 3ms/step\n",
      "132/132 [==============================] - 0s 3ms/step\n",
      "[0 0 1 ... 0 1 0]\n"
     ]
    }
   ],
   "source": [
    "pred = model.predict(x_test).argmax(axis = 1)\n",
    "x_1 = x_test[pred == 0] # cir of 6\n",
    "x_2 = x_test[pred == 1] # tri of 4\n",
    "\n",
    "pred_1 = model_1.predict(x_1).argmax(axis = 1)\n",
    "pred_2 = model_2.predict(x_2).argmax(axis = 1)\n",
    "print(pred_2)\n",
    "\n",
    "pred_1[pred_1 == 1] = 2 # 6\n",
    "\n",
    "pred_2[pred_2 == 1] = 3 # 4\n",
    "pred_2[pred_2 == 0] = 1 # tir\n",
    "\n",
    "\n",
    "pred[pred == 0] = pred_1\n",
    "pred[pred == 1] = pred_2"
   ]
  },
  {
   "cell_type": "code",
   "execution_count": 10,
   "metadata": {
    "tags": []
   },
   "outputs": [
    {
     "name": "stdout",
     "output_type": "stream",
     "text": [
      "              precision    recall  f1-score   support\n",
      "\n",
      "           0       1.00      1.00      1.00      8160\n",
      "           1       0.99      1.00      1.00      3510\n",
      "           2       1.00      0.99      0.99       270\n",
      "           3       1.00      0.98      0.99       690\n",
      "\n",
      "    accuracy                           1.00     12630\n",
      "   macro avg       1.00      0.99      0.99     12630\n",
      "weighted avg       1.00      1.00      1.00     12630\n",
      "\n"
     ]
    }
   ],
   "source": [
    "cr = classification_report(y_test , pred )\n",
    "print(cr)"
   ]
  },
  {
   "cell_type": "code",
   "execution_count": 11,
   "metadata": {
    "tags": []
   },
   "outputs": [
    {
     "name": "stdout",
     "output_type": "stream",
     "text": [
      "{'0': {'precision': 0.9982845239553976, 'recall': 0.998406862745098, 'f1-score': 0.9983456896023527, 'support': 8160}, '1': {'precision': 0.9943246311010215, 'recall': 0.9982905982905983, 'f1-score': 0.9963036678987774, 'support': 3510}, '2': {'precision': 1.0, 'recall': 0.9851851851851852, 'f1-score': 0.9925373134328358, 'support': 270}, '3': {'precision': 0.9955817378497791, 'recall': 0.9797101449275363, 'f1-score': 0.987582176771366, 'support': 690}, 'accuracy': 0.9970704671417261, 'macro avg': {'precision': 0.9970477232265496, 'recall': 0.9903981977871046, 'f1-score': 0.993692211926333, 'support': 12630}, 'weighted avg': {'precision': 0.9970730459031653, 'recall': 0.9970704671417261, 'f1-score': 0.9970659919302466, 'support': 12630}}\n"
     ]
    }
   ],
   "source": [
    "cr = classification_report(y_test , pred , output_dict = True)\n",
    "print(cr)"
   ]
  },
  {
   "cell_type": "code",
   "execution_count": 12,
   "metadata": {
    "tags": []
   },
   "outputs": [
    {
     "data": {
      "text/plain": [
       "<AxesSubplot: >"
      ]
     },
     "execution_count": 12,
     "metadata": {},
     "output_type": "execute_result"
    },
    {
     "data": {
      "image/png": "[encoded data removed]",
      "text/plain": [
       "<Figure size 640x480 with 2 Axes>"
      ]
     },
     "metadata": {},
     "output_type": "display_data"
    }
   ],
   "source": [
    "from sklearn.metrics import confusion_matrix\n",
    "from seaborn import heatmap\n",
    "cm = confusion_matrix(y_test , pred , normalize='pred')\n",
    "heatmap(cm , annot = True)"
   ]
  },
  {
   "cell_type": "code",
   "execution_count": null,
   "metadata": {},
   "outputs": [],
   "source": []
  }
 ],
 "metadata": {
  "kernelspec": {
   "display_name": "Python 3 (ipykernel)",
   "language": "python",
   "name": "python3"
  },
  "language_info": {
   "codemirror_mode": {
    "name": "ipython",
    "version": 3
   },
   "file_extension": ".py",
   "mimetype": "text/x-python",
   "name": "python",
   "nbconvert_exporter": "python",
   "pygments_lexer": "ipython3",
   "version": "3.10.9"
  },
  "papermill": {
   "duration": 80.821842,
   "end_time": "2023-06-28T13:05:42.783021",
   "environment_variables": {},
   "exception": true,
   "input_path": "__notebook__.ipynb",
   "output_path": "__notebook__.ipynb",
   "parameters": {},
   "start_time": "2023-06-28T13:04:21.961179",
   "version": "2.1.0"
  }
 },
 "nbformat": 4,
 "nbformat_minor": 4
}
