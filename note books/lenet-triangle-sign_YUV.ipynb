{
 "cells": [
  {
   "cell_type": "markdown",
   "metadata": {},
   "source": [
    "### Code Implementation"
   ]
  },
  {
   "cell_type": "code",
   "execution_count": 1,
   "metadata": {
    "execution": {
     "iopub.execute_input": "2023-07-13T16:11:14.877575Z",
     "iopub.status.busy": "2023-07-13T16:11:14.877210Z",
     "iopub.status.idle": "2023-07-13T16:11:15.071225Z",
     "shell.execute_reply": "2023-07-13T16:11:15.070186Z",
     "shell.execute_reply.started": "2023-07-13T16:11:14.877544Z"
    }
   },
   "outputs": [],
   "source": [
    "# Importing necessary libraries\n",
    "import keras\n",
    "from keras.datasets import mnist\n",
    "from keras.layers import Conv2D, MaxPooling2D\n",
    "from keras.layers import Dense, Flatten\n",
    "from keras.models import Sequential\n",
    "import pickle\n",
    "import numpy as np\n",
    "import cv2\n",
    "from matplotlib import pyplot as plt"
   ]
  },
  {
   "cell_type": "markdown",
   "metadata": {},
   "source": [
    "### Loading Dataset"
   ]
  },
  {
   "cell_type": "code",
   "execution_count": 2,
   "metadata": {},
   "outputs": [],
   "source": [
    "# # Loading the dataset and perform splitting\n",
    "# data_list = []\n",
    "# labels_list = []\n",
    "# classes_list = 43\n",
    "\n",
    "# imgs_path = \"../input/gtsrb-german-traffic-sign/Train\"\n",
    "# for i in range(classes_list):\n",
    "#     i_path = os.path.join(imgs_path, str(i)) #0-42\n",
    "#     for img in os.listdir(i_path):\n",
    "#         im = Image.open(i_path +'/'+ img)\n",
    "#         im = im.resize((32,32))\n",
    "#         im = np.array(im)\n",
    "#         data_list.append(im)\n",
    "#         labels_list.append(i)\n",
    "# data = np.array(data_list)\n",
    "# labels = np.array(labels_list)"
   ]
  },
  {
   "cell_type": "code",
   "execution_count": 3,
   "metadata": {
    "execution": {
     "iopub.execute_input": "2023-07-13T16:11:17.277530Z",
     "iopub.status.busy": "2023-07-13T16:11:17.277168Z",
     "iopub.status.idle": "2023-07-13T16:11:27.940159Z",
     "shell.execute_reply": "2023-07-13T16:11:27.939123Z",
     "shell.execute_reply.started": "2023-07-13T16:11:17.277499Z"
    }
   },
   "outputs": [],
   "source": [
    "# Opening file for reading in binary mode\n",
    "#- data3.pickle - Shuffling, /255.0 + Mean + STD Normalization\n",
    "with open('D:\\Project\\Traffic Sign Detection\\DATABASE/data3.pickle', 'rb') as f:\n",
    "    data = pickle.load(f, encoding='latin1')  # dictionary type\n",
    "    \n",
    "    \n",
    "# Making channels come at the end\n",
    "data['x_train'] = data['x_train'].transpose(0, 2, 3, 1)\n",
    "data['x_validation'] = data['x_validation'].transpose(0, 2, 3, 1)\n",
    "data['x_test'] = data['x_test'].transpose(0, 2, 3, 1)\n",
    "\n",
    "train_imgs = data['x_train']\n",
    "test_imgs = data['x_test']\n",
    "valid_imgs = data['x_validation']\n",
    "train_labels = data['y_train']\n",
    "test_labels = data['y_test']\n",
    "valid_labels = data['y_validation']"
   ]
  },
  {
   "cell_type": "code",
   "execution_count": null,
   "metadata": {},
   "outputs": [],
   "source": [
    "train_labels"
   ]
  },
  {
   "cell_type": "markdown",
   "metadata": {
    "execution": {
     "iopub.execute_input": "2023-07-03T08:12:55.581244Z",
     "iopub.status.busy": "2023-07-03T08:12:55.580875Z",
     "iopub.status.idle": "2023-07-03T08:12:55.588623Z",
     "shell.execute_reply": "2023-07-03T08:12:55.587576Z",
     "shell.execute_reply.started": "2023-07-03T08:12:55.581207Z"
    }
   },
   "source": [
    "def augment_brightness_camera_images(image):\n",
    "    image1 = cv2.cvtColor(image,cv2.COLOR_RGB2HSV)\n",
    "    plt.imshow(image1)\n",
    "    image1 = np.array(image1, dtype = np.float64)\n",
    "    random_bright = .5+np.random.uniform()\n",
    "    image1[:,:,2] = image1[:,:,2]*random_bright\n",
    "    image1[:,:,2][image1[:,:,2]>255]  = 255\n",
    "    image1 = np.array(image1, dtype = np.uint8)\n",
    "    image1 = cv2.cvtColor(image1,cv2.COLOR_HSV2RGB)\n",
    "    return image1"
   ]
  },
  {
   "cell_type": "markdown",
   "metadata": {
    "execution": {
     "iopub.execute_input": "2023-07-03T08:38:41.049467Z",
     "iopub.status.busy": "2023-07-03T08:38:41.049116Z",
     "iopub.status.idle": "2023-07-03T08:38:41.059062Z",
     "shell.execute_reply": "2023-07-03T08:38:41.057889Z",
     "shell.execute_reply.started": "2023-07-03T08:38:41.049439Z"
    }
   },
   "source": [
    "\n",
    "#new = augment_brightness_camera_images(image)\n",
    "new = preprocess_img(image)\n",
    "#plt.imshow(new)\n",
    "print(new.shape)\n",
    "print(cycle)"
   ]
  },
  {
   "cell_type": "code",
   "execution_count": 4,
   "metadata": {
    "execution": {
     "iopub.execute_input": "2023-07-13T16:11:27.943026Z",
     "iopub.status.busy": "2023-07-13T16:11:27.942413Z",
     "iopub.status.idle": "2023-07-13T16:11:28.104844Z",
     "shell.execute_reply": "2023-07-13T16:11:28.103819Z",
     "shell.execute_reply.started": "2023-07-13T16:11:27.942987Z"
    }
   },
   "outputs": [],
   "source": [
    "A = np.array(np.where(train_labels >= 18))\n",
    "A = np.concatenate((A ,np.where(train_labels == 13)), axis = 1)\n",
    "A = np.concatenate((A ,np.where(train_labels == 11)), axis = 1)\n",
    "B = np.array(np.where(train_labels > 31))\n",
    "indx = np.setdiff1d(A, B)\n",
    "\n",
    "A = np.array(np.where(test_labels >= 18)) \n",
    "A = np.concatenate((A ,np.where(test_labels == 13)), axis = 1)\n",
    "A = np.concatenate((A ,np.where(test_labels == 11)), axis = 1)\n",
    "B = np.array(np.where(test_labels > 31))\n",
    "indx1 = np.setdiff1d(A, B)\n",
    "\n",
    "A = np.array(np.where(valid_labels >= 18)) \n",
    "A = np.concatenate((A ,np.where(valid_labels == 13)), axis = 1)\n",
    "A = np.concatenate((A ,np.where(valid_labels == 11)), axis = 1)\n",
    "B = np.array(np.where(valid_labels > 31))\n",
    "indx2 = np.setdiff1d(A, B)\n",
    "\n",
    "tri_X_train = train_imgs[indx]\n",
    "tri_X_test = test_imgs[indx1]\n",
    "tri_X_valid = valid_imgs[indx2]\n",
    "tri_train_labels = train_labels[indx]\n",
    "tri_test_labels = test_labels[indx1]\n",
    "tri_valid_labels = valid_labels[indx2]"
   ]
  },
  {
   "cell_type": "code",
   "execution_count": 6,
   "metadata": {
    "execution": {
     "iopub.execute_input": "2023-07-13T16:11:28.106837Z",
     "iopub.status.busy": "2023-07-13T16:11:28.106323Z",
     "iopub.status.idle": "2023-07-13T16:11:28.115506Z",
     "shell.execute_reply": "2023-07-13T16:11:28.114439Z",
     "shell.execute_reply.started": "2023-07-13T16:11:28.106779Z"
    }
   },
   "outputs": [
    {
     "data": {
      "text/plain": [
       "(32368,)"
      ]
     },
     "execution_count": 6,
     "metadata": {},
     "output_type": "execute_result"
    }
   ],
   "source": [
    "tri_train_labels.shape"
   ]
  },
  {
   "cell_type": "code",
   "execution_count": 5,
   "metadata": {
    "execution": {
     "iopub.execute_input": "2023-07-13T16:11:28.118644Z",
     "iopub.status.busy": "2023-07-13T16:11:28.117871Z",
     "iopub.status.idle": "2023-07-13T16:11:28.135247Z",
     "shell.execute_reply": "2023-07-13T16:11:28.134035Z",
     "shell.execute_reply.started": "2023-07-13T16:11:28.118608Z"
    }
   },
   "outputs": [],
   "source": [
    "tri_Dict = {11:0 , 13:1 , 18:2 , 19:3 , 20:4 , 21:5 , 22:6 , 23:7 , 24:8 , 25:9 , 26:10 , 27:11 , 28:12 , 29:13 , 30:14 , 31:15 }\n",
    "tri_train_labels = np.vectorize(tri_Dict.get)(tri_train_labels)\n",
    "tri_test_labels = np.vectorize(tri_Dict.get)(tri_test_labels)\n",
    "tri_valid_labels = np.vectorize(tri_Dict.get)(tri_valid_labels)\n",
    "tri_num_class = 16"
   ]
  },
  {
   "cell_type": "code",
   "execution_count": null,
   "metadata": {},
   "outputs": [],
   "source": [
    "tri_train_labels"
   ]
  },
  {
   "cell_type": "markdown",
   "metadata": {
    "execution": {
     "iopub.execute_input": "2023-07-03T08:31:25.503579Z",
     "iopub.status.busy": "2023-07-03T08:31:25.503146Z",
     "iopub.status.idle": "2023-07-03T08:31:26.034838Z",
     "shell.execute_reply": "2023-07-03T08:31:26.033867Z",
     "shell.execute_reply.started": "2023-07-03T08:31:25.503549Z"
    }
   },
   "source": [
    "from skimage import color, exposure, transform\n",
    "\n",
    "NUM_CLASSES = 43\n",
    "IMG_SIZE = 48\n",
    "\n",
    "def preprocess_img(img):\n",
    "    # Histogram normalization in v channel\n",
    "    hsv = color.rgb2hsv(img)\n",
    "    hsv[:,:,2] = exposure.equalize_hist(hsv[:,:,2])\n",
    "    img = color.hsv2rgb(hsv)\n",
    "\n",
    "#     # central square crop\n",
    "#     min_side = min(img.shape[:-1])\n",
    "#     centre = img.shape[0]//2, img.shape[1]//2\n",
    "#     img = img[centre[0]-min_side//2:centre[0]+min_side//2,\n",
    "#     centre[1]-min_side//2:centre[1]+min_side//2,\n",
    "#                   :]\n",
    "\n",
    "    # rescale to standard size\n",
    "    img = transform.resize(img, (IMG_SIZE, IMG_SIZE))\n",
    "\n",
    "    # roll color axis to axis 0\n",
    "    img = np.rollaxis(img,-1)\n",
    "\n",
    "    return img"
   ]
  },
  {
   "cell_type": "markdown",
   "metadata": {},
   "source": [
    "### Image Data Preprocessing"
   ]
  },
  {
   "cell_type": "code",
   "execution_count": 10,
   "metadata": {},
   "outputs": [
    {
     "data": {
      "text/plain": [
       "(32368, 32, 32, 3)"
      ]
     },
     "execution_count": 10,
     "metadata": {},
     "output_type": "execute_result"
    }
   ],
   "source": [
    "tri_X_train.shape"
   ]
  },
  {
   "cell_type": "code",
   "execution_count": 6,
   "metadata": {},
   "outputs": [],
   "source": [
    "def CV2YUV(x):\n",
    "    x_train = np.zeros((x.shape[0] , x.shape[1] , x.shape[2] , 3))\n",
    "    for i in range(0 , x.shape[0]):\n",
    "        x_train[i] = cv2.cvtColor(x[i],cv2.COLOR_RGB2YUV)\n",
    "    return x_train\n"
   ]
  },
  {
   "cell_type": "code",
   "execution_count": 7,
   "metadata": {
    "execution": {
     "iopub.execute_input": "2023-07-13T16:11:28.138039Z",
     "iopub.status.busy": "2023-07-13T16:11:28.136597Z",
     "iopub.status.idle": "2023-07-13T16:11:28.145333Z",
     "shell.execute_reply": "2023-07-13T16:11:28.144307Z",
     "shell.execute_reply.started": "2023-07-13T16:11:28.138002Z"
    }
   },
   "outputs": [],
   "source": [
    "# Peforming reshaping operation\n",
    "# x_train = gray_train_imgs.reshape(gray_train_imgs.shape[0], 28, 28, 1)\n",
    "# x_test = gray_test_imgs.reshape(gray_test_imgs.shape[0], 28, 28, 1)\n",
    "\n",
    "x_train = CV2YUV(tri_X_train)\n",
    "x_test = CV2YUV(tri_X_test)\n",
    "x_valid = CV2YUV(tri_X_valid)\n",
    "\n",
    "# # Normalization\n",
    "# x_train = x_train / 255\n",
    "# x_test = x_test / 255\n",
    "\n",
    "num_class_shape = 16\n",
    "\n",
    "# One Hot Encoding\n",
    "y_train = keras.utils.to_categorical(tri_train_labels, 16)\n",
    "y_test = keras.utils.to_categorical(tri_test_labels, 16)\n",
    "y_valid = keras.utils.to_categorical(tri_valid_labels, 16)"
   ]
  },
  {
   "cell_type": "code",
   "execution_count": 8,
   "metadata": {
    "execution": {
     "iopub.execute_input": "2023-07-13T16:18:30.523999Z",
     "iopub.status.busy": "2023-07-13T16:18:30.523582Z",
     "iopub.status.idle": "2023-07-13T16:18:30.539562Z",
     "shell.execute_reply": "2023-07-13T16:18:30.538592Z",
     "shell.execute_reply.started": "2023-07-13T16:18:30.523965Z"
    }
   },
   "outputs": [],
   "source": [
    "keras.backend.clear_session()"
   ]
  },
  {
   "cell_type": "markdown",
   "metadata": {},
   "source": [
    "### LeNet Model Architecture"
   ]
  },
  {
   "cell_type": "code",
   "execution_count": 9,
   "metadata": {
    "execution": {
     "iopub.execute_input": "2023-07-13T16:18:34.616373Z",
     "iopub.status.busy": "2023-07-13T16:18:34.616008Z",
     "iopub.status.idle": "2023-07-13T16:18:34.735933Z",
     "shell.execute_reply": "2023-07-13T16:18:34.734962Z",
     "shell.execute_reply.started": "2023-07-13T16:18:34.616341Z"
    }
   },
   "outputs": [],
   "source": [
    "# Building the Model Architecture\n",
    "# model = Sequential()\n",
    "# model.add(Conv2D(6, kernel_size=(5, 5), activation='relu', input_shape=(32, 32, 3)))#************\n",
    "# model.add(MaxPooling2D(pool_size=(2, 2)))\n",
    "# model.add(Conv2D(16, kernel_size=(5, 5), activation='relu'))\n",
    "# model.add(MaxPooling2D(pool_size=(2, 2)))\n",
    "# model.add(Flatten())\n",
    "# model.add(Dense(120, activation='relu'))\n",
    "# model.add(Dense(84, activation='relu'))\n",
    "# model.add(Dense(16, activation='softmax'))#********************\n",
    "#Definition of the DNN model\n",
    "\n",
    "from keras.models import Sequential\n",
    "from keras.layers import Conv2D, MaxPool2D, Dense, Flatten, Dropout\n",
    "\n",
    "model = Sequential()\n",
    "model.add(Conv2D(filters=32, kernel_size=(5,5), activation='relu', input_shape=x_train.shape[1:]))\n",
    "model.add(Conv2D(filters=64, kernel_size=(3, 3), activation='relu'))\n",
    "model.add(MaxPool2D(pool_size=(2, 2)))\n",
    "model.add(Dropout(rate=0.25))\n",
    "model.add(Conv2D(filters=64, kernel_size=(3, 3), activation='relu'))\n",
    "model.add(MaxPool2D(pool_size=(2, 2)))\n",
    "model.add(Dropout(rate=0.25))\n",
    "model.add(Flatten())\n",
    "model.add(Dense(256, activation='relu'))\n",
    "model.add(Dropout(rate=0.5))\n",
    "model.add(Dense(16, activation='softmax'))\n",
    "\n"
   ]
  },
  {
   "cell_type": "code",
   "execution_count": 10,
   "metadata": {
    "execution": {
     "iopub.execute_input": "2023-07-13T16:18:36.433927Z",
     "iopub.status.busy": "2023-07-13T16:18:36.433530Z",
     "iopub.status.idle": "2023-07-13T16:18:36.447668Z",
     "shell.execute_reply": "2023-07-13T16:18:36.446665Z",
     "shell.execute_reply.started": "2023-07-13T16:18:36.433895Z"
    }
   },
   "outputs": [],
   "source": [
    "model.compile(loss=keras.metrics.categorical_crossentropy, optimizer=keras.optimizers.Adam(), metrics=['accuracy'])"
   ]
  },
  {
   "cell_type": "code",
   "execution_count": 11,
   "metadata": {
    "execution": {
     "iopub.execute_input": "2023-07-13T16:18:37.205884Z",
     "iopub.status.busy": "2023-07-13T16:18:37.205490Z",
     "iopub.status.idle": "2023-07-13T16:18:37.211815Z",
     "shell.execute_reply": "2023-07-13T16:18:37.210462Z",
     "shell.execute_reply.started": "2023-07-13T16:18:37.205846Z"
    }
   },
   "outputs": [
    {
     "name": "stdout",
     "output_type": "stream",
     "text": [
      "(32368, 32, 32, 3) (3510, 32, 32, 3)\n"
     ]
    }
   ],
   "source": [
    "print(x_train.shape , x_test.shape)"
   ]
  },
  {
   "cell_type": "code",
   "execution_count": 12,
   "metadata": {
    "execution": {
     "iopub.execute_input": "2023-07-13T16:34:45.988150Z",
     "iopub.status.busy": "2023-07-13T16:34:45.987753Z",
     "iopub.status.idle": "2023-07-13T16:38:09.045632Z",
     "shell.execute_reply": "2023-07-13T16:38:09.044451Z",
     "shell.execute_reply.started": "2023-07-13T16:34:45.988118Z"
    },
    "scrolled": false
   },
   "outputs": [
    {
     "name": "stdout",
     "output_type": "stream",
     "text": [
      "Epoch 1/70\n",
      "253/253 [==============================] - 19s 42ms/step - loss: 1.1830 - accuracy: 0.6359 - val_loss: 0.2181 - val_accuracy: 0.9403\n",
      "Epoch 2/70\n",
      "253/253 [==============================] - 10s 39ms/step - loss: 0.1963 - accuracy: 0.9415 - val_loss: 0.1667 - val_accuracy: 0.9667\n",
      "Epoch 3/70\n",
      "253/253 [==============================] - 10s 39ms/step - loss: 0.1154 - accuracy: 0.9650 - val_loss: 0.1382 - val_accuracy: 0.9729\n",
      "Epoch 4/70\n",
      "253/253 [==============================] - 10s 39ms/step - loss: 0.0804 - accuracy: 0.9757 - val_loss: 0.1548 - val_accuracy: 0.9736\n",
      "Epoch 5/70\n",
      "253/253 [==============================] - 10s 39ms/step - loss: 0.0587 - accuracy: 0.9820 - val_loss: 0.1743 - val_accuracy: 0.9736\n",
      "Epoch 6/70\n",
      "253/253 [==============================] - 10s 39ms/step - loss: 0.0554 - accuracy: 0.9822 - val_loss: 0.1734 - val_accuracy: 0.9667\n",
      "Epoch 7/70\n",
      "253/253 [==============================] - 10s 39ms/step - loss: 0.0439 - accuracy: 0.9857 - val_loss: 0.1798 - val_accuracy: 0.9690\n",
      "Epoch 8/70\n",
      "253/253 [==============================] - 10s 39ms/step - loss: 0.0384 - accuracy: 0.9883 - val_loss: 0.1508 - val_accuracy: 0.9767\n",
      "Epoch 9/70\n",
      "253/253 [==============================] - 10s 39ms/step - loss: 0.0310 - accuracy: 0.9906 - val_loss: 0.1592 - val_accuracy: 0.9767\n",
      "Epoch 10/70\n",
      "253/253 [==============================] - 10s 39ms/step - loss: 0.0320 - accuracy: 0.9894 - val_loss: 0.1937 - val_accuracy: 0.9721\n",
      "Epoch 11/70\n",
      "253/253 [==============================] - 10s 40ms/step - loss: 0.0342 - accuracy: 0.9892 - val_loss: 0.2071 - val_accuracy: 0.9698\n",
      "Epoch 12/70\n",
      "253/253 [==============================] - 10s 39ms/step - loss: 0.0317 - accuracy: 0.9908 - val_loss: 0.2168 - val_accuracy: 0.9705\n",
      "Epoch 13/70\n",
      "253/253 [==============================] - 10s 39ms/step - loss: 0.0322 - accuracy: 0.9898 - val_loss: 0.2036 - val_accuracy: 0.9729\n",
      "Epoch 14/70\n",
      "253/253 [==============================] - 10s 39ms/step - loss: 0.0288 - accuracy: 0.9911 - val_loss: 0.1579 - val_accuracy: 0.9760\n",
      "Epoch 15/70\n",
      "253/253 [==============================] - 10s 39ms/step - loss: 0.0221 - accuracy: 0.9929 - val_loss: 0.1710 - val_accuracy: 0.9744\n",
      "Epoch 16/70\n",
      "253/253 [==============================] - 10s 39ms/step - loss: 0.0296 - accuracy: 0.9909 - val_loss: 0.1806 - val_accuracy: 0.9791\n",
      "Epoch 17/70\n",
      "253/253 [==============================] - 10s 39ms/step - loss: 0.0248 - accuracy: 0.9917 - val_loss: 0.1753 - val_accuracy: 0.9775\n",
      "Epoch 18/70\n",
      "253/253 [==============================] - 10s 39ms/step - loss: 0.0251 - accuracy: 0.9916 - val_loss: 0.2039 - val_accuracy: 0.9682\n",
      "Epoch 19/70\n",
      "253/253 [==============================] - 10s 39ms/step - loss: 0.0258 - accuracy: 0.9921 - val_loss: 0.2354 - val_accuracy: 0.9682\n",
      "Epoch 20/70\n",
      "253/253 [==============================] - 10s 39ms/step - loss: 0.0265 - accuracy: 0.9919 - val_loss: 0.1697 - val_accuracy: 0.9721\n",
      "Epoch 21/70\n",
      "253/253 [==============================] - 10s 39ms/step - loss: 0.0265 - accuracy: 0.9920 - val_loss: 0.1820 - val_accuracy: 0.9721\n",
      "Epoch 22/70\n",
      "253/253 [==============================] - 10s 39ms/step - loss: 0.0226 - accuracy: 0.9931 - val_loss: 0.1738 - val_accuracy: 0.9760\n",
      "Epoch 23/70\n",
      "253/253 [==============================] - 10s 39ms/step - loss: 0.0209 - accuracy: 0.9937 - val_loss: 0.1506 - val_accuracy: 0.9798\n",
      "Epoch 24/70\n",
      "253/253 [==============================] - 10s 39ms/step - loss: 0.0193 - accuracy: 0.9936 - val_loss: 0.1670 - val_accuracy: 0.9736\n",
      "Epoch 25/70\n",
      "253/253 [==============================] - 10s 39ms/step - loss: 0.0177 - accuracy: 0.9945 - val_loss: 0.1985 - val_accuracy: 0.9713\n",
      "Epoch 26/70\n",
      "253/253 [==============================] - 10s 39ms/step - loss: 0.0272 - accuracy: 0.9916 - val_loss: 0.1474 - val_accuracy: 0.9783\n",
      "Epoch 27/70\n",
      "253/253 [==============================] - 10s 39ms/step - loss: 0.0185 - accuracy: 0.9940 - val_loss: 0.2457 - val_accuracy: 0.9698\n",
      "Epoch 28/70\n",
      "253/253 [==============================] - 10s 39ms/step - loss: 0.0154 - accuracy: 0.9957 - val_loss: 0.2150 - val_accuracy: 0.9760\n",
      "Epoch 29/70\n",
      "253/253 [==============================] - 10s 39ms/step - loss: 0.0217 - accuracy: 0.9937 - val_loss: 0.2159 - val_accuracy: 0.9729\n",
      "Epoch 30/70\n",
      "253/253 [==============================] - 10s 40ms/step - loss: 0.0206 - accuracy: 0.9942 - val_loss: 0.1494 - val_accuracy: 0.9791\n",
      "Epoch 31/70\n",
      "253/253 [==============================] - 10s 39ms/step - loss: 0.0120 - accuracy: 0.9960 - val_loss: 0.2355 - val_accuracy: 0.9713\n",
      "Epoch 32/70\n",
      "253/253 [==============================] - 10s 39ms/step - loss: 0.0205 - accuracy: 0.9939 - val_loss: 0.2443 - val_accuracy: 0.9760\n",
      "Epoch 33/70\n",
      "253/253 [==============================] - 10s 39ms/step - loss: 0.0198 - accuracy: 0.9945 - val_loss: 0.1900 - val_accuracy: 0.9775\n",
      "Epoch 34/70\n",
      "253/253 [==============================] - 10s 39ms/step - loss: 0.0174 - accuracy: 0.9948 - val_loss: 0.2152 - val_accuracy: 0.9713\n",
      "Epoch 35/70\n",
      "253/253 [==============================] - 10s 39ms/step - loss: 0.0163 - accuracy: 0.9952 - val_loss: 0.1785 - val_accuracy: 0.9791\n",
      "Epoch 36/70\n",
      "253/253 [==============================] - 10s 39ms/step - loss: 0.0180 - accuracy: 0.9947 - val_loss: 0.1918 - val_accuracy: 0.9767\n",
      "Epoch 37/70\n",
      "253/253 [==============================] - 10s 39ms/step - loss: 0.0163 - accuracy: 0.9949 - val_loss: 0.1844 - val_accuracy: 0.9798\n",
      "Epoch 38/70\n",
      "253/253 [==============================] - 10s 39ms/step - loss: 0.0173 - accuracy: 0.9951 - val_loss: 0.1910 - val_accuracy: 0.9783\n",
      "Epoch 39/70\n",
      "253/253 [==============================] - 9s 34ms/step - loss: 0.0160 - accuracy: 0.9957 - val_loss: 0.2418 - val_accuracy: 0.9798\n",
      "Epoch 40/70\n",
      "253/253 [==============================] - 6s 24ms/step - loss: 0.0219 - accuracy: 0.9939 - val_loss: 0.2058 - val_accuracy: 0.9791\n",
      "Epoch 41/70\n",
      "253/253 [==============================] - 6s 24ms/step - loss: 0.0237 - accuracy: 0.9932 - val_loss: 0.3175 - val_accuracy: 0.9721\n",
      "Epoch 42/70\n",
      "253/253 [==============================] - 6s 24ms/step - loss: 0.0175 - accuracy: 0.9947 - val_loss: 0.2236 - val_accuracy: 0.9744\n",
      "Epoch 43/70\n",
      "253/253 [==============================] - 6s 24ms/step - loss: 0.0161 - accuracy: 0.9956 - val_loss: 0.2020 - val_accuracy: 0.9791\n",
      "Epoch 44/70\n",
      "253/253 [==============================] - 6s 24ms/step - loss: 0.0163 - accuracy: 0.9954 - val_loss: 0.3088 - val_accuracy: 0.9744\n",
      "Epoch 45/70\n",
      "253/253 [==============================] - 6s 24ms/step - loss: 0.0118 - accuracy: 0.9964 - val_loss: 0.2092 - val_accuracy: 0.9736\n",
      "Epoch 46/70\n",
      "253/253 [==============================] - 6s 24ms/step - loss: 0.0173 - accuracy: 0.9951 - val_loss: 0.2342 - val_accuracy: 0.9736\n",
      "Epoch 47/70\n",
      "253/253 [==============================] - 6s 24ms/step - loss: 0.0143 - accuracy: 0.9956 - val_loss: 0.2815 - val_accuracy: 0.9698\n",
      "Epoch 48/70\n",
      "253/253 [==============================] - 6s 24ms/step - loss: 0.0192 - accuracy: 0.9943 - val_loss: 0.2739 - val_accuracy: 0.9713\n",
      "Epoch 49/70\n",
      "253/253 [==============================] - 6s 25ms/step - loss: 0.0198 - accuracy: 0.9944 - val_loss: 0.2257 - val_accuracy: 0.9767\n",
      "Epoch 50/70\n",
      "253/253 [==============================] - 6s 24ms/step - loss: 0.0163 - accuracy: 0.9954 - val_loss: 0.2331 - val_accuracy: 0.9736\n",
      "Epoch 51/70\n",
      "253/253 [==============================] - 6s 25ms/step - loss: 0.0140 - accuracy: 0.9960 - val_loss: 0.2370 - val_accuracy: 0.9767\n",
      "Epoch 52/70\n",
      "253/253 [==============================] - 6s 25ms/step - loss: 0.0122 - accuracy: 0.9961 - val_loss: 0.1493 - val_accuracy: 0.9806\n",
      "Epoch 53/70\n",
      "253/253 [==============================] - 6s 25ms/step - loss: 0.0132 - accuracy: 0.9964 - val_loss: 0.2588 - val_accuracy: 0.9760\n",
      "Epoch 54/70\n",
      "253/253 [==============================] - 6s 25ms/step - loss: 0.0168 - accuracy: 0.9955 - val_loss: 0.2569 - val_accuracy: 0.9636\n",
      "Epoch 55/70\n",
      "253/253 [==============================] - 6s 25ms/step - loss: 0.0227 - accuracy: 0.9948 - val_loss: 0.3073 - val_accuracy: 0.9698\n",
      "Epoch 56/70\n",
      "253/253 [==============================] - 6s 24ms/step - loss: 0.0211 - accuracy: 0.9942 - val_loss: 0.3361 - val_accuracy: 0.9744\n",
      "Epoch 57/70\n",
      "253/253 [==============================] - 6s 24ms/step - loss: 0.0180 - accuracy: 0.9954 - val_loss: 0.2151 - val_accuracy: 0.9767\n"
     ]
    },
    {
     "name": "stdout",
     "output_type": "stream",
     "text": [
      "Epoch 58/70\n",
      "253/253 [==============================] - 6s 24ms/step - loss: 0.0137 - accuracy: 0.9959 - val_loss: 0.2494 - val_accuracy: 0.9682\n",
      "Epoch 59/70\n",
      "253/253 [==============================] - 6s 24ms/step - loss: 0.0144 - accuracy: 0.9956 - val_loss: 0.2437 - val_accuracy: 0.9744\n",
      "Epoch 60/70\n",
      "253/253 [==============================] - 6s 24ms/step - loss: 0.0163 - accuracy: 0.9952 - val_loss: 0.3691 - val_accuracy: 0.9667\n",
      "Epoch 61/70\n",
      "253/253 [==============================] - 6s 24ms/step - loss: 0.0140 - accuracy: 0.9961 - val_loss: 0.2157 - val_accuracy: 0.9744\n",
      "Epoch 62/70\n",
      "253/253 [==============================] - 6s 24ms/step - loss: 0.0129 - accuracy: 0.9965 - val_loss: 0.3545 - val_accuracy: 0.9674\n",
      "Epoch 63/70\n",
      "253/253 [==============================] - 6s 24ms/step - loss: 0.0184 - accuracy: 0.9951 - val_loss: 0.3728 - val_accuracy: 0.9667\n",
      "Epoch 64/70\n",
      "253/253 [==============================] - 6s 24ms/step - loss: 0.0114 - accuracy: 0.9972 - val_loss: 0.2026 - val_accuracy: 0.9736\n",
      "Epoch 65/70\n",
      "253/253 [==============================] - 6s 24ms/step - loss: 0.0128 - accuracy: 0.9968 - val_loss: 0.2233 - val_accuracy: 0.9760\n",
      "Epoch 66/70\n",
      "253/253 [==============================] - 6s 24ms/step - loss: 0.0187 - accuracy: 0.9961 - val_loss: 0.2360 - val_accuracy: 0.9744\n",
      "Epoch 67/70\n",
      "253/253 [==============================] - 6s 24ms/step - loss: 0.0169 - accuracy: 0.9955 - val_loss: 0.2380 - val_accuracy: 0.9752\n",
      "Epoch 68/70\n",
      "253/253 [==============================] - 6s 24ms/step - loss: 0.0186 - accuracy: 0.9947 - val_loss: 0.1879 - val_accuracy: 0.9767\n",
      "Epoch 69/70\n",
      "253/253 [==============================] - 6s 24ms/step - loss: 0.0095 - accuracy: 0.9973 - val_loss: 0.2264 - val_accuracy: 0.9752\n",
      "Epoch 70/70\n",
      "253/253 [==============================] - 6s 24ms/step - loss: 0.0132 - accuracy: 0.9963 - val_loss: 0.2943 - val_accuracy: 0.9690\n"
     ]
    },
    {
     "data": {
      "text/plain": [
       "<keras.callbacks.History at 0x26272035180>"
      ]
     },
     "execution_count": 12,
     "metadata": {},
     "output_type": "execute_result"
    }
   ],
   "source": [
    "model.fit(x_train, y_train, batch_size=128, epochs=70, verbose=1, validation_data=(x_valid, y_valid))"
   ]
  },
  {
   "cell_type": "code",
   "execution_count": 13,
   "metadata": {},
   "outputs": [
    {
     "name": "stdout",
     "output_type": "stream",
     "text": [
      "110/110 [==============================] - 1s 6ms/step - loss: 0.5217 - accuracy: 0.9516\n",
      "Test Loss: 0.5217482447624207\n",
      "Test accuracy: 0.9515669345855713\n"
     ]
    }
   ],
   "source": [
    "score = model.evaluate(x_test, y_test)\n",
    "print('Test Loss:', score[0])\n",
    "print('Test accuracy:', score[1])"
   ]
  },
  {
   "cell_type": "code",
   "execution_count": 14,
   "metadata": {
    "execution": {
     "iopub.execute_input": "2023-07-13T16:15:58.783276Z",
     "iopub.status.busy": "2023-07-13T16:15:58.782916Z",
     "iopub.status.idle": "2023-07-13T16:15:58.836247Z",
     "shell.execute_reply": "2023-07-13T16:15:58.835263Z",
     "shell.execute_reply.started": "2023-07-13T16:15:58.783243Z"
    }
   },
   "outputs": [],
   "source": [
    "model_pkl_file = \"D:\\\\Project\\\\Traffic Sign Detection\\\\TrainedMOdel\\\\final\\\\tri_classifier_model_YUV_acc95.h5\"\n",
    "model.save(model_pkl_file)\n"
   ]
  },
  {
   "cell_type": "code",
   "execution_count": 31,
   "metadata": {
    "execution": {
     "iopub.execute_input": "2023-07-13T16:11:38.267217Z",
     "iopub.status.busy": "2023-07-13T16:11:38.266860Z",
     "iopub.status.idle": "2023-07-13T16:11:44.427680Z",
     "shell.execute_reply": "2023-07-13T16:11:44.426710Z",
     "shell.execute_reply.started": "2023-07-13T16:11:38.267187Z"
    }
   },
   "outputs": [
    {
     "name": "stdout",
     "output_type": "stream",
     "text": [
      "110/110 [==============================] - 1s 9ms/step - loss: 320.6290 - accuracy: 0.1197\n",
      "Test Loss: 320.62896728515625\n",
      "Test accuracy: 0.11965811997652054\n"
     ]
    }
   ],
   "source": [
    "from keras.models import load_model\n",
    "\n",
    "model = load_model(\"D:\\\\Project\\\\Traffic Sign Detection\\\\TrainedMOdel\\\\final\\\\tri_classifier_model_acc96.h5\")\n",
    "\n",
    "score = model.evaluate(x_test, y_test)\n",
    "print('Test Loss:', score[0])\n",
    "print('Test accuracy:', score[1])"
   ]
  },
  {
   "cell_type": "markdown",
   "metadata": {},
   "source": [
    "## Hope you like it!"
   ]
  },
  {
   "cell_type": "code",
   "execution_count": null,
   "metadata": {},
   "outputs": [],
   "source": [
    "from matplotlib import pyplot as plt\n",
    "image = x_train[65:66,:,:]#.transpose(2 , 0 ,1)\n",
    "plt.imshow(image[0].reshape((32,32,3)))\n",
    "plt.show()\n",
    "#y = model.predict_classes(image)\n",
    "y = (model.predict(image) > 0.5).astype(\"int32\")\n",
    "print(y[0])\n",
    "print(y_train[65:66])"
   ]
  },
  {
   "cell_type": "code",
   "execution_count": null,
   "metadata": {},
   "outputs": [],
   "source": [
    "image[0].reshape((32,32)).shape"
   ]
  },
  {
   "cell_type": "code",
   "execution_count": null,
   "metadata": {},
   "outputs": [],
   "source": [
    "import numpy\n",
    "x = numpy.where(gray_train_labels == 2)"
   ]
  }
 ],
 "metadata": {
  "kernelspec": {
   "display_name": "Python 3 (ipykernel)",
   "language": "python",
   "name": "python3"
  },
  "language_info": {
   "codemirror_mode": {
    "name": "ipython",
    "version": 3
   },
   "file_extension": ".py",
   "mimetype": "text/x-python",
   "name": "python",
   "nbconvert_exporter": "python",
   "pygments_lexer": "ipython3",
   "version": "3.10.9"
  }
 },
 "nbformat": 4,
 "nbformat_minor": 4
}
