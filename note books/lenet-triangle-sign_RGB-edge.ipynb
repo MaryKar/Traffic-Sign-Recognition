{
 "cells": [
  {
   "cell_type": "markdown",
   "metadata": {},
   "source": [
    "### Code Implementation"
   ]
  },
  {
   "cell_type": "code",
   "execution_count": 1,
   "metadata": {
    "tags": []
   },
   "outputs": [],
   "source": [
    "# Importing necessary libraries\n",
    "import keras\n",
    "from keras.datasets import mnist\n",
    "from keras.layers import Conv2D, MaxPooling2D\n",
    "from keras.layers import Dense, Flatten\n",
    "from keras.models import Sequential\n",
    "import pickle\n",
    "import numpy as np\n",
    "import cv2\n",
    "from matplotlib import pyplot as plt\n",
    "from sklearn.metrics import classification_report\n",
    "from sklearn.model_selection import train_test_split"
   ]
  },
  {
   "cell_type": "markdown",
   "metadata": {},
   "source": [
    "### Loading Dataset"
   ]
  },
  {
   "cell_type": "code",
   "execution_count": 2,
   "metadata": {
    "tags": []
   },
   "outputs": [],
   "source": [
    "# Opening file for reading in binary mode\n",
    "#- data3.pickle - Shuffling, /255.0 + Mean + STD Normalization\n",
    "with open('D:\\Project\\Traffic Sign Detection\\DATABASE/data0.pickle', 'rb') as f:\n",
    "    data = pickle.load(f, encoding='latin1')  # dictionary type\n",
    "    \n",
    "    \n",
    "# Making channels come at the end\n",
    "data['x_train'] = data['x_train'].transpose(0, 2, 3, 1)\n",
    "data['x_validation'] = data['x_validation'].transpose(0, 2, 3, 1)\n",
    "data['x_test'] = data['x_test'].transpose(0, 2, 3, 1)\n",
    "\n",
    "train_imgs = data['x_train']\n",
    "test_imgs = data['x_test']\n",
    "valid_imgs = data['x_validation']\n",
    "train_labels = data['y_train']\n",
    "test_labels = data['y_test']\n",
    "valid_labels = data['y_validation']"
   ]
  },
  {
   "cell_type": "code",
   "execution_count": 3,
   "metadata": {
    "tags": []
   },
   "outputs": [],
   "source": [
    "def canny(x):\n",
    "    for i in range(0 , x.shape[0]):\n",
    "        # enh = ImageEnhance.Brightness(Image.fromarray(np.uint8(x[i]* 255)))\n",
    "        # enh_img = enh.enhance(2)\n",
    "        x[i,:,:,0] = cv2.Canny(x[i], 100, 150)\n",
    "\n",
    "        \n",
    "    return x[:,:,:,0]\n",
    "        "
   ]
  },
  {
   "cell_type": "code",
   "execution_count": 4,
   "metadata": {
    "tags": []
   },
   "outputs": [],
   "source": [
    "A = np.array(np.where(train_labels >= 18))\n",
    "A = np.concatenate((A ,np.where(train_labels == 13)), axis = 1)\n",
    "A = np.concatenate((A ,np.where(train_labels == 11)), axis = 1)\n",
    "B = np.array(np.where(train_labels > 31))\n",
    "indx = np.setdiff1d(A, B)\n",
    "\n",
    "A = np.array(np.where(test_labels >= 18)) \n",
    "A = np.concatenate((A ,np.where(test_labels == 13)), axis = 1)\n",
    "A = np.concatenate((A ,np.where(test_labels == 11)), axis = 1)\n",
    "B = np.array(np.where(test_labels > 31))\n",
    "indx1 = np.setdiff1d(A, B)\n",
    "\n",
    "A = np.array(np.where(valid_labels >= 18)) \n",
    "A = np.concatenate((A ,np.where(valid_labels == 13)), axis = 1)\n",
    "A = np.concatenate((A ,np.where(valid_labels == 11)), axis = 1)\n",
    "B = np.array(np.where(valid_labels > 31))\n",
    "indx2 = np.setdiff1d(A, B)\n",
    "\n",
    "tri_X_train = train_imgs[indx]\n",
    "tri_X_test = test_imgs[indx1]\n",
    "tri_X_valid = valid_imgs[indx2]\n",
    "tri_train_labels = train_labels[indx]\n",
    "tri_test_labels = test_labels[indx1]\n",
    "tri_valid_labels = valid_labels[indx2]"
   ]
  },
  {
   "cell_type": "code",
   "execution_count": 5,
   "metadata": {
    "tags": []
   },
   "outputs": [],
   "source": [
    "tri_Dict = {11:0 , 13:1 , 18:2 , 19:3 , 20:4 , 21:5 , 22:6 , 23:7 , 24:8 , 25:9 , 26:10 , 27:11 , 28:12 , 29:13 , 30:14 , 31:15 }\n",
    "tri_train_labels = np.vectorize(tri_Dict.get)(tri_train_labels)\n",
    "tri_test_labels = np.vectorize(tri_Dict.get)(tri_test_labels)\n",
    "tri_valid_labels = np.vectorize(tri_Dict.get)(tri_valid_labels)\n",
    "tri_num_class = 16"
   ]
  },
  {
   "cell_type": "code",
   "execution_count": 6,
   "metadata": {
    "tags": []
   },
   "outputs": [],
   "source": [
    "edges_train = canny(np.uint8(train_imgs[indx]))\n",
    "edges_test =  canny(np.uint8(test_imgs[indx1]))\n",
    "edges_valid = canny(np.uint8(valid_imgs[indx2]))"
   ]
  },
  {
   "cell_type": "markdown",
   "metadata": {},
   "source": [
    "### Image Data Preprocessing"
   ]
  },
  {
   "cell_type": "code",
   "execution_count": 7,
   "metadata": {
    "tags": []
   },
   "outputs": [],
   "source": [
    "# # Peforming reshaping operation\n",
    "# # x_train = gray_train_imgs.reshape(gray_train_imgs.shape[0], 28, 28, 1)\n",
    "# # x_test = gray_test_imgs.reshape(gray_test_imgs.shape[0], 28, 28, 1)\n",
    "\n",
    "x_train = np.zeros((tri_X_train.shape[0], 32,32,4))\n",
    "x_test = np.zeros((tri_X_test.shape[0], 32,32,4))\n",
    "x_valid = np.zeros((tri_X_valid.shape[0], 32,32,4))\n",
    "\n",
    "x_train[:,:,:,0:3] = tri_X_train[0]\n",
    "x_test[:,:,:,0:3] = tri_X_test[0]\n",
    "x_valid[:,:,:,0:3] = tri_X_valid[0]\n",
    "\n",
    "x_train[:,:,:,3] = edges_train\n",
    "x_test[:,:,:,3] = edges_test\n",
    "x_valid[:,:,:,3] = edges_valid\n",
    "\n",
    "# # Normalization\n",
    "x_train = x_train / 255\n",
    "x_test = x_test / 255\n",
    "x_valid = x_valid / 255\n",
    "\n",
    "# One Hot Encoding\n",
    "y_train = keras.utils.to_categorical(tri_train_labels,16)\n",
    "y_test = keras.utils.to_categorical(tri_test_labels, 16)\n",
    "y_valid = keras.utils.to_categorical(tri_valid_labels, 16)"
   ]
  },
  {
   "cell_type": "code",
   "execution_count": 12,
   "metadata": {
    "tags": []
   },
   "outputs": [
    {
     "data": {
      "text/plain": [
       "<matplotlib.image.AxesImage at 0x1d6dab91720>"
      ]
     },
     "execution_count": 12,
     "metadata": {},
     "output_type": "execute_result"
    },
    {
     "data": {
      "image/png": "[encoded data removed]",
      "text/plain": [
       "<Figure size 640x480 with 1 Axes>"
      ]
     },
     "metadata": {},
     "output_type": "display_data"
    }
   ],
   "source": [
    "i = 6571\n",
    "i =6\n",
    "a = x_train[i][:,:,3] \n",
    "c = x_train[i][:,:,0:3]\n",
    "b = edges_train[i]\n",
    "plt.imshow(a, cmap= 'gray')"
   ]
  },
  {
   "cell_type": "code",
   "execution_count": 23,
   "metadata": {
    "tags": []
   },
   "outputs": [],
   "source": [
    "keras.backend.clear_session()"
   ]
  },
  {
   "cell_type": "markdown",
   "metadata": {},
   "source": [
    "### LeNet Model Architecture"
   ]
  },
  {
   "cell_type": "code",
   "execution_count": 24,
   "metadata": {
    "tags": []
   },
   "outputs": [],
   "source": [
    "# Building the Model Architecture\n",
    "# model = Sequential()\n",
    "# model.add(Conv2D(6, kernel_size=(5, 5), activation='relu', input_shape=(32, 32, 3)))#************\n",
    "# model.add(MaxPooling2D(pool_size=(2, 2)))\n",
    "# model.add(Conv2D(16, kernel_size=(5, 5), activation='relu'))\n",
    "# model.add(MaxPooling2D(pool_size=(2, 2)))\n",
    "# model.add(Flatten())\n",
    "# model.add(Dense(120, activation='relu'))\n",
    "# model.add(Dense(84, activation='relu'))\n",
    "# model.add(Dense(16, activation='softmax'))#********************\n",
    "#Definition of the DNN model\n",
    "\n",
    "from keras.models import Sequential\n",
    "from keras.layers import Conv2D , MaxPool2D , Dropout , Flatten , Dense\n",
    "from keras import regularizers\n",
    "model = Sequential()\n",
    "# model.add(Conv2D(filters=32, kernel_size=(5,5), activation='relu', input_shape=x_train.shape[1:]))\n",
    "# model.add(Conv2D(filters=64, kernel_size=(3, 3), activation='relu'))\n",
    "# model.add(MaxPool2D(pool_size=(2, 2)))\n",
    "# model.add(Dropout(rate=0.25))\n",
    "# model.add(Conv2D(filters=64, kernel_size=(3, 3), activation='relu'))\n",
    "# model.add(MaxPool2D(pool_size=(2, 2)))\n",
    "# model.add(Dropout(rate=0.25))\n",
    "# model.add(Flatten())\n",
    "# model.add(Dense(256, activation='relu'))\n",
    "# model.add(Dropout(rate=0.5))\n",
    "# model.add(Dense(16, activation='softmax'))\n",
    "\n",
    "model.add(Conv2D(filters=32, kernel_size=3, activation='relu', input_shape=(32,32,4)))\n",
    "model.add(MaxPool2D(pool_size=(2, 2)))\n",
    "model.add(Dropout(rate=0.25))\n",
    "\n",
    "# Second Convolutional Layer\n",
    "model.add(Conv2D(filters=64, kernel_size=3, activation='relu'))\n",
    "model.add(MaxPool2D(pool_size=(2, 2)))\n",
    "model.add(Dropout(rate=0.25))\n",
    "\n",
    "# Third Convolutional Layer\n",
    "model.add(Conv2D(filters=64, kernel_size=3, activation='relu'))\n",
    "\n",
    "model.add(Flatten())\n",
    "model.add(Dense(256,\n",
    "                kernel_regularizer=regularizers.L1L2(l1=1e-5, l2=1e-4),\n",
    "                bias_regularizer=regularizers.L2(1e-4),\n",
    "                activity_regularizer=regularizers.L2(1e-5),\n",
    "                activation='relu'))\n",
    "model.add(Dropout(rate=0.5))\n",
    "model.add(Dense(16,\n",
    "                kernel_regularizer=regularizers.L1L2(l1=1e-5, l2=1e-4),\n",
    "                bias_regularizer=regularizers.L2(1e-4),\n",
    "                activity_regularizer=regularizers.L2(1e-5),\n",
    "                activation='softmax'))\n",
    "\n",
    "# model.add(layers.Conv2D(filters=32,kernel_size=3,activation='relu',padding='same',input_shape=x_train.shape[1:]))\n",
    "# model.add(layers.MaxPool2D(strides=2))\n",
    "# model.add(layers.BatchNormalization())\n",
    "# model.add(layers.Dropout(0.3))\n",
    "\n",
    "# #ConvLayer(128 filters) + MaxPooling + BatchNormalization + Dropout\n",
    "# model.add(layers.Conv2D(filters=128,kernel_size=3,activation='relu',padding='same'))\n",
    "# model.add(layers.MaxPool2D(strides=2))\n",
    "# model.add(layers.BatchNormalization())\n",
    "# model.add(layers.Dropout(0.3))\n",
    "\n",
    "# #ConvLayer(512 filters) + Dropout + ConvLayer(512 filters) + MaxPooling + BatchNormalization\n",
    "# model.add(layers.Conv2D(filters=512,kernel_size=3,activation='relu',padding='same'))\n",
    "# model.add(layers.Dropout(0.3))\n",
    "# model.add(layers.Conv2D(filters=512,kernel_size=3,activation='relu',padding='same'))\n",
    "# model.add(layers.MaxPool2D(strides=2))\n",
    "# model.add(layers.BatchNormalization())\n",
    "\n",
    "# #Flatten\n",
    "# model.add(layers.Flatten())\n",
    "\n",
    "# #2 Dense layers with 4000 hidden units\n",
    "# model.add(layers.Dense(4000,activation='relu'))\n",
    "# model.add(layers.Dense(4000,activation='relu'))\n",
    "\n",
    "# #Dense layer with 1000 hidden units\n",
    "# model.add(layers.Dense(1000,activation='relu'))\n",
    "\n",
    "# #Softmax layer for output\n",
    "# model.add(layers.Dense(16,activation='softmax'))\n",
    "\n"
   ]
  },
  {
   "cell_type": "code",
   "execution_count": 25,
   "metadata": {
    "tags": []
   },
   "outputs": [],
   "source": [
    "opt = keras.optimizers.Adam()\n",
    "model.compile(loss=keras.metrics.categorical_crossentropy, optimizer=opt, metrics=['accuracy'])"
   ]
  },
  {
   "cell_type": "code",
   "execution_count": 26,
   "metadata": {
    "tags": []
   },
   "outputs": [
    {
     "name": "stdout",
     "output_type": "stream",
     "text": [
      "Epoch 1/70\n",
      "253/253 [==============================] - 5s 18ms/step - loss: 1.9511 - accuracy: 0.3971 - val_loss: 1.2055 - val_accuracy: 0.6620\n",
      "Epoch 2/70\n",
      "253/253 [==============================] - 4s 16ms/step - loss: 1.0185 - accuracy: 0.7009 - val_loss: 0.8586 - val_accuracy: 0.7705\n",
      "Epoch 3/70\n",
      "253/253 [==============================] - 4s 16ms/step - loss: 0.8139 - accuracy: 0.7711 - val_loss: 0.7353 - val_accuracy: 0.8031\n",
      "Epoch 4/70\n",
      "253/253 [==============================] - 4s 16ms/step - loss: 0.7235 - accuracy: 0.7996 - val_loss: 0.7366 - val_accuracy: 0.8000\n",
      "Epoch 5/70\n",
      "253/253 [==============================] - 4s 16ms/step - loss: 0.6697 - accuracy: 0.8171 - val_loss: 0.6961 - val_accuracy: 0.8171\n",
      "Epoch 6/70\n",
      "253/253 [==============================] - 4s 16ms/step - loss: 0.6359 - accuracy: 0.8284 - val_loss: 0.6539 - val_accuracy: 0.8326\n",
      "Epoch 7/70\n",
      "253/253 [==============================] - 4s 16ms/step - loss: 0.6117 - accuracy: 0.8371 - val_loss: 0.6676 - val_accuracy: 0.8225\n",
      "Epoch 8/70\n",
      "253/253 [==============================] - 4s 16ms/step - loss: 0.5867 - accuracy: 0.8462 - val_loss: 0.6411 - val_accuracy: 0.8380\n",
      "Epoch 9/70\n",
      "253/253 [==============================] - 4s 16ms/step - loss: 0.5717 - accuracy: 0.8514 - val_loss: 0.6641 - val_accuracy: 0.8310\n",
      "Epoch 10/70\n",
      "253/253 [==============================] - 4s 17ms/step - loss: 0.5562 - accuracy: 0.8554 - val_loss: 0.6705 - val_accuracy: 0.8186\n",
      "Epoch 11/70\n",
      "253/253 [==============================] - 4s 16ms/step - loss: 0.5413 - accuracy: 0.8605 - val_loss: 0.6530 - val_accuracy: 0.8240\n",
      "Epoch 12/70\n",
      "253/253 [==============================] - 4s 16ms/step - loss: 0.5351 - accuracy: 0.8639 - val_loss: 0.6744 - val_accuracy: 0.8279\n",
      "Epoch 13/70\n",
      "253/253 [==============================] - 4s 17ms/step - loss: 0.5293 - accuracy: 0.8668 - val_loss: 0.6331 - val_accuracy: 0.8388\n",
      "Epoch 14/70\n",
      "253/253 [==============================] - 4s 16ms/step - loss: 0.5148 - accuracy: 0.8710 - val_loss: 0.6763 - val_accuracy: 0.8264\n",
      "Epoch 15/70\n",
      "253/253 [==============================] - 4s 16ms/step - loss: 0.5130 - accuracy: 0.8700 - val_loss: 0.6620 - val_accuracy: 0.8364\n",
      "Epoch 16/70\n",
      "253/253 [==============================] - 4s 16ms/step - loss: 0.5029 - accuracy: 0.8753 - val_loss: 0.6542 - val_accuracy: 0.8279\n",
      "Epoch 17/70\n",
      "253/253 [==============================] - 4s 16ms/step - loss: 0.4987 - accuracy: 0.8781 - val_loss: 0.6420 - val_accuracy: 0.8388\n",
      "Epoch 18/70\n",
      "253/253 [==============================] - 4s 16ms/step - loss: 0.4952 - accuracy: 0.8779 - val_loss: 0.6599 - val_accuracy: 0.8403\n",
      "Epoch 19/70\n",
      "253/253 [==============================] - 4s 16ms/step - loss: 0.4868 - accuracy: 0.8808 - val_loss: 0.6706 - val_accuracy: 0.8326\n",
      "Epoch 20/70\n",
      "253/253 [==============================] - 4s 16ms/step - loss: 0.4862 - accuracy: 0.8813 - val_loss: 0.6538 - val_accuracy: 0.8411\n",
      "Epoch 21/70\n",
      "253/253 [==============================] - 4s 17ms/step - loss: 0.4861 - accuracy: 0.8804 - val_loss: 0.6590 - val_accuracy: 0.8364\n",
      "Epoch 22/70\n",
      "253/253 [==============================] - 4s 16ms/step - loss: 0.4830 - accuracy: 0.8812 - val_loss: 0.6924 - val_accuracy: 0.8318\n",
      "Epoch 23/70\n",
      "253/253 [==============================] - 4s 16ms/step - loss: 0.4797 - accuracy: 0.8841 - val_loss: 0.6337 - val_accuracy: 0.8426\n",
      "Epoch 24/70\n",
      "253/253 [==============================] - 4s 16ms/step - loss: 0.4692 - accuracy: 0.8880 - val_loss: 0.6421 - val_accuracy: 0.8326\n",
      "Epoch 25/70\n",
      "253/253 [==============================] - 4s 16ms/step - loss: 0.4689 - accuracy: 0.8872 - val_loss: 0.6523 - val_accuracy: 0.8372\n",
      "Epoch 26/70\n",
      "253/253 [==============================] - 4s 16ms/step - loss: 0.4663 - accuracy: 0.8874 - val_loss: 0.6642 - val_accuracy: 0.8419\n",
      "Epoch 27/70\n",
      "253/253 [==============================] - 4s 17ms/step - loss: 0.4633 - accuracy: 0.8908 - val_loss: 0.6647 - val_accuracy: 0.8388\n",
      "Epoch 28/70\n",
      "253/253 [==============================] - 4s 16ms/step - loss: 0.4664 - accuracy: 0.8874 - val_loss: 0.6706 - val_accuracy: 0.8364\n",
      "Epoch 29/70\n",
      "253/253 [==============================] - 4s 16ms/step - loss: 0.4572 - accuracy: 0.8919 - val_loss: 0.6808 - val_accuracy: 0.8395\n",
      "Epoch 30/70\n",
      "253/253 [==============================] - 4s 17ms/step - loss: 0.4590 - accuracy: 0.8900 - val_loss: 0.6464 - val_accuracy: 0.8426\n",
      "Epoch 31/70\n",
      "253/253 [==============================] - 4s 17ms/step - loss: 0.4580 - accuracy: 0.8917 - val_loss: 0.6375 - val_accuracy: 0.8426\n",
      "Epoch 32/70\n",
      "253/253 [==============================] - 4s 16ms/step - loss: 0.4534 - accuracy: 0.8921 - val_loss: 0.6631 - val_accuracy: 0.8395\n",
      "Epoch 33/70\n",
      "253/253 [==============================] - 4s 17ms/step - loss: 0.4531 - accuracy: 0.8926 - val_loss: 0.6557 - val_accuracy: 0.8395\n",
      "Epoch 34/70\n",
      "253/253 [==============================] - 4s 16ms/step - loss: 0.4506 - accuracy: 0.8937 - val_loss: 0.6819 - val_accuracy: 0.8326\n",
      "Epoch 35/70\n",
      "253/253 [==============================] - 4s 17ms/step - loss: 0.4478 - accuracy: 0.8961 - val_loss: 0.6505 - val_accuracy: 0.8419\n",
      "Epoch 36/70\n",
      "253/253 [==============================] - 4s 16ms/step - loss: 0.4508 - accuracy: 0.8943 - val_loss: 0.6421 - val_accuracy: 0.8411\n",
      "Epoch 37/70\n",
      "253/253 [==============================] - 4s 17ms/step - loss: 0.4465 - accuracy: 0.8951 - val_loss: 0.6698 - val_accuracy: 0.8372\n",
      "Epoch 38/70\n",
      "253/253 [==============================] - 4s 16ms/step - loss: 0.4458 - accuracy: 0.8968 - val_loss: 0.6492 - val_accuracy: 0.8434\n",
      "Epoch 39/70\n",
      "253/253 [==============================] - 4s 16ms/step - loss: 0.4437 - accuracy: 0.8953 - val_loss: 0.6803 - val_accuracy: 0.8372\n",
      "Epoch 40/70\n",
      "253/253 [==============================] - 4s 16ms/step - loss: 0.4410 - accuracy: 0.8983 - val_loss: 0.6984 - val_accuracy: 0.8388\n",
      "Epoch 41/70\n",
      "253/253 [==============================] - 4s 16ms/step - loss: 0.4400 - accuracy: 0.8975 - val_loss: 0.6828 - val_accuracy: 0.8326\n",
      "Epoch 42/70\n",
      "253/253 [==============================] - 4s 16ms/step - loss: 0.4462 - accuracy: 0.8944 - val_loss: 0.6650 - val_accuracy: 0.8388\n",
      "Epoch 43/70\n",
      "253/253 [==============================] - 4s 17ms/step - loss: 0.4380 - accuracy: 0.8981 - val_loss: 0.6879 - val_accuracy: 0.8333\n",
      "Epoch 44/70\n",
      "253/253 [==============================] - 4s 17ms/step - loss: 0.4372 - accuracy: 0.8990 - val_loss: 0.6709 - val_accuracy: 0.8481\n",
      "Epoch 45/70\n",
      "253/253 [==============================] - 4s 16ms/step - loss: 0.4386 - accuracy: 0.8970 - val_loss: 0.6865 - val_accuracy: 0.8457\n",
      "Epoch 46/70\n",
      "253/253 [==============================] - 4s 16ms/step - loss: 0.4398 - accuracy: 0.8970 - val_loss: 0.6731 - val_accuracy: 0.8403\n",
      "Epoch 47/70\n",
      "253/253 [==============================] - 4s 16ms/step - loss: 0.4356 - accuracy: 0.8980 - val_loss: 0.6606 - val_accuracy: 0.8473\n",
      "Epoch 48/70\n",
      "253/253 [==============================] - 4s 16ms/step - loss: 0.4347 - accuracy: 0.8992 - val_loss: 0.6610 - val_accuracy: 0.8411\n",
      "Epoch 49/70\n",
      "253/253 [==============================] - 4s 16ms/step - loss: 0.4308 - accuracy: 0.9003 - val_loss: 0.6608 - val_accuracy: 0.8357\n",
      "Epoch 50/70\n",
      "253/253 [==============================] - 4s 16ms/step - loss: 0.4341 - accuracy: 0.8993 - val_loss: 0.6743 - val_accuracy: 0.8380\n",
      "Epoch 51/70\n",
      "253/253 [==============================] - 4s 16ms/step - loss: 0.4306 - accuracy: 0.9004 - val_loss: 0.6833 - val_accuracy: 0.8372\n",
      "Epoch 52/70\n",
      "253/253 [==============================] - 4s 16ms/step - loss: 0.4300 - accuracy: 0.9008 - val_loss: 0.6601 - val_accuracy: 0.8380\n",
      "Epoch 53/70\n",
      "253/253 [==============================] - 4s 17ms/step - loss: 0.4285 - accuracy: 0.9008 - val_loss: 0.6447 - val_accuracy: 0.8481\n",
      "Epoch 54/70\n",
      "253/253 [==============================] - 4s 17ms/step - loss: 0.4287 - accuracy: 0.9004 - val_loss: 0.6604 - val_accuracy: 0.8395\n",
      "Epoch 55/70\n",
      "253/253 [==============================] - 4s 16ms/step - loss: 0.4310 - accuracy: 0.8993 - val_loss: 0.6679 - val_accuracy: 0.8512\n",
      "Epoch 56/70\n",
      "253/253 [==============================] - 4s 17ms/step - loss: 0.4250 - accuracy: 0.9018 - val_loss: 0.6927 - val_accuracy: 0.8341\n",
      "Epoch 57/70\n",
      "253/253 [==============================] - 4s 17ms/step - loss: 0.4268 - accuracy: 0.9015 - val_loss: 0.6631 - val_accuracy: 0.8434\n",
      "Epoch 58/70\n",
      "253/253 [==============================] - 4s 17ms/step - loss: 0.4237 - accuracy: 0.9018 - val_loss: 0.6512 - val_accuracy: 0.8419\n",
      "Epoch 59/70\n",
      "253/253 [==============================] - 4s 17ms/step - loss: 0.4263 - accuracy: 0.9012 - val_loss: 0.6693 - val_accuracy: 0.8403\n",
      "Epoch 60/70\n",
      "253/253 [==============================] - 4s 17ms/step - loss: 0.4260 - accuracy: 0.9027 - val_loss: 0.6559 - val_accuracy: 0.8442\n",
      "Epoch 61/70\n",
      "253/253 [==============================] - 4s 17ms/step - loss: 0.4264 - accuracy: 0.9027 - val_loss: 0.6771 - val_accuracy: 0.8442\n",
      "Epoch 62/70\n",
      "253/253 [==============================] - 4s 17ms/step - loss: 0.4301 - accuracy: 0.9003 - val_loss: 0.6650 - val_accuracy: 0.8457\n",
      "Epoch 63/70\n",
      "253/253 [==============================] - 4s 17ms/step - loss: 0.4261 - accuracy: 0.9018 - val_loss: 0.6873 - val_accuracy: 0.8388\n",
      "Epoch 64/70\n",
      "253/253 [==============================] - 4s 17ms/step - loss: 0.4229 - accuracy: 0.9030 - val_loss: 0.6782 - val_accuracy: 0.8380\n",
      "Epoch 65/70\n",
      "253/253 [==============================] - 4s 17ms/step - loss: 0.4210 - accuracy: 0.9033 - val_loss: 0.6261 - val_accuracy: 0.8411\n",
      "Epoch 66/70\n",
      "253/253 [==============================] - 4s 16ms/step - loss: 0.4233 - accuracy: 0.9025 - val_loss: 0.6673 - val_accuracy: 0.8364\n",
      "Epoch 67/70\n",
      "253/253 [==============================] - 4s 17ms/step - loss: 0.4223 - accuracy: 0.9027 - val_loss: 0.6682 - val_accuracy: 0.8434\n",
      "Epoch 68/70\n",
      "253/253 [==============================] - 4s 17ms/step - loss: 0.4191 - accuracy: 0.9037 - val_loss: 0.6635 - val_accuracy: 0.8426\n",
      "Epoch 69/70\n",
      "253/253 [==============================] - 4s 17ms/step - loss: 0.4194 - accuracy: 0.9046 - val_loss: 0.6909 - val_accuracy: 0.8302\n",
      "Epoch 70/70\n",
      "253/253 [==============================] - 4s 16ms/step - loss: 0.4179 - accuracy: 0.9039 - val_loss: 0.6796 - val_accuracy: 0.8419\n"
     ]
    }
   ],
   "source": [
    "history = model.fit(x_train, y_train, batch_size=128, epochs=70, verbose=1, validation_data=(x_valid, y_valid))"
   ]
  },
  {
   "cell_type": "code",
   "execution_count": 32,
   "metadata": {},
   "outputs": [
    {
     "name": "stdout",
     "output_type": "stream",
     "text": [
      "110/110 [==============================] - 1s 7ms/step - loss: 0.8675 - accuracy: 0.7866\n",
      "Test Loss: 0.8675065636634827\n",
      "Test accuracy: 0.7866097092628479\n"
     ]
    }
   ],
   "source": [
    "score = model.evaluate(x_test, y_test)\n",
    "print('Test Loss:', score[0])\n",
    "print('Test accuracy:', score[1])"
   ]
  },
  {
   "cell_type": "code",
   "execution_count": 33,
   "metadata": {
    "tags": []
   },
   "outputs": [
    {
     "name": "stdout",
     "output_type": "stream",
     "text": [
      "110/110 [==============================] - 0s 4ms/step\n",
      "{'0': {'precision': 0.9228486646884273, 'recall': 0.7404761904761905, 'f1-score': 0.821664464993395, 'support': 420}, '1': {'precision': 0.9971305595408895, 'recall': 0.9652777777777778, 'f1-score': 0.9809456598447425, 'support': 720}, '2': {'precision': 0.8043478260869565, 'recall': 0.6641025641025641, 'f1-score': 0.7275280898876404, 'support': 390}, '3': {'precision': 0.75, 'recall': 0.5, 'f1-score': 0.6, 'support': 60}, '4': {'precision': 0.39805825242718446, 'recall': 0.9111111111111111, 'f1-score': 0.5540540540540541, 'support': 90}, '5': {'precision': 0.5964912280701754, 'recall': 0.7555555555555555, 'f1-score': 0.6666666666666666, 'support': 90}, '6': {'precision': 0.9387755102040817, 'recall': 0.7666666666666667, 'f1-score': 0.8440366972477065, 'support': 120}, '7': {'precision': 0.7615384615384615, 'recall': 0.66, 'f1-score': 0.7071428571428571, 'support': 150}, '8': {'precision': 0.4756756756756757, 'recall': 0.9777777777777777, 'f1-score': 0.64, 'support': 90}, '9': {'precision': 0.9084821428571429, 'recall': 0.8479166666666667, 'f1-score': 0.877155172413793, 'support': 480}, '10': {'precision': 0.66875, 'recall': 0.5944444444444444, 'f1-score': 0.6294117647058823, 'support': 180}, '11': {'precision': 0.6349206349206349, 'recall': 0.6666666666666666, 'f1-score': 0.6504065040650407, 'support': 60}, '12': {'precision': 0.6854460093896714, 'recall': 0.9733333333333334, 'f1-score': 0.8044077134986226, 'support': 150}, '13': {'precision': 0.5858585858585859, 'recall': 0.6444444444444445, 'f1-score': 0.6137566137566137, 'support': 90}, '14': {'precision': 0.5245901639344263, 'recall': 0.4266666666666667, 'f1-score': 0.4705882352941177, 'support': 150}, '15': {'precision': 0.7789855072463768, 'recall': 0.7962962962962963, 'f1-score': 0.7875457875457874, 'support': 270}, 'accuracy': 0.7866096866096867, 'macro avg': {'precision': 0.7144937014024182, 'recall': 0.7431710101241351, 'f1-score': 0.7109568925698075, 'support': 3510}, 'weighted avg': {'precision': 0.8155357951773221, 'recall': 0.7866096866096867, 'f1-score': 0.7915710664933302, 'support': 3510}}\n"
     ]
    }
   ],
   "source": [
    "from sklearn.metrics import classification_report as cr\n",
    "pred = model.predict(x_test).argmax(axis = 1)\n",
    "clr = cr(y_test.argmax(axis = 1) , pred , output_dict = True)\n",
    "print(clr)"
   ]
  },
  {
   "cell_type": "code",
   "execution_count": 34,
   "metadata": {
    "tags": []
   },
   "outputs": [
    {
     "data": {
      "image/png": "[encoded data removed]",
      "text/plain": [
       "<Figure size 640x480 with 1 Axes>"
      ]
     },
     "metadata": {},
     "output_type": "display_data"
    }
   ],
   "source": [
    "plt.plot(history.history['accuracy'])\n",
    "plt.plot(history.history['val_accuracy'])\n",
    "plt.title('model accuracy')\n",
    "plt.ylabel('accuracy')\n",
    "plt.xlabel('epoch')\n",
    "plt.legend(['train', 'val'], loc='upper left')\n",
    "plt.show()"
   ]
  },
  {
   "cell_type": "code",
   "execution_count": 35,
   "metadata": {
    "tags": []
   },
   "outputs": [
    {
     "data": {
      "image/png": "[encoded data removed]",
      "text/plain": [
       "<Figure size 640x480 with 1 Axes>"
      ]
     },
     "metadata": {},
     "output_type": "display_data"
    }
   ],
   "source": [
    "plt.plot(history.history['loss']) \n",
    "plt.plot(history.history['val_loss'])\n",
    "plt.title('model loss')\n",
    "plt.ylabel('loss')\n",
    "plt.xlabel('epoch')\n",
    "plt.legend(['train', 'val'], loc='upper left')\n",
    "plt.show()"
   ]
  },
  {
   "cell_type": "code",
   "execution_count": null,
   "metadata": {},
   "outputs": [],
   "source": []
  },
  {
   "cell_type": "code",
   "execution_count": 27,
   "metadata": {},
   "outputs": [
    {
     "data": {
      "text/plain": [
       "323120"
      ]
     },
     "execution_count": 27,
     "metadata": {},
     "output_type": "execute_result"
    }
   ],
   "source": [
    "model.count_params()"
   ]
  },
  {
   "cell_type": "code",
   "execution_count": 29,
   "metadata": {
    "tags": []
   },
   "outputs": [
    {
     "name": "stdout",
     "output_type": "stream",
     "text": [
      "(3510, 32, 32, 4) (32368, 32, 32, 4) (1290, 32, 32, 4)\n"
     ]
    }
   ],
   "source": [
    "print(x_test.shape , x_train.shape , x_valid.shape)"
   ]
  },
  {
   "cell_type": "code",
   "execution_count": 30,
   "metadata": {},
   "outputs": [],
   "source": [
    "def classifiy(pred ):\n",
    "    n = pred.shape[0]\n",
    "    nc = pred.shape[1]\n",
    "    new_cy_y = np.zeros((n))\n",
    "    for i in range(0 ,nc):\n",
    "        cycle_indx = np.where(pred[:,i] == 1)\n",
    "        new_cy_y[cycle_indx] = i\n",
    "    return new_cy_y"
   ]
  },
  {
   "cell_type": "code",
   "execution_count": 38,
   "metadata": {},
   "outputs": [
    {
     "name": "stdout",
     "output_type": "stream",
     "text": [
      "110/110 [==============================] - 1s 4ms/step\n"
     ]
    },
    {
     "ename": "NameError",
     "evalue": "name 'classifiy' is not defined",
     "output_type": "error",
     "traceback": [
      "\u001b[1;31m---------------------------------------------------------------------------\u001b[0m",
      "\u001b[1;31mNameError\u001b[0m                                 Traceback (most recent call last)",
      "Cell \u001b[1;32mIn [38], line 2\u001b[0m\n\u001b[0;32m      1\u001b[0m pred \u001b[38;5;241m=\u001b[39m model\u001b[38;5;241m.\u001b[39mpredict(x_test)\n\u001b[1;32m----> 2\u001b[0m cr \u001b[38;5;241m=\u001b[39m classification_report(\u001b[43mclassifiy\u001b[49m(pred) , classifiy(y_test))\n\u001b[0;32m      3\u001b[0m \u001b[38;5;28mprint\u001b[39m(cr)\n",
      "\u001b[1;31mNameError\u001b[0m: name 'classifiy' is not defined"
     ]
    }
   ],
   "source": [
    "pred = model.predict(x_test)\n",
    "cr = classification_report(classifiy(pred) , classifiy(y_test))\n",
    "print(cr)"
   ]
  },
  {
   "cell_type": "code",
   "execution_count": 24,
   "metadata": {
    "scrolled": true,
    "tags": []
   },
   "outputs": [],
   "source": [
    "model_save_dir = \"D:\\\\Project\\\\Traffic Sign Detection\\\\TrainedMOdel\\\\final\\\\tri_classifier_model_all_edge.h5\"  \n",
    "\n",
    "model.save(model_save_dir)\n"
   ]
  },
  {
   "cell_type": "code",
   "execution_count": 31,
   "metadata": {
    "execution": {
     "iopub.execute_input": "2023-07-13T16:11:38.267217Z",
     "iopub.status.busy": "2023-07-13T16:11:38.266860Z",
     "iopub.status.idle": "2023-07-13T16:11:44.427680Z",
     "shell.execute_reply": "2023-07-13T16:11:44.426710Z",
     "shell.execute_reply.started": "2023-07-13T16:11:38.267187Z"
    }
   },
   "outputs": [
    {
     "name": "stdout",
     "output_type": "stream",
     "text": [
      "110/110 [==============================] - 1s 9ms/step - loss: 320.6290 - accuracy: 0.1197\n",
      "Test Loss: 320.62896728515625\n",
      "Test accuracy: 0.11965811997652054\n"
     ]
    }
   ],
   "source": [
    "from keras.models import load_model\n",
    "\n",
    "model = load_model(\"D:\\\\Project\\\\Traffic Sign Detection\\\\TrainedMOdel\\\\final\\\\tri_classifier_model_acc96.h5\")\n",
    "\n",
    "score = model.evaluate(x_test, y_test)\n",
    "print('Test Loss:', score[0])\n",
    "print('Test accuracy:', score[1])"
   ]
  },
  {
   "cell_type": "markdown",
   "metadata": {},
   "source": [
    "## Hope you like it!"
   ]
  },
  {
   "cell_type": "code",
   "execution_count": 18,
   "metadata": {},
   "outputs": [
    {
     "name": "stderr",
     "output_type": "stream",
     "text": [
      "Clipping input data to the valid range for imshow with RGB data ([0..1] for floats or [0..255] for integers).\n"
     ]
    },
    {
     "data": {
      "image/png": "[encoded data removed]",
      "text/plain": [
       "<Figure size 640x480 with 1 Axes>"
      ]
     },
     "metadata": {},
     "output_type": "display_data"
    },
    {
     "name": "stdout",
     "output_type": "stream",
     "text": [
      "1/1 [==============================] - 1s 955ms/step\n",
      "[0 0 0 0 0 0 0 0 0 0 0 0 0 0 0 1]\n",
      "[[0. 0. 0. 0. 0. 0. 0. 0. 0. 0. 0. 0. 0. 0. 0. 1.]]\n"
     ]
    }
   ],
   "source": [
    "from matplotlib import pyplot as plt\n",
    "image = x_train[65:66,:,:]#.transpose(2 , 0 ,1)\n",
    "plt.imshow(image[0].reshape((32,32,3)))\n",
    "plt.show()\n",
    "#y = model.predict_classes(image)\n",
    "y = (model.predict(image) > 0.5).astype(\"int32\")\n",
    "print(y[0])\n",
    "print(y_train[65:66])"
   ]
  },
  {
   "cell_type": "code",
   "execution_count": 19,
   "metadata": {},
   "outputs": [
    {
     "ename": "ValueError",
     "evalue": "cannot reshape array of size 3072 into shape (32,32)",
     "output_type": "error",
     "traceback": [
      "\u001b[1;31m---------------------------------------------------------------------------\u001b[0m",
      "\u001b[1;31mValueError\u001b[0m                                Traceback (most recent call last)",
      "Cell \u001b[1;32mIn [19], line 1\u001b[0m\n\u001b[1;32m----> 1\u001b[0m \u001b[43mimage\u001b[49m\u001b[43m[\u001b[49m\u001b[38;5;241;43m0\u001b[39;49m\u001b[43m]\u001b[49m\u001b[38;5;241;43m.\u001b[39;49m\u001b[43mreshape\u001b[49m\u001b[43m(\u001b[49m\u001b[43m(\u001b[49m\u001b[38;5;241;43m32\u001b[39;49m\u001b[43m,\u001b[49m\u001b[38;5;241;43m32\u001b[39;49m\u001b[43m)\u001b[49m\u001b[43m)\u001b[49m\u001b[38;5;241m.\u001b[39mshape\n",
      "\u001b[1;31mValueError\u001b[0m: cannot reshape array of size 3072 into shape (32,32)"
     ]
    }
   ],
   "source": []
  },
  {
   "cell_type": "code",
   "execution_count": null,
   "metadata": {},
   "outputs": [],
   "source": [
    "import numpy\n",
    "x = numpy.where(gray_train_labels == 2)"
   ]
  },
  {
   "cell_type": "code",
   "execution_count": 167,
   "metadata": {},
   "outputs": [
    {
     "data": {
      "text/plain": [
       "<matplotlib.image.AxesImage at 0x15022b4f970>"
      ]
     },
     "execution_count": 167,
     "metadata": {},
     "output_type": "execute_result"
    },
    {
     "data": {
      "image/png": "[encoded data removed]",
      "text/plain": [
       "<Figure size 640x480 with 1 Axes>"
      ]
     },
     "metadata": {},
     "output_type": "display_data"
    }
   ],
   "source": [
    "a = x_train[7]\n",
    "plt.imshow(a)"
   ]
  },
  {
   "cell_type": "code",
   "execution_count": null,
   "metadata": {},
   "outputs": [],
   "source": []
  }
 ],
 "metadata": {
  "kernelspec": {
   "display_name": "Python 3 (ipykernel)",
   "language": "python",
   "name": "python3"
  },
  "language_info": {
   "codemirror_mode": {
    "name": "ipython",
    "version": 3
   },
   "file_extension": ".py",
   "mimetype": "text/x-python",
   "name": "python",
   "nbconvert_exporter": "python",
   "pygments_lexer": "ipython3",
   "version": "3.10.9"
  }
 },
 "nbformat": 4,
 "nbformat_minor": 4
}
