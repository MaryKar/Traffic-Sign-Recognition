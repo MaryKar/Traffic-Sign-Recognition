{
 "cells": [
  {
   "cell_type": "markdown",
   "metadata": {},
   "source": [
    "### Code Implementation"
   ]
  },
  {
   "cell_type": "code",
   "execution_count": 1,
   "metadata": {
    "tags": []
   },
   "outputs": [],
   "source": [
    "# Importing necessary libraries\n",
    "import keras\n",
    "from keras.datasets import mnist\n",
    "from keras.layers import Conv2D, MaxPooling2D\n",
    "from keras.layers import Dense, Flatten\n",
    "from keras.models import Sequential\n",
    "import pickle\n",
    "import numpy as np\n",
    "import cv2\n",
    "from matplotlib import pyplot as plt\n",
    "from sklearn.model_selection import train_test_split\n",
    "from PIL import Image, ImageEnhance\n"
   ]
  },
  {
   "cell_type": "markdown",
   "metadata": {},
   "source": [
    "### Loading Dataset"
   ]
  },
  {
   "cell_type": "code",
   "execution_count": 2,
   "metadata": {
    "tags": []
   },
   "outputs": [],
   "source": [
    "# Opening file for reading in binary mode\n",
    "#- data3.pickle - Shuffling, /255.0 + Mean + STD Normalization\n",
    "with open('D:\\Project\\Traffic Sign Detection\\DATABASE/data0.pickle', 'rb') as f:\n",
    "    data = pickle.load(f, encoding='latin1')  # dictionary type\n",
    "    \n",
    "    \n",
    "# Making channels come at the end\n",
    "data['x_train'] = data['x_train'].transpose(0, 2, 3, 1)\n",
    "data['x_validation'] = data['x_validation'].transpose(0, 2, 3, 1)\n",
    "data['x_test'] = data['x_test'].transpose(0, 2, 3, 1)\n",
    "\n",
    "train_imgs = data['x_train']\n",
    "test_imgs = data['x_test']\n",
    "valid_imgs = data['x_validation']\n",
    "train_labels = data['y_train']\n",
    "test_labels = data['y_test']\n",
    "valid_labels = data['y_validation']"
   ]
  },
  {
   "cell_type": "code",
   "execution_count": 3,
   "metadata": {
    "jupyter": {
     "source_hidden": true
    },
    "tags": []
   },
   "outputs": [],
   "source": [
    "with open('D:\\Project\\Traffic Sign Detection\\DATABASE/data4.pickle', 'rb') as f:\n",
    "    gray_data = pickle.load(f, encoding='latin1')  # dictionary type\n",
    "    \n",
    "    \n",
    "# Making channels come at the end\n",
    "gray_data['x_train'] = gray_data['x_train'].transpose(0, 2, 3, 1)\n",
    "gray_data['x_validation'] = gray_data['x_validation'].transpose(0, 2, 3, 1)\n",
    "gray_data['x_test'] = gray_data['x_test'].transpose(0, 2, 3, 1)\n",
    "\n",
    "gray_train_imgs = gray_data['x_train']\n",
    "gray_test_imgs = gray_data['x_test']\n",
    "gray_train_labels = gray_data['y_train']\n",
    "gray_test_labels = gray_data['y_test']\n",
    "gray_valid_imgs = gray_data['x_validation']\n",
    "gray_valid_labels = gray_data['y_validation']"
   ]
  },
  {
   "cell_type": "markdown",
   "metadata": {
    "execution": {
     "iopub.execute_input": "2023-07-03T08:12:55.581244Z",
     "iopub.status.busy": "2023-07-03T08:12:55.580875Z",
     "iopub.status.idle": "2023-07-03T08:12:55.588623Z",
     "shell.execute_reply": "2023-07-03T08:12:55.587576Z",
     "shell.execute_reply.started": "2023-07-03T08:12:55.581207Z"
    },
    "jupyter": {
     "source_hidden": true
    },
    "tags": []
   },
   "source": [
    "def augment_brightness_camera_images(image):\n",
    "    image1 = cv2.cvtColor(image,cv2.COLOR_RGB2HSV)\n",
    "    plt.imshow(image1)\n",
    "    image1 = np.array(image1, dtype = np.float64)\n",
    "    random_bright = .5+np.random.uniform()\n",
    "    image1[:,:,2] = image1[:,:,2]*random_bright\n",
    "    image1[:,:,2][image1[:,:,2]>255]  = 255\n",
    "    image1 = np.array(image1, dtype = np.uint8)\n",
    "    image1 = cv2.cvtColor(image1,cv2.COLOR_HSV2RGB)\n",
    "    return image1"
   ]
  },
  {
   "cell_type": "code",
   "execution_count": 3,
   "metadata": {
    "tags": []
   },
   "outputs": [],
   "source": [
    "def canny(x):\n",
    "    for i in range(0 , x.shape[0]):\n",
    "        # enh = ImageEnhance.Brightness(Image.fromarray(np.uint8(x[i]* 255)))\n",
    "        # enh_img = enh.enhance(2)\n",
    "        x[i,:,:,0] = cv2.Canny(x[i], 100, 150)\n",
    "\n",
    "        \n",
    "    return x[:,:,:,0]\n",
    "        "
   ]
  },
  {
   "cell_type": "code",
   "execution_count": 4,
   "metadata": {
    "tags": []
   },
   "outputs": [],
   "source": [
    "indx = np.array(np.where(train_labels <= 10)) #cycle\n",
    "indx = np.concatenate((indx ,np.where(train_labels >= 32)), axis = 1) #cycle\n",
    "indx = np.concatenate((indx ,np.where(train_labels == 15)), axis = 1) #cycle\n",
    "indx = np.concatenate((indx ,np.where(train_labels == 16)), axis = 1) #cycle\n",
    "indx = np.concatenate((indx ,np.where(train_labels == 17)), axis = 1) #cycle\n",
    "\n",
    "indx1 = np.array(np.where(test_labels <= 10)) #cycle\n",
    "indx1 = np.concatenate((indx1 ,np.where(test_labels >= 32)), axis = 1) #cycle\n",
    "indx1 = np.concatenate((indx1 ,np.where(test_labels == 15)), axis = 1) #cycle\n",
    "indx1 = np.concatenate((indx1 ,np.where(test_labels == 16)), axis = 1) #cycle\n",
    "indx1 = np.concatenate((indx1 ,np.where(test_labels == 17)), axis = 1) #cycle\n",
    "\n",
    "indx2 = np.array(np.where(valid_labels <= 10)) #cycle\n",
    "indx2 = np.concatenate((indx2 ,np.where(valid_labels >= 32)), axis = 1) #cycle\n",
    "indx2 = np.concatenate((indx2 ,np.where(valid_labels == 15)), axis = 1) #cycle\n",
    "indx2 = np.concatenate((indx2 ,np.where(valid_labels == 16)), axis = 1) #cycle\n",
    "indx2 = np.concatenate((indx2 ,np.where(valid_labels == 17)), axis = 1) #cycle\n",
    "\n",
    "cycle_train_imgs = train_imgs[indx]\n",
    "cycle_test_imgs = test_imgs[indx1]\n",
    "cycle_valid_imgs = valid_imgs[indx2]\n",
    "cycle_train_labels = train_labels[indx]\n",
    "cycle_test_labels = test_labels[indx1]\n",
    "cycle_valid_labels = valid_labels[indx2]\n"
   ]
  },
  {
   "cell_type": "code",
   "execution_count": 5,
   "metadata": {
    "tags": []
   },
   "outputs": [
    {
     "name": "stdout",
     "output_type": "stream",
     "text": [
      "(1, 50575, 32, 32, 3)\n"
     ]
    },
    {
     "data": {
      "text/plain": [
       "<matplotlib.image.AxesImage at 0x1e9bbce5b10>"
      ]
     },
     "execution_count": 5,
     "metadata": {},
     "output_type": "execute_result"
    },
    {
     "data": {
      "image/png": "[encoded data removed]",
      "text/plain": [
       "<Figure size 640x480 with 1 Axes>"
      ]
     },
     "metadata": {},
     "output_type": "display_data"
    }
   ],
   "source": [
    "print(cycle_train_imgs.shape)\n",
    "plt.imshow(cycle_train_imgs[0][60])"
   ]
  },
  {
   "cell_type": "code",
   "execution_count": 5,
   "metadata": {
    "tags": []
   },
   "outputs": [],
   "source": [
    "edges_train = canny(np.uint8(train_imgs[indx][0]))\n",
    "edges_test =  canny(np.uint8(test_imgs[indx1][0]))\n",
    "edges_valid = canny(np.uint8(valid_imgs[indx2][0]))\n",
    "\n"
   ]
  },
  {
   "cell_type": "code",
   "execution_count": 20,
   "metadata": {
    "tags": []
   },
   "outputs": [
    {
     "data": {
      "text/plain": [
       "(50575, 32, 32)"
      ]
     },
     "execution_count": 20,
     "metadata": {},
     "output_type": "execute_result"
    }
   ],
   "source": [
    "edges_train.shape"
   ]
  },
  {
   "cell_type": "code",
   "execution_count": 6,
   "metadata": {
    "tags": []
   },
   "outputs": [],
   "source": [
    "cy_Dict = {0:0 ,1:1 ,2:2, 3:3 , 4:4 , 5:5 , 6:6 , 7:7 , 8:8 , 9:9 ,10:10 ,15:11 , 16:12 , 17:13 , 32:14 , 33:15 , 34:16 , 35:17 , 36:18 , 37:19 , 38:20 , 39:21 , 40:22 , 41:23 , 42:24 }\n",
    "cycle_train_labels = np.vectorize(cy_Dict.get)(cycle_train_labels)\n",
    "cycle_test_labels = np.vectorize(cy_Dict.get)(cycle_test_labels)\n",
    "cycle_valid_labels = np.vectorize(cy_Dict.get)(cycle_valid_labels)\n",
    "cy_num_class = 25"
   ]
  },
  {
   "cell_type": "markdown",
   "metadata": {},
   "source": [
    "### Image Data Preprocessing"
   ]
  },
  {
   "cell_type": "code",
   "execution_count": 7,
   "metadata": {
    "tags": []
   },
   "outputs": [],
   "source": [
    "# Peforming reshaping operation\n",
    "# x_train = gray_train_imgs.reshape(gray_train_imgs.shape[0], 28, 28, 1)\n",
    "# x_test = gray_test_imgs.reshape(gray_test_imgs.shape[0], 28, 28, 1)\n",
    "\n",
    "x_train = np.zeros((cycle_train_imgs[0].shape[0], 32,32,4))\n",
    "x_test = np.zeros((cycle_test_imgs[0].shape[0], 32,32,4))\n",
    "x_valid = np.zeros((cycle_valid_imgs[0].shape[0], 32,32,4))\n",
    "\n",
    "x_train[:,:,:,0:3] = cycle_train_imgs[0]\n",
    "x_test[:,:,:,0:3] = cycle_test_imgs[0]\n",
    "x_valid[:,:,:,0:3] = cycle_valid_imgs[0]\n",
    "\n",
    "x_train[:,:,:,3] = edges_train\n",
    "x_test[:,:,:,3] = edges_test\n",
    "x_valid[:,:,:,3] = edges_valid\n",
    "\n",
    "# # Normalization\n",
    "x_train = x_train / 255\n",
    "x_test = x_test / 255\n",
    "x_valid = x_valid / 255\n",
    "\n",
    "# One Hot Encoding\n",
    "y_train = keras.utils.to_categorical(cycle_train_labels[0], 25)\n",
    "y_test = keras.utils.to_categorical(cycle_test_labels[0], 25)\n",
    "y_valid = keras.utils.to_categorical(cycle_valid_labels[0], 25)"
   ]
  },
  {
   "cell_type": "code",
   "execution_count": 28,
   "metadata": {
    "tags": []
   },
   "outputs": [],
   "source": [
    "b.max()"
   ]
  },
  {
   "cell_type": "code",
   "execution_count": 16,
   "metadata": {
    "tags": []
   },
   "outputs": [
    {
     "data": {
      "text/plain": [
       "<matplotlib.image.AxesImage at 0x29d5a1b7c10>"
      ]
     },
     "execution_count": 16,
     "metadata": {},
     "output_type": "execute_result"
    },
    {
     "data": {
      "image/png": "[encoded data removed]",
      "text/plain": [
       "<Figure size 640x480 with 1 Axes>"
      ]
     },
     "metadata": {},
     "output_type": "display_data"
    }
   ],
   "source": [
    "i = 6571\n",
    "i =6\n",
    "a = x_train[i][:,:,3] \n",
    "c = x_train[i][:,:,0:3]\n",
    "b = edges_train[i]\n",
    "plt.imshow(a * 255, cmap= 'gray')\n"
   ]
  },
  {
   "cell_type": "code",
   "execution_count": 8,
   "metadata": {
    "tags": []
   },
   "outputs": [],
   "source": [
    "a, x_train, b, y_train = train_test_split(x_train, y_train, test_size=0.36, random_state=42)"
   ]
  },
  {
   "cell_type": "markdown",
   "metadata": {},
   "source": [
    "### LeNet Model Architecture"
   ]
  },
  {
   "cell_type": "code",
   "execution_count": 9,
   "metadata": {
    "tags": []
   },
   "outputs": [],
   "source": [
    "keras.backend.clear_session()"
   ]
  },
  {
   "cell_type": "code",
   "execution_count": 10,
   "metadata": {
    "tags": []
   },
   "outputs": [],
   "source": [
    "from keras.models import Sequential\n",
    "from keras.layers import Conv2D, MaxPool2D, Dense, Flatten, Dropout\n",
    "from keras import regularizers\n",
    "\n",
    "model = Sequential()\n",
    "model.add(Conv2D(filters=32, kernel_size=(5,5), activation='relu', input_shape=x_train.shape[1:]))\n",
    "model.add(Conv2D(filters=64, kernel_size=(3, 3), activation='relu'))\n",
    "model.add(MaxPool2D(pool_size=(2, 2)))\n",
    "# model.add(Dropout(rate=0.25))\n",
    "model.add(Conv2D(filters=64, kernel_size=(3, 3), activation='relu'))\n",
    "model.add(MaxPool2D(pool_size=(2, 2)))\n",
    "# model.add(Dropout(rate=0.25))\n",
    "model.add(Flatten())\n",
    "model.add(Dense(256,\n",
    "                # kernel_regularizer=regularizers.L1L2(l1=1e-5, l2=1e-4),\n",
    "                # bias_regularizer=regularizers.L2(1e-4),\n",
    "                # activity_regularizer=regularizers.L2(1e-5),\n",
    "                activation='relu'))\n",
    "# model.add(Dropout(rate=0.5))\n",
    "model.add(Dense(25,\n",
    "                # kernel_regularizer=regularizers.L1L2(l1=1e-5, l2=1e-4),\n",
    "                # bias_regularizer=regularizers.L2(1e-4),\n",
    "                # activity_regularizer=regularizers.L2(1e-5),\n",
    "                activation='softmax'))"
   ]
  },
  {
   "cell_type": "code",
   "execution_count": 11,
   "metadata": {
    "tags": []
   },
   "outputs": [],
   "source": [
    "model.compile(loss=keras.metrics.categorical_crossentropy, optimizer=keras.optimizers.Adam(), metrics=['accuracy'])"
   ]
  },
  {
   "cell_type": "code",
   "execution_count": 12,
   "metadata": {
    "tags": []
   },
   "outputs": [
    {
     "name": "stdout",
     "output_type": "stream",
     "text": [
      "Epoch 1/70\n",
      "143/143 [==============================] - 9s 30ms/step - loss: 1.4496 - accuracy: 0.5728 - val_loss: 0.7291 - val_accuracy: 0.7773\n",
      "Epoch 2/70\n",
      "143/143 [==============================] - 4s 25ms/step - loss: 0.3820 - accuracy: 0.8938 - val_loss: 0.4084 - val_accuracy: 0.8699\n",
      "Epoch 3/70\n",
      "143/143 [==============================] - 4s 25ms/step - loss: 0.1644 - accuracy: 0.9603 - val_loss: 0.3016 - val_accuracy: 0.9025\n",
      "Epoch 4/70\n",
      "143/143 [==============================] - 4s 25ms/step - loss: 0.0941 - accuracy: 0.9781 - val_loss: 0.2563 - val_accuracy: 0.9128\n",
      "Epoch 5/70\n",
      "143/143 [==============================] - 4s 25ms/step - loss: 0.0663 - accuracy: 0.9843 - val_loss: 0.2963 - val_accuracy: 0.9071\n",
      "Epoch 6/70\n",
      "143/143 [==============================] - 3s 24ms/step - loss: 0.0441 - accuracy: 0.9883 - val_loss: 0.1933 - val_accuracy: 0.9369\n",
      "Epoch 7/70\n",
      "143/143 [==============================] - 4s 25ms/step - loss: 0.0262 - accuracy: 0.9940 - val_loss: 0.2611 - val_accuracy: 0.9333\n",
      "Epoch 8/70\n",
      "143/143 [==============================] - 4s 25ms/step - loss: 0.0217 - accuracy: 0.9940 - val_loss: 0.1751 - val_accuracy: 0.9457\n",
      "Epoch 9/70\n",
      "143/143 [==============================] - 4s 25ms/step - loss: 0.0078 - accuracy: 0.9984 - val_loss: 0.1998 - val_accuracy: 0.9521\n",
      "Epoch 10/70\n",
      "143/143 [==============================] - 4s 25ms/step - loss: 0.0048 - accuracy: 0.9991 - val_loss: 0.2557 - val_accuracy: 0.9454\n",
      "Epoch 11/70\n",
      "143/143 [==============================] - 4s 25ms/step - loss: 0.0363 - accuracy: 0.9902 - val_loss: 0.1975 - val_accuracy: 0.9433\n",
      "Epoch 12/70\n",
      "143/143 [==============================] - 4s 25ms/step - loss: 0.0114 - accuracy: 0.9971 - val_loss: 0.1870 - val_accuracy: 0.9546\n",
      "Epoch 13/70\n",
      "143/143 [==============================] - 4s 25ms/step - loss: 0.0034 - accuracy: 0.9994 - val_loss: 0.2210 - val_accuracy: 0.9553\n",
      "Epoch 14/70\n",
      "143/143 [==============================] - 3s 24ms/step - loss: 0.0040 - accuracy: 0.9992 - val_loss: 0.1895 - val_accuracy: 0.9560\n",
      "Epoch 15/70\n",
      "143/143 [==============================] - 3s 24ms/step - loss: 0.0042 - accuracy: 0.9990 - val_loss: 0.1959 - val_accuracy: 0.9543\n",
      "Epoch 16/70\n",
      "143/143 [==============================] - 4s 25ms/step - loss: 0.0087 - accuracy: 0.9981 - val_loss: 0.2085 - val_accuracy: 0.9560\n",
      "Epoch 17/70\n",
      "143/143 [==============================] - 4s 25ms/step - loss: 0.0194 - accuracy: 0.9949 - val_loss: 0.2553 - val_accuracy: 0.9429\n",
      "Epoch 18/70\n",
      "143/143 [==============================] - 4s 25ms/step - loss: 0.0144 - accuracy: 0.9959 - val_loss: 0.1571 - val_accuracy: 0.9631\n",
      "Epoch 19/70\n",
      "143/143 [==============================] - 4s 25ms/step - loss: 0.0163 - accuracy: 0.9947 - val_loss: 0.1098 - val_accuracy: 0.9738\n",
      "Epoch 20/70\n",
      "143/143 [==============================] - 4s 25ms/step - loss: 0.0205 - accuracy: 0.9945 - val_loss: 0.1461 - val_accuracy: 0.9631\n",
      "Epoch 21/70\n",
      "143/143 [==============================] - 4s 25ms/step - loss: 0.0151 - accuracy: 0.9968 - val_loss: 0.1874 - val_accuracy: 0.9564\n",
      "Epoch 22/70\n",
      "143/143 [==============================] - 3s 24ms/step - loss: 0.0023 - accuracy: 0.9995 - val_loss: 0.1428 - val_accuracy: 0.9695\n",
      "Epoch 23/70\n",
      "143/143 [==============================] - 3s 24ms/step - loss: 0.0010 - accuracy: 0.9998 - val_loss: 0.1900 - val_accuracy: 0.9557\n",
      "Epoch 24/70\n",
      "143/143 [==============================] - 4s 25ms/step - loss: 0.0019 - accuracy: 0.9994 - val_loss: 0.1750 - val_accuracy: 0.9706\n",
      "Epoch 25/70\n",
      "143/143 [==============================] - 4s 25ms/step - loss: 1.7073e-04 - accuracy: 1.0000 - val_loss: 0.1469 - val_accuracy: 0.9734\n",
      "Epoch 26/70\n",
      "143/143 [==============================] - 3s 24ms/step - loss: 9.1389e-05 - accuracy: 1.0000 - val_loss: 0.1496 - val_accuracy: 0.9723\n",
      "Epoch 27/70\n",
      "143/143 [==============================] - 4s 25ms/step - loss: 7.0039e-05 - accuracy: 1.0000 - val_loss: 0.1518 - val_accuracy: 0.9727\n",
      "Epoch 28/70\n",
      "143/143 [==============================] - 4s 25ms/step - loss: 5.7412e-05 - accuracy: 1.0000 - val_loss: 0.1543 - val_accuracy: 0.9716\n",
      "Epoch 29/70\n",
      "143/143 [==============================] - 4s 25ms/step - loss: 4.6677e-05 - accuracy: 1.0000 - val_loss: 0.1576 - val_accuracy: 0.9727\n",
      "Epoch 30/70\n",
      "143/143 [==============================] - 4s 25ms/step - loss: 4.0799e-05 - accuracy: 1.0000 - val_loss: 0.1606 - val_accuracy: 0.9716\n",
      "Epoch 31/70\n",
      "143/143 [==============================] - 4s 25ms/step - loss: 3.6408e-05 - accuracy: 1.0000 - val_loss: 0.1638 - val_accuracy: 0.9716\n",
      "Epoch 32/70\n",
      "143/143 [==============================] - 4s 25ms/step - loss: 3.1333e-05 - accuracy: 1.0000 - val_loss: 0.1663 - val_accuracy: 0.9709\n",
      "Epoch 33/70\n",
      "143/143 [==============================] - 4s 25ms/step - loss: 2.9185e-05 - accuracy: 1.0000 - val_loss: 0.1686 - val_accuracy: 0.9706\n",
      "Epoch 34/70\n",
      "143/143 [==============================] - 4s 25ms/step - loss: 2.5809e-05 - accuracy: 1.0000 - val_loss: 0.1713 - val_accuracy: 0.9709\n",
      "Epoch 35/70\n",
      "143/143 [==============================] - 4s 25ms/step - loss: 2.3786e-05 - accuracy: 1.0000 - val_loss: 0.1734 - val_accuracy: 0.9709\n",
      "Epoch 36/70\n",
      "143/143 [==============================] - 4s 25ms/step - loss: 2.3143e-05 - accuracy: 1.0000 - val_loss: 0.1764 - val_accuracy: 0.9716\n",
      "Epoch 37/70\n",
      "143/143 [==============================] - 4s 25ms/step - loss: 2.0116e-05 - accuracy: 1.0000 - val_loss: 0.1765 - val_accuracy: 0.9713\n",
      "Epoch 38/70\n",
      "143/143 [==============================] - 4s 24ms/step - loss: 1.7809e-05 - accuracy: 1.0000 - val_loss: 0.1778 - val_accuracy: 0.9713\n",
      "Epoch 39/70\n",
      "143/143 [==============================] - 4s 25ms/step - loss: 1.6609e-05 - accuracy: 1.0000 - val_loss: 0.1800 - val_accuracy: 0.9716\n",
      "Epoch 40/70\n",
      "143/143 [==============================] - 4s 25ms/step - loss: 1.5193e-05 - accuracy: 1.0000 - val_loss: 0.1817 - val_accuracy: 0.9720\n",
      "Epoch 41/70\n",
      "143/143 [==============================] - 4s 25ms/step - loss: 1.3597e-05 - accuracy: 1.0000 - val_loss: 0.1854 - val_accuracy: 0.9713\n",
      "Epoch 42/70\n",
      "143/143 [==============================] - 4s 25ms/step - loss: 1.2564e-05 - accuracy: 1.0000 - val_loss: 0.1865 - val_accuracy: 0.9709\n",
      "Epoch 43/70\n",
      "143/143 [==============================] - 4s 25ms/step - loss: 1.2290e-05 - accuracy: 1.0000 - val_loss: 0.1899 - val_accuracy: 0.9720\n",
      "Epoch 44/70\n",
      "143/143 [==============================] - 4s 25ms/step - loss: 1.0452e-05 - accuracy: 1.0000 - val_loss: 0.1916 - val_accuracy: 0.9716\n",
      "Epoch 45/70\n",
      "143/143 [==============================] - 4s 25ms/step - loss: 1.0348e-05 - accuracy: 1.0000 - val_loss: 0.1919 - val_accuracy: 0.9720\n",
      "Epoch 46/70\n",
      "143/143 [==============================] - 4s 25ms/step - loss: 9.3997e-06 - accuracy: 1.0000 - val_loss: 0.1961 - val_accuracy: 0.9716\n",
      "Epoch 47/70\n",
      "143/143 [==============================] - 4s 25ms/step - loss: 8.6278e-06 - accuracy: 1.0000 - val_loss: 0.1976 - val_accuracy: 0.9723\n",
      "Epoch 48/70\n",
      "143/143 [==============================] - 4s 25ms/step - loss: 8.2532e-06 - accuracy: 1.0000 - val_loss: 0.1984 - val_accuracy: 0.9713\n",
      "Epoch 49/70\n",
      "143/143 [==============================] - 4s 25ms/step - loss: 7.5750e-06 - accuracy: 1.0000 - val_loss: 0.1993 - val_accuracy: 0.9723\n",
      "Epoch 50/70\n",
      "143/143 [==============================] - 3s 24ms/step - loss: 6.8726e-06 - accuracy: 1.0000 - val_loss: 0.2036 - val_accuracy: 0.9716\n",
      "Epoch 51/70\n",
      "143/143 [==============================] - 4s 25ms/step - loss: 6.5105e-06 - accuracy: 1.0000 - val_loss: 0.2052 - val_accuracy: 0.9716\n",
      "Epoch 52/70\n",
      "143/143 [==============================] - 4s 25ms/step - loss: 6.0307e-06 - accuracy: 1.0000 - val_loss: 0.2044 - val_accuracy: 0.9723\n",
      "Epoch 53/70\n",
      "143/143 [==============================] - 4s 25ms/step - loss: 5.6135e-06 - accuracy: 1.0000 - val_loss: 0.2101 - val_accuracy: 0.9713\n",
      "Epoch 54/70\n",
      "143/143 [==============================] - 3s 24ms/step - loss: 5.0607e-06 - accuracy: 1.0000 - val_loss: 0.2107 - val_accuracy: 0.9716\n",
      "Epoch 55/70\n",
      "143/143 [==============================] - 4s 25ms/step - loss: 4.5979e-06 - accuracy: 1.0000 - val_loss: 0.2122 - val_accuracy: 0.9713\n",
      "Epoch 56/70\n",
      "143/143 [==============================] - 4s 25ms/step - loss: 4.4340e-06 - accuracy: 1.0000 - val_loss: 0.2130 - val_accuracy: 0.9720\n",
      "Epoch 57/70\n",
      "143/143 [==============================] - 4s 25ms/step - loss: 3.9857e-06 - accuracy: 1.0000 - val_loss: 0.2177 - val_accuracy: 0.9706\n",
      "Epoch 58/70\n",
      "143/143 [==============================] - 4s 24ms/step - loss: 3.9213e-06 - accuracy: 1.0000 - val_loss: 0.2199 - val_accuracy: 0.9706\n",
      "Epoch 59/70\n",
      "143/143 [==============================] - 4s 25ms/step - loss: 3.4502e-06 - accuracy: 1.0000 - val_loss: 0.2206 - val_accuracy: 0.9716\n",
      "Epoch 60/70\n",
      "143/143 [==============================] - 3s 24ms/step - loss: 3.6839e-06 - accuracy: 1.0000 - val_loss: 0.2211 - val_accuracy: 0.9702\n",
      "Epoch 61/70\n",
      "143/143 [==============================] - 4s 25ms/step - loss: 2.8727e-06 - accuracy: 1.0000 - val_loss: 0.2209 - val_accuracy: 0.9720\n",
      "Epoch 62/70\n",
      "143/143 [==============================] - 4s 24ms/step - loss: 2.7151e-06 - accuracy: 1.0000 - val_loss: 0.2250 - val_accuracy: 0.9716\n",
      "Epoch 63/70\n",
      "143/143 [==============================] - 4s 25ms/step - loss: 2.6028e-06 - accuracy: 1.0000 - val_loss: 0.2299 - val_accuracy: 0.9709\n",
      "Epoch 64/70\n",
      "143/143 [==============================] - 4s 25ms/step - loss: 2.4165e-06 - accuracy: 1.0000 - val_loss: 0.2295 - val_accuracy: 0.9713\n",
      "Epoch 65/70\n",
      "143/143 [==============================] - 4s 25ms/step - loss: 2.3120e-06 - accuracy: 1.0000 - val_loss: 0.2312 - val_accuracy: 0.9720\n",
      "Epoch 66/70\n",
      "143/143 [==============================] - 4s 24ms/step - loss: 2.0571e-06 - accuracy: 1.0000 - val_loss: 0.2332 - val_accuracy: 0.9716\n",
      "Epoch 67/70\n",
      "143/143 [==============================] - 4s 25ms/step - loss: 1.9095e-06 - accuracy: 1.0000 - val_loss: 0.2357 - val_accuracy: 0.9713\n",
      "Epoch 68/70\n",
      "143/143 [==============================] - 4s 25ms/step - loss: 1.7740e-06 - accuracy: 1.0000 - val_loss: 0.2387 - val_accuracy: 0.9716\n",
      "Epoch 69/70\n",
      "143/143 [==============================] - 4s 24ms/step - loss: 1.6429e-06 - accuracy: 1.0000 - val_loss: 0.2390 - val_accuracy: 0.9723\n",
      "Epoch 70/70\n",
      "143/143 [==============================] - 4s 25ms/step - loss: 1.5110e-06 - accuracy: 1.0000 - val_loss: 0.2423 - val_accuracy: 0.9709\n"
     ]
    }
   ],
   "source": [
    "history = model.fit(x_train, y_train, batch_size=128, epochs=70, verbose=1, validation_data=(x_valid, y_valid))"
   ]
  },
  {
   "cell_type": "code",
   "execution_count": 13,
   "metadata": {
    "tags": []
   },
   "outputs": [
    {
     "name": "stdout",
     "output_type": "stream",
     "text": [
      "255/255 [==============================] - 2s 7ms/step - loss: 0.4818 - accuracy: 0.9592\n",
      "Test Loss: 0.4818478524684906\n",
      "Test accuracy: 0.9591912031173706\n"
     ]
    }
   ],
   "source": [
    "score = model.evaluate(x_test, y_test)\n",
    "print('Test Loss:', score[0])\n",
    "print('Test accuracy:', score[1])"
   ]
  },
  {
   "cell_type": "code",
   "execution_count": 14,
   "metadata": {
    "tags": []
   },
   "outputs": [
    {
     "name": "stdout",
     "output_type": "stream",
     "text": [
      "255/255 [==============================] - 1s 4ms/step\n",
      "{'0': {'precision': 0.8450704225352113, 'recall': 1.0, 'f1-score': 0.916030534351145, 'support': 60}, '1': {'precision': 0.9494535519125683, 'recall': 0.9652777777777778, 'f1-score': 0.9573002754820936, 'support': 720}, '2': {'precision': 0.9478609625668449, 'recall': 0.9453333333333334, 'f1-score': 0.9465954606141522, 'support': 750}, '3': {'precision': 0.9281045751633987, 'recall': 0.9466666666666667, 'f1-score': 0.9372937293729374, 'support': 450}, '4': {'precision': 0.9825119236883942, 'recall': 0.9363636363636364, 'f1-score': 0.9588828549262994, 'support': 660}, '5': {'precision': 0.9057187017001546, 'recall': 0.9301587301587302, 'f1-score': 0.9177760375880972, 'support': 630}, '6': {'precision': 0.9772727272727273, 'recall': 0.86, 'f1-score': 0.9148936170212766, 'support': 150}, '7': {'precision': 0.9622641509433962, 'recall': 0.9066666666666666, 'f1-score': 0.9336384439359268, 'support': 450}, '8': {'precision': 0.9119496855345912, 'recall': 0.9666666666666667, 'f1-score': 0.9385113268608414, 'support': 450}, '9': {'precision': 0.9653767820773931, 'recall': 0.9875, 'f1-score': 0.976313079299691, 'support': 480}, '10': {'precision': 0.9907550077041603, 'recall': 0.9742424242424242, 'f1-score': 0.9824293353705118, 'support': 660}, '11': {'precision': 0.981042654028436, 'recall': 0.9857142857142858, 'f1-score': 0.983372921615202, 'support': 210}, '12': {'precision': 1.0, 'recall': 0.9933333333333333, 'f1-score': 0.9966555183946488, 'support': 150}, '13': {'precision': 0.994413407821229, 'recall': 0.9888888888888889, 'f1-score': 0.9916434540389972, 'support': 360}, '14': {'precision': 0.967741935483871, 'recall': 1.0, 'f1-score': 0.9836065573770492, 'support': 60}, '15': {'precision': 0.9905660377358491, 'recall': 1.0, 'f1-score': 0.9952606635071091, 'support': 210}, '16': {'precision': 0.9596774193548387, 'recall': 0.9916666666666667, 'f1-score': 0.9754098360655739, 'support': 120}, '17': {'precision': 0.9973753280839895, 'recall': 0.9743589743589743, 'f1-score': 0.9857328145265888, 'support': 390}, '18': {'precision': 0.9836065573770492, 'recall': 1.0, 'f1-score': 0.9917355371900827, 'support': 120}, '19': {'precision': 0.9523809523809523, 'recall': 1.0, 'f1-score': 0.975609756097561, 'support': 60}, '20': {'precision': 0.9811320754716981, 'recall': 0.9797101449275363, 'f1-score': 0.9804205946337926, 'support': 690}, '21': {'precision': 0.946236559139785, 'recall': 0.9777777777777777, 'f1-score': 0.9617486338797814, 'support': 90}, '22': {'precision': 0.9213483146067416, 'recall': 0.9111111111111111, 'f1-score': 0.9162011173184358, 'support': 90}, '23': {'precision': 0.8867924528301887, 'recall': 0.7833333333333333, 'f1-score': 0.8318584070796461, 'support': 60}, '24': {'precision': 0.9473684210526315, 'recall': 1.0, 'f1-score': 0.972972972972973, 'support': 90}, 'accuracy': 0.9591911764705883, 'macro avg': {'precision': 0.955040824258644, 'recall': 0.9601908167195122, 'f1-score': 0.9568757391808166, 'support': 8160}, 'weighted avg': {'precision': 0.9598185621895812, 'recall': 0.9591911764705883, 'f1-score': 0.9591639063835229, 'support': 8160}}\n"
     ]
    }
   ],
   "source": [
    "from sklearn.metrics import classification_report\n",
    "pred = model.predict(x_test).argmax(axis = 1)\n",
    "cr = classification_report(y_test.argmax(axis = 1) , pred , output_dict = True) \n",
    "print(cr)"
   ]
  },
  {
   "cell_type": "code",
   "execution_count": 15,
   "metadata": {
    "tags": []
   },
   "outputs": [
    {
     "data": {
      "image/png": "[encoded data removed]",
      "text/plain": [
       "<Figure size 640x480 with 1 Axes>"
      ]
     },
     "metadata": {},
     "output_type": "display_data"
    }
   ],
   "source": [
    "plt.plot(history.history['accuracy'])\n",
    "plt.plot(history.history['val_accuracy'])\n",
    "plt.title('model accuracy')\n",
    "plt.ylabel('accuracy')\n",
    "plt.xlabel('epoch')\n",
    "plt.legend(['train', 'val'], loc='upper left')\n",
    "plt.show()"
   ]
  },
  {
   "cell_type": "code",
   "execution_count": 16,
   "metadata": {
    "tags": []
   },
   "outputs": [
    {
     "data": {
      "image/png": "[encoded data removed]",
      "text/plain": [
       "<Figure size 640x480 with 1 Axes>"
      ]
     },
     "metadata": {},
     "output_type": "display_data"
    }
   ],
   "source": [
    "plt.plot(history.history['loss'])\n",
    "plt.plot(history.history['val_loss'])\n",
    "plt.title('model loss')\n",
    "plt.ylabel('loss')\n",
    "plt.xlabel('epoch')\n",
    "plt.legend(['train', 'val'], loc='upper left')\n",
    "plt.show()"
   ]
  },
  {
   "cell_type": "code",
   "execution_count": 16,
   "metadata": {
    "tags": []
   },
   "outputs": [
    {
     "ename": "NameError",
     "evalue": "name 'confusion_matrix' is not defined",
     "output_type": "error",
     "traceback": [
      "\u001b[1;31m---------------------------------------------------------------------------\u001b[0m",
      "\u001b[1;31mNameError\u001b[0m                                 Traceback (most recent call last)",
      "Cell \u001b[1;32mIn [16], line 1\u001b[0m\n\u001b[1;32m----> 1\u001b[0m cm \u001b[38;5;241m=\u001b[39m \u001b[43mconfusion_matrix\u001b[49m(y_test, pred)\n\u001b[0;32m      3\u001b[0m plt\u001b[38;5;241m.\u001b[39mfigure(figsize\u001b[38;5;241m=\u001b[39m(\u001b[38;5;241m28\u001b[39m,\u001b[38;5;241m20\u001b[39m))\n\u001b[0;32m      4\u001b[0m heatmap(cm,annot\u001b[38;5;241m=\u001b[39m\u001b[38;5;28;01mTrue\u001b[39;00m, fmt\u001b[38;5;241m=\u001b[39m\u001b[38;5;124m'\u001b[39m\u001b[38;5;124m.2g\u001b[39m\u001b[38;5;124m'\u001b[39m)\n",
      "\u001b[1;31mNameError\u001b[0m: name 'confusion_matrix' is not defined"
     ]
    }
   ],
   "source": [
    "cm = confusion_matrix(y_test, pred)\n",
    "\n",
    "plt.figure(figsize=(28,20))\n",
    "heatmap(cm,annot=True, fmt='.2g')"
   ]
  },
  {
   "cell_type": "code",
   "execution_count": 40,
   "metadata": {
    "tags": []
   },
   "outputs": [
    {
     "data": {
      "text/plain": [
       "474937"
      ]
     },
     "execution_count": 40,
     "metadata": {},
     "output_type": "execute_result"
    }
   ],
   "source": [
    "model.count_params()"
   ]
  },
  {
   "cell_type": "code",
   "execution_count": 17,
   "metadata": {
    "tags": []
   },
   "outputs": [],
   "source": [
    "model_save_dir = \"D:\\\\Project\\\\Traffic Sign Detection\\\\TrainedMOdel\\\\final\\\\circle_classifier_data0_acc98_edge_36per.h5\"  \n",
    "\n",
    "model.save(model_save_dir)\n"
   ]
  },
  {
   "cell_type": "code",
   "execution_count": 97,
   "metadata": {
    "execution": {
     "iopub.execute_input": "2023-07-02T12:52:00.874764Z",
     "iopub.status.busy": "2023-07-02T12:52:00.874059Z",
     "iopub.status.idle": "2023-07-02T12:52:00.881809Z",
     "shell.execute_reply": "2023-07-02T12:52:00.880580Z",
     "shell.execute_reply.started": "2023-07-02T12:52:00.874724Z"
    }
   },
   "outputs": [
    {
     "data": {
      "text/plain": [
       "(32, 32, 3)"
      ]
     },
     "execution_count": 97,
     "metadata": {},
     "output_type": "execute_result"
    }
   ],
   "source": [
    "x_test[1].shape"
   ]
  },
  {
   "cell_type": "markdown",
   "metadata": {},
   "source": [
    "## Hope you like it!"
   ]
  },
  {
   "cell_type": "code",
   "execution_count": 17,
   "metadata": {
    "execution": {
     "iopub.execute_input": "2023-07-02T12:53:20.882509Z",
     "iopub.status.busy": "2023-07-02T12:53:20.882108Z",
     "iopub.status.idle": "2023-07-02T12:53:21.182561Z",
     "shell.execute_reply": "2023-07-02T12:53:21.181405Z",
     "shell.execute_reply.started": "2023-07-02T12:53:20.882474Z"
    }
   },
   "outputs": [
    {
     "name": "stderr",
     "output_type": "stream",
     "text": [
      "Clipping input data to the valid range for imshow with RGB data ([0..1] for floats or [0..255] for integers).\n"
     ]
    },
    {
     "data": {
      "image/png": "[encoded data removed]",
      "text/plain": [
       "<Figure size 640x480 with 1 Axes>"
      ]
     },
     "metadata": {},
     "output_type": "display_data"
    },
    {
     "name": "stdout",
     "output_type": "stream",
     "text": [
      "1/1 [==============================] - 0s 336ms/step\n",
      "[0 0 1 0 0 0 0 0 0 0 0 0 0 0 0 0 0 0 0 0 0 0 0 0 0]\n",
      "[[0. 0. 1. 0. 0. 0. 0. 0. 0. 0. 0. 0. 0. 0. 0. 0. 0. 0. 0. 0. 0. 0. 0. 0.\n",
      "  0.]]\n"
     ]
    }
   ],
   "source": [
    "from matplotlib import pyplot as plt\n",
    "image = x_train[65:66,:,:]#.transpose(2 , 0 ,1)\n",
    "plt.imshow(image[0].reshape((32,32,3)))\n",
    "plt.show()\n",
    "#y = model.predict_classes(image)\n",
    "y = (model.predict(image) > 0.5).astype(\"int32\")\n",
    "print(y[0])\n",
    "print(y_train[65:66])"
   ]
  },
  {
   "cell_type": "code",
   "execution_count": null,
   "metadata": {
    "execution": {
     "iopub.status.busy": "2023-07-01T21:00:36.475059Z",
     "iopub.status.idle": "2023-07-01T21:00:36.475778Z",
     "shell.execute_reply": "2023-07-01T21:00:36.475543Z",
     "shell.execute_reply.started": "2023-07-01T21:00:36.475522Z"
    }
   },
   "outputs": [],
   "source": [
    "image[0].reshape((32,32)).shape"
   ]
  },
  {
   "cell_type": "code",
   "execution_count": null,
   "metadata": {
    "execution": {
     "iopub.status.busy": "2023-07-01T21:00:36.477038Z",
     "iopub.status.idle": "2023-07-01T21:00:36.477717Z",
     "shell.execute_reply": "2023-07-01T21:00:36.477507Z",
     "shell.execute_reply.started": "2023-07-01T21:00:36.477484Z"
    }
   },
   "outputs": [],
   "source": [
    "import numpy\n",
    "x = numpy.where(gray_train_labels == 2)"
   ]
  }
 ],
 "metadata": {
  "kernelspec": {
   "display_name": "Python 3 (ipykernel)",
   "language": "python",
   "name": "python3"
  },
  "language_info": {
   "codemirror_mode": {
    "name": "ipython",
    "version": 3
   },
   "file_extension": ".py",
   "mimetype": "text/x-python",
   "name": "python",
   "nbconvert_exporter": "python",
   "pygments_lexer": "ipython3",
   "version": "3.10.9"
  }
 },
 "nbformat": 4,
 "nbformat_minor": 4
}
