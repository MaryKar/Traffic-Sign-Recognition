{
 "cells": [
  {
   "cell_type": "markdown",
   "metadata": {
    "papermill": {
     "duration": 0.01559,
     "end_time": "2023-06-28T13:04:32.116795",
     "exception": false,
     "start_time": "2023-06-28T13:04:32.101205",
     "status": "completed"
    },
    "tags": []
   },
   "source": [
    "### Code Implementation"
   ]
  },
  {
   "cell_type": "code",
   "execution_count": 13,
   "metadata": {
    "papermill": {
     "duration": 0.065526,
     "end_time": "2023-06-28T13:04:32.197819",
     "exception": false,
     "start_time": "2023-06-28T13:04:32.132293",
     "status": "completed"
    },
    "tags": []
   },
   "outputs": [],
   "source": [
    "# Importing necessary libraries\n",
    "import keras\n",
    "from keras.datasets import mnist\n",
    "from keras.layers import Conv2D, MaxPooling2D\n",
    "from keras.layers import Dense, Flatten\n",
    "from keras.models import Sequential\n",
    "from sklearn.model_selection import train_test_split\n",
    "from sklearn.metrics import classification_report\n",
    "from matplotlib import pyplot as plt\n",
    "import pickle"
   ]
  },
  {
   "cell_type": "markdown",
   "metadata": {
    "papermill": {
     "duration": 0.01538,
     "end_time": "2023-06-28T13:04:32.228435",
     "exception": false,
     "start_time": "2023-06-28T13:04:32.213055",
     "status": "completed"
    },
    "tags": []
   },
   "source": [
    "### Loading Dataset"
   ]
  },
  {
   "cell_type": "code",
   "execution_count": 2,
   "metadata": {
    "execution": {
     "iopub.execute_input": "2023-06-28T13:04:32.263133Z",
     "iopub.status.busy": "2023-06-28T13:04:32.262361Z",
     "iopub.status.idle": "2023-06-28T13:04:32.265550Z",
     "shell.execute_reply": "2023-06-28T13:04:32.264973Z"
    },
    "papermill": {
     "duration": 0.02181,
     "end_time": "2023-06-28T13:04:32.265648",
     "exception": false,
     "start_time": "2023-06-28T13:04:32.243838",
     "status": "completed"
    },
    "tags": []
   },
   "outputs": [],
   "source": [
    "# # Loading the dataset and perform splitting\n",
    "# data_list = []\n",
    "# labels_list = []\n",
    "# classes_list = 43\n",
    "\n",
    "# imgs_path = \"../input/gtsrb-german-traffic-sign/Train\"\n",
    "# for i in range(classes_list):\n",
    "#     i_path = os.path.join(imgs_path, str(i)) #0-42\n",
    "#     for img in os.listdir(i_path):\n",
    "#         im = Image.open(i_path +'/'+ img)\n",
    "#         im = im.resize((32,32))\n",
    "#         im = np.array(im)\n",
    "#         data_list.append(im)\n",
    "#         labels_list.append(i)\n",
    "# data = np.array(data_list)\n",
    "# labels = np.array(labels_list)"
   ]
  },
  {
   "cell_type": "code",
   "execution_count": 2,
   "metadata": {
    "papermill": {
     "duration": 4.663351,
     "end_time": "2023-06-28T13:04:36.946429",
     "exception": false,
     "start_time": "2023-06-28T13:04:32.283078",
     "status": "completed"
    },
    "tags": []
   },
   "outputs": [],
   "source": [
    "# Opening file for reading in binary mode\n",
    "with open('D:\\Project\\Traffic Sign Detection\\DATABASE/data8.pickle', 'rb') as f:\n",
    "    gray_data = pickle.load(f, encoding='latin1')  # dictionary type\n",
    "    \n",
    "    \n",
    "# Making channels come at the end\n",
    "gray_data['x_train'] = gray_data['x_train'].transpose(0, 2, 3, 1)\n",
    "gray_data['x_validation'] = gray_data['x_validation'].transpose(0, 2, 3, 1)\n",
    "gray_data['x_test'] = gray_data['x_test'].transpose(0, 2, 3, 1)\n",
    "\n",
    "gray_train_imgs = gray_data['x_train']\n",
    "gray_test_imgs = gray_data['x_test']\n",
    "gray_train_labels = gray_data['y_train']\n",
    "gray_test_labels = gray_data['y_test']\n",
    "gray_valid_imgs = gray_data['x_validation']\n",
    "gray_valid_labels = gray_data['y_validation']"
   ]
  },
  {
   "cell_type": "code",
   "execution_count": 3,
   "metadata": {
    "papermill": {
     "duration": 0.034592,
     "end_time": "2023-06-28T13:04:36.997436",
     "exception": false,
     "start_time": "2023-06-28T13:04:36.962844",
     "status": "completed"
    },
    "tags": []
   },
   "outputs": [],
   "source": [
    "gray_train_labels[gray_train_labels <= 10] = 0 #cycle\n",
    "gray_train_labels[gray_train_labels >= 32] = 0 #cycle\n",
    "gray_train_labels[(gray_train_labels == 15) |(gray_train_labels == 16)| (gray_train_labels ==17)] = 0 #cycle\n",
    "gray_train_labels[(gray_train_labels >= 18) & (gray_train_labels <= 31)] = 2 #triangle\n",
    "gray_train_labels[(gray_train_labels == 13) | (gray_train_labels == 11)] = 2 #triangle\n",
    "gray_train_labels[gray_train_labels == 14] = 1 # 6\n",
    "gray_train_labels[gray_train_labels == 12] = 3 # 4\n",
    "\n",
    "\n",
    "gray_test_labels[gray_test_labels <= 10] = 0 #cycle\n",
    "gray_test_labels[gray_test_labels >= 32] = 0 #cycle\n",
    "gray_test_labels[(gray_test_labels == 15) |(gray_test_labels == 16)| (gray_test_labels ==17)] = 0 #cycle\n",
    "gray_test_labels[(gray_test_labels >= 18) & (gray_test_labels <= 31)] = 2 #triangle\n",
    "gray_test_labels[(gray_test_labels == 13) | (gray_test_labels == 11)] = 2 #triangle\n",
    "gray_test_labels[gray_test_labels == 14] = 1 # 6\n",
    "gray_test_labels[gray_test_labels == 12] = 3 # 4\n",
    "\n",
    "\n",
    "gray_valid_labels[gray_valid_labels <= 10] = 0 #cycle\n",
    "gray_valid_labels[gray_valid_labels >= 32] = 0 #cycle\n",
    "gray_valid_labels[(gray_valid_labels == 15) |(gray_valid_labels == 16)| (gray_valid_labels ==17)] = 0 #cycle\n",
    "gray_valid_labels[(gray_valid_labels >= 18) & (gray_valid_labels <= 31)] = 2 #triangle\n",
    "gray_valid_labels[(gray_valid_labels == 13) | (gray_valid_labels == 11)] = 2 #triangle\n",
    "gray_valid_labels[gray_valid_labels == 14] = 1 # 6\n",
    "gray_valid_labels[gray_valid_labels == 12] = 3 # 4"
   ]
  },
  {
   "cell_type": "code",
   "execution_count": 12,
   "metadata": {
    "tags": []
   },
   "outputs": [
    {
     "data": {
      "text/plain": [
       "(12630,)"
      ]
     },
     "execution_count": 12,
     "metadata": {},
     "output_type": "execute_result"
    }
   ],
   "source": [
    "gray_test_labels.shape"
   ]
  },
  {
   "cell_type": "code",
   "execution_count": 4,
   "metadata": {
    "papermill": {
     "duration": 0.025308,
     "end_time": "2023-06-28T13:04:37.038176",
     "exception": false,
     "start_time": "2023-06-28T13:04:37.012868",
     "status": "completed"
    },
    "tags": []
   },
   "outputs": [],
   "source": [
    "y_test = gray_test_labels[(gray_test_labels == 0 )|(gray_test_labels == 1) ] \n",
    "y_train = gray_train_labels[(gray_train_labels == 0 )|(gray_train_labels == 1) ]\n",
    "y_valid = gray_valid_labels[(gray_valid_labels == 0 )|(gray_valid_labels == 1) ]"
   ]
  },
  {
   "cell_type": "markdown",
   "metadata": {
    "papermill": {
     "duration": 0.016132,
     "end_time": "2023-06-28T13:04:37.070374",
     "exception": false,
     "start_time": "2023-06-28T13:04:37.054242",
     "status": "completed"
    },
    "tags": []
   },
   "source": [
    "### Image Data Preprocessing"
   ]
  },
  {
   "cell_type": "code",
   "execution_count": 5,
   "metadata": {
    "papermill": {
     "duration": 0.027648,
     "end_time": "2023-06-28T13:04:37.113982",
     "exception": false,
     "start_time": "2023-06-28T13:04:37.086334",
     "status": "completed"
    },
    "tags": []
   },
   "outputs": [],
   "source": [
    "# Peforming reshaping operation\n",
    "# x_train = gray_train_imgs.reshape(gray_train_imgs.shape[0], 28, 28, 1)\n",
    "# x_test = gray_test_imgs.reshape(gray_test_imgs.shape[0], 28, 28, 1)\n",
    "\n",
    "x_train = gray_train_imgs[(gray_train_labels == 0 )|(gray_train_labels == 1)]\n",
    "x_test = gray_test_imgs[(gray_test_labels == 0 )|(gray_test_labels == 1)] \n",
    "x_valid = gray_valid_imgs[(gray_valid_labels == 0 )|(gray_valid_labels == 1)] \n",
    "# # Normalization\n",
    "# x_train = x_train / 255\n",
    "# x_test = x_test / 255\n",
    "\n",
    "num_class_shape = 2\n",
    "\n",
    "# One Hot Encoding\n",
    "y_train = keras.utils.to_categorical(y_train, num_class_shape)\n",
    "y_test = keras.utils.to_categorical(y_test, num_class_shape)\n",
    "y_valid = keras.utils.to_categorical(y_valid, num_class_shape)"
   ]
  },
  {
   "cell_type": "code",
   "execution_count": 61,
   "metadata": {},
   "outputs": [],
   "source": [
    "a, x_train, b, y_train = train_test_split(x_train, y_train, test_size=0.36, random_state=42)"
   ]
  },
  {
   "cell_type": "markdown",
   "metadata": {
    "papermill": {
     "duration": 0.015957,
     "end_time": "2023-06-28T13:04:37.145775",
     "exception": false,
     "start_time": "2023-06-28T13:04:37.129818",
     "status": "completed"
    },
    "tags": []
   },
   "source": [
    "### LeNet Model Architecture"
   ]
  },
  {
   "cell_type": "code",
   "execution_count": 19,
   "metadata": {
    "tags": []
   },
   "outputs": [],
   "source": [
    "keras.backend.clear_session()"
   ]
  },
  {
   "cell_type": "code",
   "execution_count": 20,
   "metadata": {
    "papermill": {
     "duration": 3.57747,
     "end_time": "2023-06-28T13:04:40.739594",
     "exception": false,
     "start_time": "2023-06-28T13:04:37.162124",
     "status": "completed"
    },
    "tags": []
   },
   "outputs": [],
   "source": [
    "# Building the Model Architecture\n",
    "model = Sequential()\n",
    "# Select 6 feature convolution kernels with a size of 5 * 5 (without offset), and get 66 feature maps. The size of each feature map is 32−5 + 1 = 2832−5 + 1 = 28.\n",
    "# That is, the number of neurons has been reduced from 10241024 to 28 ∗ 28 = 784 28 ∗ 28 = 784.\n",
    "# Parameters between input layer and C1 layer: 6 ∗ (5 ∗ 5 + 1)\n",
    "model.add(Conv2D(6, kernel_size=(5, 5), activation='relu', input_shape=(32, 32, 1)))\n",
    "\n",
    "# The input of this layer is the output of the first layer, which is a 28 * 28 * 6 node matrix.\n",
    "# The size of the filter used in this layer is 2 * 2, and the step length and width are both 2, so the output matrix size of this layer is 14 * 14 * 6.\n",
    "model.add(MaxPooling2D(pool_size=(2, 2)))\n",
    "# The input matrix size of this layer is 14 * 14 * 6, the filter size used is 5 * 5, and the depth is 16. This layer does not use all 0 padding, and the step size is 1.\n",
    "# The output matrix size of this layer is 10 * 10 * 16. This layer has 5 * 5 * 6 * 16 + 16 = 2416 parameters\n",
    "model.add(Conv2D(16, kernel_size=(5, 5), activation='relu'))\n",
    "# The input matrix size of this layer is 10 * 10 * 16. The size of the filter used in this layer is 2 * 2, and the length and width steps are both 2, so the output matrix size of this layer is 5 * 5 * 16.\n",
    "model.add(MaxPooling2D(pool_size=(2, 2)))\n",
    "# The input matrix size of this layer is 5 * 5 * 16. This layer is called a convolution layer in the LeNet-5 paper, but because the size of the filter is 5 * 5, #\n",
    "# So it is not different from the fully connected layer. If the nodes in the 5 * 5 * 16 matrix are pulled into a vector, then this layer is the same as the fully connected layer.\n",
    "# The number of output nodes in this layer is 120, with a total of 5 * 5 * 16 * 120 + 120 = 48120 parameters.\n",
    "model.add(Flatten())\n",
    "model.add(Dense(120, activation='relu'))\n",
    "# The number of input nodes in this layer is 120 and the number of output nodes is 84. The total parameter is 120 * 84 + 84 = 10164 (w + b)\n",
    "model.add(Dense(84, activation='relu'))\n",
    "# The number of input nodes in this layer is 84 and the number of output nodes is 10. The total parameter is 84 * 10 + 10 = 850\n",
    "model.add(Dense(2, activation='softmax'))"
   ]
  },
  {
   "cell_type": "code",
   "execution_count": 21,
   "metadata": {
    "papermill": {
     "duration": 0.033231,
     "end_time": "2023-06-28T13:04:40.792763",
     "exception": false,
     "start_time": "2023-06-28T13:04:40.759532",
     "status": "completed"
    },
    "tags": []
   },
   "outputs": [],
   "source": [
    "model.compile(loss=keras.metrics.categorical_crossentropy, optimizer=keras.optimizers.Adam(), metrics=['accuracy'])"
   ]
  },
  {
   "cell_type": "code",
   "execution_count": 22,
   "metadata": {
    "papermill": {
     "duration": 58.097776,
     "end_time": "2023-06-28T13:05:38.907688",
     "exception": false,
     "start_time": "2023-06-28T13:04:40.809912",
     "status": "completed"
    },
    "tags": []
   },
   "outputs": [
    {
     "name": "stdout",
     "output_type": "stream",
     "text": [
      "Epoch 1/20\n",
      "411/411 [==============================] - 5s 10ms/step - loss: 0.0340 - accuracy: 0.9910 - val_loss: 0.0012 - val_accuracy: 1.0000\n",
      "Epoch 2/20\n",
      "411/411 [==============================] - 4s 9ms/step - loss: 0.0051 - accuracy: 0.9987 - val_loss: 0.0053 - val_accuracy: 0.9976\n",
      "Epoch 3/20\n",
      "411/411 [==============================] - 4s 9ms/step - loss: 0.0020 - accuracy: 0.9995 - val_loss: 0.0064 - val_accuracy: 0.9979\n",
      "Epoch 4/20\n",
      "411/411 [==============================] - 4s 9ms/step - loss: 0.0015 - accuracy: 0.9996 - val_loss: 0.0024 - val_accuracy: 0.9986\n",
      "Epoch 5/20\n",
      "411/411 [==============================] - 4s 9ms/step - loss: 9.6672e-04 - accuracy: 0.9997 - val_loss: 6.6923e-04 - val_accuracy: 0.9997\n",
      "Epoch 6/20\n",
      "411/411 [==============================] - 4s 9ms/step - loss: 0.0021 - accuracy: 0.9992 - val_loss: 1.8409e-04 - val_accuracy: 1.0000\n",
      "Epoch 7/20\n",
      "411/411 [==============================] - 4s 9ms/step - loss: 0.0012 - accuracy: 0.9997 - val_loss: 1.6213e-04 - val_accuracy: 1.0000\n",
      "Epoch 8/20\n",
      "411/411 [==============================] - 4s 9ms/step - loss: 3.3930e-05 - accuracy: 1.0000 - val_loss: 1.8399e-05 - val_accuracy: 1.0000\n",
      "Epoch 9/20\n",
      "411/411 [==============================] - 4s 9ms/step - loss: 1.0267e-05 - accuracy: 1.0000 - val_loss: 7.1670e-06 - val_accuracy: 1.0000\n",
      "Epoch 10/20\n",
      "411/411 [==============================] - 4s 9ms/step - loss: 5.3690e-06 - accuracy: 1.0000 - val_loss: 4.3738e-06 - val_accuracy: 1.0000\n",
      "Epoch 11/20\n",
      "411/411 [==============================] - 4s 9ms/step - loss: 3.5891e-06 - accuracy: 1.0000 - val_loss: 3.2585e-06 - val_accuracy: 1.0000\n",
      "Epoch 12/20\n",
      "411/411 [==============================] - 4s 9ms/step - loss: 2.6351e-06 - accuracy: 1.0000 - val_loss: 2.3743e-06 - val_accuracy: 1.0000\n",
      "Epoch 13/20\n",
      "411/411 [==============================] - 4s 9ms/step - loss: 1.9990e-06 - accuracy: 1.0000 - val_loss: 2.2022e-06 - val_accuracy: 1.0000\n",
      "Epoch 14/20\n",
      "411/411 [==============================] - 4s 9ms/step - loss: 1.3527e-06 - accuracy: 1.0000 - val_loss: 1.9747e-06 - val_accuracy: 1.0000\n",
      "Epoch 15/20\n",
      "411/411 [==============================] - 4s 9ms/step - loss: 1.0963e-06 - accuracy: 1.0000 - val_loss: 1.3300e-06 - val_accuracy: 1.0000\n",
      "Epoch 16/20\n",
      "411/411 [==============================] - 4s 9ms/step - loss: 7.6071e-07 - accuracy: 1.0000 - val_loss: 1.1354e-06 - val_accuracy: 1.0000\n",
      "Epoch 17/20\n",
      "411/411 [==============================] - 4s 9ms/step - loss: 6.2255e-07 - accuracy: 1.0000 - val_loss: 9.0371e-07 - val_accuracy: 1.0000\n",
      "Epoch 18/20\n",
      "411/411 [==============================] - 4s 9ms/step - loss: 4.6489e-07 - accuracy: 1.0000 - val_loss: 6.8612e-07 - val_accuracy: 1.0000\n",
      "Epoch 19/20\n",
      "411/411 [==============================] - 4s 9ms/step - loss: 4.0859e-07 - accuracy: 1.0000 - val_loss: 6.5654e-07 - val_accuracy: 1.0000\n",
      "Epoch 20/20\n",
      "411/411 [==============================] - 4s 9ms/step - loss: 2.4989e-07 - accuracy: 1.0000 - val_loss: 8.5136e-07 - val_accuracy: 1.0000\n"
     ]
    }
   ],
   "source": [
    "history = model.fit(x_train, y_train, batch_size=128, epochs=20, verbose=1 , validation_data =(x_valid , y_valid))"
   ]
  },
  {
   "cell_type": "markdown",
   "metadata": {},
   "source": [
    "####  36% data\n"
   ]
  },
  {
   "cell_type": "code",
   "execution_count": 65,
   "metadata": {
    "papermill": {
     "duration": 1.339139,
     "end_time": "2023-06-28T13:05:40.596400",
     "exception": false,
     "start_time": "2023-06-28T13:05:39.257261",
     "status": "completed"
    },
    "tags": []
   },
   "outputs": [
    {
     "name": "stdout",
     "output_type": "stream",
     "text": [
      "264/264 [==============================] - 2s 5ms/step - loss: 0.0108 - accuracy: 0.9986\n",
      "Test Loss: 0.010801092721521854\n",
      "Test accuracy: 0.9985765218734741\n"
     ]
    }
   ],
   "source": [
    "score = model.evaluate(x_test, y_test)\n",
    "print('Test Loss:', score[0])\n",
    "print('Test accuracy:', score[1])"
   ]
  },
  {
   "cell_type": "code",
   "execution_count": 66,
   "metadata": {
    "tags": []
   },
   "outputs": [
    {
     "name": "stdout",
     "output_type": "stream",
     "text": [
      "264/264 [==============================] - 1s 3ms/step\n",
      "{'0': {'precision': 0.9985315712187959, 'recall': 1.0, 'f1-score': 0.9992652461425422, 'support': 8160}, '1': {'precision': 1.0, 'recall': 0.9555555555555556, 'f1-score': 0.9772727272727273, 'support': 270}, 'accuracy': 0.998576512455516, 'macro avg': {'precision': 0.9992657856093979, 'recall': 0.9777777777777779, 'f1-score': 0.9882689867076347, 'support': 8430}, 'weighted avg': {'precision': 0.9985786027455961, 'recall': 0.998576512455516, 'f1-score': 0.9985608594171743, 'support': 8430}}\n"
     ]
    }
   ],
   "source": [
    "pred = model.predict(x_test).argmax(axis = 1)\n",
    "cr = classification_report(y_test.argmax(axis = 1) , pred , output_dict = True)\n",
    "print(cr)"
   ]
  },
  {
   "cell_type": "markdown",
   "metadata": {},
   "source": [
    "#### all data"
   ]
  },
  {
   "cell_type": "code",
   "execution_count": 23,
   "metadata": {
    "papermill": {
     "duration": 1.339139,
     "end_time": "2023-06-28T13:05:40.596400",
     "exception": false,
     "start_time": "2023-06-28T13:05:39.257261",
     "status": "completed"
    },
    "tags": []
   },
   "outputs": [
    {
     "name": "stdout",
     "output_type": "stream",
     "text": [
      "264/264 [==============================] - 1s 6ms/step - loss: 0.0056 - accuracy: 0.9993\n",
      "Test Loss: 0.005598774645477533\n",
      "Test accuracy: 0.9992882609367371\n"
     ]
    }
   ],
   "source": [
    "\n",
    "score = model.evaluate(x_test, y_test)\n",
    "print('Test Loss:', score[0])\n",
    "print('Test accuracy:', score[1])"
   ]
  },
  {
   "cell_type": "code",
   "execution_count": 10,
   "metadata": {
    "tags": []
   },
   "outputs": [
    {
     "name": "stdout",
     "output_type": "stream",
     "text": [
      "264/264 [==============================] - 1s 3ms/step\n",
      "{'0': {'precision': 0.9993874800931031, 'recall': 0.9997549019607843, 'f1-score': 0.9995711572627581, 'support': 8160}, '1': {'precision': 0.9925093632958801, 'recall': 0.9814814814814815, 'f1-score': 0.9869646182495345, 'support': 270}, 'accuracy': 0.9991696322657176, 'macro avg': {'precision': 0.9959484216944916, 'recall': 0.990618191721133, 'f1-score': 0.9932678877561463, 'support': 8430}, 'weighted avg': {'precision': 0.9991671845373202, 'recall': 0.9991696322657176, 'f1-score': 0.9991673891093097, 'support': 8430}}\n"
     ]
    }
   ],
   "source": [
    "pred = model.predict(x_test).argmax(axis = 1)\n",
    "cr = classification_report(y_test.argmax(axis = 1) , pred , output_dict = True)\n",
    "print(cr)"
   ]
  },
  {
   "cell_type": "code",
   "execution_count": 24,
   "metadata": {
    "tags": []
   },
   "outputs": [
    {
     "data": {
      "image/png": "[encoded data removed]",
      "text/plain": [
       "<Figure size 640x480 with 1 Axes>"
      ]
     },
     "metadata": {},
     "output_type": "display_data"
    }
   ],
   "source": [
    "plt.plot(history.history['accuracy'])\n",
    "plt.plot(history.history['val_accuracy'])\n",
    "plt.title('model accuracy')\n",
    "plt.ylabel('accuracy')\n",
    "plt.xlabel('epoch')\n",
    "plt.legend(['train', 'val'], loc='upper left')\n",
    "plt.show()"
   ]
  },
  {
   "cell_type": "code",
   "execution_count": 25,
   "metadata": {
    "tags": []
   },
   "outputs": [
    {
     "data": {
      "image/png": "[encoded data removed]",
      "text/plain": [
       "<Figure size 640x480 with 1 Axes>"
      ]
     },
     "metadata": {},
     "output_type": "display_data"
    }
   ],
   "source": [
    "plt.plot(history.history['loss'])\n",
    "plt.plot(history.history['val_loss'])\n",
    "plt.title('model loss')\n",
    "plt.ylabel('loss')\n",
    "plt.xlabel('epoch')\n",
    "plt.legend(['train', 'val'], loc='upper left')\n",
    "plt.show()"
   ]
  },
  {
   "cell_type": "code",
   "execution_count": 49,
   "metadata": {
    "tags": []
   },
   "outputs": [
    {
     "data": {
      "text/plain": [
       "1"
      ]
     },
     "execution_count": 49,
     "metadata": {},
     "output_type": "execute_result"
    }
   ],
   "source": [
    "y_test.argmax(axis = -1)[5]"
   ]
  },
  {
   "cell_type": "code",
   "execution_count": 67,
   "metadata": {
    "papermill": {
     "duration": 0.386123,
     "end_time": "2023-06-28T13:05:41.345123",
     "exception": true,
     "start_time": "2023-06-28T13:05:40.959000",
     "status": "failed"
    },
    "tags": []
   },
   "outputs": [],
   "source": [
    "model_save_dir = \"D:\\\\Project\\\\Traffic Sign Detection\\\\TrainedMOdel\\\\final\\\\new shape clssifier\\\\shape_classifier_circleVS6di_acc9994.h5\"  \n",
    "\n",
    "model.save(model_save_dir)"
   ]
  },
  {
   "cell_type": "markdown",
   "metadata": {
    "papermill": {
     "duration": null,
     "end_time": null,
     "exception": null,
     "start_time": null,
     "status": "pending"
    },
    "tags": []
   },
   "source": [
    "## Hope you like it!"
   ]
  },
  {
   "cell_type": "code",
   "execution_count": null,
   "metadata": {
    "execution": {
     "iopub.execute_input": "2023-06-28T10:07:11.114174Z",
     "iopub.status.busy": "2023-06-28T10:07:11.113788Z",
     "iopub.status.idle": "2023-06-28T10:07:11.300419Z",
     "shell.execute_reply": "2023-06-28T10:07:11.297487Z",
     "shell.execute_reply.started": "2023-06-28T10:07:11.114138Z"
    },
    "papermill": {
     "duration": null,
     "end_time": null,
     "exception": null,
     "start_time": null,
     "status": "pending"
    },
    "tags": []
   },
   "outputs": [],
   "source": [
    "from matplotlib import pyplot as plt\n",
    "image = gray_test_imgs[5]#.transpose(2 , 0 ,1)\n",
    "# plt.imshow(image, cmap=plt.get_cmap('gray'))\n",
    "# plt.show()\n",
    "y = model.predict(image)\n",
    "print(y)"
   ]
  },
  {
   "cell_type": "code",
   "execution_count": null,
   "metadata": {
    "papermill": {
     "duration": null,
     "end_time": null,
     "exception": null,
     "start_time": null,
     "status": "pending"
    },
    "tags": []
   },
   "outputs": [],
   "source": []
  }
 ],
 "metadata": {
  "kernelspec": {
   "display_name": "Python 3 (ipykernel)",
   "language": "python",
   "name": "python3"
  },
  "language_info": {
   "codemirror_mode": {
    "name": "ipython",
    "version": 3
   },
   "file_extension": ".py",
   "mimetype": "text/x-python",
   "name": "python",
   "nbconvert_exporter": "python",
   "pygments_lexer": "ipython3",
   "version": "3.10.9"
  },
  "papermill": {
   "duration": 80.821842,
   "end_time": "2023-06-28T13:05:42.783021",
   "environment_variables": {},
   "exception": true,
   "input_path": "__notebook__.ipynb",
   "output_path": "__notebook__.ipynb",
   "parameters": {},
   "start_time": "2023-06-28T13:04:21.961179",
   "version": "2.1.0"
  }
 },
 "nbformat": 4,
 "nbformat_minor": 4
}
