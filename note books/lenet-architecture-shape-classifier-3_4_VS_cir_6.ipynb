{
 "cells": [
  {
   "cell_type": "markdown",
   "metadata": {
    "papermill": {
     "duration": 0.01559,
     "end_time": "2023-06-28T13:04:32.116795",
     "exception": false,
     "start_time": "2023-06-28T13:04:32.101205",
     "status": "completed"
    },
    "tags": []
   },
   "source": [
    "### Code Implementation"
   ]
  },
  {
   "cell_type": "code",
   "execution_count": 1,
   "metadata": {
    "papermill": {
     "duration": 0.065526,
     "end_time": "2023-06-28T13:04:32.197819",
     "exception": false,
     "start_time": "2023-06-28T13:04:32.132293",
     "status": "completed"
    },
    "tags": []
   },
   "outputs": [],
   "source": [
    "# Importing necessary libraries\n",
    "import keras\n",
    "from keras.datasets import mnist\n",
    "from keras.layers import Conv2D, MaxPooling2D\n",
    "from keras.layers import Dense, Flatten , Dropout\n",
    "from keras.models import Sequential\n",
    "from sklearn.model_selection import train_test_split\n",
    "import pickle\n",
    "from matplotlib import pyplot as plt"
   ]
  },
  {
   "cell_type": "markdown",
   "metadata": {
    "papermill": {
     "duration": 0.01538,
     "end_time": "2023-06-28T13:04:32.228435",
     "exception": false,
     "start_time": "2023-06-28T13:04:32.213055",
     "status": "completed"
    },
    "tags": []
   },
   "source": [
    "### Loading Dataset"
   ]
  },
  {
   "cell_type": "code",
   "execution_count": 2,
   "metadata": {
    "execution": {
     "iopub.execute_input": "2023-06-28T13:04:32.263133Z",
     "iopub.status.busy": "2023-06-28T13:04:32.262361Z",
     "iopub.status.idle": "2023-06-28T13:04:32.265550Z",
     "shell.execute_reply": "2023-06-28T13:04:32.264973Z"
    },
    "papermill": {
     "duration": 0.02181,
     "end_time": "2023-06-28T13:04:32.265648",
     "exception": false,
     "start_time": "2023-06-28T13:04:32.243838",
     "status": "completed"
    },
    "tags": []
   },
   "outputs": [],
   "source": [
    "# # Loading the dataset and perform splitting\n",
    "# data_list = []\n",
    "# labels_list = []\n",
    "# classes_list = 43\n",
    "\n",
    "# imgs_path = \"../input/gtsrb-german-traffic-sign/Train\"\n",
    "# for i in range(classes_list):\n",
    "#     i_path = os.path.join(imgs_path, str(i)) #0-42\n",
    "#     for img in os.listdir(i_path):\n",
    "#         im = Image.open(i_path +'/'+ img)\n",
    "#         im = im.resize((32,32))\n",
    "#         im = np.array(im)\n",
    "#         data_list.append(im)\n",
    "#         labels_list.append(i)\n",
    "# data = np.array(data_list)\n",
    "# labels = np.array(labels_list)"
   ]
  },
  {
   "cell_type": "code",
   "execution_count": 2,
   "metadata": {
    "papermill": {
     "duration": 4.663351,
     "end_time": "2023-06-28T13:04:36.946429",
     "exception": false,
     "start_time": "2023-06-28T13:04:32.283078",
     "status": "completed"
    },
    "tags": []
   },
   "outputs": [],
   "source": [
    "# Opening file for reading in binary mode\n",
    "with open('D:\\Project\\Traffic Sign Detection\\DATABASE/data8.pickle', 'rb') as f:\n",
    "    gray_data = pickle.load(f, encoding='latin1')  # dictionary type\n",
    "    \n",
    "    \n",
    "# Making channels come at the end\n",
    "gray_data['x_train'] = gray_data['x_train'].transpose(0, 2, 3, 1)\n",
    "gray_data['x_validation'] = gray_data['x_validation'].transpose(0, 2, 3, 1)\n",
    "gray_data['x_test'] = gray_data['x_test'].transpose(0, 2, 3, 1)\n",
    "\n",
    "gray_train_imgs = gray_data['x_train']\n",
    "gray_test_imgs = gray_data['x_test']\n",
    "gray_train_labels = gray_data['y_train']\n",
    "gray_test_labels = gray_data['y_test']\n",
    "gray_valid_imgs = gray_data['x_validation']\n",
    "gray_valid_labels = gray_data['y_validation']"
   ]
  },
  {
   "cell_type": "code",
   "execution_count": 3,
   "metadata": {
    "papermill": {
     "duration": 0.034592,
     "end_time": "2023-06-28T13:04:36.997436",
     "exception": false,
     "start_time": "2023-06-28T13:04:36.962844",
     "status": "completed"
    },
    "tags": []
   },
   "outputs": [],
   "source": [
    "gray_train_labels[gray_train_labels <= 10] = 0 #cycle\n",
    "gray_train_labels[gray_train_labels >= 32] = 0 #cycle\n",
    "gray_train_labels[(gray_train_labels == 15) |(gray_train_labels == 16)| (gray_train_labels ==17)] = 0#cycle\n",
    "gray_train_labels[(gray_train_labels >= 18) & (gray_train_labels <= 31)] = 1 #triangle\n",
    "gray_train_labels[(gray_train_labels == 13) | (gray_train_labels == 11)] = 1 #triangle\n",
    "gray_train_labels[gray_train_labels == 14] = 0 # 6\n",
    "gray_train_labels[gray_train_labels == 12] = 1 # 4\n",
    "\n",
    "\n",
    "gray_test_labels[gray_test_labels <= 10] = 0 #cycle\n",
    "gray_test_labels[gray_test_labels >= 32] = 0 #cycle\n",
    "gray_test_labels[(gray_test_labels == 15) |(gray_test_labels == 16)| (gray_test_labels ==17)] = 0 #cycle\n",
    "gray_test_labels[(gray_test_labels >= 18) & (gray_test_labels <= 31)] = 1 #triangle\n",
    "gray_test_labels[(gray_test_labels == 13) | (gray_test_labels == 11)] = 1 #triangle\n",
    "gray_test_labels[gray_test_labels == 14] = 0 # 6\n",
    "gray_test_labels[gray_test_labels == 12] = 1 # 4\n",
    "\n",
    "gray_valid_labels[gray_valid_labels <= 10] = 0 #cycle\n",
    "gray_valid_labels[gray_valid_labels >= 32] = 0 #cycle\n",
    "gray_valid_labels[(gray_valid_labels == 15) |(gray_valid_labels == 16)| (gray_valid_labels ==17)] = 0 #cycle\n",
    "gray_valid_labels[(gray_valid_labels >= 18) & (gray_valid_labels <= 31)] = 1 #triangle\n",
    "gray_valid_labels[(gray_valid_labels == 13) | (gray_valid_labels == 11)] = 1 #triangle\n",
    "gray_valid_labels[gray_valid_labels == 14] = 0 # 6\n",
    "gray_valid_labels[gray_valid_labels == 12] = 1 # 4\n"
   ]
  },
  {
   "cell_type": "markdown",
   "metadata": {
    "papermill": {
     "duration": 0.016132,
     "end_time": "2023-06-28T13:04:37.070374",
     "exception": false,
     "start_time": "2023-06-28T13:04:37.054242",
     "status": "completed"
    },
    "tags": []
   },
   "source": [
    "### Image Data Preprocessing"
   ]
  },
  {
   "cell_type": "code",
   "execution_count": 4,
   "metadata": {
    "papermill": {
     "duration": 0.027648,
     "end_time": "2023-06-28T13:04:37.113982",
     "exception": false,
     "start_time": "2023-06-28T13:04:37.086334",
     "status": "completed"
    },
    "tags": []
   },
   "outputs": [],
   "source": [
    "# Peforming reshaping operation\n",
    "# x_train = gray_train_imgs.reshape(gray_train_imgs.shape[0], 28, 28, 1)\n",
    "# x_test = gray_test_imgs.reshape(gray_test_imgs.shape[0], 28, 28, 1)\n",
    "\n",
    "x_train = gray_train_imgs\n",
    "x_test = gray_test_imgs\n",
    "x_valid = gray_valid_imgs\n",
    "# # Normalization\n",
    "# x_train = x_train / 255\n",
    "# x_test = x_test / 255\n",
    "\n",
    "num_class_shape = 2\n",
    "\n",
    "# One Hot Encoding\n",
    "y_train = keras.utils.to_categorical(gray_train_labels, num_class_shape)\n",
    "y_test = keras.utils.to_categorical(gray_test_labels, num_class_shape)\n",
    "y_valid = keras.utils.to_categorical(gray_valid_labels, num_class_shape)"
   ]
  },
  {
   "cell_type": "code",
   "execution_count": 19,
   "metadata": {},
   "outputs": [],
   "source": [
    "a, x_train, b, y_train = train_test_split(gray_train_imgs, y_train, test_size=0.36, random_state=42)"
   ]
  },
  {
   "cell_type": "markdown",
   "metadata": {
    "papermill": {
     "duration": 0.015957,
     "end_time": "2023-06-28T13:04:37.145775",
     "exception": false,
     "start_time": "2023-06-28T13:04:37.129818",
     "status": "completed"
    },
    "tags": []
   },
   "source": [
    "### LeNet Model Architecture"
   ]
  },
  {
   "cell_type": "code",
   "execution_count": 5,
   "metadata": {
    "tags": []
   },
   "outputs": [],
   "source": [
    "keras.backend.clear_session()"
   ]
  },
  {
   "cell_type": "code",
   "execution_count": 6,
   "metadata": {
    "papermill": {
     "duration": 3.57747,
     "end_time": "2023-06-28T13:04:40.739594",
     "exception": false,
     "start_time": "2023-06-28T13:04:37.162124",
     "status": "completed"
    },
    "tags": []
   },
   "outputs": [],
   "source": [
    "from tensorflow.keras import regularizers\n",
    "from keras.models import Sequential\n",
    "from keras.layers import Conv2D, MaxPool2D, Dense, Flatten, Dropout\n",
    "\n",
    "model = Sequential()\n",
    "model.add(Conv2D(filters=32, kernel_size=(5,5), activation='relu', input_shape=x_train.shape[1:]))\n",
    "model.add(Conv2D(filters=64, kernel_size=(3, 3), activation='relu'))\n",
    "model.add(MaxPool2D(pool_size=(2, 2)))\n",
    "model.add(Dropout(rate=0.25))\n",
    "model.add(Conv2D(filters=64, kernel_size=(3, 3), activation='relu'))\n",
    "model.add(MaxPool2D(pool_size=(2, 2)))\n",
    "model.add(Dropout(rate=0.25))\n",
    "model.add(Flatten())\n",
    "model.add(Dense(256, activation='relu'))\n",
    "model.add(Dropout(rate=0.5))\n",
    "model.add(Dense(2, activation='softmax'))"
   ]
  },
  {
   "cell_type": "code",
   "execution_count": 26,
   "metadata": {
    "tags": []
   },
   "outputs": [
    {
     "name": "stdout",
     "output_type": "stream",
     "text": [
      "Model: \"sequential_2\"\n",
      "_________________________________________________________________\n",
      " Layer (type)                Output Shape              Param #   \n",
      "=================================================================\n",
      " conv2d_5 (Conv2D)           (None, 28, 28, 32)        832       \n",
      "                                                                 \n",
      " conv2d_6 (Conv2D)           (None, 26, 26, 64)        18496     \n",
      "                                                                 \n",
      " max_pooling2d_2 (MaxPooling  (None, 13, 13, 64)       0         \n",
      " 2D)                                                             \n",
      "                                                                 \n",
      " dropout_3 (Dropout)         (None, 13, 13, 64)        0         \n",
      "                                                                 \n",
      " conv2d_7 (Conv2D)           (None, 11, 11, 64)        36928     \n",
      "                                                                 \n",
      " max_pooling2d_3 (MaxPooling  (None, 5, 5, 64)         0         \n",
      " 2D)                                                             \n",
      "                                                                 \n",
      " dropout_4 (Dropout)         (None, 5, 5, 64)          0         \n",
      "                                                                 \n",
      " flatten_1 (Flatten)         (None, 1600)              0         \n",
      "                                                                 \n",
      " dense_2 (Dense)             (None, 256)               409856    \n",
      "                                                                 \n",
      " dropout_5 (Dropout)         (None, 256)               0         \n",
      "                                                                 \n",
      " dense_3 (Dense)             (None, 2)                 514       \n",
      "                                                                 \n",
      "=================================================================\n",
      "Total params: 466,626\n",
      "Trainable params: 466,626\n",
      "Non-trainable params: 0\n",
      "_________________________________________________________________\n"
     ]
    }
   ],
   "source": [
    "model.summary()"
   ]
  },
  {
   "cell_type": "code",
   "execution_count": 7,
   "metadata": {
    "papermill": {
     "duration": 0.033231,
     "end_time": "2023-06-28T13:04:40.792763",
     "exception": false,
     "start_time": "2023-06-28T13:04:40.759532",
     "status": "completed"
    },
    "tags": []
   },
   "outputs": [],
   "source": [
    "model.compile(loss=keras.metrics.categorical_crossentropy, optimizer=keras.optimizers.Adam(), metrics=['accuracy'])"
   ]
  },
  {
   "cell_type": "code",
   "execution_count": 8,
   "metadata": {
    "papermill": {
     "duration": 58.097776,
     "end_time": "2023-06-28T13:05:38.907688",
     "exception": false,
     "start_time": "2023-06-28T13:04:40.809912",
     "status": "completed"
    },
    "tags": []
   },
   "outputs": [
    {
     "name": "stdout",
     "output_type": "stream",
     "text": [
      "Epoch 1/20\n",
      "680/680 [==============================] - 22s 23ms/step - loss: 0.0394 - accuracy: 0.9841 - val_loss: 0.0025 - val_accuracy: 0.9995\n",
      "Epoch 2/20\n",
      "680/680 [==============================] - 15s 22ms/step - loss: 0.0071 - accuracy: 0.9977 - val_loss: 5.8805e-04 - val_accuracy: 1.0000\n",
      "Epoch 3/20\n",
      "680/680 [==============================] - 15s 22ms/step - loss: 0.0056 - accuracy: 0.9981 - val_loss: 0.0016 - val_accuracy: 0.9995\n",
      "Epoch 4/20\n",
      "680/680 [==============================] - 15s 22ms/step - loss: 0.0047 - accuracy: 0.9985 - val_loss: 6.4750e-04 - val_accuracy: 0.9998\n",
      "Epoch 5/20\n",
      "680/680 [==============================] - 15s 22ms/step - loss: 0.0038 - accuracy: 0.9989 - val_loss: 0.0034 - val_accuracy: 0.9998\n",
      "Epoch 6/20\n",
      "680/680 [==============================] - 15s 22ms/step - loss: 0.0034 - accuracy: 0.9988 - val_loss: 0.0013 - val_accuracy: 0.9998\n",
      "Epoch 7/20\n",
      "680/680 [==============================] - 15s 22ms/step - loss: 0.0033 - accuracy: 0.9990 - val_loss: 1.0189e-04 - val_accuracy: 1.0000\n",
      "Epoch 8/20\n",
      "680/680 [==============================] - 15s 22ms/step - loss: 0.0036 - accuracy: 0.9990 - val_loss: 0.0014 - val_accuracy: 0.9993\n",
      "Epoch 9/20\n",
      "680/680 [==============================] - 15s 22ms/step - loss: 0.0028 - accuracy: 0.9990 - val_loss: 4.3379e-04 - val_accuracy: 1.0000\n",
      "Epoch 10/20\n",
      "680/680 [==============================] - 15s 22ms/step - loss: 0.0026 - accuracy: 0.9993 - val_loss: 0.0013 - val_accuracy: 0.9995\n",
      "Epoch 11/20\n",
      "680/680 [==============================] - 15s 22ms/step - loss: 0.0025 - accuracy: 0.9993 - val_loss: 0.0013 - val_accuracy: 0.9993\n",
      "Epoch 12/20\n",
      "680/680 [==============================] - 15s 22ms/step - loss: 0.0042 - accuracy: 0.9989 - val_loss: 0.0015 - val_accuracy: 0.9995\n",
      "Epoch 13/20\n",
      "680/680 [==============================] - 15s 22ms/step - loss: 0.0020 - accuracy: 0.9994 - val_loss: 0.0014 - val_accuracy: 0.9995\n",
      "Epoch 14/20\n",
      "680/680 [==============================] - 15s 22ms/step - loss: 0.0026 - accuracy: 0.9993 - val_loss: 0.0031 - val_accuracy: 0.9986\n",
      "Epoch 15/20\n",
      "680/680 [==============================] - 15s 22ms/step - loss: 0.0021 - accuracy: 0.9993 - val_loss: 0.0013 - val_accuracy: 0.9995\n",
      "Epoch 16/20\n",
      "680/680 [==============================] - 15s 22ms/step - loss: 0.0028 - accuracy: 0.9992 - val_loss: 2.7209e-05 - val_accuracy: 1.0000\n",
      "Epoch 17/20\n",
      "680/680 [==============================] - 15s 22ms/step - loss: 0.0030 - accuracy: 0.9992 - val_loss: 2.6225e-06 - val_accuracy: 1.0000\n",
      "Epoch 18/20\n",
      "680/680 [==============================] - 15s 22ms/step - loss: 0.0015 - accuracy: 0.9995 - val_loss: 8.8438e-04 - val_accuracy: 0.9995\n",
      "Epoch 19/20\n",
      "680/680 [==============================] - 15s 22ms/step - loss: 0.0025 - accuracy: 0.9993 - val_loss: 6.4498e-06 - val_accuracy: 1.0000\n",
      "Epoch 20/20\n",
      "680/680 [==============================] - 15s 22ms/step - loss: 0.0038 - accuracy: 0.9992 - val_loss: 1.8542e-06 - val_accuracy: 1.0000\n"
     ]
    }
   ],
   "source": [
    "history = model.fit(x_train, y_train, batch_size=128, epochs=20, verbose=1 , validation_data = (x_valid , y_valid))"
   ]
  },
  {
   "cell_type": "markdown",
   "metadata": {
    "tags": []
   },
   "source": [
    "#### all data"
   ]
  },
  {
   "cell_type": "code",
   "execution_count": 9,
   "metadata": {
    "papermill": {
     "duration": 1.339139,
     "end_time": "2023-06-28T13:05:40.596400",
     "exception": false,
     "start_time": "2023-06-28T13:05:39.257261",
     "status": "completed"
    },
    "tags": []
   },
   "outputs": [
    {
     "name": "stdout",
     "output_type": "stream",
     "text": [
      "395/395 [==============================] - 2s 6ms/step - loss: 0.0243 - accuracy: 0.9966\n",
      "Test Loss: 0.024264587089419365\n",
      "Test accuracy: 0.9965953826904297\n"
     ]
    }
   ],
   "source": [
    "score = model.evaluate(x_test, y_test)\n",
    "print('Test Loss:', score[0])\n",
    "print('Test accuracy:', score[1])"
   ]
  },
  {
   "cell_type": "code",
   "execution_count": 10,
   "metadata": {
    "tags": []
   },
   "outputs": [
    {
     "name": "stdout",
     "output_type": "stream",
     "text": [
      "395/395 [==============================] - 1s 3ms/step\n",
      "{'0': {'precision': 0.9955098664776084, 'recall': 0.9994068801897983, 'f1-score': 0.997454566980406, 'support': 8430}, '1': {'precision': 0.9988000959923207, 'recall': 0.9909523809523809, 'f1-score': 0.9948607625194215, 'support': 4200}, 'accuracy': 0.9965954077593032, 'macro avg': {'precision': 0.9971549812349645, 'recall': 0.9951796305710896, 'f1-score': 0.9961576647499137, 'support': 12630}, 'weighted avg': {'precision': 0.9966040045585103, 'recall': 0.9965954077593032, 'f1-score': 0.9965920191786535, 'support': 12630}}\n"
     ]
    }
   ],
   "source": [
    "from sklearn.metrics import classification_report\n",
    "pred = model.predict(x_test).argmax(axis = 1)\n",
    "cr = classification_report(y_test.argmax(axis = 1) , pred , output_dict = True)\n",
    "print(cr)"
   ]
  },
  {
   "cell_type": "code",
   "execution_count": 11,
   "metadata": {
    "tags": []
   },
   "outputs": [
    {
     "data": {
      "image/png": "[encoded data removed]",
      "text/plain": [
       "<Figure size 640x480 with 1 Axes>"
      ]
     },
     "metadata": {},
     "output_type": "display_data"
    }
   ],
   "source": [
    "plt.plot(history.history['accuracy'])\n",
    "plt.plot(history.history['val_accuracy'])\n",
    "plt.title('model accuracy')\n",
    "plt.ylabel('accuracy')\n",
    "plt.xlabel('epoch')\n",
    "plt.legend(['train', 'val'], loc='upper left')\n",
    "plt.show()"
   ]
  },
  {
   "cell_type": "code",
   "execution_count": 12,
   "metadata": {
    "tags": []
   },
   "outputs": [
    {
     "data": {
      "image/png": "[encoded data removed]",
      "text/plain": [
       "<Figure size 640x480 with 1 Axes>"
      ]
     },
     "metadata": {},
     "output_type": "display_data"
    }
   ],
   "source": [
    "plt.plot(history.history['loss'])\n",
    "plt.plot(history.history['val_loss'])\n",
    "plt.title('model loss')\n",
    "plt.ylabel('loss')\n",
    "plt.xlabel('epoch')\n",
    "plt.legend(['train', 'val'], loc='upper left')\n",
    "plt.show()"
   ]
  },
  {
   "cell_type": "markdown",
   "metadata": {
    "tags": []
   },
   "source": [
    "#### 36% data"
   ]
  },
  {
   "cell_type": "code",
   "execution_count": 24,
   "metadata": {
    "papermill": {
     "duration": 1.339139,
     "end_time": "2023-06-28T13:05:40.596400",
     "exception": false,
     "start_time": "2023-06-28T13:05:39.257261",
     "status": "completed"
    },
    "tags": []
   },
   "outputs": [
    {
     "name": "stdout",
     "output_type": "stream",
     "text": [
      "395/395 [==============================] - 2s 5ms/step - loss: 0.0161 - accuracy: 0.9982\n",
      "Test Loss: 0.01607608050107956\n",
      "Test accuracy: 0.9981789588928223\n"
     ]
    }
   ],
   "source": [
    "score = model.evaluate(x_test, y_test)\n",
    "print('Test Loss:', score[0])\n",
    "print('Test accuracy:', score[1])"
   ]
  },
  {
   "cell_type": "code",
   "execution_count": 25,
   "metadata": {},
   "outputs": [
    {
     "name": "stdout",
     "output_type": "stream",
     "text": [
      "395/395 [==============================] - 1s 3ms/step\n",
      "{'0': {'precision': 0.998813338079981, 'recall': 0.9984578884934757, 'f1-score': 0.9986355816574717, 'support': 8430}, '1': {'precision': 0.9969069712110398, 'recall': 0.9976190476190476, 'f1-score': 0.9972628823039391, 'support': 4200}, 'accuracy': 0.998178939034046, 'macro avg': {'precision': 0.9978601546455104, 'recall': 0.9980384680562617, 'f1-score': 0.9979492319807054, 'support': 12630}, 'weighted avg': {'precision': 0.9981793918527797, 'recall': 0.998178939034046, 'f1-score': 0.9981791020624726, 'support': 12630}}\n"
     ]
    }
   ],
   "source": [
    "from sklearn.metrics import classification_report\n",
    "pred = model.predict(x_test).argmax(axis = 1)\n",
    "cr = classification_report(y_test.argmax(axis = 1) , pred , output_dict = True)\n",
    "print(cr)"
   ]
  },
  {
   "cell_type": "code",
   "execution_count": 26,
   "metadata": {
    "papermill": {
     "duration": 0.386123,
     "end_time": "2023-06-28T13:05:41.345123",
     "exception": true,
     "start_time": "2023-06-28T13:05:40.959000",
     "status": "failed"
    },
    "tags": []
   },
   "outputs": [],
   "source": [
    "model_save_dir = \"D:\\\\Project\\\\Traffic Sign Detection\\\\TrainedMOdel\\\\final\\\\new shape classifier\\\\shape_classifier_3_4_VS_cir_6_acc9983_36percent.h5\"  \n",
    "\n",
    "model.save(model_save_dir)"
   ]
  },
  {
   "cell_type": "code",
   "execution_count": null,
   "metadata": {
    "collapsed": true,
    "execution": {
     "iopub.execute_input": "2023-06-28T10:06:02.788436Z",
     "iopub.status.busy": "2023-06-28T10:06:02.788095Z",
     "iopub.status.idle": "2023-06-28T10:06:02.886060Z",
     "shell.execute_reply": "2023-06-28T10:06:02.880196Z",
     "shell.execute_reply.started": "2023-06-28T10:06:02.788400Z"
    },
    "jupyter": {
     "outputs_hidden": true
    },
    "papermill": {
     "duration": null,
     "end_time": null,
     "exception": null,
     "start_time": null,
     "status": "pending"
    },
    "tags": []
   },
   "outputs": [],
   "source": [
    "import joblib \n",
    "\n",
    "# save model with joblib \n",
    "filename = 'joblib_model.sav'\n",
    "joblib.dump(model, filename)"
   ]
  },
  {
   "cell_type": "code",
   "execution_count": null,
   "metadata": {
    "execution": {
     "iopub.execute_input": "2023-06-28T08:22:09.252294Z",
     "iopub.status.busy": "2023-06-28T08:22:09.251892Z",
     "iopub.status.idle": "2023-06-28T08:22:09.258700Z",
     "shell.execute_reply": "2023-06-28T08:22:09.257584Z",
     "shell.execute_reply.started": "2023-06-28T08:22:09.252257Z"
    },
    "papermill": {
     "duration": null,
     "end_time": null,
     "exception": null,
     "start_time": null,
     "status": "pending"
    },
    "tags": []
   },
   "outputs": [],
   "source": [
    "x_test[1].shape"
   ]
  },
  {
   "cell_type": "markdown",
   "metadata": {
    "papermill": {
     "duration": null,
     "end_time": null,
     "exception": null,
     "start_time": null,
     "status": "pending"
    },
    "tags": []
   },
   "source": [
    "## Hope you like it!"
   ]
  },
  {
   "cell_type": "code",
   "execution_count": null,
   "metadata": {
    "execution": {
     "iopub.execute_input": "2023-06-28T10:07:11.114174Z",
     "iopub.status.busy": "2023-06-28T10:07:11.113788Z",
     "iopub.status.idle": "2023-06-28T10:07:11.300419Z",
     "shell.execute_reply": "2023-06-28T10:07:11.297487Z",
     "shell.execute_reply.started": "2023-06-28T10:07:11.114138Z"
    },
    "papermill": {
     "duration": null,
     "end_time": null,
     "exception": null,
     "start_time": null,
     "status": "pending"
    },
    "tags": []
   },
   "outputs": [],
   "source": [
    "from matplotlib import pyplot as plt\n",
    "image = gray_test_imgs[5]#.transpose(2 , 0 ,1)\n",
    "# plt.imshow(image, cmap=plt.get_cmap('gray'))\n",
    "# plt.show()\n",
    "y = model.predict(image)\n",
    "print(y)"
   ]
  },
  {
   "cell_type": "code",
   "execution_count": null,
   "metadata": {
    "papermill": {
     "duration": null,
     "end_time": null,
     "exception": null,
     "start_time": null,
     "status": "pending"
    },
    "tags": []
   },
   "outputs": [],
   "source": []
  }
 ],
 "metadata": {
  "kernelspec": {
   "display_name": "Python 3 (ipykernel)",
   "language": "python",
   "name": "python3"
  },
  "language_info": {
   "codemirror_mode": {
    "name": "ipython",
    "version": 3
   },
   "file_extension": ".py",
   "mimetype": "text/x-python",
   "name": "python",
   "nbconvert_exporter": "python",
   "pygments_lexer": "ipython3",
   "version": "3.10.9"
  },
  "papermill": {
   "duration": 80.821842,
   "end_time": "2023-06-28T13:05:42.783021",
   "environment_variables": {},
   "exception": true,
   "input_path": "__notebook__.ipynb",
   "output_path": "__notebook__.ipynb",
   "parameters": {},
   "start_time": "2023-06-28T13:04:21.961179",
   "version": "2.1.0"
  }
 },
 "nbformat": 4,
 "nbformat_minor": 4
}
