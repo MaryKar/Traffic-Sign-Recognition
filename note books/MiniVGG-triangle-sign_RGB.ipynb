{
 "cells": [
  {
   "cell_type": "markdown",
   "metadata": {},
   "source": [
    "### Code Implementation"
   ]
  },
  {
   "cell_type": "code",
   "execution_count": 7,
   "metadata": {
    "tags": []
   },
   "outputs": [],
   "source": [
    "# Importing necessary libraries\n",
    "import keras\n",
    "from keras.datasets import mnist\n",
    "from keras.layers import Conv2D, MaxPooling2D\n",
    "from keras.layers import Dense, Flatten\n",
    "from keras.models import Sequential\n",
    "\n",
    "import pickle\n",
    "import numpy as np\n",
    "import cv2\n",
    "from matplotlib import pyplot as plt\n",
    "from sklearn.metrics import classification_report"
   ]
  },
  {
   "cell_type": "markdown",
   "metadata": {},
   "source": [
    "### Loading Dataset"
   ]
  },
  {
   "cell_type": "code",
   "execution_count": 2,
   "metadata": {},
   "outputs": [],
   "source": [
    "# # Loading the dataset and perform splitting\n",
    "# data_list = []\n",
    "# labels_list = []\n",
    "# classes_list = 43\n",
    "\n",
    "# imgs_path = \"../input/gtsrb-german-traffic-sign/Train\"\n",
    "# for i in range(classes_list):\n",
    "#     i_path = os.path.join(imgs_path, str(i)) #0-42\n",
    "#     for img in os.listdir(i_path):\n",
    "#         im = Image.open(i_path +'/'+ img)\n",
    "#         im = im.resize((32,32))\n",
    "#         im = np.array(im)\n",
    "#         data_list.append(im)\n",
    "#         labels_list.append(i)\n",
    "# data = np.array(data_list)\n",
    "# labels = np.array(labels_list)"
   ]
  },
  {
   "cell_type": "code",
   "execution_count": 8,
   "metadata": {
    "tags": []
   },
   "outputs": [],
   "source": [
    "# Opening file for reading in binary mode\n",
    "#- data3.pickle - Shuffling, /255.0 + Mean + STD Normalization\n",
    "with open('D:\\Project\\Traffic Sign Detection\\DATABASE/data3.pickle', 'rb') as f:\n",
    "    data = pickle.load(f, encoding='latin1')  # dictionary type\n",
    "    \n",
    "    \n",
    "# Making channels come at the end\n",
    "data['x_train'] = data['x_train'].transpose(0, 2, 3, 1)\n",
    "data['x_validation'] = data['x_validation'].transpose(0, 2, 3, 1)\n",
    "data['x_test'] = data['x_test'].transpose(0, 2, 3, 1)\n",
    "\n",
    "train_imgs = data['x_train']\n",
    "test_imgs = data['x_test']\n",
    "valid_imgs = data['x_validation']\n",
    "train_labels = data['y_train']\n",
    "test_labels = data['y_test']\n",
    "valid_labels = data['y_validation']"
   ]
  },
  {
   "cell_type": "code",
   "execution_count": 4,
   "metadata": {},
   "outputs": [
    {
     "data": {
      "text/plain": [
       "array([37, 27, 38, ..., 11, 14, 30], dtype=int64)"
      ]
     },
     "execution_count": 4,
     "metadata": {},
     "output_type": "execute_result"
    }
   ],
   "source": [
    "train_labels"
   ]
  },
  {
   "cell_type": "markdown",
   "metadata": {
    "execution": {
     "iopub.execute_input": "2023-07-03T08:12:55.581244Z",
     "iopub.status.busy": "2023-07-03T08:12:55.580875Z",
     "iopub.status.idle": "2023-07-03T08:12:55.588623Z",
     "shell.execute_reply": "2023-07-03T08:12:55.587576Z",
     "shell.execute_reply.started": "2023-07-03T08:12:55.581207Z"
    }
   },
   "source": [
    "def augment_brightness_camera_images(image):\n",
    "    image1 = cv2.cvtColor(image,cv2.COLOR_RGB2HSV)\n",
    "    plt.imshow(image1)\n",
    "    image1 = np.array(image1, dtype = np.float64)\n",
    "    random_bright = .5+np.random.uniform()\n",
    "    image1[:,:,2] = image1[:,:,2]*random_bright\n",
    "    image1[:,:,2][image1[:,:,2]>255]  = 255\n",
    "    image1 = np.array(image1, dtype = np.uint8)\n",
    "    image1 = cv2.cvtColor(image1,cv2.COLOR_HSV2RGB)\n",
    "    return image1"
   ]
  },
  {
   "cell_type": "markdown",
   "metadata": {
    "execution": {
     "iopub.execute_input": "2023-07-03T08:38:41.049467Z",
     "iopub.status.busy": "2023-07-03T08:38:41.049116Z",
     "iopub.status.idle": "2023-07-03T08:38:41.059062Z",
     "shell.execute_reply": "2023-07-03T08:38:41.057889Z",
     "shell.execute_reply.started": "2023-07-03T08:38:41.049439Z"
    }
   },
   "source": [
    "\n",
    "#new = augment_brightness_camera_images(image)\n",
    "new = preprocess_img(image)\n",
    "#plt.imshow(new)\n",
    "print(new.shape)\n",
    "print(cycle)"
   ]
  },
  {
   "cell_type": "code",
   "execution_count": 9,
   "metadata": {
    "tags": []
   },
   "outputs": [],
   "source": [
    "A = np.array(np.where(train_labels >= 18))\n",
    "A = np.concatenate((A ,np.where(train_labels == 13)), axis = 1)\n",
    "A = np.concatenate((A ,np.where(train_labels == 11)), axis = 1)\n",
    "B = np.array(np.where(train_labels > 31))\n",
    "indx = np.setdiff1d(A, B)\n",
    "\n",
    "A = np.array(np.where(test_labels >= 18)) \n",
    "A = np.concatenate((A ,np.where(test_labels == 13)), axis = 1)\n",
    "A = np.concatenate((A ,np.where(test_labels == 11)), axis = 1)\n",
    "B = np.array(np.where(test_labels > 31))\n",
    "indx1 = np.setdiff1d(A, B)\n",
    "\n",
    "A = np.array(np.where(valid_labels >= 18)) \n",
    "A = np.concatenate((A ,np.where(valid_labels == 13)), axis = 1)\n",
    "A = np.concatenate((A ,np.where(valid_labels == 11)), axis = 1)\n",
    "B = np.array(np.where(valid_labels > 31))\n",
    "indx2 = np.setdiff1d(A, B)\n",
    "\n",
    "tri_X_train = train_imgs[indx]\n",
    "tri_X_test = test_imgs[indx1]\n",
    "tri_X_valid = valid_imgs[indx2]\n",
    "tri_train_labels = train_labels[indx]\n",
    "tri_test_labels = test_labels[indx1]\n",
    "tri_valid_labels = valid_labels[indx2]"
   ]
  },
  {
   "cell_type": "code",
   "execution_count": 6,
   "metadata": {
    "execution": {
     "iopub.execute_input": "2023-07-13T16:11:28.106837Z",
     "iopub.status.busy": "2023-07-13T16:11:28.106323Z",
     "iopub.status.idle": "2023-07-13T16:11:28.115506Z",
     "shell.execute_reply": "2023-07-13T16:11:28.114439Z",
     "shell.execute_reply.started": "2023-07-13T16:11:28.106779Z"
    }
   },
   "outputs": [
    {
     "data": {
      "text/plain": [
       "(32368,)"
      ]
     },
     "execution_count": 6,
     "metadata": {},
     "output_type": "execute_result"
    }
   ],
   "source": [
    "tri_train_labels.shape"
   ]
  },
  {
   "cell_type": "code",
   "execution_count": 10,
   "metadata": {
    "tags": []
   },
   "outputs": [],
   "source": [
    "tri_Dict = {11:0 , 13:1 , 18:2 , 19:3 , 20:4 , 21:5 , 22:6 , 23:7 , 24:8 , 25:9 , 26:10 , 27:11 , 28:12 , 29:13 , 30:14 , 31:15 }\n",
    "tri_train_labels = np.vectorize(tri_Dict.get)(tri_train_labels)\n",
    "tri_test_labels = np.vectorize(tri_Dict.get)(tri_test_labels)\n",
    "tri_valid_labels = np.vectorize(tri_Dict.get)(tri_valid_labels)\n",
    "tri_num_class = 16"
   ]
  },
  {
   "cell_type": "code",
   "execution_count": 8,
   "metadata": {},
   "outputs": [
    {
     "data": {
      "text/plain": [
       "array([11, 12, 13, ...,  2,  0, 14])"
      ]
     },
     "execution_count": 8,
     "metadata": {},
     "output_type": "execute_result"
    }
   ],
   "source": [
    "tri_train_labels"
   ]
  },
  {
   "cell_type": "markdown",
   "metadata": {
    "execution": {
     "iopub.execute_input": "2023-07-03T08:31:25.503579Z",
     "iopub.status.busy": "2023-07-03T08:31:25.503146Z",
     "iopub.status.idle": "2023-07-03T08:31:26.034838Z",
     "shell.execute_reply": "2023-07-03T08:31:26.033867Z",
     "shell.execute_reply.started": "2023-07-03T08:31:25.503549Z"
    }
   },
   "source": [
    "from skimage import color, exposure, transform\n",
    "\n",
    "NUM_CLASSES = 43\n",
    "IMG_SIZE = 48\n",
    "\n",
    "def preprocess_img(img):\n",
    "    # Histogram normalization in v channel\n",
    "    hsv = color.rgb2hsv(img)\n",
    "    hsv[:,:,2] = exposure.equalize_hist(hsv[:,:,2])\n",
    "    img = color.hsv2rgb(hsv)\n",
    "\n",
    "#     # central square crop\n",
    "#     min_side = min(img.shape[:-1])\n",
    "#     centre = img.shape[0]//2, img.shape[1]//2\n",
    "#     img = img[centre[0]-min_side//2:centre[0]+min_side//2,\n",
    "#     centre[1]-min_side//2:centre[1]+min_side//2,\n",
    "#                   :]\n",
    "\n",
    "    # rescale to standard size\n",
    "    img = transform.resize(img, (IMG_SIZE, IMG_SIZE))\n",
    "\n",
    "    # roll color axis to axis 0\n",
    "    img = np.rollaxis(img,-1)\n",
    "\n",
    "    return img"
   ]
  },
  {
   "cell_type": "markdown",
   "metadata": {},
   "source": [
    "### Image Data Preprocessing"
   ]
  },
  {
   "cell_type": "code",
   "execution_count": 9,
   "metadata": {},
   "outputs": [
    {
     "data": {
      "text/plain": [
       "(32368, 32, 32, 3)"
      ]
     },
     "execution_count": 9,
     "metadata": {},
     "output_type": "execute_result"
    }
   ],
   "source": [
    "tri_X_train.shape"
   ]
  },
  {
   "cell_type": "code",
   "execution_count": 5,
   "metadata": {},
   "outputs": [],
   "source": []
  },
  {
   "cell_type": "code",
   "execution_count": 11,
   "metadata": {
    "tags": []
   },
   "outputs": [],
   "source": [
    "# Peforming reshaping operation\n",
    "# x_train = gray_train_imgs.reshape(gray_train_imgs.shape[0], 28, 28, 1)\n",
    "# x_test = gray_test_imgs.reshape(gray_test_imgs.shape[0], 28, 28, 1)\n",
    "\n",
    "x_train = tri_X_train\n",
    "x_test = tri_X_test\n",
    "x_valid = tri_X_valid\n",
    "\n",
    "# # Normalization\n",
    "# x_train = x_train / 255\n",
    "# x_test = x_test / 255\n",
    "\n",
    "num_class_shape = 16\n",
    "\n",
    "# One Hot Encoding\n",
    "y_train = keras.utils.to_categorical(tri_train_labels, 16)\n",
    "y_test = keras.utils.to_categorical(tri_test_labels, 16)\n",
    "y_valid = keras.utils.to_categorical(tri_valid_labels, 16)"
   ]
  },
  {
   "cell_type": "code",
   "execution_count": 46,
   "metadata": {
    "execution": {
     "iopub.execute_input": "2023-07-13T16:18:30.523999Z",
     "iopub.status.busy": "2023-07-13T16:18:30.523582Z",
     "iopub.status.idle": "2023-07-13T16:18:30.539562Z",
     "shell.execute_reply": "2023-07-13T16:18:30.538592Z",
     "shell.execute_reply.started": "2023-07-13T16:18:30.523965Z"
    }
   },
   "outputs": [],
   "source": [
    "keras.backend.clear_session()"
   ]
  },
  {
   "cell_type": "markdown",
   "metadata": {},
   "source": [
    "### LeNet Model Architecture"
   ]
  },
  {
   "cell_type": "code",
   "execution_count": 12,
   "metadata": {
    "tags": []
   },
   "outputs": [],
   "source": [
    "# Building the Model Architecture\n",
    "# model = Sequential()\n",
    "# model.add(Conv2D(6, kernel_size=(5, 5), activation='relu', input_shape=(32, 32, 3)))#************\n",
    "# model.add(MaxPooling2D(pool_size=(2, 2)))\n",
    "# model.add(Conv2D(16, kernel_size=(5, 5), activation='relu'))\n",
    "# model.add(MaxPooling2D(pool_size=(2, 2)))\n",
    "# model.add(Flatten())\n",
    "# model.add(Dense(120, activation='relu'))\n",
    "# model.add(Dense(84, activation='relu'))\n",
    "# model.add(Dense(16, activation='softmax'))#********************\n",
    "#Definition of the DNN model\n",
    "\n",
    "import tensorflow as tf\n",
    "from tensorflow import keras\n",
    "from tensorflow.keras.models import Sequential\n",
    "from tensorflow.keras.layers import BatchNormalization\n",
    "from tensorflow.keras.layers import Conv2D\n",
    "from tensorflow.keras.layers import MaxPooling2D\n",
    "from tensorflow.keras.layers import Activation\n",
    "from tensorflow.keras.layers import Flatten\n",
    "from tensorflow.keras.layers import Dropout\n",
    "from tensorflow.keras.layers import Dense\n",
    "from tensorflow.keras.optimizers import Adam\n",
    "from tensorflow.keras.regularizers import l2\n",
    "\n",
    "# model = Sequential()\n",
    "# model.add(Conv2D(filters=32, kernel_size=(5,5), activation='relu', input_shape=x_train.shape[1:]))\n",
    "# model.add(Conv2D(filters=64, kernel_size=(3, 3), activation='relu'))\n",
    "# model.add(MaxPool2D(pool_size=(2, 2)))\n",
    "# model.add(Dropout(rate=0.25))\n",
    "# model.add(Conv2D(filters=64, kernel_size=(3, 3), activation='relu'))\n",
    "# model.add(MaxPool2D(pool_size=(2, 2)))\n",
    "# model.add(Dropout(rate=0.25))\n",
    "# model.add(Flatten())\n",
    "# model.add(Dense(256, activation='relu'))\n",
    "# model.add(Dropout(rate=0.5))\n",
    "# model.add(Dense(16, activation='softmax'))\n",
    "\n",
    "\n",
    "model = keras.Sequential()\n",
    "chanDim = -1\n",
    "\n",
    "\n",
    "    # CONV => RELU => BN => POOL\n",
    "model.add(Conv2D(8, (5, 5), padding=\"same\", input_shape=(32,32,3)))\n",
    "model.add(Activation(\"relu\"))\n",
    "model.add(BatchNormalization(axis=chanDim))\n",
    "model.add(MaxPooling2D(pool_size=(2, 2)))\n",
    "model.add(Dropout(rate=0.25))\n",
    "\n",
    "    # first set of (CONV => RELU => CONV => RELU) * 2 => POOL\n",
    "model.add(Conv2D(16, (5, 5), padding=\"same\"))\n",
    "model.add(Activation(\"relu\"))\n",
    "model.add(BatchNormalization(axis=chanDim))\n",
    "model.add(Conv2D(16, (6, 6), padding=\"same\"))\n",
    "model.add(Activation(\"relu\"))\n",
    "model.add(BatchNormalization(axis=chanDim))\n",
    "model.add(MaxPooling2D(pool_size=(2, 2)))\n",
    "model.add(Dropout(rate=0.35))\n",
    "\n",
    "    # second set of (CONV => RELU => CONV => RELU) * 2 => POOL\n",
    "model.add(Conv2D(32, (8, 8), padding=\"same\"))\n",
    "model.add(Activation(\"relu\"))\n",
    "model.add(BatchNormalization(axis=chanDim))\n",
    "model.add(Conv2D(32, (8, 8), padding=\"same\"))\n",
    "model.add(Activation(\"relu\"))\n",
    "model.add(BatchNormalization(axis=chanDim))\n",
    "model.add(MaxPooling2D(pool_size=(2, 2)))\n",
    "model.add(Dropout(rate=0.45))\n",
    "\n",
    "    # first set of FC => RELU layers\n",
    "model.add(Flatten())\n",
    "model.add(Dense(128))\n",
    "model.add(Activation(\"relu\"))\n",
    "model.add(BatchNormalization())\n",
    "model.add(Dropout(0.5))\n",
    "\n",
    "    # second set of FC => RELU layers\n",
    "model.add(Flatten())\n",
    "model.add(Dense(128))\n",
    "model.add(Activation(\"relu\"))\n",
    "model.add(BatchNormalization())\n",
    "model.add(Dropout(0.5))\n",
    "\n",
    "    # softmax classifier\n",
    "model.add(Dense(16))\n",
    "model.add(Activation(\"softmax\"))\n"
   ]
  },
  {
   "cell_type": "code",
   "execution_count": 6,
   "metadata": {
    "tags": []
   },
   "outputs": [
    {
     "name": "stdout",
     "output_type": "stream",
     "text": [
      "Model: \"sequential\"\n",
      "_________________________________________________________________\n",
      " Layer (type)                Output Shape              Param #   \n",
      "=================================================================\n",
      " conv2d (Conv2D)             (None, 32, 32, 8)         608       \n",
      "                                                                 \n",
      " activation (Activation)     (None, 32, 32, 8)         0         \n",
      "                                                                 \n",
      " batch_normalization (BatchN  (None, 32, 32, 8)        32        \n",
      " ormalization)                                                   \n",
      "                                                                 \n",
      " max_pooling2d (MaxPooling2D  (None, 16, 16, 8)        0         \n",
      " )                                                               \n",
      "                                                                 \n",
      " dropout (Dropout)           (None, 16, 16, 8)         0         \n",
      "                                                                 \n",
      " conv2d_1 (Conv2D)           (None, 16, 16, 16)        3216      \n",
      "                                                                 \n",
      " activation_1 (Activation)   (None, 16, 16, 16)        0         \n",
      "                                                                 \n",
      " batch_normalization_1 (Batc  (None, 16, 16, 16)       64        \n",
      " hNormalization)                                                 \n",
      "                                                                 \n",
      " conv2d_2 (Conv2D)           (None, 16, 16, 16)        9232      \n",
      "                                                                 \n",
      " activation_2 (Activation)   (None, 16, 16, 16)        0         \n",
      "                                                                 \n",
      " batch_normalization_2 (Batc  (None, 16, 16, 16)       64        \n",
      " hNormalization)                                                 \n",
      "                                                                 \n",
      " max_pooling2d_1 (MaxPooling  (None, 8, 8, 16)         0         \n",
      " 2D)                                                             \n",
      "                                                                 \n",
      " dropout_1 (Dropout)         (None, 8, 8, 16)          0         \n",
      "                                                                 \n",
      " conv2d_3 (Conv2D)           (None, 8, 8, 32)          32800     \n",
      "                                                                 \n",
      " activation_3 (Activation)   (None, 8, 8, 32)          0         \n",
      "                                                                 \n",
      " batch_normalization_3 (Batc  (None, 8, 8, 32)         128       \n",
      " hNormalization)                                                 \n",
      "                                                                 \n",
      " conv2d_4 (Conv2D)           (None, 8, 8, 32)          65568     \n",
      "                                                                 \n",
      " activation_4 (Activation)   (None, 8, 8, 32)          0         \n",
      "                                                                 \n",
      " batch_normalization_4 (Batc  (None, 8, 8, 32)         128       \n",
      " hNormalization)                                                 \n",
      "                                                                 \n",
      " max_pooling2d_2 (MaxPooling  (None, 4, 4, 32)         0         \n",
      " 2D)                                                             \n",
      "                                                                 \n",
      " dropout_2 (Dropout)         (None, 4, 4, 32)          0         \n",
      "                                                                 \n",
      " flatten (Flatten)           (None, 512)               0         \n",
      "                                                                 \n",
      " dense (Dense)               (None, 128)               65664     \n",
      "                                                                 \n",
      " activation_5 (Activation)   (None, 128)               0         \n",
      "                                                                 \n",
      " batch_normalization_5 (Batc  (None, 128)              512       \n",
      " hNormalization)                                                 \n",
      "                                                                 \n",
      " dropout_3 (Dropout)         (None, 128)               0         \n",
      "                                                                 \n",
      " flatten_1 (Flatten)         (None, 128)               0         \n",
      "                                                                 \n",
      " dense_1 (Dense)             (None, 128)               16512     \n",
      "                                                                 \n",
      " activation_6 (Activation)   (None, 128)               0         \n",
      "                                                                 \n",
      " batch_normalization_6 (Batc  (None, 128)              512       \n",
      " hNormalization)                                                 \n",
      "                                                                 \n",
      " dropout_4 (Dropout)         (None, 128)               0         \n",
      "                                                                 \n",
      " dense_2 (Dense)             (None, 16)                2064      \n",
      "                                                                 \n",
      " activation_7 (Activation)   (None, 16)                0         \n",
      "                                                                 \n",
      "=================================================================\n",
      "Total params: 197,104\n",
      "Trainable params: 196,384\n",
      "Non-trainable params: 720\n",
      "_________________________________________________________________\n"
     ]
    }
   ],
   "source": [
    "model.summary()"
   ]
  },
  {
   "cell_type": "code",
   "execution_count": 15,
   "metadata": {
    "tags": []
   },
   "outputs": [
    {
     "ename": "ModuleNotFoundError",
     "evalue": "No module named 'visualkeras'",
     "output_type": "error",
     "traceback": [
      "\u001b[1;31m---------------------------------------------------------------------------\u001b[0m",
      "\u001b[1;31mModuleNotFoundError\u001b[0m                       Traceback (most recent call last)",
      "Cell \u001b[1;32mIn [15], line 1\u001b[0m\n\u001b[1;32m----> 1\u001b[0m \u001b[38;5;28;01mimport\u001b[39;00m \u001b[38;5;21;01mvisualkeras\u001b[39;00m\n\u001b[0;32m      2\u001b[0m visualkeras\u001b[38;5;241m.\u001b[39mlayered_view(model)\n",
      "\u001b[1;31mModuleNotFoundError\u001b[0m: No module named 'visualkeras'"
     ]
    }
   ],
   "source": [
    "import visualkeras\n",
    "visualkeras.layered_view(model)"
   ]
  },
  {
   "cell_type": "code",
   "execution_count": 13,
   "metadata": {
    "tags": []
   },
   "outputs": [],
   "source": [
    "model.compile(loss=keras.metrics.categorical_crossentropy, optimizer=keras.optimizers.Adam(), metrics=['accuracy'])"
   ]
  },
  {
   "cell_type": "code",
   "execution_count": 41,
   "metadata": {
    "execution": {
     "iopub.execute_input": "2023-07-13T16:18:37.205884Z",
     "iopub.status.busy": "2023-07-13T16:18:37.205490Z",
     "iopub.status.idle": "2023-07-13T16:18:37.211815Z",
     "shell.execute_reply": "2023-07-13T16:18:37.210462Z",
     "shell.execute_reply.started": "2023-07-13T16:18:37.205846Z"
    }
   },
   "outputs": [
    {
     "name": "stdout",
     "output_type": "stream",
     "text": [
      "(32368, 32, 32, 3) (3510, 32, 32, 3)\n"
     ]
    }
   ],
   "source": [
    "print(x_train.shape , x_test.shape)"
   ]
  },
  {
   "cell_type": "code",
   "execution_count": 14,
   "metadata": {
    "tags": []
   },
   "outputs": [
    {
     "name": "stdout",
     "output_type": "stream",
     "text": [
      "Epoch 1/50\n",
      "253/253 [==============================] - 15s 30ms/step - loss: 3.1106 - accuracy: 0.1215 - val_loss: 2.3055 - val_accuracy: 0.2419\n",
      "Epoch 2/50\n",
      "253/253 [==============================] - 6s 25ms/step - loss: 2.0088 - accuracy: 0.3531 - val_loss: 1.2597 - val_accuracy: 0.6147\n",
      "Epoch 3/50\n",
      "253/253 [==============================] - 6s 25ms/step - loss: 1.1576 - accuracy: 0.6267 - val_loss: 0.7337 - val_accuracy: 0.7946\n",
      "Epoch 4/50\n",
      "253/253 [==============================] - 6s 25ms/step - loss: 0.6962 - accuracy: 0.7830 - val_loss: 0.5435 - val_accuracy: 0.8581\n",
      "Epoch 5/50\n",
      "253/253 [==============================] - 6s 25ms/step - loss: 0.4854 - accuracy: 0.8545 - val_loss: 0.4266 - val_accuracy: 0.8907\n",
      "Epoch 6/50\n",
      "253/253 [==============================] - 6s 26ms/step - loss: 0.3621 - accuracy: 0.8916 - val_loss: 0.3392 - val_accuracy: 0.9163\n",
      "Epoch 7/50\n",
      "253/253 [==============================] - 6s 25ms/step - loss: 0.2879 - accuracy: 0.9130 - val_loss: 0.3372 - val_accuracy: 0.9202\n",
      "Epoch 8/50\n",
      "253/253 [==============================] - 6s 25ms/step - loss: 0.2460 - accuracy: 0.9264 - val_loss: 0.3674 - val_accuracy: 0.9078\n",
      "Epoch 9/50\n",
      "253/253 [==============================] - 6s 25ms/step - loss: 0.2144 - accuracy: 0.9376 - val_loss: 0.3519 - val_accuracy: 0.9147\n",
      "Epoch 10/50\n",
      "253/253 [==============================] - 6s 25ms/step - loss: 0.1858 - accuracy: 0.9444 - val_loss: 0.3473 - val_accuracy: 0.9209\n",
      "Epoch 11/50\n",
      "253/253 [==============================] - 6s 25ms/step - loss: 0.1720 - accuracy: 0.9495 - val_loss: 0.3032 - val_accuracy: 0.9310\n",
      "Epoch 12/50\n",
      "253/253 [==============================] - 6s 25ms/step - loss: 0.1563 - accuracy: 0.9534 - val_loss: 0.2884 - val_accuracy: 0.9380\n",
      "Epoch 13/50\n",
      "253/253 [==============================] - 6s 25ms/step - loss: 0.1435 - accuracy: 0.9572 - val_loss: 0.2935 - val_accuracy: 0.9326\n",
      "Epoch 14/50\n",
      "253/253 [==============================] - 6s 25ms/step - loss: 0.1346 - accuracy: 0.9601 - val_loss: 0.2722 - val_accuracy: 0.9419\n",
      "Epoch 15/50\n",
      "253/253 [==============================] - 6s 25ms/step - loss: 0.1230 - accuracy: 0.9641 - val_loss: 0.2414 - val_accuracy: 0.9496\n",
      "Epoch 16/50\n",
      "253/253 [==============================] - 6s 25ms/step - loss: 0.1178 - accuracy: 0.9655 - val_loss: 0.2497 - val_accuracy: 0.9488\n",
      "Epoch 17/50\n",
      "253/253 [==============================] - 6s 25ms/step - loss: 0.1089 - accuracy: 0.9671 - val_loss: 0.2968 - val_accuracy: 0.9395\n",
      "Epoch 18/50\n",
      "253/253 [==============================] - 6s 25ms/step - loss: 0.1072 - accuracy: 0.9690 - val_loss: 0.3478 - val_accuracy: 0.9264\n",
      "Epoch 19/50\n",
      "253/253 [==============================] - 6s 25ms/step - loss: 0.1087 - accuracy: 0.9679 - val_loss: 0.2572 - val_accuracy: 0.9403\n",
      "Epoch 20/50\n",
      "253/253 [==============================] - 6s 25ms/step - loss: 0.0960 - accuracy: 0.9711 - val_loss: 0.3038 - val_accuracy: 0.9388\n",
      "Epoch 21/50\n",
      "253/253 [==============================] - 6s 25ms/step - loss: 0.0971 - accuracy: 0.9709 - val_loss: 0.3043 - val_accuracy: 0.9341\n",
      "Epoch 22/50\n",
      "253/253 [==============================] - 6s 24ms/step - loss: 0.0874 - accuracy: 0.9748 - val_loss: 0.2259 - val_accuracy: 0.9566\n",
      "Epoch 23/50\n",
      "253/253 [==============================] - 6s 25ms/step - loss: 0.0860 - accuracy: 0.9747 - val_loss: 0.2986 - val_accuracy: 0.9380\n",
      "Epoch 24/50\n",
      "253/253 [==============================] - 6s 25ms/step - loss: 0.0861 - accuracy: 0.9746 - val_loss: 0.2146 - val_accuracy: 0.9566\n",
      "Epoch 25/50\n",
      "253/253 [==============================] - 6s 25ms/step - loss: 0.0814 - accuracy: 0.9761 - val_loss: 0.2963 - val_accuracy: 0.9411\n",
      "Epoch 26/50\n",
      "253/253 [==============================] - 6s 25ms/step - loss: 0.0781 - accuracy: 0.9772 - val_loss: 0.2371 - val_accuracy: 0.9465\n",
      "Epoch 27/50\n",
      "253/253 [==============================] - 6s 26ms/step - loss: 0.0805 - accuracy: 0.9766 - val_loss: 0.2274 - val_accuracy: 0.9519\n",
      "Epoch 28/50\n",
      "253/253 [==============================] - 6s 25ms/step - loss: 0.0709 - accuracy: 0.9789 - val_loss: 0.2745 - val_accuracy: 0.9434\n",
      "Epoch 29/50\n",
      "253/253 [==============================] - 6s 25ms/step - loss: 0.0683 - accuracy: 0.9804 - val_loss: 0.2362 - val_accuracy: 0.9488\n",
      "Epoch 30/50\n",
      "253/253 [==============================] - 6s 25ms/step - loss: 0.0702 - accuracy: 0.9790 - val_loss: 0.2797 - val_accuracy: 0.9465\n",
      "Epoch 31/50\n",
      "253/253 [==============================] - 6s 25ms/step - loss: 0.0636 - accuracy: 0.9808 - val_loss: 0.2818 - val_accuracy: 0.9504\n",
      "Epoch 32/50\n",
      "253/253 [==============================] - 6s 25ms/step - loss: 0.0622 - accuracy: 0.9814 - val_loss: 0.2107 - val_accuracy: 0.9558\n",
      "Epoch 33/50\n",
      "253/253 [==============================] - 6s 25ms/step - loss: 0.0673 - accuracy: 0.9800 - val_loss: 0.2410 - val_accuracy: 0.9535\n",
      "Epoch 34/50\n",
      "253/253 [==============================] - 6s 25ms/step - loss: 0.0567 - accuracy: 0.9832 - val_loss: 0.2354 - val_accuracy: 0.9558\n",
      "Epoch 35/50\n",
      "253/253 [==============================] - 6s 25ms/step - loss: 0.0651 - accuracy: 0.9807 - val_loss: 0.2163 - val_accuracy: 0.9566\n",
      "Epoch 36/50\n",
      "253/253 [==============================] - 7s 26ms/step - loss: 0.0648 - accuracy: 0.9811 - val_loss: 0.2029 - val_accuracy: 0.9651\n",
      "Epoch 37/50\n",
      "253/253 [==============================] - 7s 26ms/step - loss: 0.0549 - accuracy: 0.9835 - val_loss: 0.1973 - val_accuracy: 0.9620\n",
      "Epoch 38/50\n",
      "253/253 [==============================] - 7s 26ms/step - loss: 0.0563 - accuracy: 0.9833 - val_loss: 0.2995 - val_accuracy: 0.9465\n",
      "Epoch 39/50\n",
      "253/253 [==============================] - 7s 26ms/step - loss: 0.0572 - accuracy: 0.9834 - val_loss: 0.2386 - val_accuracy: 0.9597\n",
      "Epoch 40/50\n",
      "253/253 [==============================] - 7s 26ms/step - loss: 0.0528 - accuracy: 0.9847 - val_loss: 0.2240 - val_accuracy: 0.9488\n",
      "Epoch 41/50\n",
      "253/253 [==============================] - 7s 26ms/step - loss: 0.0535 - accuracy: 0.9846 - val_loss: 0.2032 - val_accuracy: 0.9628\n",
      "Epoch 42/50\n",
      "253/253 [==============================] - 7s 26ms/step - loss: 0.0542 - accuracy: 0.9843 - val_loss: 0.2668 - val_accuracy: 0.9457\n",
      "Epoch 43/50\n",
      "253/253 [==============================] - 6s 26ms/step - loss: 0.0526 - accuracy: 0.9843 - val_loss: 0.2283 - val_accuracy: 0.9558\n",
      "Epoch 44/50\n",
      "253/253 [==============================] - 6s 26ms/step - loss: 0.0485 - accuracy: 0.9854 - val_loss: 0.2357 - val_accuracy: 0.9543\n",
      "Epoch 45/50\n",
      "253/253 [==============================] - 7s 26ms/step - loss: 0.0446 - accuracy: 0.9859 - val_loss: 0.2349 - val_accuracy: 0.9558\n",
      "Epoch 46/50\n",
      "253/253 [==============================] - 6s 26ms/step - loss: 0.0476 - accuracy: 0.9856 - val_loss: 0.2229 - val_accuracy: 0.9566\n",
      "Epoch 47/50\n",
      "253/253 [==============================] - 7s 26ms/step - loss: 0.0495 - accuracy: 0.9852 - val_loss: 0.2149 - val_accuracy: 0.9581\n",
      "Epoch 48/50\n",
      "253/253 [==============================] - 7s 26ms/step - loss: 0.0484 - accuracy: 0.9850 - val_loss: 0.2396 - val_accuracy: 0.9605\n",
      "Epoch 49/50\n",
      "253/253 [==============================] - 7s 26ms/step - loss: 0.0450 - accuracy: 0.9866 - val_loss: 0.2741 - val_accuracy: 0.9473\n",
      "Epoch 50/50\n",
      "253/253 [==============================] - 6s 26ms/step - loss: 0.0432 - accuracy: 0.9868 - val_loss: 0.1793 - val_accuracy: 0.9628\n"
     ]
    }
   ],
   "source": [
    "hist = model.fit(x_train, y_train, batch_size=128, epochs=50, verbose=1, validation_data=(x_valid, y_valid))"
   ]
  },
  {
   "cell_type": "code",
   "execution_count": null,
   "metadata": {},
   "outputs": [],
   "source": [
    "score = model.evaluate(x_test, y_test)\n",
    "print('Test Loss:', score[0])\n",
    "print('Test accuracy:', score[1])"
   ]
  },
  {
   "cell_type": "code",
   "execution_count": 52,
   "metadata": {},
   "outputs": [
    {
     "data": {
      "text/plain": [
       "197104"
      ]
     },
     "execution_count": 52,
     "metadata": {},
     "output_type": "execute_result"
    }
   ],
   "source": [
    "model.count_params()"
   ]
  },
  {
   "cell_type": "code",
   "execution_count": 25,
   "metadata": {},
   "outputs": [],
   "source": [
    "def classifiy(pred ):\n",
    "    n = pred.shape[0]\n",
    "    nc = pred.shape[1]\n",
    "    new_cy_y = np.zeros((n))\n",
    "    for i in range(0 ,nc):\n",
    "        cycle_indx = np.where(pred[:,i] == 1)\n",
    "        new_cy_y[cycle_indx] = i\n",
    "    return new_cy_y"
   ]
  },
  {
   "cell_type": "code",
   "execution_count": null,
   "metadata": {},
   "outputs": [],
   "source": [
    "pred = model.predict(x_test)\n",
    "cr = classification_report(classifiy(pred) , classifiy(y_test))\n",
    "print(cr)"
   ]
  },
  {
   "cell_type": "code",
   "execution_count": 32,
   "metadata": {
    "execution": {
     "iopub.execute_input": "2023-07-13T16:15:58.783276Z",
     "iopub.status.busy": "2023-07-13T16:15:58.782916Z",
     "iopub.status.idle": "2023-07-13T16:15:58.836247Z",
     "shell.execute_reply": "2023-07-13T16:15:58.835263Z",
     "shell.execute_reply.started": "2023-07-13T16:15:58.783243Z"
    },
    "scrolled": true
   },
   "outputs": [],
   "source": [
    "model_pkl_file = \"D:\\Project\\Traffic Sign Detection\\TrainedMOdel\\final\\tri_classifier_model_acc75.h5\"\n",
    "model.save(model_pkl_file)\n"
   ]
  },
  {
   "cell_type": "code",
   "execution_count": 31,
   "metadata": {
    "execution": {
     "iopub.execute_input": "2023-07-13T16:11:38.267217Z",
     "iopub.status.busy": "2023-07-13T16:11:38.266860Z",
     "iopub.status.idle": "2023-07-13T16:11:44.427680Z",
     "shell.execute_reply": "2023-07-13T16:11:44.426710Z",
     "shell.execute_reply.started": "2023-07-13T16:11:38.267187Z"
    }
   },
   "outputs": [
    {
     "name": "stdout",
     "output_type": "stream",
     "text": [
      "110/110 [==============================] - 1s 9ms/step - loss: 320.6290 - accuracy: 0.1197\n",
      "Test Loss: 320.62896728515625\n",
      "Test accuracy: 0.11965811997652054\n"
     ]
    }
   ],
   "source": [
    "from keras.models import load_model\n",
    "\n",
    "model = load_model(\"D:\\\\Project\\\\Traffic Sign Detection\\\\TrainedMOdel\\\\final\\\\tri_classifier_model_acc96.h5\")\n",
    "\n",
    "score = model.evaluate(x_test, y_test)\n",
    "print('Test Loss:', score[0])\n",
    "print('Test accuracy:', score[1])"
   ]
  },
  {
   "cell_type": "code",
   "execution_count": 17,
   "metadata": {
    "tags": []
   },
   "outputs": [
    {
     "data": {
      "image/png": "[encoded data removed]",
      "text/plain": [
       "<Figure size 640x480 with 1 Axes>"
      ]
     },
     "metadata": {},
     "output_type": "display_data"
    }
   ],
   "source": [
    "history = hist\n",
    "plt.plot(history.history['accuracy'])\n",
    "plt.plot(history.history['val_accuracy'])\n",
    "plt.title('model accuracy')\n",
    "plt.ylabel('accuracy')\n",
    "plt.xlabel('epoch')\n",
    "plt.legend(['train', 'val'], loc='upper left')\n",
    "plt.show()"
   ]
  },
  {
   "cell_type": "code",
   "execution_count": 18,
   "metadata": {
    "tags": []
   },
   "outputs": [
    {
     "data": {
      "image/png": "[encoded data removed]",
      "text/plain": [
       "<Figure size 640x480 with 1 Axes>"
      ]
     },
     "metadata": {},
     "output_type": "display_data"
    }
   ],
   "source": [
    "plt.plot(history.history['loss'])\n",
    "plt.plot(history.history['val_loss'])\n",
    "plt.title('model loss')\n",
    "plt.ylabel('loss')\n",
    "plt.xlabel('epoch')\n",
    "plt.legend(['train', 'val'], loc='upper left')\n",
    "plt.show()"
   ]
  },
  {
   "cell_type": "markdown",
   "metadata": {},
   "source": [
    "## Hope you like it!"
   ]
  },
  {
   "cell_type": "code",
   "execution_count": 18,
   "metadata": {},
   "outputs": [
    {
     "name": "stderr",
     "output_type": "stream",
     "text": [
      "Clipping input data to the valid range for imshow with RGB data ([0..1] for floats or [0..255] for integers).\n"
     ]
    },
    {
     "data": {
      "image/png": "[encoded data removed]",
      "text/plain": [
       "<Figure size 640x480 with 1 Axes>"
      ]
     },
     "metadata": {},
     "output_type": "display_data"
    },
    {
     "name": "stdout",
     "output_type": "stream",
     "text": [
      "1/1 [==============================] - 1s 955ms/step\n",
      "[0 0 0 0 0 0 0 0 0 0 0 0 0 0 0 1]\n",
      "[[0. 0. 0. 0. 0. 0. 0. 0. 0. 0. 0. 0. 0. 0. 0. 1.]]\n"
     ]
    }
   ],
   "source": [
    "from matplotlib import pyplot as plt\n",
    "image = x_train[65:66,:,:]#.transpose(2 , 0 ,1)\n",
    "plt.imshow(image[0].reshape((32,32,3)))\n",
    "plt.show()\n",
    "#y = model.predict_classes(image)\n",
    "y = (model.predict(image) > 0.5).astype(\"int32\")\n",
    "print(y[0])\n",
    "print(y_train[65:66])"
   ]
  },
  {
   "cell_type": "code",
   "execution_count": 19,
   "metadata": {},
   "outputs": [
    {
     "ename": "ValueError",
     "evalue": "cannot reshape array of size 3072 into shape (32,32)",
     "output_type": "error",
     "traceback": [
      "\u001b[1;31m---------------------------------------------------------------------------\u001b[0m",
      "\u001b[1;31mValueError\u001b[0m                                Traceback (most recent call last)",
      "Cell \u001b[1;32mIn [19], line 1\u001b[0m\n\u001b[1;32m----> 1\u001b[0m \u001b[43mimage\u001b[49m\u001b[43m[\u001b[49m\u001b[38;5;241;43m0\u001b[39;49m\u001b[43m]\u001b[49m\u001b[38;5;241;43m.\u001b[39;49m\u001b[43mreshape\u001b[49m\u001b[43m(\u001b[49m\u001b[43m(\u001b[49m\u001b[38;5;241;43m32\u001b[39;49m\u001b[43m,\u001b[49m\u001b[38;5;241;43m32\u001b[39;49m\u001b[43m)\u001b[49m\u001b[43m)\u001b[49m\u001b[38;5;241m.\u001b[39mshape\n",
      "\u001b[1;31mValueError\u001b[0m: cannot reshape array of size 3072 into shape (32,32)"
     ]
    }
   ],
   "source": []
  },
  {
   "cell_type": "code",
   "execution_count": null,
   "metadata": {},
   "outputs": [],
   "source": [
    "import numpy\n",
    "x = numpy.where(gray_train_labels == 2)"
   ]
  },
  {
   "cell_type": "code",
   "execution_count": null,
   "metadata": {},
   "outputs": [],
   "source": []
  }
 ],
 "metadata": {
  "kernelspec": {
   "display_name": "Python 3 (ipykernel)",
   "language": "python",
   "name": "python3"
  },
  "language_info": {
   "codemirror_mode": {
    "name": "ipython",
    "version": 3
   },
   "file_extension": ".py",
   "mimetype": "text/x-python",
   "name": "python",
   "nbconvert_exporter": "python",
   "pygments_lexer": "ipython3",
   "version": "3.10.9"
  }
 },
 "nbformat": 4,
 "nbformat_minor": 4
}
