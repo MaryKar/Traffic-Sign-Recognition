{
 "cells": [
  {
   "cell_type": "markdown",
   "metadata": {},
   "source": [
    "# *Traffic Sign Recognizer - 99% accuracy*"
   ]
  },
  {
   "cell_type": "markdown",
   "metadata": {},
   "source": [
    "## Importing Required Libraries"
   ]
  },
  {
   "cell_type": "code",
   "execution_count": 1,
   "metadata": {
    "_cell_guid": "b1076dfc-b9ad-4769-8c92-a6c4dae69d19",
    "_uuid": "8f2839f25d086af736a60e9eeb907d3b93b6e0e5",
    "tags": []
   },
   "outputs": [],
   "source": [
    "import numpy as np\n",
    "import pandas as pd\n",
    "import os\n",
    "import cv2\n",
    "import matplotlib.pyplot as plt\n",
    "import tensorflow as tf\n",
    "from tensorflow import keras\n",
    "from PIL import Image\n",
    "from sklearn.model_selection import train_test_split\n",
    "from tensorflow.keras.preprocessing.image import ImageDataGenerator\n",
    "from tensorflow.keras.optimizers import Adam\n",
    "from sklearn.metrics import classification_report\n",
    "from sklearn.metrics import accuracy_score\n",
    "from keras.models import load_model\n",
    "from sklearn.metrics import confusion_matrix\n",
    "from sklearn import metrics\n",
    "np.random.seed(42)\n",
    "\n",
    "from matplotlib import style\n",
    "style.use('fivethirtyeight')"
   ]
  },
  {
   "cell_type": "markdown",
   "metadata": {},
   "source": [
    "## Assigning Path for Dataset"
   ]
  },
  {
   "cell_type": "code",
   "execution_count": null,
   "metadata": {},
   "outputs": [],
   "source": []
  },
  {
   "cell_type": "code",
   "execution_count": 2,
   "metadata": {
    "tags": []
   },
   "outputs": [],
   "source": [
    "# data_dir = '../input/gtsrb-german-traffic-sign'\n",
    "# train_path = '../input/gtsrb-german-traffic-sign/Train'\n",
    "# test_path = '../input/gtsrb-german-traffic-sign/'\n",
    "\n",
    "# Resizing the images to 32x32x3\n",
    "IMG_HEIGHT = 32\n",
    "IMG_WIDTH = 32\n",
    "channels = 3"
   ]
  },
  {
   "cell_type": "markdown",
   "metadata": {},
   "source": [
    "## Finding Total Classes"
   ]
  },
  {
   "cell_type": "markdown",
   "metadata": {},
   "source": [
    "## Collecting the Training Data"
   ]
  },
  {
   "cell_type": "code",
   "execution_count": 3,
   "metadata": {
    "tags": []
   },
   "outputs": [],
   "source": [
    "# Opening file for reading in binary mode\n",
    "import pickle\n",
    "with open('D:\\Project\\Traffic Sign Detection\\DATABASE/data3.pickle', 'rb') as f:\n",
    "    image_data = pickle.load(f, encoding='latin1')  # dictionary type\n",
    "    \n",
    "    \n",
    "# Making channels come at the end\n",
    "image_data['x_train'] = image_data['x_train'].transpose(0, 2, 3, 1)\n",
    "image_data['x_validation'] = image_data['x_validation'].transpose(0, 2, 3, 1)\n",
    "image_data['x_test'] = image_data['x_test'].transpose(0, 2, 3, 1)\n",
    "\n",
    "X_train = image_data['x_train']\n",
    "X_test = image_data['x_test']\n",
    "X_valid = image_data['x_validation']\n",
    "y_train = image_data['y_train']\n",
    "y_test = image_data['y_test']\n",
    "y_valid = image_data['y_validation']"
   ]
  },
  {
   "cell_type": "code",
   "execution_count": 4,
   "metadata": {
    "tags": []
   },
   "outputs": [],
   "source": [
    "with open('D:\\Project\\Traffic Sign Detection\\DATABASE/data8.pickle', 'rb') as f:\n",
    "    gray_data = pickle.load(f, encoding='latin1')  # dictionary type\n",
    "    \n",
    "    \n",
    "# Making channels come at the end\n",
    "gray_data['x_train'] = gray_data['x_train'].transpose(0, 2, 3, 1)\n",
    "gray_data['x_validation'] = gray_data['x_validation'].transpose(0, 2, 3, 1)\n",
    "gray_data['x_test'] = gray_data['x_test'].transpose(0, 2, 3, 1)\n",
    "\n",
    "gray_train_imgs = gray_data['x_train']\n",
    "gray_test_imgs = gray_data['x_test']\n",
    "gray_valid_imgs = gray_data['x_validation']\n",
    "gray_train_labels = gray_data['y_train']\n",
    "gray_test_labels = gray_data['y_test']\n",
    "gray_valid_labels = gray_data['y_validation']"
   ]
  },
  {
   "cell_type": "code",
   "execution_count": 5,
   "metadata": {
    "tags": []
   },
   "outputs": [],
   "source": [
    "# gray_train_labels[gray_train_labels <= 10] = 0 #cycle\n",
    "# gray_train_labels[gray_train_labels >= 32] = 0 #cycle\n",
    "# gray_train_labels[(gray_train_labels == 15) |(gray_train_labels == 16)| (gray_train_labels ==17)] = 0 #cycle\n",
    "# gray_train_labels[(gray_train_labels >= 18) & (gray_train_labels <= 31)] = 1 #triangle\n",
    "# gray_train_labels[(gray_train_labels == 13) | (gray_train_labels == 11)] = 1 #triangle\n",
    "# gray_train_labels[gray_train_labels == 14] = 2 # 6\n",
    "# gray_train_labels[gray_train_labels == 12] = 3 # 4\n",
    "\n",
    "\n",
    "gray_test_labels[gray_test_labels <= 10] = 0 #cycle\n",
    "gray_test_labels[gray_test_labels >= 32] = 0 #cycle\n",
    "gray_test_labels[(gray_test_labels == 15) |(gray_test_labels == 16)| (gray_test_labels ==17)] = 0 #cycle\n",
    "gray_test_labels[(gray_test_labels >= 18) & (gray_test_labels <= 31)] = 1 #triangle\n",
    "gray_test_labels[(gray_test_labels == 13) | (gray_test_labels == 11)] = 1 #triangle\n",
    "gray_test_labels[gray_test_labels == 14] = 2 # 6\n",
    "gray_test_labels[gray_test_labels == 12] = 3 # 4\n",
    "\n",
    "# gray_valid_labels[gray_valid_labels <= 10] = 0 #cycle\n",
    "# gray_valid_labels[gray_valid_labels >= 32] = 0 #cycle\n",
    "# gray_valid_labels[(gray_valid_labels == 15) |(gray_valid_labels == 16)| (gray_valid_labels ==17)] = 0 #cycle\n",
    "# gray_valid_labels[(gray_valid_labels >= 18) & (gray_valid_labels <= 31)] = 1 #triangle\n",
    "# gray_valid_labels[(gray_valid_labels == 13) | (gray_valid_labels == 11)] = 1 #triangle\n",
    "# gray_valid_labels[gray_valid_labels == 14] = 2 # 6\n",
    "# gray_valid_labels[gray_valid_labels == 12] = 3 # 4"
   ]
  },
  {
   "cell_type": "code",
   "execution_count": 6,
   "metadata": {
    "tags": []
   },
   "outputs": [],
   "source": [
    "# gray_x_train = gray_train_imgs\n",
    "gray_x_test = gray_test_imgs\n",
    "# gray_x_valid = gray_valid_imgs\n",
    "\n",
    "# # Normalization\n",
    "# x_train = x_train / 255\n",
    "# x_test = x_test / 255\n",
    "\n",
    "num_class_shape = 4\n",
    "\n",
    "# One Hot Encoding\n",
    "# gray_y_train = keras.utils.to_categorical(gray_train_labels, num_class_shape)\n",
    "gray_y_test = keras.utils.to_categorical(gray_test_labels, num_class_shape)\n",
    "# gray_y_valid = keras.utils.to_categorical(gray_valid_labels, num_class_shape)"
   ]
  },
  {
   "cell_type": "code",
   "execution_count": 7,
   "metadata": {
    "tags": []
   },
   "outputs": [],
   "source": [
    "y_test = image_data['y_test']\n"
   ]
  },
  {
   "cell_type": "code",
   "execution_count": 8,
   "metadata": {
    "tags": []
   },
   "outputs": [],
   "source": [
    "tri_Dict = {0:11 , 1:13 , 2:18 , 3:19 , 4:20 , 5:21 , 6:22 , 7:23 , 8:24 , 9:25 , 10:26 , 11:27 , 12:28 , 13:29 , 14:30 , 15:31 }\n"
   ]
  },
  {
   "cell_type": "code",
   "execution_count": 9,
   "metadata": {
    "tags": []
   },
   "outputs": [],
   "source": [
    "cy_Dict = {0:0 ,1:1 ,2:2, 3:3 , 4:4 , 5:5 , 6:6 , 7:7 , 8:8 , 9:9 ,10:10 ,11:15 , 12:16 , 13:17 , 14:32 , 15:33 , 16:34 , 17:35 , 18:36 , 19:37 , 20:38 , 21:39 , 22:40 , 23:41 , 24:42 }\n",
    "\n"
   ]
  },
  {
   "cell_type": "markdown",
   "metadata": {},
   "source": [
    "## Ensemble Model"
   ]
  },
  {
   "cell_type": "code",
   "execution_count": 10,
   "metadata": {
    "tags": []
   },
   "outputs": [],
   "source": [
    "cy_model = load_model('D:\\\\Project\\\\Traffic Sign Detection\\\\TrainedMOdel\\\\final\\\\circle_classifier_model_36per_train_data98.h5')\n",
    "tri_model = load_model('D:\\\\Project\\\\Traffic Sign Detection\\\\TrainedMOdel\\\\final\\\\tri_classifier_model_36per_train_data96.h5')\n",
    "shape_classifier = load_model( \"D:\\\\Project\\\\Traffic Sign Detection\\\\TrainedMOdel\\\\final\\\\shape_classifier_model_36per_train_data.h5\")"
   ]
  },
  {
   "cell_type": "code",
   "execution_count": 11,
   "metadata": {
    "tags": []
   },
   "outputs": [
    {
     "name": "stdout",
     "output_type": "stream",
     "text": [
      "395/395 [==============================] - 4s 5ms/step - loss: 0.0350 - accuracy: 0.9946\n"
     ]
    },
    {
     "data": {
      "text/plain": [
       "[0.034964658319950104, 0.9946159720420837]"
      ]
     },
     "execution_count": 11,
     "metadata": {},
     "output_type": "execute_result"
    }
   ],
   "source": [
    "shape_classifier.evaluate(gray_x_test , gray_y_test)"
   ]
  },
  {
   "cell_type": "code",
   "execution_count": 12,
   "metadata": {
    "tags": []
   },
   "outputs": [
    {
     "name": "stdout",
     "output_type": "stream",
     "text": [
      "395/395 [==============================] - 1s 3ms/step\n"
     ]
    }
   ],
   "source": [
    "predictions = shape_classifier.predict(gray_x_test)\n",
    "predictions = (predictions > 0.5).astype(\"int32\")\n"
   ]
  },
  {
   "cell_type": "code",
   "execution_count": 13,
   "metadata": {},
   "outputs": [
    {
     "name": "stdout",
     "output_type": "stream",
     "text": [
      "256/256 [==============================] - 1s 4ms/step\n",
      "110/110 [==============================] - 0s 4ms/step\n"
     ]
    }
   ],
   "source": [
    "pred = np.zeros((y_test.shape))\n",
    "cir_indx = np.where(predictions[:,0] == 1)\n",
    "cir_pred = cy_model.predict(X_test[cir_indx]).argmax(axis=-1)\n",
    "cir_pred = np.vectorize(cy_Dict.get)(cir_pred)\n",
    "pred[cir_indx] = cir_pred\n",
    "\n",
    "tri_indx = np.where(predictions[:,1] == 1)\n",
    "tri_pred = tri_model.predict(X_test[tri_indx]).argmax(axis=-1)\n",
    "tri_pred = np.vectorize(tri_Dict.get)(tri_pred)\n",
    "pred[tri_indx] = tri_pred\n",
    "for i , j in [12 , 3] , [14 , 2]:\n",
    "    rec_indx = np.where(predictions[:,j] == 1)\n",
    "    pred[rec_indx] = i"
   ]
  },
  {
   "cell_type": "code",
   "execution_count": 14,
   "metadata": {},
   "outputs": [
    {
     "data": {
      "text/plain": [
       "0.971021377672209"
      ]
     },
     "execution_count": 14,
     "metadata": {},
     "output_type": "execute_result"
    }
   ],
   "source": [
    "metrics.accuracy_score(y_test, pred)"
   ]
  },
  {
   "cell_type": "code",
   "execution_count": 15,
   "metadata": {
    "tags": []
   },
   "outputs": [
    {
     "name": "stdout",
     "output_type": "stream",
     "text": [
      "              precision    recall  f1-score   support\n",
      "\n",
      "           0       1.00      1.00      1.00        60\n",
      "           1       0.98      0.98      0.98       720\n",
      "           2       0.96      0.99      0.98       750\n",
      "           3       0.96      0.97      0.97       450\n",
      "           4       1.00      0.97      0.98       660\n",
      "           5       0.96      0.96      0.96       630\n",
      "           6       1.00      0.86      0.92       150\n",
      "           7       0.98      0.97      0.97       450\n",
      "           8       0.93      0.99      0.96       450\n",
      "           9       0.97      1.00      0.99       480\n",
      "          10       0.99      0.97      0.98       660\n",
      "          11       0.97      0.98      0.98       420\n",
      "          12       0.99      0.98      0.99       690\n",
      "          13       0.99      0.99      0.99       720\n",
      "          14       0.99      0.95      0.97       270\n",
      "          15       0.95      0.99      0.97       210\n",
      "          16       0.97      1.00      0.99       150\n",
      "          17       0.99      0.98      0.98       360\n",
      "          18       0.96      0.94      0.95       390\n",
      "          19       0.92      1.00      0.96        60\n",
      "          20       0.82      1.00      0.90        90\n",
      "          21       0.84      0.88      0.86        90\n",
      "          22       1.00      0.99      1.00       120\n",
      "          23       0.99      1.00      0.99       150\n",
      "          24       0.97      0.97      0.97        90\n",
      "          25       0.98      0.95      0.97       480\n",
      "          26       0.90      0.88      0.89       180\n",
      "          27       0.89      0.95      0.92        60\n",
      "          28       0.96      1.00      0.98       150\n",
      "          29       0.98      1.00      0.99        90\n",
      "          30       0.96      0.87      0.91       150\n",
      "          31       0.97      0.96      0.96       270\n",
      "          32       0.98      1.00      0.99        60\n",
      "          33       1.00      0.99      0.99       210\n",
      "          34       0.98      0.99      0.99       120\n",
      "          35       0.99      0.99      0.99       390\n",
      "          36       1.00      0.98      0.99       120\n",
      "          37       0.98      1.00      0.99        60\n",
      "          38       1.00      0.99      0.99       690\n",
      "          39       0.97      0.99      0.98        90\n",
      "          40       0.95      0.98      0.96        90\n",
      "          41       0.56      0.83      0.67        60\n",
      "          42       0.97      0.64      0.77        90\n",
      "\n",
      "    accuracy                           0.97     12630\n",
      "   macro avg       0.96      0.96      0.96     12630\n",
      "weighted avg       0.97      0.97      0.97     12630\n",
      "\n"
     ]
    }
   ],
   "source": [
    "cr = classification_report(y_test, pred ,output_dict = False)\n",
    "print(cr)"
   ]
  },
  {
   "cell_type": "code",
   "execution_count": 16,
   "metadata": {
    "tags": []
   },
   "outputs": [
    {
     "name": "stdout",
     "output_type": "stream",
     "text": [
      "{'0': {'precision': 1.0, 'recall': 1.0, 'f1-score': 1.0, 'support': 60}, '1': {'precision': 0.9818688981868898, 'recall': 0.9777777777777777, 'f1-score': 0.9798190675017396, 'support': 720}, '2': {'precision': 0.961340206185567, 'recall': 0.9946666666666667, 'f1-score': 0.9777195281782438, 'support': 750}, '3': {'precision': 0.9646799116997793, 'recall': 0.9711111111111111, 'f1-score': 0.9678848283499446, 'support': 450}, '4': {'precision': 0.9984375, 'recall': 0.9681818181818181, 'f1-score': 0.983076923076923, 'support': 660}, '5': {'precision': 0.9603174603174603, 'recall': 0.9603174603174603, 'f1-score': 0.9603174603174603, 'support': 630}, '6': {'precision': 1.0, 'recall': 0.86, 'f1-score': 0.924731182795699, 'support': 150}, '7': {'precision': 0.981941309255079, 'recall': 0.9666666666666667, 'f1-score': 0.9742441209406496, 'support': 450}, '8': {'precision': 0.9330543933054394, 'recall': 0.9911111111111112, 'f1-score': 0.9612068965517241, 'support': 450}, '9': {'precision': 0.97165991902834, 'recall': 1.0, 'f1-score': 0.9856262833675565, 'support': 480}, '10': {'precision': 0.993798449612403, 'recall': 0.9712121212121212, 'f1-score': 0.982375478927203, 'support': 660}, '11': {'precision': 0.9740566037735849, 'recall': 0.9833333333333333, 'f1-score': 0.9786729857819905, 'support': 420}, '12': {'precision': 0.9941176470588236, 'recall': 0.9797101449275363, 'f1-score': 0.9868613138686132, 'support': 690}, '13': {'precision': 0.9930458970792768, 'recall': 0.9916666666666667, 'f1-score': 0.9923558026407228, 'support': 720}, '14': {'precision': 0.9922779922779923, 'recall': 0.9518518518518518, 'f1-score': 0.9716446124763706, 'support': 270}, '15': {'precision': 0.9452054794520548, 'recall': 0.9857142857142858, 'f1-score': 0.9650349650349651, 'support': 210}, '16': {'precision': 0.974025974025974, 'recall': 1.0, 'f1-score': 0.9868421052631579, 'support': 150}, '17': {'precision': 0.9860724233983287, 'recall': 0.9833333333333333, 'f1-score': 0.984700973574409, 'support': 360}, '18': {'precision': 0.9554973821989529, 'recall': 0.9358974358974359, 'f1-score': 0.9455958549222797, 'support': 390}, '19': {'precision': 0.9230769230769231, 'recall': 1.0, 'f1-score': 0.9600000000000001, 'support': 60}, '20': {'precision': 0.8181818181818182, 'recall': 1.0, 'f1-score': 0.9, 'support': 90}, '21': {'precision': 0.8404255319148937, 'recall': 0.8777777777777778, 'f1-score': 0.858695652173913, 'support': 90}, '22': {'precision': 1.0, 'recall': 0.9916666666666667, 'f1-score': 0.99581589958159, 'support': 120}, '23': {'precision': 0.9868421052631579, 'recall': 1.0, 'f1-score': 0.9933774834437086, 'support': 150}, '24': {'precision': 0.9666666666666667, 'recall': 0.9666666666666667, 'f1-score': 0.9666666666666667, 'support': 90}, '25': {'precision': 0.9785867237687366, 'recall': 0.9520833333333333, 'f1-score': 0.9651531151003168, 'support': 480}, '26': {'precision': 0.9028571428571428, 'recall': 0.8777777777777778, 'f1-score': 0.8901408450704226, 'support': 180}, '27': {'precision': 0.890625, 'recall': 0.95, 'f1-score': 0.9193548387096774, 'support': 60}, '28': {'precision': 0.9554140127388535, 'recall': 1.0, 'f1-score': 0.9771986970684039, 'support': 150}, '29': {'precision': 0.9782608695652174, 'recall': 1.0, 'f1-score': 0.989010989010989, 'support': 90}, '30': {'precision': 0.9562043795620438, 'recall': 0.8733333333333333, 'f1-score': 0.9128919860627178, 'support': 150}, '31': {'precision': 0.966542750929368, 'recall': 0.9629629629629629, 'f1-score': 0.9647495361781077, 'support': 270}, '32': {'precision': 0.9836065573770492, 'recall': 1.0, 'f1-score': 0.9917355371900827, 'support': 60}, '33': {'precision': 0.9952153110047847, 'recall': 0.9904761904761905, 'f1-score': 0.9928400954653939, 'support': 210}, '34': {'precision': 0.9834710743801653, 'recall': 0.9916666666666667, 'f1-score': 0.9875518672199171, 'support': 120}, '35': {'precision': 0.9923273657289002, 'recall': 0.9948717948717949, 'f1-score': 0.9935979513444302, 'support': 390}, '36': {'precision': 1.0, 'recall': 0.9833333333333333, 'f1-score': 0.9915966386554621, 'support': 120}, '37': {'precision': 0.9836065573770492, 'recall': 1.0, 'f1-score': 0.9917355371900827, 'support': 60}, '38': {'precision': 0.9956076134699854, 'recall': 0.9855072463768116, 'f1-score': 0.9905316824471959, 'support': 690}, '39': {'precision': 0.967391304347826, 'recall': 0.9888888888888889, 'f1-score': 0.978021978021978, 'support': 90}, '40': {'precision': 0.946236559139785, 'recall': 0.9777777777777777, 'f1-score': 0.9617486338797814, 'support': 90}, '41': {'precision': 0.5617977528089888, 'recall': 0.8333333333333334, 'f1-score': 0.6711409395973154, 'support': 60}, '42': {'precision': 0.9666666666666667, 'recall': 0.6444444444444445, 'f1-score': 0.7733333333333334, 'support': 90}, 'accuracy': 0.971021377672209, 'macro avg': {'precision': 0.9558373984577203, 'recall': 0.9608167437083008, 'f1-score': 0.9564093089995613, 'support': 12630}, 'weighted avg': {'precision': 0.9725514681996809, 'recall': 0.971021377672209, 'f1-score': 0.9711416929543253, 'support': 12630}}\n"
     ]
    }
   ],
   "source": [
    "cr = classification_report(y_test, pred ,output_dict = True)\n",
    "# a = np.zeros((43))\n",
    "# for i in range(0 , 43):\n",
    "#     a[i] = cr[str(i)]['f1-score']\n",
    "print(cr)"
   ]
  },
  {
   "cell_type": "code",
   "execution_count": 22,
   "metadata": {
    "tags": []
   },
   "outputs": [
    {
     "name": "stdout",
     "output_type": "stream",
     "text": [
      "100.0\n",
      "98.26\n",
      "97.84\n",
      "96.78\n",
      "98.31\n",
      "96.03\n",
      "92.47\n",
      "97.53\n",
      "95.91\n",
      "98.77\n",
      "98.39\n",
      "97.76\n",
      "98.54\n",
      "99.44\n",
      "97.53\n",
      "96.94\n",
      "99.00999999999999\n",
      "98.06\n",
      "94.44\n",
      "96.77\n",
      "86.96000000000001\n",
      "85.87\n",
      "99.58\n",
      "99.00999999999999\n",
      "97.21\n",
      "96.65\n",
      "89.27000000000001\n",
      "91.94\n",
      "97.72\n",
      "98.9\n",
      "91.29\n",
      "95.94\n",
      "98.36\n",
      "99.76\n",
      "99.17\n",
      "99.36\n",
      "99.16\n",
      "99.17\n",
      "98.83\n",
      "97.24000000000001\n",
      "96.67\n",
      "66.67\n",
      "77.33\n"
     ]
    }
   ],
   "source": [
    "for i in a:\n",
    "    print(round(i,4)* 100)"
   ]
  },
  {
   "cell_type": "code",
   "execution_count": 18,
   "metadata": {
    "tags": []
   },
   "outputs": [
    {
     "ename": "NameError",
     "evalue": "name 'acc_per_class' is not defined",
     "output_type": "error",
     "traceback": [
      "\u001b[1;31m---------------------------------------------------------------------------\u001b[0m",
      "\u001b[1;31mNameError\u001b[0m                                 Traceback (most recent call last)",
      "Cell \u001b[1;32mIn [18], line 1\u001b[0m\n\u001b[1;32m----> 1\u001b[0m TP \u001b[38;5;241m=\u001b[39m \u001b[43macc_per_class\u001b[49m \u001b[38;5;241m*\u001b[39m num_per_class\n\u001b[0;32m      3\u001b[0m prohibitory_indx \u001b[38;5;241m=\u001b[39m np\u001b[38;5;241m.\u001b[39marray([\u001b[38;5;241m0\u001b[39m , \u001b[38;5;241m1\u001b[39m , \u001b[38;5;241m2\u001b[39m , \u001b[38;5;241m3\u001b[39m , \u001b[38;5;241m4\u001b[39m , \u001b[38;5;241m5\u001b[39m , \u001b[38;5;241m7\u001b[39m , \u001b[38;5;241m8\u001b[39m , \u001b[38;5;241m9\u001b[39m , \u001b[38;5;241m10\u001b[39m , \u001b[38;5;241m15\u001b[39m , \u001b[38;5;241m16\u001b[39m])\n\u001b[0;32m      4\u001b[0m danger_indx \u001b[38;5;241m=\u001b[39m np\u001b[38;5;241m.\u001b[39marray([\u001b[38;5;241m11\u001b[39m , \u001b[38;5;241m18\u001b[39m , \u001b[38;5;241m19\u001b[39m , \u001b[38;5;241m20\u001b[39m , \u001b[38;5;241m21\u001b[39m , \u001b[38;5;241m22\u001b[39m , \u001b[38;5;241m23\u001b[39m , \u001b[38;5;241m24\u001b[39m , \u001b[38;5;241m25\u001b[39m, \u001b[38;5;241m26\u001b[39m, \u001b[38;5;241m27\u001b[39m, \u001b[38;5;241m28\u001b[39m , \u001b[38;5;241m29\u001b[39m , \u001b[38;5;241m30\u001b[39m , \u001b[38;5;241m31\u001b[39m])\n",
      "\u001b[1;31mNameError\u001b[0m: name 'acc_per_class' is not defined"
     ]
    }
   ],
   "source": [
    "TP = acc_per_class * num_per_class\n",
    "\n",
    "prohibitory_indx = np.array([0 , 1 , 2 , 3 , 4 , 5 , 7 , 8 , 9 , 10 , 15 , 16])\n",
    "danger_indx = np.array([11 , 18 , 19 , 20 , 21 , 22 , 23 , 24 , 25, 26, 27, 28 , 29 , 30 , 31])\n",
    "mandatory_indx = range(33 , 40)\n",
    "other_indx = np.array([41 , 32 ,17 , 14 , 13 , 12 , 6])\n",
    "\n",
    "prohibitory = TP[prohibitory_indx].sum()\n",
    "danger = TP[danger_indx].sum()\n",
    "mandatory = TP[mandatory_indx].sum()\n",
    "other = TP[other_indx].sum()\n",
    "\n",
    "num_prohibitory = num_per_class[prohibitory_indx].sum()\n",
    "num_danger = num_per_class[danger_indx].sum()\n",
    "num_mandatory = num_per_class[mandatory_indx].sum()\n",
    "num_other = num_per_class[other_indx].sum()"
   ]
  },
  {
   "cell_type": "code",
   "execution_count": 25,
   "metadata": {
    "execution": {
     "iopub.execute_input": "2023-07-14T12:42:47.513588Z",
     "iopub.status.busy": "2023-07-14T12:42:47.513208Z",
     "iopub.status.idle": "2023-07-14T12:42:47.519621Z",
     "shell.execute_reply": "2023-07-14T12:42:47.518488Z",
     "shell.execute_reply.started": "2023-07-14T12:42:47.513554Z"
    }
   },
   "outputs": [
    {
     "name": "stdout",
     "output_type": "stream",
     "text": [
      "0.981657848324515 0.9530465949820789 0.9857142857142858 0.9510822510822511\n"
     ]
    }
   ],
   "source": [
    "acc_prohibitory = prohibitory/num_prohibitory\n",
    "acc_danger = danger/num_danger\n",
    "acc_mandatory = mandatory/num_mandatory\n",
    "acc_other = other/num_other\n",
    "\n",
    "print(acc_prohibitory , acc_danger, acc_mandatory ,acc_other)"
   ]
  },
  {
   "cell_type": "markdown",
   "metadata": {},
   "source": [
    "## Classification Reaport"
   ]
  },
  {
   "cell_type": "code",
   "execution_count": 50,
   "metadata": {
    "execution": {
     "iopub.execute_input": "2023-07-14T12:52:24.332117Z",
     "iopub.status.busy": "2023-07-14T12:52:24.331753Z",
     "iopub.status.idle": "2023-07-14T12:52:24.380408Z",
     "shell.execute_reply": "2023-07-14T12:52:24.379403Z",
     "shell.execute_reply.started": "2023-07-14T12:52:24.332090Z"
    }
   },
   "outputs": [
    {
     "name": "stderr",
     "output_type": "stream",
     "text": [
      "/opt/conda/lib/python3.10/site-packages/sklearn/metrics/_classification.py:1344: UndefinedMetricWarning: Precision and F-score are ill-defined and being set to 0.0 in samples with no predicted labels. Use `zero_division` parameter to control this behavior.\n",
      "  _warn_prf(average, modifier, msg_start, len(result))\n",
      "/opt/conda/lib/python3.10/site-packages/sklearn/metrics/_classification.py:1344: UndefinedMetricWarning: Precision and F-score are ill-defined and being set to 0.0 in samples with no predicted labels. Use `zero_division` parameter to control this behavior.\n",
      "  _warn_prf(average, modifier, msg_start, len(result))\n"
     ]
    }
   ],
   "source": [
    "a = classification_report(cy_labels, cy_class , output_dict = True)\n",
    "b = classification_report(tri_labels, tri_class , output_dict = True)\n",
    "c = classification_report(predictions , gray_y_test , output_dict = True)"
   ]
  },
  {
   "cell_type": "code",
   "execution_count": 75,
   "metadata": {
    "execution": {
     "iopub.execute_input": "2023-07-14T13:34:46.063785Z",
     "iopub.status.busy": "2023-07-14T13:34:46.063403Z",
     "iopub.status.idle": "2023-07-14T13:34:46.072478Z",
     "shell.execute_reply": "2023-07-14T13:34:46.071496Z",
     "shell.execute_reply.started": "2023-07-14T13:34:46.063752Z"
    }
   },
   "outputs": [],
   "source": [
    "reaport = np.zeros((43 , 4))\n",
    "for i in range(0 , 43):\n",
    "    try:\n",
    "        ii = tri_Dict[i]\n",
    "        dic = b[str(ii)]\n",
    "        reaport[i,:]= np.array([dic[\"precision\"] , dic[\"recall\"] , dic[\"f1-score\"] , dic[\"support\"]])\n",
    "\n",
    "    except:\n",
    "        try:\n",
    "            ii = cy_Dict[i]\n",
    "            dic = a[str(ii)]\n",
    "            reaport[i,:]= np.array([dic[\"precision\"] , dic[\"recall\"] , dic[\"f1-score\"] , dic[\"support\"]])\n",
    "        except:\n",
    "            if(i == 12):\n",
    "                dic = c[\"3\"]\n",
    "                reaport[i,:]= np.array([dic[\"precision\"] , dic[\"recall\"] , dic[\"f1-score\"] , dic[\"support\"]])\n",
    "            else :\n",
    "                dic = c[\"2\"]\n",
    "                reaport[i,:]= np.array([dic[\"precision\"] , dic[\"recall\"] , dic[\"f1-score\"] , dic[\"support\"]])"
   ]
  },
  {
   "cell_type": "code",
   "execution_count": 81,
   "metadata": {
    "collapsed": true,
    "execution": {
     "iopub.execute_input": "2023-07-14T13:40:59.690841Z",
     "iopub.status.busy": "2023-07-14T13:40:59.690471Z",
     "iopub.status.idle": "2023-07-14T13:40:59.699288Z",
     "shell.execute_reply": "2023-07-14T13:40:59.698037Z",
     "shell.execute_reply.started": "2023-07-14T13:40:59.690813Z"
    },
    "jupyter": {
     "outputs_hidden": true
    }
   },
   "outputs": [
    {
     "name": "stdout",
     "output_type": "stream",
     "text": [
      "1.0 \t 0.9833333333333333 \t 0.9915966386554621 \t 60.0\n",
      "\n",
      "\n",
      "0.9700272479564033 \t 0.9902642559109874 \t 0.9800412938747419 \t 719.0\n",
      "\n",
      "\n",
      "0.9800266311584553 \t 0.9813333333333333 \t 0.9806795469686875 \t 750.0\n",
      "\n",
      "\n",
      "0.9504310344827587 \t 0.9821826280623608 \t 0.9660460021905805 \t 449.0\n",
      "\n",
      "\n",
      "0.990726429675425 \t 0.9712121212121212 \t 0.9808722264728386 \t 660.0\n",
      "\n",
      "\n",
      "0.9724919093851133 \t 0.9570063694267515 \t 0.9646869983948635 \t 628.0\n",
      "\n",
      "\n",
      "1.0 \t 0.825503355704698 \t 0.9044117647058824 \t 149.0\n",
      "\n",
      "\n",
      "0.9910112359550561 \t 0.98 \t 0.9854748603351954 \t 450.0\n",
      "\n",
      "\n",
      "0.9911111111111112 \t 0.9911111111111112 \t 0.9911111111111112 \t 450.0\n",
      "\n",
      "\n",
      "0.9795918367346939 \t 1.0 \t 0.9896907216494846 \t 480.0\n",
      "\n",
      "\n",
      "0.9954058192955589 \t 0.989345509893455 \t 0.9923664122137404 \t 657.0\n",
      "\n",
      "\n",
      "0.9146067415730337 \t 0.9760191846522782 \t 0.9443155452436194 \t 417.0\n",
      "\n",
      "\n",
      "0.9507246376811594 \t 1.0 \t 0.974739970282318 \t 656.0\n",
      "\n",
      "\n",
      "0.99721059972106 \t 0.9986033519553073 \t 0.9979064898813679 \t 716.0\n",
      "\n",
      "\n",
      "0.9111111111111111 \t 0.9461538461538461 \t 0.9283018867924527 \t 260.0\n",
      "\n",
      "\n",
      "0.9905660377358491 \t 1.0 \t 0.9952606635071091 \t 210.0\n",
      "\n",
      "\n",
      "0.9738562091503268 \t 0.9933333333333333 \t 0.9834983498349835 \t 150.0\n",
      "\n",
      "\n",
      "1.0 \t 0.9971181556195965 \t 0.9985569985569985 \t 347.0\n",
      "\n",
      "\n",
      "0.984251968503937 \t 0.9615384615384616 \t 0.9727626459143969 \t 390.0\n",
      "\n",
      "\n",
      "0.9523809523809523 \t 1.0 \t 0.975609756097561 \t 60.0\n",
      "\n",
      "\n",
      "0.8571428571428571 \t 1.0 \t 0.923076923076923 \t 90.0\n",
      "\n",
      "\n",
      "0.9682539682539683 \t 0.6777777777777778 \t 0.7973856209150327 \t 90.0\n",
      "\n",
      "\n",
      "0.9745762711864406 \t 0.9583333333333334 \t 0.9663865546218487 \t 120.0\n",
      "\n",
      "\n",
      "0.9612903225806452 \t 0.9933333333333333 \t 0.9770491803278689 \t 150.0\n",
      "\n",
      "\n",
      "0.9888888888888889 \t 1.0 \t 0.9944134078212291 \t 89.0\n",
      "\n",
      "\n",
      "0.9701492537313433 \t 0.9538784067085954 \t 0.9619450317124736 \t 477.0\n",
      "\n",
      "\n",
      "0.9808917197452229 \t 0.8651685393258427 \t 0.9194029850746269 \t 178.0\n",
      "\n",
      "\n",
      "0.8082191780821918 \t 0.9833333333333333 \t 0.8872180451127819 \t 60.0\n",
      "\n",
      "\n",
      "0.9490445859872612 \t 0.9933333333333333 \t 0.9706840390879479 \t 150.0\n",
      "\n",
      "\n",
      "0.967741935483871 \t 1.0 \t 0.9836065573770492 \t 90.0\n",
      "\n",
      "\n",
      "0.9856115107913669 \t 0.9194630872483222 \t 0.9513888888888888 \t 149.0\n",
      "\n",
      "\n",
      "1.0 \t 0.9925925925925926 \t 0.996282527881041 \t 270.0\n",
      "\n",
      "\n",
      "0.8108108108108109 \t 1.0 \t 0.8955223880597014 \t 60.0\n",
      "\n",
      "\n",
      "0.995260663507109 \t 1.0 \t 0.997624703087886 \t 210.0\n",
      "\n",
      "\n",
      "0.967479674796748 \t 0.9916666666666667 \t 0.9794238683127573 \t 120.0\n",
      "\n",
      "\n",
      "1.0 \t 0.9974358974358974 \t 0.9987163029525032 \t 390.0\n",
      "\n",
      "\n",
      "1.0 \t 0.9666666666666667 \t 0.983050847457627 \t 120.0\n",
      "\n",
      "\n",
      "1.0 \t 1.0 \t 1.0 \t 60.0\n",
      "\n",
      "\n",
      "0.9882352941176471 \t 0.9911504424778761 \t 0.9896907216494845 \t 678.0\n",
      "\n",
      "\n",
      "0.989010989010989 \t 1.0 \t 0.994475138121547 \t 90.0\n",
      "\n",
      "\n",
      "0.967032967032967 \t 1.0 \t 0.9832402234636871 \t 88.0\n",
      "\n",
      "\n",
      "0.8793103448275862 \t 0.85 \t 0.864406779661017 \t 60.0\n",
      "\n",
      "\n",
      "0.9878048780487805 \t 0.9 \t 0.9418604651162791 \t 90.0\n",
      "\n",
      "\n"
     ]
    }
   ],
   "source": [
    "for i in range(0 , 43):\n",
    "    print(reaport[i , 0], \"\\t\",reaport[i , 1],\"\\t\",reaport[i , 2],\"\\t\",reaport[i , 3])\n",
    "    print(\"\\n\")"
   ]
  },
  {
   "cell_type": "code",
   "execution_count": 161,
   "metadata": {
    "execution": {
     "iopub.execute_input": "2023-07-14T14:38:46.474704Z",
     "iopub.status.busy": "2023-07-14T14:38:46.473740Z",
     "iopub.status.idle": "2023-07-14T14:38:46.480152Z",
     "shell.execute_reply": "2023-07-14T14:38:46.479216Z",
     "shell.execute_reply.started": "2023-07-14T14:38:46.474653Z"
    }
   },
   "outputs": [],
   "source": [
    "def mul_sup(a):\n",
    "    for i in range(0 , 3):\n",
    "        a[:,i] *= a[:,3]\n",
    "    a = a.sum(axis = 0)\n",
    "    for i in range(0,3):\n",
    "        a[i] /= a[3]\n",
    "        a[i] = round(a[i],4) * 100\n",
    "    return a"
   ]
  },
  {
   "cell_type": "code",
   "execution_count": 162,
   "metadata": {
    "execution": {
     "iopub.execute_input": "2023-07-14T14:38:46.796851Z",
     "iopub.status.busy": "2023-07-14T14:38:46.795736Z",
     "iopub.status.idle": "2023-07-14T14:38:46.803470Z",
     "shell.execute_reply": "2023-07-14T14:38:46.802152Z",
     "shell.execute_reply.started": "2023-07-14T14:38:46.796809Z"
    }
   },
   "outputs": [],
   "source": [
    "prohibitory = mul_sup(reaport[prohibitory_indx,:])\n",
    "danger = mul_sup(reaport[danger_indx,:])\n",
    "mandatory = mul_sup(reaport[mandatory_indx,:])\n",
    "other = mul_sup(reaport[other_indx,:])"
   ]
  },
  {
   "cell_type": "code",
   "execution_count": 171,
   "metadata": {
    "execution": {
     "iopub.execute_input": "2023-07-14T14:42:53.679472Z",
     "iopub.status.busy": "2023-07-14T14:42:53.679106Z",
     "iopub.status.idle": "2023-07-14T14:42:53.686882Z",
     "shell.execute_reply": "2023-07-14T14:42:53.685809Z",
     "shell.execute_reply.started": "2023-07-14T14:42:53.679442Z"
    }
   },
   "outputs": [
    {
     "name": "stdout",
     "output_type": "stream",
     "text": [
      "               pre    recall   f1_score sup\n",
      "prohibitory [  98.08   98.29   98.17 5663.  ]\n",
      "danger      [  95.97   95.61   95.62 2780.  ]\n",
      "mandatory   [  99.17   99.28   99.22 1668.  ]\n",
      "other       [  96.62   97.73   97.07 2248.  ]\n"
     ]
    }
   ],
   "source": [
    "print(\"               pre    recall   f1_score sup\")\n",
    "print(\"prohibitory\",prohibitory)\n",
    "print(\"danger     \",danger)\n",
    "print(\"mandatory  \",mandatory)\n",
    "print(\"other      \",other)"
   ]
  },
  {
   "cell_type": "code",
   "execution_count": null,
   "metadata": {},
   "outputs": [],
   "source": [
    "\n"
   ]
  }
 ],
 "metadata": {
  "kernelspec": {
   "display_name": "Python 3 (ipykernel)",
   "language": "python",
   "name": "python3"
  },
  "language_info": {
   "codemirror_mode": {
    "name": "ipython",
    "version": 3
   },
   "file_extension": ".py",
   "mimetype": "text/x-python",
   "name": "python",
   "nbconvert_exporter": "python",
   "pygments_lexer": "ipython3",
   "version": "3.10.9"
  }
 },
 "nbformat": 4,
 "nbformat_minor": 4
}
