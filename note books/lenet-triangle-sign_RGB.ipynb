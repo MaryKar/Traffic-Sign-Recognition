{
 "cells": [
  {
   "cell_type": "markdown",
   "metadata": {},
   "source": [
    "### Code Implementation"
   ]
  },
  {
   "cell_type": "code",
   "execution_count": 1,
   "metadata": {
    "tags": []
   },
   "outputs": [],
   "source": [
    "# Importing necessary libraries\n",
    "import keras\n",
    "from keras.datasets import mnist\n",
    "from keras.layers import Conv2D, MaxPooling2D\n",
    "from keras.layers import Dense, Flatten\n",
    "from keras.models import Sequential\n",
    "import pickle\n",
    "import numpy as np\n",
    "import cv2\n",
    "from matplotlib import pyplot as plt\n",
    "from sklearn.metrics import classification_report\n",
    "from sklearn.model_selection import train_test_split"
   ]
  },
  {
   "cell_type": "code",
   "execution_count": 2,
   "metadata": {
    "tags": []
   },
   "outputs": [],
   "source": [
    "# from comet_ml import Experiment\n",
    "# experiment = Experiment(\n",
    "#   api_key = \"5bfhr7lk4OnjyeismCfnATd5j\",\n",
    "#   project_name = \"general\",\n",
    "#   workspace=\"maryk\"\n",
    "# )"
   ]
  },
  {
   "cell_type": "code",
   "execution_count": 3,
   "metadata": {
    "tags": []
   },
   "outputs": [],
   "source": [
    "# Experiment.log_metrics()\n",
    "# Experiment.log_parameters()"
   ]
  },
  {
   "cell_type": "markdown",
   "metadata": {},
   "source": [
    "### Loading Dataset"
   ]
  },
  {
   "cell_type": "code",
   "execution_count": 2,
   "metadata": {},
   "outputs": [],
   "source": [
    "# # Loading the dataset and perform splitting\n",
    "# data_list = []\n",
    "# labels_list = []\n",
    "# classes_list = 43\n",
    "\n",
    "# imgs_path = \"../input/gtsrb-german-traffic-sign/Train\"\n",
    "# for i in range(classes_list):\n",
    "#     i_path = os.path.join(imgs_path, str(i)) #0-42\n",
    "#     for img in os.listdir(i_path):\n",
    "#         im = Image.open(i_path +'/'+ img)\n",
    "#         im = im.resize((32,32))\n",
    "#         im = np.array(im)\n",
    "#         data_list.append(im)\n",
    "#         labels_list.append(i)\n",
    "# data = np.array(data_list)\n",
    "# labels = np.array(labels_list)"
   ]
  },
  {
   "cell_type": "code",
   "execution_count": 2,
   "metadata": {
    "tags": []
   },
   "outputs": [],
   "source": [
    "# Opening file for reading in binary mode\n",
    "#- data3.pickle - Shuffling, /255.0 + Mean + STD Normalization\n",
    "with open('D:\\Project\\Traffic Sign Detection\\DATABASE/data3.pickle', 'rb') as f:\n",
    "    data = pickle.load(f, encoding='latin1')  # dictionary type\n",
    "    \n",
    "    \n",
    "# Making channels come at the end\n",
    "data['x_train'] = data['x_train'].transpose(0, 2, 3, 1)\n",
    "data['x_validation'] = data['x_validation'].transpose(0, 2, 3, 1)\n",
    "data['x_test'] = data['x_test'].transpose(0, 2, 3, 1)\n",
    "\n",
    "train_imgs = data['x_train']\n",
    "test_imgs = data['x_test']\n",
    "valid_imgs = data['x_validation']\n",
    "train_labels = data['y_train']\n",
    "test_labels = data['y_test']\n",
    "valid_labels = data['y_validation']"
   ]
  },
  {
   "cell_type": "code",
   "execution_count": 141,
   "metadata": {},
   "outputs": [],
   "source": [
    "# a = tri_X_train[7].astype(np.uint8)\n",
    "# # b = np.zeros((32,32,3))\n",
    "# # # for i in [0,1,2]:\n",
    "# # #     b[:,:,i] = cv2.equalizeHist(a[:,:,i])\n",
    "# # # blur = cv2.fastNlMeansDenoisingColored(a.astype(np.uint8), \n",
    "# # #                                        dst = None,\n",
    "# # #                                        h=8,\n",
    "# # #                                        hColor = 5,\n",
    "# # #                                        templateWindowSize = 7 ,\n",
    "# # #                                        searchWindowSize = 32)\n",
    "# blur = cv2.GaussianBlur(a , (3,3),0)\n",
    "# clahe = cv2.createCLAHE(clipLimit=1)\n",
    "# for i in [0,1,2]:\n",
    "#     b[:,:,i] = clahe.apply(a[:,:,i])\n",
    "    \n",
    "# Rn , Gn , Bn = cv2.split(b)\n",
    "    \n",
    "# R = Rn - ( Gn + Bn ) / 2;          #tuned Red\n",
    "# G = Gn - ( Rn + Bn ) / 2;          #tuned Green\n",
    "# B = Bn - ( Rn + Gn ) / 2;          #tuned Blue\n",
    "# Y = (Rn+Gn)/2 - abs(Rn-Gn)/2 - Bn; #Tuned Yellow\n",
    "\n",
    "# BW = R + G; # black-white opponent channel\n",
    "# RG = R - G; # red-green   opponent channel\n",
    "# BY = B - Y; # blue-yellow opponent channel\n",
    "\n"
   ]
  },
  {
   "cell_type": "code",
   "execution_count": 67,
   "metadata": {
    "tags": []
   },
   "outputs": [
    {
     "data": {
      "text/plain": [
       "124.53873697916667"
      ]
     },
     "execution_count": 67,
     "metadata": {},
     "output_type": "execute_result"
    }
   ],
   "source": [
    "b.min()"
   ]
  },
  {
   "cell_type": "code",
   "execution_count": null,
   "metadata": {},
   "outputs": [],
   "source": []
  },
  {
   "cell_type": "code",
   "execution_count": null,
   "metadata": {
    "execution": {
     "iopub.execute_input": "2023-07-03T08:12:55.581244Z",
     "iopub.status.busy": "2023-07-03T08:12:55.580875Z",
     "iopub.status.idle": "2023-07-03T08:12:55.588623Z",
     "shell.execute_reply": "2023-07-03T08:12:55.587576Z",
     "shell.execute_reply.started": "2023-07-03T08:12:55.581207Z"
    }
   },
   "outputs": [],
   "source": [
    "# def augment_brightness_camera_images(image):\n",
    "#     image1 = cv2.cvtColor(image,cv2.COLOR_RGB2HSV)\n",
    "#     plt.imshow(image1)\n",
    "#     image1 = np.array(image1, dtype = np.float64)\n",
    "#     random_bright = .5+np.random.uniform()\n",
    "#     image1[:,:,2] = image1[:,:,2]*random_bright\n",
    "#     image1[:,:,2][image1[:,:,2]>255]  = 255\n",
    "#     image1 = np.array(image1, dtype = np.uint8)\n",
    "#     image1 = cv2.cvtColor(image1,cv2.COLOR_HSV2RGB)\n",
    "#     return image1"
   ]
  },
  {
   "cell_type": "markdown",
   "metadata": {
    "execution": {
     "iopub.execute_input": "2023-07-03T08:38:41.049467Z",
     "iopub.status.busy": "2023-07-03T08:38:41.049116Z",
     "iopub.status.idle": "2023-07-03T08:38:41.059062Z",
     "shell.execute_reply": "2023-07-03T08:38:41.057889Z",
     "shell.execute_reply.started": "2023-07-03T08:38:41.049439Z"
    }
   },
   "source": [
    "\n",
    "#new = augment_brightness_camera_images(image)\n",
    "new = preprocess_img(image)\n",
    "#plt.imshow(new)\n",
    "print(new.shape)\n",
    "print(cycle)"
   ]
  },
  {
   "cell_type": "code",
   "execution_count": 3,
   "metadata": {
    "tags": []
   },
   "outputs": [],
   "source": [
    "A = np.array(np.where(train_labels >= 18))\n",
    "A = np.concatenate((A ,np.where(train_labels == 13)), axis = 1)\n",
    "A = np.concatenate((A ,np.where(train_labels == 11)), axis = 1)\n",
    "B = np.array(np.where(train_labels > 31))\n",
    "indx = np.setdiff1d(A, B)\n",
    "\n",
    "A = np.array(np.where(test_labels >= 18)) \n",
    "A = np.concatenate((A ,np.where(test_labels == 13)), axis = 1)\n",
    "A = np.concatenate((A ,np.where(test_labels == 11)), axis = 1)\n",
    "B = np.array(np.where(test_labels > 31))\n",
    "indx1 = np.setdiff1d(A, B)\n",
    "\n",
    "A = np.array(np.where(valid_labels >= 18)) \n",
    "A = np.concatenate((A ,np.where(valid_labels == 13)), axis = 1)\n",
    "A = np.concatenate((A ,np.where(valid_labels == 11)), axis = 1)\n",
    "B = np.array(np.where(valid_labels > 31))\n",
    "indx2 = np.setdiff1d(A, B)\n",
    "\n",
    "tri_X_train = train_imgs[indx]\n",
    "tri_X_test = test_imgs[indx1]\n",
    "tri_X_valid = valid_imgs[indx2]\n",
    "tri_train_labels = train_labels[indx]\n",
    "tri_test_labels = test_labels[indx1]\n",
    "tri_valid_labels = valid_labels[indx2]"
   ]
  },
  {
   "cell_type": "code",
   "execution_count": 4,
   "metadata": {
    "tags": []
   },
   "outputs": [],
   "source": [
    "tri_Dict = {11:0 , 13:1 , 18:2 , 19:3 , 20:4 , 21:5 , 22:6 , 23:7 , 24:8 , 25:9 , 26:10 , 27:11 , 28:12 , 29:13 , 30:14 , 31:15 }\n",
    "tri_train_labels = np.vectorize(tri_Dict.get)(tri_train_labels)\n",
    "tri_test_labels = np.vectorize(tri_Dict.get)(tri_test_labels)\n",
    "tri_valid_labels = np.vectorize(tri_Dict.get)(tri_valid_labels)\n",
    "tri_num_class = 16"
   ]
  },
  {
   "cell_type": "code",
   "execution_count": 58,
   "metadata": {
    "tags": []
   },
   "outputs": [
    {
     "name": "stderr",
     "output_type": "stream",
     "text": [
      "Clipping input data to the valid range for imshow with RGB data ([0..1] for floats or [0..255] for integers).\n"
     ]
    },
    {
     "data": {
      "text/plain": [
       "<matplotlib.image.AxesImage at 0x14f237f60b0>"
      ]
     },
     "execution_count": 58,
     "metadata": {},
     "output_type": "execute_result"
    },
    {
     "data": {
      "image/png": "[encoded data removed]",
      "text/plain": [
       "<Figure size 640x480 with 2 Axes>"
      ]
     },
     "metadata": {},
     "output_type": "display_data"
    }
   ],
   "source": [
    "# i = 1054\n",
    "# a = tri_X_train[i]\n",
    "# plt.subplot(1,2,1)\n",
    "# plt.imshow(a)\n",
    "\n",
    "# img[:,:,0] = cv2.equalizeHist(a[:,:,0].astype(np.uint8))\n",
    "# img[:,:,1] = cv2.equalizeHist(a[:,:,1].astype(np.uint8))\n",
    "# img[:,:,2] = cv2.equalizeHist(a[:,:,2].astype(np.uint8))\n",
    "# plt.subplot(1,2,2)\n",
    "\n",
    "# plt.imshow(img)"
   ]
  },
  {
   "cell_type": "code",
   "execution_count": 53,
   "metadata": {
    "tags": []
   },
   "outputs": [
    {
     "name": "stderr",
     "output_type": "stream",
     "text": [
      "Clipping input data to the valid range for imshow with RGB data ([0..1] for floats or [0..255] for integers).\n"
     ]
    },
    {
     "data": {
      "text/plain": [
       "<matplotlib.image.AxesImage at 0x14f2385a500>"
      ]
     },
     "execution_count": 53,
     "metadata": {},
     "output_type": "execute_result"
    },
    {
     "data": {
      "image/png": "[encoded data removed]",
      "text/plain": [
       "<Figure size 640x480 with 2 Axes>"
      ]
     },
     "metadata": {},
     "output_type": "display_data"
    }
   ],
   "source": [
    "\n",
    "# img1 = img\n",
    "# a = cv2.fastNlMeansDenoisingColored(img1.astype(np.uint8), \n",
    "#                                        dst = None,\n",
    "#                                        h=4,\n",
    "#                                        hColor = 1,\n",
    "#                                        templateWindowSize = 7 ,\n",
    "#                                        searchWindowSize = 4  )\n",
    "# plt.subplot(1,2,1)\n",
    "# plt.imshow(img1)\n",
    "# plt.subplot(1,2,2)\n",
    "# plt.imshow(a)\n"
   ]
  },
  {
   "cell_type": "code",
   "execution_count": 5,
   "metadata": {},
   "outputs": [],
   "source": [
    "def preprocessing(a):\n",
    "    a = (a * 255).astype(np.uint8)\n",
    "    b = np.zeros((32,32,3))\n",
    "\n",
    "    blur = cv2.GaussianBlur(a , (3,3),0)\n",
    "    clahe = cv2.createCLAHE(clipLimit=1)\n",
    "    for i in [0,1,2]:\n",
    "        b[:,:,i] = clahe.apply(a[:,:,i])\n",
    "    return b / 255\n",
    "    "
   ]
  },
  {
   "cell_type": "code",
   "execution_count": null,
   "metadata": {
    "execution": {
     "iopub.execute_input": "2023-07-03T08:31:25.503579Z",
     "iopub.status.busy": "2023-07-03T08:31:25.503146Z",
     "iopub.status.idle": "2023-07-03T08:31:26.034838Z",
     "shell.execute_reply": "2023-07-03T08:31:26.033867Z",
     "shell.execute_reply.started": "2023-07-03T08:31:25.503549Z"
    }
   },
   "outputs": [],
   "source": [
    "# from skimage import color, exposure, transform\n",
    "\n",
    "# NUM_CLASSES = 43\n",
    "# IMG_SIZE = 48\n",
    "\n",
    "# def preprocess_img(img):\n",
    "#     # Histogram normalization in v channel\n",
    "#     hsv = color.rgb2hsv(img)\n",
    "#     hsv[:,:,2] = exposure.equalize_hist(hsv[:,:,2])\n",
    "#     img = color.hsv2rgb(hsv)\n",
    "\n",
    "#     # central square crop\n",
    "#     min_side = min(img.shape[:-1])\n",
    "#     centre = img.shape[0]//2, img.shape[1]//2\n",
    "#     img = img[centre[0]-min_side//2:centre[0]+min_side//2,\n",
    "#     centre[1]-min_side//2:centre[1]+min_side//2, :]\n",
    "\n",
    "#     # rescale to standard size\n",
    "#     img = transform.resize(img, (IMG_SIZE, IMG_SIZE))\n",
    "\n",
    "#     # roll color axis to axis 0\n",
    "#     img = np.rollaxis(img,-1)\n",
    "\n",
    "#     return img"
   ]
  },
  {
   "cell_type": "markdown",
   "metadata": {},
   "source": [
    "### Image Data Preprocessing"
   ]
  },
  {
   "cell_type": "code",
   "execution_count": 9,
   "metadata": {},
   "outputs": [
    {
     "data": {
      "text/plain": [
       "(32368, 32, 32, 3)"
      ]
     },
     "execution_count": 9,
     "metadata": {},
     "output_type": "execute_result"
    }
   ],
   "source": [
    "tri_X_train.shape"
   ]
  },
  {
   "cell_type": "code",
   "execution_count": 7,
   "metadata": {},
   "outputs": [],
   "source": [
    "# x_train = []\n",
    "# for i in range(0 , tri_X_train.shape[0]):\n",
    "#     x_train.append(preprocessing(tri_X_train[i]))\n",
    "\n",
    "# x_test = []\n",
    "# for i in range(0 , tri_X_test.shape[0]):\n",
    "#     x_test.append(preprocessing(tri_X_test[i]))\n",
    "\n",
    "# x_valid = []\n",
    "# for i in range(0 , tri_X_valid.shape[0]):\n",
    "#     x_valid.append(preprocessing(tri_X_valid[i]))\n",
    "    \n",
    "    \n",
    "# x_train = np.array(x_train)\n",
    "# x_test =  np.array(x_test)\n",
    "# x_valid =  np.array(x_valid)\n"
   ]
  },
  {
   "cell_type": "code",
   "execution_count": 5,
   "metadata": {
    "tags": []
   },
   "outputs": [],
   "source": [
    "# # Peforming reshaping operation\n",
    "# # x_train = gray_train_imgs.reshape(gray_train_imgs.shape[0], 28, 28, 1)\n",
    "# # x_test = gray_test_imgs.reshape(gray_test_imgs.shape[0], 28, 28, 1)\n",
    "\n",
    "x_train = tri_X_train\n",
    "x_test = tri_X_test\n",
    "x_valid = tri_X_valid\n",
    "\n",
    "# # Normalization\n",
    "# x_train = x_train / 255\n",
    "# x_test = x_test / 255\n",
    "\n",
    "num_class_shape = 16\n",
    "\n",
    "# One Hot Encoding\n",
    "y_train = keras.utils.to_categorical(tri_train_labels, 16)\n",
    "y_test = keras.utils.to_categorical(tri_test_labels, 16)\n",
    "y_valid = keras.utils.to_categorical(tri_valid_labels, 16)\n",
    "# a, x_train, b, y_train = train_test_split(x_train, y_train, test_size=0.36, random_state=42)"
   ]
  },
  {
   "cell_type": "code",
   "execution_count": 6,
   "metadata": {
    "tags": []
   },
   "outputs": [],
   "source": [
    "keras.backend.clear_session()"
   ]
  },
  {
   "cell_type": "markdown",
   "metadata": {},
   "source": [
    "### LeNet Model Architecture"
   ]
  },
  {
   "cell_type": "code",
   "execution_count": 7,
   "metadata": {
    "tags": []
   },
   "outputs": [],
   "source": [
    "# Building the Model Architecture\n",
    "# model = Sequential()\n",
    "# model.add(Conv2D(6, kernel_size=(5, 5), activation='relu', input_shape=(32, 32, 3)))#************\n",
    "# model.add(MaxPooling2D(pool_size=(2, 2)))\n",
    "# model.add(Conv2D(16, kernel_size=(5, 5), activation='relu'))\n",
    "# model.add(MaxPooling2D(pool_size=(2, 2)))\n",
    "# model.add(Flatten())\n",
    "# model.add(Dense(120, activation='relu'))\n",
    "# model.add(Dense(84, activation='relu'))\n",
    "# model.add(Dense(16, activation='softmax'))#********************\n",
    "#Definition of the DNN model\n",
    "\n",
    "from keras.models import Sequential\n",
    "from keras.layers import Conv2D , MaxPool2D , Dropout , Flatten , Dense\n",
    "\n",
    "\n",
    "# model.add(Conv2D(filters=32, kernel_size=(5,5), activation='relu', input_shape=x_train.shape[1:]))\n",
    "# model.add(Conv2D(filters=64, kernel_size=(3, 3), activation='relu'))\n",
    "# model.add(MaxPool2D(pool_size=(2, 2)))\n",
    "# model.add(Dropout(rate=0.25))\n",
    "# model.add(Conv2D(filters=64, kernel_size=(3, 3), activation='relu'))\n",
    "# model.add(MaxPool2D(pool_size=(2, 2)))\n",
    "# model.add(Dropout(rate=0.25))\n",
    "# model.add(Flatten())\n",
    "# model.add(Dense(256, activation='relu'))\n",
    "# model.add(Dropout(rate=0.5))\n",
    "# model.add(Dense(16, activation='softmax'))\n",
    "model = Sequential()\n",
    "model.add(Conv2D(filters=32, kernel_size=3, activation='relu', input_shape=(32,32,3)))\n",
    "model.add(MaxPool2D(pool_size=(2, 2)))\n",
    "model.add(Dropout(rate=0.25))\n",
    "\n",
    "# Second Convolutional Layer\n",
    "model.add(Conv2D(filters=64, kernel_size=3, activation='relu'))\n",
    "model.add(MaxPool2D(pool_size=(2, 2)))\n",
    "model.add(Dropout(rate=0.25))\n",
    "\n",
    "# Third Convolutional Layer\n",
    "model.add(Conv2D(filters=64, kernel_size=3, activation='relu'))\n",
    "\n",
    "model.add(Flatten())\n",
    "model.add(Dense(units=64, activation='relu'))\n",
    "model.add(Dense(16, activation='softmax'))\n",
    "\n",
    "# model.add(layers.Conv2D(filters=32,kernel_size=3,activation='relu',padding='same',input_shape=x_train.shape[1:]))\n",
    "# model.add(layers.MaxPool2D(strides=2))\n",
    "# model.add(layers.BatchNormalization())\n",
    "# model.add(layers.Dropout(0.3))\n",
    "\n",
    "# #ConvLayer(128 filters) + MaxPooling + BatchNormalization + Dropout\n",
    "# model.add(layers.Conv2D(filters=128,kernel_size=3,activation='relu',padding='same'))\n",
    "# model.add(layers.MaxPool2D(strides=2))\n",
    "# model.add(layers.BatchNormalization())\n",
    "# model.add(layers.Dropout(0.3))\n",
    "\n",
    "# #ConvLayer(512 filters) + Dropout + ConvLayer(512 filters) + MaxPooling + BatchNormalization\n",
    "# model.add(layers.Conv2D(filters=512,kernel_size=3,activation='relu',padding='same'))\n",
    "# model.add(layers.Dropout(0.3))\n",
    "# model.add(layers.Conv2D(filters=512,kernel_size=3,activation='relu',padding='same'))\n",
    "# model.add(layers.MaxPool2D(strides=2))\n",
    "# model.add(layers.BatchNormalization())\n",
    "\n",
    "# #Flatten\n",
    "# model.add(layers.Flatten())\n",
    "\n",
    "# #2 Dense layers with 4000 hidden units\n",
    "# model.add(layers.Dense(4000,activation='relu'))\n",
    "# model.add(layers.Dense(4000,activation='relu'))\n",
    "\n",
    "# #Dense layer with 1000 hidden units\n",
    "# model.add(layers.Dense(1000,activation='relu'))\n",
    "\n",
    "# #Softmax layer for output\n",
    "# model.add(layers.Dense(16,activation='softmax'))\n",
    "\n",
    "# model = Sequential()\n",
    "# # Select 6 feature convolution kernels with a size of 5 * 5 (without offset), and get 66 feature maps. The size of each feature map is 32−5 + 1 = 2832−5 + 1 = 28.\n",
    "# # That is, the number of neurons has been reduced from 10241024 to 28 ∗ 28 = 784 28 ∗ 28 = 784.\n",
    "# # Parameters between input layer and C1 layer: 6 ∗ (5 ∗ 5 + 1)\n",
    "# model.add(Conv2D(6, kernel_size=(5, 5), activation='relu', input_shape=(32, 32, 3)))\n",
    "# # The input of this layer is the output of the first layer, which is a 28 * 28 * 6 node matrix.\n",
    "# # The size of the filter used in this layer is 2 * 2, and the step length and width are both 2, so the output matrix size of this layer is 14 * 14 * 6.\n",
    "# model.add(MaxPooling2D(pool_size=(2, 2)))\n",
    "# # The input matrix size of this layer is 14 * 14 * 6, the filter size used is 5 * 5, and the depth is 16. This layer does not use all 0 padding, and the step size is 1.\n",
    "# # The output matrix size of this layer is 10 * 10 * 16. This layer has 5 * 5 * 6 * 16 + 16 = 2416 parameters\n",
    "# model.add(Conv2D(16, kernel_size=(5, 5), activation='relu'))\n",
    "# # The input matrix size of this layer is 10 * 10 * 16. The size of the filter used in this layer is 2 * 2, and the length and width steps are both 2, so the output matrix size of this layer is 5 * 5 * 16.\n",
    "# model.add(MaxPooling2D(pool_size=(2, 2)))\n",
    "# # The input matrix size of this layer is 5 * 5 * 16. This layer is called a convolution layer in the LeNet-5 paper, but because the size of the filter is 5 * 5, #\n",
    "# # So it is not different from the fully connected layer. If the nodes in the 5 * 5 * 16 matrix are pulled into a vector, then this layer is the same as the fully connected layer.\n",
    "# # The number of output nodes in this layer is 120, with a total of 5 * 5 * 16 * 120 + 120 = 48120 parameters.\n",
    "# model.add(Flatten())\n",
    "# model.add(Dense(120, activation='relu'))\n",
    "# # The number of input nodes in this layer is 120 and the number of output nodes is 84. The total parameter is 120 * 84 + 84 = 10164 (w + b)\n",
    "# model.add(Dense(84, activation='relu'))\n",
    "# # The number of input nodes in this layer is 84 and the number of output nodes is 10. The total parameter is 84 * 10 + 10 = 850\n",
    "# model.add(Dense(16, activation='softmax'))"
   ]
  },
  {
   "cell_type": "code",
   "execution_count": 8,
   "metadata": {
    "tags": []
   },
   "outputs": [
    {
     "name": "stdout",
     "output_type": "stream",
     "text": [
      "Model: \"sequential\"\n",
      "_________________________________________________________________\n",
      " Layer (type)                Output Shape              Param #   \n",
      "=================================================================\n",
      " conv2d (Conv2D)             (None, 30, 30, 32)        896       \n",
      "                                                                 \n",
      " max_pooling2d (MaxPooling2D  (None, 15, 15, 32)       0         \n",
      " )                                                               \n",
      "                                                                 \n",
      " dropout (Dropout)           (None, 15, 15, 32)        0         \n",
      "                                                                 \n",
      " conv2d_1 (Conv2D)           (None, 13, 13, 64)        18496     \n",
      "                                                                 \n",
      " max_pooling2d_1 (MaxPooling  (None, 6, 6, 64)         0         \n",
      " 2D)                                                             \n",
      "                                                                 \n",
      " dropout_1 (Dropout)         (None, 6, 6, 64)          0         \n",
      "                                                                 \n",
      " conv2d_2 (Conv2D)           (None, 4, 4, 64)          36928     \n",
      "                                                                 \n",
      " flatten (Flatten)           (None, 1024)              0         \n",
      "                                                                 \n",
      " dense (Dense)               (None, 64)                65600     \n",
      "                                                                 \n",
      " dense_1 (Dense)             (None, 16)                1040      \n",
      "                                                                 \n",
      "=================================================================\n",
      "Total params: 122,960\n",
      "Trainable params: 122,960\n",
      "Non-trainable params: 0\n",
      "_________________________________________________________________\n"
     ]
    }
   ],
   "source": [
    "model.summary()"
   ]
  },
  {
   "cell_type": "code",
   "execution_count": 28,
   "metadata": {},
   "outputs": [],
   "source": [
    "# hyper_params = {\n",
    "#   \"learning_rate\": 0.001,\n",
    "#   \"epoch\": 50,\n",
    "#   \"batch_size\": 128,\n",
    "#     \"beta_1\" : 0.9,\n",
    "#     \"beta_2\" : 0.999\n",
    "# }\n",
    "# experiment.log_parameters(hyper_params)\n",
    "    \n",
    "# # Or report single hyperparameters:\n",
    "# hidden_layer_size = 50\n",
    "# experiment.log_parameter(\"hidden_layer_size\", hidden_layer_size)\n",
    "    \n",
    "# # Long any time-series metrics:\n",
    "# train_accuracy =3.14\n",
    "# experiment.log_metric(\"accuracy\", train_accuracy, step=0)"
   ]
  },
  {
   "cell_type": "code",
   "execution_count": 8,
   "metadata": {
    "tags": []
   },
   "outputs": [],
   "source": [
    "opt = keras.optimizers.Adam()\n",
    "model.compile(loss=keras.metrics.categorical_crossentropy, optimizer=opt, metrics=['accuracy'])"
   ]
  },
  {
   "cell_type": "code",
   "execution_count": 9,
   "metadata": {
    "tags": []
   },
   "outputs": [
    {
     "name": "stdout",
     "output_type": "stream",
     "text": [
      "Epoch 1/70\n",
      "253/253 [==============================] - 16s 29ms/step - loss: 1.2250 - accuracy: 0.6466 - val_loss: 0.4633 - val_accuracy: 0.8682\n",
      "Epoch 2/70\n",
      "253/253 [==============================] - 7s 26ms/step - loss: 0.2609 - accuracy: 0.9291 - val_loss: 0.3169 - val_accuracy: 0.9302\n",
      "Epoch 3/70\n",
      "253/253 [==============================] - 7s 28ms/step - loss: 0.1351 - accuracy: 0.9637 - val_loss: 0.2375 - val_accuracy: 0.9512\n",
      "Epoch 4/70\n",
      "253/253 [==============================] - 7s 29ms/step - loss: 0.0903 - accuracy: 0.9745 - val_loss: 0.2356 - val_accuracy: 0.9550\n",
      "Epoch 5/70\n",
      "253/253 [==============================] - 7s 27ms/step - loss: 0.0702 - accuracy: 0.9791 - val_loss: 0.2357 - val_accuracy: 0.9566\n",
      "Epoch 6/70\n",
      "253/253 [==============================] - 7s 28ms/step - loss: 0.0534 - accuracy: 0.9842 - val_loss: 0.3326 - val_accuracy: 0.9403\n",
      "Epoch 7/70\n",
      "253/253 [==============================] - 7s 26ms/step - loss: 0.0435 - accuracy: 0.9871 - val_loss: 0.3488 - val_accuracy: 0.9318\n",
      "Epoch 8/70\n",
      "253/253 [==============================] - 6s 25ms/step - loss: 0.0376 - accuracy: 0.9892 - val_loss: 0.3840 - val_accuracy: 0.9450\n",
      "Epoch 9/70\n",
      "253/253 [==============================] - 7s 28ms/step - loss: 0.0377 - accuracy: 0.9881 - val_loss: 0.3536 - val_accuracy: 0.9403\n",
      "Epoch 10/70\n",
      "253/253 [==============================] - 7s 27ms/step - loss: 0.0319 - accuracy: 0.9903 - val_loss: 0.3314 - val_accuracy: 0.9496\n",
      "Epoch 11/70\n",
      "253/253 [==============================] - 7s 29ms/step - loss: 0.0242 - accuracy: 0.9927 - val_loss: 0.3359 - val_accuracy: 0.9581\n",
      "Epoch 12/70\n",
      "253/253 [==============================] - 7s 27ms/step - loss: 0.0317 - accuracy: 0.9911 - val_loss: 0.3540 - val_accuracy: 0.9457\n",
      "Epoch 13/70\n",
      "253/253 [==============================] - 7s 28ms/step - loss: 0.0210 - accuracy: 0.9938 - val_loss: 0.3547 - val_accuracy: 0.9512\n",
      "Epoch 14/70\n",
      "253/253 [==============================] - 8s 32ms/step - loss: 0.0231 - accuracy: 0.9925 - val_loss: 0.4021 - val_accuracy: 0.9442\n",
      "Epoch 15/70\n",
      "253/253 [==============================] - 8s 31ms/step - loss: 0.0215 - accuracy: 0.9934 - val_loss: 0.3906 - val_accuracy: 0.9434\n",
      "Epoch 16/70\n",
      "253/253 [==============================] - 7s 26ms/step - loss: 0.0261 - accuracy: 0.9918 - val_loss: 0.4395 - val_accuracy: 0.9403\n",
      "Epoch 17/70\n",
      "253/253 [==============================] - 7s 27ms/step - loss: 0.0202 - accuracy: 0.9934 - val_loss: 0.3956 - val_accuracy: 0.9465\n",
      "Epoch 18/70\n",
      "253/253 [==============================] - 6s 25ms/step - loss: 0.0250 - accuracy: 0.9929 - val_loss: 0.4931 - val_accuracy: 0.9473\n",
      "Epoch 19/70\n",
      "253/253 [==============================] - 6s 25ms/step - loss: 0.0166 - accuracy: 0.9949 - val_loss: 0.4763 - val_accuracy: 0.9512\n",
      "Epoch 20/70\n",
      "253/253 [==============================] - 7s 29ms/step - loss: 0.0196 - accuracy: 0.9939 - val_loss: 0.4086 - val_accuracy: 0.9558\n",
      "Epoch 21/70\n",
      "253/253 [==============================] - 7s 29ms/step - loss: 0.0194 - accuracy: 0.9942 - val_loss: 0.4004 - val_accuracy: 0.9504\n",
      "Epoch 22/70\n",
      "253/253 [==============================] - 6s 25ms/step - loss: 0.0195 - accuracy: 0.9944 - val_loss: 0.3445 - val_accuracy: 0.9543\n",
      "Epoch 23/70\n",
      "253/253 [==============================] - 7s 27ms/step - loss: 0.0215 - accuracy: 0.9942 - val_loss: 0.4665 - val_accuracy: 0.9543\n",
      "Epoch 24/70\n",
      "253/253 [==============================] - 16s 64ms/step - loss: 0.0153 - accuracy: 0.9953 - val_loss: 0.3808 - val_accuracy: 0.9558\n",
      "Epoch 25/70\n",
      "253/253 [==============================] - 16s 65ms/step - loss: 0.0168 - accuracy: 0.9950 - val_loss: 0.4772 - val_accuracy: 0.9481\n",
      "Epoch 26/70\n",
      "253/253 [==============================] - 16s 65ms/step - loss: 0.0209 - accuracy: 0.9941 - val_loss: 0.5368 - val_accuracy: 0.9450\n",
      "Epoch 27/70\n",
      "253/253 [==============================] - 16s 65ms/step - loss: 0.0170 - accuracy: 0.9944 - val_loss: 0.5001 - val_accuracy: 0.9388\n",
      "Epoch 28/70\n",
      "253/253 [==============================] - 17s 66ms/step - loss: 0.0147 - accuracy: 0.9958 - val_loss: 0.5040 - val_accuracy: 0.9287\n",
      "Epoch 29/70\n",
      "253/253 [==============================] - 17s 66ms/step - loss: 0.0175 - accuracy: 0.9947 - val_loss: 0.4685 - val_accuracy: 0.9473\n",
      "Epoch 30/70\n",
      "253/253 [==============================] - 17s 66ms/step - loss: 0.0175 - accuracy: 0.9950 - val_loss: 0.3260 - val_accuracy: 0.9620\n",
      "Epoch 31/70\n",
      "253/253 [==============================] - 17s 65ms/step - loss: 0.0185 - accuracy: 0.9951 - val_loss: 0.3371 - val_accuracy: 0.9581\n",
      "Epoch 32/70\n",
      "253/253 [==============================] - 17s 66ms/step - loss: 0.0185 - accuracy: 0.9947 - val_loss: 0.5184 - val_accuracy: 0.9450\n",
      "Epoch 33/70\n",
      "253/253 [==============================] - 16s 63ms/step - loss: 0.0163 - accuracy: 0.9956 - val_loss: 0.6526 - val_accuracy: 0.9426\n",
      "Epoch 34/70\n",
      "253/253 [==============================] - 17s 67ms/step - loss: 0.0156 - accuracy: 0.9958 - val_loss: 0.4627 - val_accuracy: 0.9527\n",
      "Epoch 35/70\n",
      "253/253 [==============================] - 16s 65ms/step - loss: 0.0131 - accuracy: 0.9962 - val_loss: 0.4011 - val_accuracy: 0.9512\n",
      "Epoch 36/70\n",
      "253/253 [==============================] - 17s 66ms/step - loss: 0.0171 - accuracy: 0.9954 - val_loss: 0.4941 - val_accuracy: 0.9504\n",
      "Epoch 37/70\n",
      "253/253 [==============================] - 17s 65ms/step - loss: 0.0192 - accuracy: 0.9946 - val_loss: 0.7291 - val_accuracy: 0.9473\n",
      "Epoch 38/70\n",
      "253/253 [==============================] - 17s 66ms/step - loss: 0.0161 - accuracy: 0.9951 - val_loss: 0.4820 - val_accuracy: 0.9519\n",
      "Epoch 39/70\n",
      "253/253 [==============================] - 17s 68ms/step - loss: 0.0146 - accuracy: 0.9953 - val_loss: 0.4363 - val_accuracy: 0.9574\n",
      "Epoch 40/70\n",
      "253/253 [==============================] - 17s 68ms/step - loss: 0.0172 - accuracy: 0.9953 - val_loss: 0.4641 - val_accuracy: 0.9566\n",
      "Epoch 41/70\n",
      "253/253 [==============================] - 17s 66ms/step - loss: 0.0136 - accuracy: 0.9964 - val_loss: 0.4918 - val_accuracy: 0.9465\n",
      "Epoch 42/70\n",
      "253/253 [==============================] - 17s 66ms/step - loss: 0.0163 - accuracy: 0.9953 - val_loss: 0.5573 - val_accuracy: 0.9473\n",
      "Epoch 43/70\n",
      "253/253 [==============================] - 17s 65ms/step - loss: 0.0161 - accuracy: 0.9951 - val_loss: 0.7199 - val_accuracy: 0.9426\n",
      "Epoch 44/70\n",
      "253/253 [==============================] - 17s 68ms/step - loss: 0.0143 - accuracy: 0.9956 - val_loss: 0.4971 - val_accuracy: 0.9457\n",
      "Epoch 45/70\n",
      "253/253 [==============================] - 17s 67ms/step - loss: 0.0136 - accuracy: 0.9962 - val_loss: 0.6256 - val_accuracy: 0.9465\n",
      "Epoch 46/70\n",
      "253/253 [==============================] - 16s 65ms/step - loss: 0.0151 - accuracy: 0.9956 - val_loss: 0.7794 - val_accuracy: 0.9419\n",
      "Epoch 47/70\n",
      "253/253 [==============================] - 17s 66ms/step - loss: 0.0135 - accuracy: 0.9959 - val_loss: 0.5215 - val_accuracy: 0.9512\n",
      "Epoch 48/70\n",
      "253/253 [==============================] - 16s 65ms/step - loss: 0.0157 - accuracy: 0.9961 - val_loss: 0.5482 - val_accuracy: 0.9496\n",
      "Epoch 49/70\n",
      "253/253 [==============================] - 17s 67ms/step - loss: 0.0160 - accuracy: 0.9956 - val_loss: 0.7310 - val_accuracy: 0.9403\n",
      "Epoch 50/70\n",
      "253/253 [==============================] - 17s 67ms/step - loss: 0.0203 - accuracy: 0.9942 - val_loss: 0.5309 - val_accuracy: 0.9550\n",
      "Epoch 51/70\n",
      "253/253 [==============================] - 17s 67ms/step - loss: 0.0133 - accuracy: 0.9961 - val_loss: 0.7157 - val_accuracy: 0.9457\n",
      "Epoch 52/70\n",
      "253/253 [==============================] - 17s 65ms/step - loss: 0.0140 - accuracy: 0.9968 - val_loss: 0.4756 - val_accuracy: 0.9550\n",
      "Epoch 53/70\n",
      "253/253 [==============================] - 16s 64ms/step - loss: 0.0156 - accuracy: 0.9956 - val_loss: 0.9002 - val_accuracy: 0.9434\n",
      "Epoch 54/70\n",
      "253/253 [==============================] - 16s 64ms/step - loss: 0.0110 - accuracy: 0.9968 - val_loss: 0.8145 - val_accuracy: 0.9349\n",
      "Epoch 55/70\n",
      "253/253 [==============================] - 16s 65ms/step - loss: 0.0110 - accuracy: 0.9968 - val_loss: 0.6487 - val_accuracy: 0.9457\n",
      "Epoch 56/70\n",
      "253/253 [==============================] - 16s 63ms/step - loss: 0.0111 - accuracy: 0.9966 - val_loss: 0.8422 - val_accuracy: 0.9395\n",
      "Epoch 57/70\n",
      "253/253 [==============================] - 17s 65ms/step - loss: 0.0108 - accuracy: 0.9970 - val_loss: 0.6964 - val_accuracy: 0.9535\n",
      "Epoch 58/70\n",
      "253/253 [==============================] - 17s 66ms/step - loss: 0.0217 - accuracy: 0.9947 - val_loss: 0.7487 - val_accuracy: 0.9465\n",
      "Epoch 59/70\n",
      "253/253 [==============================] - 17s 66ms/step - loss: 0.0164 - accuracy: 0.9958 - val_loss: 0.9708 - val_accuracy: 0.9457\n",
      "Epoch 60/70\n",
      "253/253 [==============================] - 16s 65ms/step - loss: 0.0133 - accuracy: 0.9965 - val_loss: 0.5972 - val_accuracy: 0.9605\n",
      "Epoch 61/70\n",
      "253/253 [==============================] - 16s 65ms/step - loss: 0.0119 - accuracy: 0.9968 - val_loss: 0.6178 - val_accuracy: 0.9628\n",
      "Epoch 62/70\n",
      "253/253 [==============================] - 17s 66ms/step - loss: 0.0195 - accuracy: 0.9954 - val_loss: 0.7071 - val_accuracy: 0.9512\n",
      "Epoch 63/70\n",
      "253/253 [==============================] - 16s 63ms/step - loss: 0.0127 - accuracy: 0.9967 - val_loss: 0.7922 - val_accuracy: 0.9465\n",
      "Epoch 64/70\n",
      "253/253 [==============================] - 16s 65ms/step - loss: 0.0104 - accuracy: 0.9971 - val_loss: 0.8845 - val_accuracy: 0.9488\n",
      "Epoch 65/70\n",
      "253/253 [==============================] - 17s 67ms/step - loss: 0.0147 - accuracy: 0.9962 - val_loss: 0.8980 - val_accuracy: 0.9411\n",
      "Epoch 66/70\n",
      "253/253 [==============================] - 16s 65ms/step - loss: 0.0147 - accuracy: 0.9968 - val_loss: 1.0409 - val_accuracy: 0.9450\n",
      "Epoch 67/70\n",
      "253/253 [==============================] - 17s 66ms/step - loss: 0.0148 - accuracy: 0.9965 - val_loss: 0.9129 - val_accuracy: 0.9535\n",
      "Epoch 68/70\n",
      "253/253 [==============================] - 17s 67ms/step - loss: 0.0141 - accuracy: 0.9966 - val_loss: 0.8760 - val_accuracy: 0.9512\n",
      "Epoch 69/70\n",
      "253/253 [==============================] - 17s 65ms/step - loss: 0.0151 - accuracy: 0.9965 - val_loss: 0.9641 - val_accuracy: 0.9512\n",
      "Epoch 70/70\n",
      "253/253 [==============================] - 16s 65ms/step - loss: 0.0128 - accuracy: 0.9968 - val_loss: 0.7398 - val_accuracy: 0.9612\n"
     ]
    }
   ],
   "source": [
    "h = model.fit(x_train, y_train, batch_size=128, epochs=70, verbose=1, validation_data=(x_valid, y_valid))"
   ]
  },
  {
   "cell_type": "code",
   "execution_count": 10,
   "metadata": {},
   "outputs": [
    {
     "name": "stdout",
     "output_type": "stream",
     "text": [
      "110/110 [==============================] - 2s 12ms/step - loss: 1.2781 - accuracy: 0.9140\n",
      "Test Loss: 1.278111457824707\n",
      "Test accuracy: 0.9139600992202759\n"
     ]
    }
   ],
   "source": [
    "score = model.evaluate(x_test, y_test)\n",
    "print('Test Loss:', score[0])\n",
    "print('Test accuracy:', score[1])"
   ]
  },
  {
   "cell_type": "code",
   "execution_count": 16,
   "metadata": {
    "tags": []
   },
   "outputs": [],
   "source": [
    "# experiment.end()"
   ]
  },
  {
   "cell_type": "code",
   "execution_count": 32,
   "metadata": {},
   "outputs": [
    {
     "data": {
      "text/plain": [
       "122960"
      ]
     },
     "execution_count": 32,
     "metadata": {},
     "output_type": "execute_result"
    }
   ],
   "source": [
    "model.count_params()"
   ]
  },
  {
   "cell_type": "code",
   "execution_count": 11,
   "metadata": {},
   "outputs": [
    {
     "name": "stdout",
     "output_type": "stream",
     "text": [
      "110/110 [==============================] - 2s 12ms/step\n",
      "              precision    recall  f1-score   support\n",
      "\n",
      "           0       0.96      0.94      0.95       429\n",
      "           1       0.99      1.00      1.00       717\n",
      "           2       0.90      0.99      0.94       355\n",
      "           3       0.95      0.93      0.94        61\n",
      "           4       0.88      0.70      0.78       113\n",
      "           5       0.67      0.72      0.69        83\n",
      "           6       0.95      0.97      0.96       118\n",
      "           7       0.98      0.72      0.83       205\n",
      "           8       0.91      0.95      0.93        86\n",
      "           9       0.90      0.97      0.93       444\n",
      "          10       0.88      0.91      0.90       174\n",
      "          11       0.52      0.57      0.54        54\n",
      "          12       0.91      0.84      0.87       161\n",
      "          13       0.98      0.83      0.90       106\n",
      "          14       0.65      0.77      0.70       126\n",
      "          15       0.95      0.92      0.93       278\n",
      "\n",
      "    accuracy                           0.91      3510\n",
      "   macro avg       0.87      0.86      0.86      3510\n",
      "weighted avg       0.92      0.91      0.91      3510\n",
      "\n"
     ]
    }
   ],
   "source": [
    "pred = model.predict(x_test)\n",
    "cr = classification_report(pred.argmax(axis = 1) , y_test.argmax(axis = 1))\n",
    "print(cr)"
   ]
  },
  {
   "cell_type": "code",
   "execution_count": 12,
   "metadata": {
    "tags": []
   },
   "outputs": [
    {
     "data": {
      "image/png": "[encoded data removed]",
      "text/plain": [
       "<Figure size 640x480 with 1 Axes>"
      ]
     },
     "metadata": {},
     "output_type": "display_data"
    }
   ],
   "source": [
    "history = h\n",
    "plt.plot(history.history['accuracy'])\n",
    "plt.plot(history.history['val_accuracy'])\n",
    "plt.title('model accuracy')\n",
    "plt.ylabel('accuracy')\n",
    "plt.xlabel('epoch')\n",
    "plt.legend(['train', 'val'], loc='upper left')\n",
    "plt.show()"
   ]
  },
  {
   "cell_type": "code",
   "execution_count": 13,
   "metadata": {
    "tags": []
   },
   "outputs": [
    {
     "data": {
      "image/png": "[encoded data removed]",
      "text/plain": [
       "<Figure size 640x480 with 1 Axes>"
      ]
     },
     "metadata": {},
     "output_type": "display_data"
    }
   ],
   "source": [
    "plt.plot(history.history['loss'])\n",
    "plt.plot(history.history['val_loss'])\n",
    "plt.title('model loss')\n",
    "plt.ylabel('loss')\n",
    "plt.xlabel('epoch')\n",
    "plt.legend(['train', 'val'], loc='upper left')\n",
    "plt.show()"
   ]
  },
  {
   "cell_type": "code",
   "execution_count": 24,
   "metadata": {
    "scrolled": true,
    "tags": []
   },
   "outputs": [],
   "source": [
    "model_save_dir = \"D:\\\\Project\\\\Traffic Sign Detection\\\\TrainedMOdel\\\\final\\\\tri_classifier_model_36per_train_data96.h5\"  \n",
    "\n",
    "model.save(model_save_dir)\n"
   ]
  },
  {
   "cell_type": "code",
   "execution_count": 31,
   "metadata": {
    "execution": {
     "iopub.execute_input": "2023-07-13T16:11:38.267217Z",
     "iopub.status.busy": "2023-07-13T16:11:38.266860Z",
     "iopub.status.idle": "2023-07-13T16:11:44.427680Z",
     "shell.execute_reply": "2023-07-13T16:11:44.426710Z",
     "shell.execute_reply.started": "2023-07-13T16:11:38.267187Z"
    }
   },
   "outputs": [
    {
     "name": "stdout",
     "output_type": "stream",
     "text": [
      "110/110 [==============================] - 1s 9ms/step - loss: 320.6290 - accuracy: 0.1197\n",
      "Test Loss: 320.62896728515625\n",
      "Test accuracy: 0.11965811997652054\n"
     ]
    }
   ],
   "source": [
    "from keras.models import load_model\n",
    "\n",
    "model = load_model(\"D:\\\\Project\\\\Traffic Sign Detection\\\\TrainedMOdel\\\\final\\\\tri_classifier_model_acc96.h5\")\n",
    "\n",
    "score = model.evaluate(x_test, y_test)\n",
    "print('Test Loss:', score[0])\n",
    "print('Test accuracy:', score[1])"
   ]
  },
  {
   "cell_type": "markdown",
   "metadata": {},
   "source": [
    "## Hope you like it!"
   ]
  },
  {
   "cell_type": "code",
   "execution_count": 18,
   "metadata": {},
   "outputs": [
    {
     "name": "stderr",
     "output_type": "stream",
     "text": [
      "Clipping input data to the valid range for imshow with RGB data ([0..1] for floats or [0..255] for integers).\n"
     ]
    },
    {
     "data": {
      "image/png": "[encoded data removed]",
      "text/plain": [
       "<Figure size 640x480 with 1 Axes>"
      ]
     },
     "metadata": {},
     "output_type": "display_data"
    },
    {
     "name": "stdout",
     "output_type": "stream",
     "text": [
      "1/1 [==============================] - 1s 955ms/step\n",
      "[0 0 0 0 0 0 0 0 0 0 0 0 0 0 0 1]\n",
      "[[0. 0. 0. 0. 0. 0. 0. 0. 0. 0. 0. 0. 0. 0. 0. 1.]]\n"
     ]
    }
   ],
   "source": [
    "from matplotlib import pyplot as plt\n",
    "image = x_train[65:66,:,:]#.transpose(2 , 0 ,1)\n",
    "plt.imshow(image[0].reshape((32,32,3)))\n",
    "plt.show()\n",
    "#y = model.predict_classes(image)\n",
    "y = (model.predict(image) > 0.5).astype(\"int32\")\n",
    "print(y[0])\n",
    "print(y_train[65:66])"
   ]
  },
  {
   "cell_type": "code",
   "execution_count": 19,
   "metadata": {},
   "outputs": [
    {
     "ename": "ValueError",
     "evalue": "cannot reshape array of size 3072 into shape (32,32)",
     "output_type": "error",
     "traceback": [
      "\u001b[1;31m---------------------------------------------------------------------------\u001b[0m",
      "\u001b[1;31mValueError\u001b[0m                                Traceback (most recent call last)",
      "Cell \u001b[1;32mIn [19], line 1\u001b[0m\n\u001b[1;32m----> 1\u001b[0m \u001b[43mimage\u001b[49m\u001b[43m[\u001b[49m\u001b[38;5;241;43m0\u001b[39;49m\u001b[43m]\u001b[49m\u001b[38;5;241;43m.\u001b[39;49m\u001b[43mreshape\u001b[49m\u001b[43m(\u001b[49m\u001b[43m(\u001b[49m\u001b[38;5;241;43m32\u001b[39;49m\u001b[43m,\u001b[49m\u001b[38;5;241;43m32\u001b[39;49m\u001b[43m)\u001b[49m\u001b[43m)\u001b[49m\u001b[38;5;241m.\u001b[39mshape\n",
      "\u001b[1;31mValueError\u001b[0m: cannot reshape array of size 3072 into shape (32,32)"
     ]
    }
   ],
   "source": []
  },
  {
   "cell_type": "code",
   "execution_count": null,
   "metadata": {},
   "outputs": [],
   "source": [
    "import numpy\n",
    "x = numpy.where(gray_train_labels == 2)"
   ]
  },
  {
   "cell_type": "code",
   "execution_count": 167,
   "metadata": {},
   "outputs": [
    {
     "data": {
      "text/plain": [
       "<matplotlib.image.AxesImage at 0x15022b4f970>"
      ]
     },
     "execution_count": 167,
     "metadata": {},
     "output_type": "execute_result"
    },
    {
     "data": {
      "image/png": "[encoded data removed]",
      "text/plain": [
       "<Figure size 640x480 with 1 Axes>"
      ]
     },
     "metadata": {},
     "output_type": "display_data"
    }
   ],
   "source": [
    "a = x_train[7]\n",
    "plt.imshow(a)"
   ]
  },
  {
   "cell_type": "code",
   "execution_count": null,
   "metadata": {},
   "outputs": [],
   "source": []
  }
 ],
 "metadata": {
  "kernelspec": {
   "display_name": "Python 3 (ipykernel)",
   "language": "python",
   "name": "python3"
  },
  "language_info": {
   "codemirror_mode": {
    "name": "ipython",
    "version": 3
   },
   "file_extension": ".py",
   "mimetype": "text/x-python",
   "name": "python",
   "nbconvert_exporter": "python",
   "pygments_lexer": "ipython3",
   "version": "3.10.9"
  }
 },
 "nbformat": 4,
 "nbformat_minor": 4
}
